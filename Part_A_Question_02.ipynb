{
  "cells": [
    {
      "cell_type": "markdown",
      "metadata": {
        "id": "view-in-github",
        "colab_type": "text"
      },
      "source": [
        "<a href=\"https://colab.research.google.com/github/JayantJharkhande3000/CS6910_Assignment/blob/main/Part_A_Question_02.ipynb\" target=\"_parent\"><img src=\"https://colab.research.google.com/assets/colab-badge.svg\" alt=\"Open In Colab\"/></a>"
      ]
    },
    {
      "cell_type": "markdown",
      "source": [
        "#Question No 2 and 3"
      ],
      "metadata": {
        "id": "SbWkOKaTgiuh"
      }
    },
    {
      "cell_type": "markdown",
      "source": [
        "Importing all packages and libraries"
      ],
      "metadata": {
        "id": "crTkFuLxgtof"
      }
    },
    {
      "cell_type": "code",
      "execution_count": 1,
      "metadata": {
        "colab": {
          "base_uri": "https://localhost:8080/"
        },
        "id": "Ox_qxrQbKQqt",
        "outputId": "446cffd9-5282-41c0-90e2-4af91b043f5f"
      },
      "outputs": [
        {
          "output_type": "stream",
          "name": "stdout",
          "text": [
            "Collecting wandb\n",
            "  Downloading wandb-0.12.14-py2.py3-none-any.whl (1.8 MB)\n",
            "\u001b[K     |████████████████████████████████| 1.8 MB 4.1 MB/s \n",
            "\u001b[?25hRequirement already satisfied: six>=1.13.0 in /usr/local/lib/python3.7/dist-packages (from wandb) (1.15.0)\n",
            "Collecting pathtools\n",
            "  Downloading pathtools-0.1.2.tar.gz (11 kB)\n",
            "Requirement already satisfied: requests<3,>=2.0.0 in /usr/local/lib/python3.7/dist-packages (from wandb) (2.23.0)\n",
            "Requirement already satisfied: PyYAML in /usr/local/lib/python3.7/dist-packages (from wandb) (3.13)\n",
            "Collecting GitPython>=1.0.0\n",
            "  Downloading GitPython-3.1.27-py3-none-any.whl (181 kB)\n",
            "\u001b[K     |████████████████████████████████| 181 kB 47.0 MB/s \n",
            "\u001b[?25hCollecting shortuuid>=0.5.0\n",
            "  Downloading shortuuid-1.0.8-py3-none-any.whl (9.5 kB)\n",
            "Requirement already satisfied: protobuf>=3.12.0 in /usr/local/lib/python3.7/dist-packages (from wandb) (3.17.3)\n",
            "Requirement already satisfied: psutil>=5.0.0 in /usr/local/lib/python3.7/dist-packages (from wandb) (5.4.8)\n",
            "Collecting sentry-sdk>=1.0.0\n",
            "  Downloading sentry_sdk-1.5.8-py2.py3-none-any.whl (144 kB)\n",
            "\u001b[K     |████████████████████████████████| 144 kB 49.5 MB/s \n",
            "\u001b[?25hCollecting docker-pycreds>=0.4.0\n",
            "  Downloading docker_pycreds-0.4.0-py2.py3-none-any.whl (9.0 kB)\n",
            "Requirement already satisfied: Click!=8.0.0,>=7.0 in /usr/local/lib/python3.7/dist-packages (from wandb) (7.1.2)\n",
            "Collecting setproctitle\n",
            "  Downloading setproctitle-1.2.2-cp37-cp37m-manylinux1_x86_64.whl (36 kB)\n",
            "Requirement already satisfied: promise<3,>=2.0 in /usr/local/lib/python3.7/dist-packages (from wandb) (2.3)\n",
            "Requirement already satisfied: python-dateutil>=2.6.1 in /usr/local/lib/python3.7/dist-packages (from wandb) (2.8.2)\n",
            "Requirement already satisfied: typing-extensions>=3.7.4.3 in /usr/local/lib/python3.7/dist-packages (from GitPython>=1.0.0->wandb) (3.10.0.2)\n",
            "Collecting gitdb<5,>=4.0.1\n",
            "  Downloading gitdb-4.0.9-py3-none-any.whl (63 kB)\n",
            "\u001b[K     |████████████████████████████████| 63 kB 1.9 MB/s \n",
            "\u001b[?25hCollecting smmap<6,>=3.0.1\n",
            "  Downloading smmap-5.0.0-py3-none-any.whl (24 kB)\n",
            "Requirement already satisfied: chardet<4,>=3.0.2 in /usr/local/lib/python3.7/dist-packages (from requests<3,>=2.0.0->wandb) (3.0.4)\n",
            "Requirement already satisfied: urllib3!=1.25.0,!=1.25.1,<1.26,>=1.21.1 in /usr/local/lib/python3.7/dist-packages (from requests<3,>=2.0.0->wandb) (1.24.3)\n",
            "Requirement already satisfied: idna<3,>=2.5 in /usr/local/lib/python3.7/dist-packages (from requests<3,>=2.0.0->wandb) (2.10)\n",
            "Requirement already satisfied: certifi>=2017.4.17 in /usr/local/lib/python3.7/dist-packages (from requests<3,>=2.0.0->wandb) (2021.10.8)\n",
            "Building wheels for collected packages: pathtools\n",
            "  Building wheel for pathtools (setup.py) ... \u001b[?25l\u001b[?25hdone\n",
            "  Created wheel for pathtools: filename=pathtools-0.1.2-py3-none-any.whl size=8806 sha256=096bb740a5643b948f90c3ec2a8ee8c9207c6db83736cabc49ab4c3c4b116d81\n",
            "  Stored in directory: /root/.cache/pip/wheels/3e/31/09/fa59cef12cdcfecc627b3d24273699f390e71828921b2cbba2\n",
            "Successfully built pathtools\n",
            "Installing collected packages: smmap, gitdb, shortuuid, setproctitle, sentry-sdk, pathtools, GitPython, docker-pycreds, wandb\n",
            "Successfully installed GitPython-3.1.27 docker-pycreds-0.4.0 gitdb-4.0.9 pathtools-0.1.2 sentry-sdk-1.5.8 setproctitle-1.2.2 shortuuid-1.0.8 smmap-5.0.0 wandb-0.12.14\n"
          ]
        }
      ],
      "source": [
        "pip install wandb"
      ]
    },
    {
      "cell_type": "code",
      "execution_count": 2,
      "metadata": {
        "colab": {
          "base_uri": "https://localhost:8080/"
        },
        "id": "AlmPdZOnKX0Z",
        "outputId": "10c701a6-394e-4fcb-a76c-5df9ac17b307"
      },
      "outputs": [
        {
          "output_type": "stream",
          "name": "stdout",
          "text": [
            "Requirement already satisfied: wandb in /usr/local/lib/python3.7/dist-packages (0.12.14)\n",
            "Requirement already satisfied: requests<3,>=2.0.0 in /usr/local/lib/python3.7/dist-packages (from wandb) (2.23.0)\n",
            "Requirement already satisfied: setproctitle in /usr/local/lib/python3.7/dist-packages (from wandb) (1.2.2)\n",
            "Requirement already satisfied: promise<3,>=2.0 in /usr/local/lib/python3.7/dist-packages (from wandb) (2.3)\n",
            "Requirement already satisfied: GitPython>=1.0.0 in /usr/local/lib/python3.7/dist-packages (from wandb) (3.1.27)\n",
            "Requirement already satisfied: sentry-sdk>=1.0.0 in /usr/local/lib/python3.7/dist-packages (from wandb) (1.5.8)\n",
            "Requirement already satisfied: six>=1.13.0 in /usr/local/lib/python3.7/dist-packages (from wandb) (1.15.0)\n",
            "Requirement already satisfied: psutil>=5.0.0 in /usr/local/lib/python3.7/dist-packages (from wandb) (5.4.8)\n",
            "Requirement already satisfied: shortuuid>=0.5.0 in /usr/local/lib/python3.7/dist-packages (from wandb) (1.0.8)\n",
            "Requirement already satisfied: docker-pycreds>=0.4.0 in /usr/local/lib/python3.7/dist-packages (from wandb) (0.4.0)\n",
            "Requirement already satisfied: PyYAML in /usr/local/lib/python3.7/dist-packages (from wandb) (3.13)\n",
            "Requirement already satisfied: pathtools in /usr/local/lib/python3.7/dist-packages (from wandb) (0.1.2)\n",
            "Requirement already satisfied: protobuf>=3.12.0 in /usr/local/lib/python3.7/dist-packages (from wandb) (3.17.3)\n",
            "Requirement already satisfied: python-dateutil>=2.6.1 in /usr/local/lib/python3.7/dist-packages (from wandb) (2.8.2)\n",
            "Requirement already satisfied: Click!=8.0.0,>=7.0 in /usr/local/lib/python3.7/dist-packages (from wandb) (7.1.2)\n",
            "Requirement already satisfied: typing-extensions>=3.7.4.3 in /usr/local/lib/python3.7/dist-packages (from GitPython>=1.0.0->wandb) (3.10.0.2)\n",
            "Requirement already satisfied: gitdb<5,>=4.0.1 in /usr/local/lib/python3.7/dist-packages (from GitPython>=1.0.0->wandb) (4.0.9)\n",
            "Requirement already satisfied: smmap<6,>=3.0.1 in /usr/local/lib/python3.7/dist-packages (from gitdb<5,>=4.0.1->GitPython>=1.0.0->wandb) (5.0.0)\n",
            "Requirement already satisfied: idna<3,>=2.5 in /usr/local/lib/python3.7/dist-packages (from requests<3,>=2.0.0->wandb) (2.10)\n",
            "Requirement already satisfied: certifi>=2017.4.17 in /usr/local/lib/python3.7/dist-packages (from requests<3,>=2.0.0->wandb) (2021.10.8)\n",
            "Requirement already satisfied: chardet<4,>=3.0.2 in /usr/local/lib/python3.7/dist-packages (from requests<3,>=2.0.0->wandb) (3.0.4)\n",
            "Requirement already satisfied: urllib3!=1.25.0,!=1.25.1,<1.26,>=1.21.1 in /usr/local/lib/python3.7/dist-packages (from requests<3,>=2.0.0->wandb) (1.24.3)\n"
          ]
        }
      ],
      "source": [
        "!pip install wandb --upgrade"
      ]
    },
    {
      "cell_type": "code",
      "execution_count": 3,
      "metadata": {
        "id": "qpnfOGGPKaZd"
      },
      "outputs": [],
      "source": [
        "import wandb\n",
        "from wandb.keras import WandbCallback"
      ]
    },
    {
      "cell_type": "code",
      "execution_count": 4,
      "metadata": {
        "colab": {
          "base_uri": "https://localhost:8080/"
        },
        "id": "QvPyVh4lPCY4",
        "outputId": "033c5ee9-1a6a-4cbe-f907-e573ddcc59f6"
      },
      "outputs": [
        {
          "output_type": "stream",
          "name": "stdout",
          "text": [
            "\u001b[34m\u001b[1mwandb\u001b[0m: You can find your API key in your browser here: https://wandb.ai/authorize\n",
            "\u001b[34m\u001b[1mwandb\u001b[0m: Paste an API key from your profile and hit enter, or press ctrl+c to quit: \n",
            "\u001b[34m\u001b[1mwandb\u001b[0m: Appending key for api.wandb.ai to your netrc file: /root/.netrc\n"
          ]
        }
      ],
      "source": [
        "!wandb login"
      ]
    },
    {
      "cell_type": "code",
      "execution_count": 5,
      "metadata": {
        "colab": {
          "base_uri": "https://localhost:8080/",
          "height": 108
        },
        "id": "oiWJJas7KaXG",
        "outputId": "9110ae81-f78e-49d4-abd7-9347bba2b5ff"
      },
      "outputs": [
        {
          "output_type": "stream",
          "name": "stderr",
          "text": [
            "\u001b[34m\u001b[1mwandb\u001b[0m: Currently logged in as: \u001b[33mjayant3000\u001b[0m (use `wandb login --relogin` to force relogin)\n"
          ]
        },
        {
          "output_type": "display_data",
          "data": {
            "text/plain": [
              "<IPython.core.display.HTML object>"
            ],
            "text/html": [
              "Tracking run with wandb version 0.12.14"
            ]
          },
          "metadata": {}
        },
        {
          "output_type": "display_data",
          "data": {
            "text/plain": [
              "<IPython.core.display.HTML object>"
            ],
            "text/html": [
              "Run data is saved locally in <code>/content/wandb/run-20220409_133521-m25wjz91</code>"
            ]
          },
          "metadata": {}
        },
        {
          "output_type": "display_data",
          "data": {
            "text/plain": [
              "<IPython.core.display.HTML object>"
            ],
            "text/html": [
              "Syncing run <strong><a href=\"https://wandb.ai/jayant3000/Final_PC_on_fire/runs/m25wjz91\" target=\"_blank\">still-firebrand-1</a></strong> to <a href=\"https://wandb.ai/jayant3000/Final_PC_on_fire\" target=\"_blank\">Weights & Biases</a> (<a href=\"https://wandb.me/run\" target=\"_blank\">docs</a>)<br/>"
            ]
          },
          "metadata": {}
        },
        {
          "output_type": "execute_result",
          "data": {
            "text/html": [
              "<button onClick=\"this.nextSibling.style.display='block';this.style.display='none';\">Display W&B run</button><iframe src=\"https://wandb.ai/jayant3000/Final_PC_on_fire/runs/m25wjz91?jupyter=true\" style=\"border:none;width:100%;height:420px;display:none;\"></iframe>"
            ],
            "text/plain": [
              "<wandb.sdk.wandb_run.Run at 0x7f511e251350>"
            ]
          },
          "metadata": {},
          "execution_count": 5
        }
      ],
      "source": [
        "wandb.init(project=\"Final_PC_on_fire\", entity=\"jayant3000\")"
      ]
    },
    {
      "cell_type": "code",
      "execution_count": 6,
      "metadata": {
        "id": "vDnEQiHLKaVV"
      },
      "outputs": [],
      "source": [
        "import pathlib\n",
        "import numpy as np\n",
        "import tensorflow as tf\n",
        "from tensorflow.keras.preprocessing import image_dataset_from_directory\n",
        "from tensorflow.keras import layers\n",
        "from tensorflow.keras.layers.experimental.preprocessing import Rescaling\n",
        "from PIL import Image"
      ]
    },
    {
      "cell_type": "markdown",
      "source": [
        "Importing inaturalist_12K data"
      ],
      "metadata": {
        "id": "wBINZNSZgy39"
      }
    },
    {
      "cell_type": "code",
      "execution_count": 7,
      "metadata": {
        "colab": {
          "base_uri": "https://localhost:8080/"
        },
        "id": "Ubj3HMEyKaST",
        "outputId": "433fe03d-7ee8-4966-c441-ece82928b025"
      },
      "outputs": [
        {
          "output_type": "stream",
          "name": "stdout",
          "text": [
            "Found 9999 files belonging to 10 classes.\n",
            "Using 8000 files for training.\n",
            "Found 2000 files belonging to 10 classes.\n",
            "Using 400 files for validation.\n"
          ]
        }
      ],
      "source": [
        "data_dirrectory_path = pathlib.Path('/content/drive/MyDrive/DATA/nature_12K/inaturalist_12K') # Set path to the right directory\n",
        "training_data = tf.keras.preprocessing.image_dataset_from_directory(\n",
        "                                                                 directory = \"/content/drive/MyDrive/DATA/nature_12K/inaturalist_12K/train\",\n",
        "                                                                 labels = 'inferred',  \n",
        "                                                                 label_mode = 'categorical',\n",
        "                                                                 color_mode = 'rgb',\n",
        "                                                                 batch_size = 32,\n",
        "                                                                 image_size = (256, 256),\n",
        "                                                                 shuffle = True,\n",
        "                                                                 seed = 17,\n",
        "                                                                 validation_split = 0.2,\n",
        "                                                                 subset = 'training')\n",
        "\n",
        "validation_data = tf.keras.preprocessing.image_dataset_from_directory(\n",
        "                                                                  directory = \"/content/drive/MyDrive/DATA/nature_12K/inaturalist_12K/val\",\n",
        "                                                                  labels = 'inferred',  \n",
        "                                                                  label_mode = 'categorical',\n",
        "                                                                  color_mode = 'rgb',\n",
        "                                                                  batch_size = 32,\n",
        "                                                                  image_size = (256, 256),\n",
        "                                                                  shuffle = True,\n",
        "                                                                  seed = 17,\n",
        "                                                                  validation_split = 0.2,\n",
        "                                                                  subset = 'validation')\n",
        "\n"
      ]
    },
    {
      "cell_type": "markdown",
      "source": [
        "Spliting the data in 90-10 ratio"
      ],
      "metadata": {
        "id": "yW4rjLBFg3LH"
      }
    },
    {
      "cell_type": "code",
      "execution_count": 8,
      "metadata": {
        "id": "5WGE-pVFKaP5"
      },
      "outputs": [],
      "source": [
        "length_train, length_val = len(training_data), len(validation_data)\n",
        "training_data = training_data.take(int(0.10*length_train))\n",
        "validation_data = validation_data.take(int(0.10*length_val))"
      ]
    },
    {
      "cell_type": "markdown",
      "source": [
        "Model Parameter ############\n",
        "\n",
        "Sweep Dictionary "
      ],
      "metadata": {
        "id": "wzsOiwF9g5eC"
      }
    },
    {
      "cell_type": "code",
      "execution_count": 9,
      "metadata": {
        "id": "dfbYVU1-KaLO"
      },
      "outputs": [],
      "source": [
        "\n",
        "sweep_config = {   'name':  'random-test-sweep', \n",
        "                   'method': 'random'\n",
        "               }\n",
        "sweep_config['metric'] = { 'name': 'val_acc',\n",
        "                           'goal': 'maximize'\n",
        "                          }\n",
        "parameters_dict = {\n",
        "                   'first_layer_filters': {\n",
        "                                            'values': [32, 64]\n",
        "                                           },\n",
        "                   'filter_org':  {\n",
        "                                    'values': [ 0.5, 1, 2]\n",
        "                                   }, \n",
        "                   'data_aug':  { \n",
        "                                   'values': [False, True]\n",
        "                                 },\n",
        "                   'batch_norm': {\n",
        "                                  'values': [False, True]\n",
        "                                  }, \n",
        "                   'dropout':   {\n",
        "                                  'values': [0.2, 0.3]\n",
        "                                 },\n",
        "                   'kernel_size': {\n",
        "                                   'values': [3]\n",
        "                                   },\n",
        "                   'dense_size': {\n",
        "                                  'values': [32]\n",
        "                                  },\n",
        "                   'activation': {\n",
        "                                  'values': ['relu']\n",
        "                                   },\n",
        "                   'num_epochs': {\n",
        "                                  'values': [10]\n",
        "                                   }, \n",
        "                   'optimizer': {\n",
        "                                  'values': ['adam']\n",
        "                                 },\n",
        "                   'conv_layers': {\n",
        "                                    'values': [5]\n",
        "                                   }\n",
        "                  }\n",
        "sweep_config['parameters'] = parameters_dict"
      ]
    },
    {
      "cell_type": "markdown",
      "source": [
        "Convolutional Neural Network"
      ],
      "metadata": {
        "id": "llR0mffQhGyB"
      }
    },
    {
      "cell_type": "code",
      "execution_count": 10,
      "metadata": {
        "id": "ScxiRC8aKaIn"
      },
      "outputs": [],
      "source": [
        "def convolutional_neural_network( config=sweep_config ):\n",
        "        ###############################################################################################################\n",
        "        ######################   calling the hyperparameter in the function \n",
        "    with wandb.init(config=config):\n",
        "        config = wandb.init().config\n",
        "        wandb.run.name = 'firstLayerFilters_{}_filterOrg_{}_dataAug_{}_batchNorm_{}_dropout_{}_kerSize_{}_denseSize_{}'\\\n",
        "                         .format(config.first_layer_filters, config.filter_org, config.data_aug, config.batch_norm, config.dropout, config.kernel_size, config.dense_size)\n",
        "        \n",
        "        ###############################################################################################################\n",
        "        #####################   Convolutional neural network hyperparameters\n",
        "        first_layer_filters = config.first_layer_filters \n",
        "        filter_org = config.filter_org \n",
        "        data_aug = config.data_aug \n",
        "        batch_norm = config.batch_norm \n",
        "        dropout =  config.dropout \n",
        "        kernel_size = config.kernel_size\n",
        "        dense_size = config.dense_size\n",
        "        activation = config.activation\n",
        "        num_epochs = config.num_epochs\n",
        "        optimizer = config.optimizer\n",
        "        conv_layers = config.conv_layers         \n",
        "        \n",
        "        ###############################################################################################################\n",
        "        \n",
        "        inputs = tf.keras.Input(shape = (256, 256, 3))\n",
        "        x = Rescaling(scale = 1.0/255)(inputs)\n",
        "        filter_sizes = [int(first_layer_filters*(filter_org**layer_num)) for layer_num in range(conv_layers)]\n",
        "        \n",
        "\n",
        "        for layer_num in range(conv_layers):\n",
        "            x = layers.Conv2D(filters = filter_sizes[layer_num], kernel_size = (kernel_size, kernel_size))(x)\n",
        "            if batch_norm:\n",
        "                x = layers.BatchNormalization(axis = -1)(x)\n",
        "            x = layers.Activation(activation)(x)\n",
        "            x = layers.MaxPooling2D(pool_size = (2, 2))(x)            \n",
        "                \n",
        "        x = layers.Flatten()(x)\n",
        "        x = layers.Dense(dense_size)(x)\n",
        "        if batch_norm:\n",
        "            x = layers.BatchNormalization(axis = -1)(x)\n",
        "        x = layers.Activation(activation)(x)\n",
        "        if dropout > 0:\n",
        "            x = layers.Dropout(rate = dropout)(x) \n",
        "\n",
        "        outputs = layers.Dense(10, activation ='softmax')(x)\n",
        "        model = tf.keras.Model(inputs = inputs, outputs = outputs)\n",
        "       \n",
        "        model.compile(  optimizer = optimizer,\n",
        "                        loss = tf.keras.losses.CategoricalCrossentropy(name = 'loss'),\n",
        "                        metrics = [tf.keras.metrics.CategoricalAccuracy(name = 'acc')])\n",
        "        \n",
        "        model_history = model.fit( training_data,\n",
        "                                   epochs = num_epochs,\n",
        "                                   validation_data = validation_data, \n",
        "                                   callbacks = [tf.keras.callbacks.EarlyStopping(monitor = 'val_acc', patience = 5),\n",
        "                                            wandb.keras.WandbCallback()])\n",
        "\n"
      ]
    },
    {
      "cell_type": "markdown",
      "source": [
        "Sweep "
      ],
      "metadata": {
        "id": "kj5yBVY6hWsM"
      }
    },
    {
      "cell_type": "code",
      "execution_count": 11,
      "metadata": {
        "colab": {
          "base_uri": "https://localhost:8080/",
          "height": 1000,
          "referenced_widgets": [
            "0205824fea45486a858f09758a9da00a",
            "abf007d943b347558c1b890388200774",
            "3a6843b5bf334349892ebd4771bbf61d",
            "79e45bb2b8f34512b868e93d3fd7b8a3",
            "518fdf90549e4e049ca677a8e50b1735",
            "0887e4bfbde1478dacee7ea2325b362a",
            "8cc98b8c529949669b227da160783d3c",
            "c671024ec1ec4076ae745cb90ff08674",
            "621ab69898374a72ba0179eac258dcfe",
            "850ca599f67943caade8e7007f477fc8",
            "bf875140628c4b3d923d1b3e136911bd",
            "a1bd1bcec5b143e48024c70d717aad00",
            "1ee1b251ccdb455a87aec953ae8b97a4",
            "2f12a559aa1442fcb642d32425a0e1e8",
            "d23c72a50c9a472f9f1a8ab9baf86fff",
            "d109236ad9c7430d98e39e1318bc7a45",
            "0459ed7323e24d3da094735bf043a209",
            "b40d955b4e944ba882d3c7ab28dbf04d",
            "d6a9209f42f746f79fe28897c1a26596",
            "9a77e6363b1b488d958c2bb3043bed55",
            "73fc495213b541c0bce8dde4c7410005",
            "416aa12bdac240748fd912fa917a6d7a",
            "fb3ea26e78864ceab72eb4c3eef0b906",
            "8160d2d5d04f4586927fdcfb5e6a1fbe",
            "5d144fbccc274bdb85cb60316fba6c06",
            "0cc653d8bf5e4f5eae87586a43b302ee",
            "a67eccc932ae4b15a2925f79f01c1b05",
            "44b0c79a39d049d798b8485862aa08bd",
            "4c273a999b07452599a64861c15d0570",
            "25a1683bd1404f1d986d7de9b3062e18",
            "909cc4a6ea31428684b46a7ba5469f31",
            "f506475ce1da4a90831220d316733e30",
            "34cdf94c177b442e905d6734f12522e3",
            "d2db83fd61294d879c18051740641633",
            "7c1bbae08a93492ab57a839cc47478c6",
            "3c3e4d9d59964a59be67f09b92249ab3",
            "93eacbfdb5c542d59b6f774217ecfe19",
            "9df6648ba96043b2861131bc8b217929",
            "8ffbbe8afb4640bd8bde36c4baf0d804",
            "ce535aca97c34fccb666b229c9f32da2",
            "21eb25a5b8db4a2cb81610dce096e82a",
            "633b2a0fcb7e407eb9cb40adf1a999f0",
            "3d766b4ef0464b52b3e693cfbc62741a",
            "2553fcb52cba414a8e2f201d744c6792",
            "13448bc2c2664e4382e52bc5052e1e80",
            "4992a87caf2f42e78691b8dc8a0731a5",
            "74ed8f0086d548eabdd055fa571feb22",
            "8f217c3fa5f9465ab7ecc743d4145075",
            "78300ea952b5465d98e46da0df62c901",
            "0755eb4651454249a68760453fbc81d8",
            "40ac89e2c50c473eb589cbe501346650",
            "63e4ce3b327a42b9a3cf00d1efe9631a",
            "de1a15b08e444812af7baa2e2dbbb013",
            "6e867d42d2174fb6a99cd3dbe8e0847e",
            "d6eb24e1ce034bc0824c7f2b89e59198",
            "bbf4788e407041618f8d437c3e619b86",
            "ae0413c80ee2421b93c92238f3c189d0",
            "19001497798649c18be62247984244a1",
            "f4a089d631004053a0285a7d17f95058",
            "bf027cadddfa4657a8a256dd25ec2d2e",
            "2b8220bc295f478aa9e14d6f45c4029f",
            "b1355668a83d4ac2b51902812b815e86",
            "3981731624a8413da8ba11527eeaa42f",
            "829e6bfbd70448038e53bde9a8b477d6",
            "75646c1369b34c24b6448459f39831dd",
            "9063d4ffae2341ac8e7044e9446cd8ad",
            "cf8b55e0a94a4ccf943644e6604436dc",
            "41ebaba13516408b9cc387733df8516c",
            "d5fd3ce4cdbe432d937d727de1116564",
            "37c0392204144f14a7570ccddbca4691",
            "1961737e61424f48b6c9bef5c345bc9d",
            "c51bf952f67a4c0b89ac113efb8a0e8b",
            "929d66999cad49fc92768f5170aee9cf",
            "718c866043ad494d8d3f90ecfd7ca10b",
            "f138fabbaf954a19a158538680ad07c6",
            "74bf5cc0dc03405c85745a550e3cc59a",
            "dd54d3652ae347d8b47cc77efde6c7e9",
            "973e612f27224a9a839859d6c5cbf916",
            "5942c8a1e33a4c57a6bc7c4c12fb0acf",
            "5a67ffb16f754671b6a3f8170898feb4",
            "a36a567fd955427f898c001c380918c2",
            "8f727dfe477241ca838dab823863066b",
            "180b91a7583348f7b04b14784172c0fc",
            "2fb0f47282b74379844432daee390eb8",
            "8fa92341061042bab727d297feb0492c",
            "a5894c5911be414c860a3a301902ef80",
            "ece89a1d73a44eabbb812ad092f72972",
            "c066655d8f90497ebce673c74c324e1d",
            "897109fa61344cd6bab1241722e81942",
            "41d322de8a91451d8237f12f78b5324d",
            "aec51af201f848c2b521fe1623a1a001",
            "4cc36f830bb74b5c8773c2dd55678650",
            "ddfec91a420d4362ad693d435f98e2b8",
            "34a6c34651e34b8e86430f7b79299c45",
            "01d5f2517a794af69d1be42976652830",
            "0d451b4b61f54846b933fe5e02d683b2",
            "01c3fc982a314c8a93f2b97ec9a72157",
            "6e211e48e9334f0eb218258307a2dfb2",
            "c7194826e665418d90d4484d06c133eb",
            "bc21132a30104b52b7ff3d7aa6435e76",
            "e2b738f5b42f49f99e48a93886d4a76c",
            "6f9096ec964047a9bae4f6610b8b930d",
            "ea52adf6c8b74e208788b096e22f3166",
            "d7fd92b07cf347e2bddae3aeedebc4b9",
            "5837e3d797544d8180925de1bda9f54e",
            "f3097ea8402a49568c23e8c5f67d1cbb",
            "5b3b86f9a1f34f87b9da96f9b469d005",
            "55842124feb44d0db2ae6a7bfce8ee19",
            "78184ca7dce94b42a8cd072a4bc621b0",
            "87c772827516411bb30bdc4f5cc36376",
            "6d77f45d46a943bd807b0348047002be",
            "64cced9033864806bef6eba51e8e7a0e",
            "1497fb90e2bd458db216a0e9210914d2",
            "39a4a1fcf4054a89973881741273133d",
            "2801f822b06b4321ae7a6ef5136e89d3",
            "ca726224782849788730a2f298c40e2a",
            "4d1742d6c728445a9389c5bc34c55df9",
            "47d64fe353064e23806864200d4aeb2f",
            "f9a3597201c741abb95f597a9df08e83",
            "a9f7840b4b1a4c56ad1c82b8f3cdd7a3",
            "0621f11098374f39a25fa9c1191256bf",
            "7fbce6462edf4ad6b707d66743a2b08b",
            "c88c96c0fa064f5db6d1b94766d8f705",
            "92c8770d13e54428998d0162fb20ebdc",
            "a7199c7970b84212a587900eb6f07840",
            "db61f925bb6c4cdaa4cf02cb56130045",
            "5ea1111ba3db4fefb511a7dbed46da31",
            "9f353c0fbf8647bc9fdce9c321112042",
            "763986036d5c43bbaf6723cb01e28c9d",
            "766517ff572d445fa7eddfa923397e93",
            "9ba13d002008471690712d63d911dc04",
            "6f8a4a9e58aa4718ab66d6f63672d4b0",
            "c28ceaa8622c47e18d65625536952074",
            "dd12250017324294bdcbd406a58e75a3",
            "162ca749643e43e2b3c45c535f530b04",
            "8ae20a5b9fd04d068f9ae21ef0e2b481",
            "394512b84e6d464994a93676c82fd2f3",
            "6f435d5e119e499e9c99f1a4168f119b",
            "25660c03593e4be28b4e77d63a197705",
            "05083af379704f9f951100560fcabd39",
            "28ed8989e3e44f6480c4a5353ac6ba5b",
            "8c60dc0d8f154dff9af90a9fc9f6964e",
            "fe86296ce20d40d488eb08173923949a",
            "285f6adf1f3d4cc3bf7ebd6618777999",
            "73628cd3783b4bb4929acd5e338c0662",
            "09b7034f6f0e44df85ade04db82eef2f",
            "6f757a8b07924fee9207f534d6573e32",
            "f4e2c80b9f2b49f5a05fcbecac3e7533",
            "69fe494f048d4f76bfe7f0a7120eff21",
            "d9c87339cb5b4dfdba7040428651852b",
            "c2b4e5dad2e14fa19627ee8cff5bb54c",
            "d432fc8ab4f141499fadcb71f6ab0d07",
            "ed440cc09d4d484ea0057d022b1eb5b8",
            "420f474d35c84a549de62af2ee9242bb",
            "1915d7bf55b746c4b738ff4da4fbcd5b",
            "02bf04cef52549a6a4fe51cad6f40ea8",
            "c0db81277c9e48b5bf65beba37413ec0",
            "a8b45c20e90c4d96b201978701e138d5",
            "656a73958864450da343dcbd016510dc",
            "e62334af38344191acd5773ee564ce7b",
            "70229ff920ae47bf9d9a31ceb0fc490e",
            "19ebf0c875b9413295b0510b224d522c",
            "95fa6294be7e45ec975a175956a3f18c",
            "7975cd23fca34953b2bf47bc3d15334a",
            "e16395b1dfd94c6ab235548c16867f92",
            "4f4bcfea1fc14697b92113a5a286a5cf",
            "8761dd9fc45546c29c4b836708e4ec8e",
            "3b019b74ef8141af827156ff9c2e720a",
            "427dff9df1d0424295b3f486ea167c41",
            "d89056c15da84ddaa4b039cbe4462272",
            "9802c06a65cd42a1b795db46311ecacb",
            "603dd4675b8946028a4555f9fb783c8d",
            "f3c70b51d1194b4fb947779bb386bebe",
            "d468f8b67b9d4fc9af387974d9021410",
            "408eb2b7e1394a23a51625ebdb928080",
            "e0ebf09649a44e6c9776e84dc050c4db",
            "37515ecd2a3a4982abb2a52299d3533a",
            "65e8bc84a6e648f4a71a4cd72bed87f1",
            "fd249497b5704916bc87b78802120a86",
            "4d6c699ad3834cc7b227eec12cdea149",
            "bdb09a9150074fc4ae6319da970d2f33",
            "5b61a09e3f394f2bac4d3a8ef653e272",
            "10f9d208382c4ea3a768dd41238bcd0d",
            "a7e16cbdd5254bb7ac9062dafe7c33db",
            "5a5ca9eb42bf455c9bd462ddc3cc17cd",
            "0ee1a9314fc148a7a338112e179449f8",
            "11bb787d7c984025b0a3d994a6aad3fc",
            "158dd41fca13498aa1def2aef588c230",
            "a81d74d8a1084a39bdb1ec5a9d497593",
            "0b519348f6704da5a12e8f13c705a43a",
            "bbbab185c6c546a0b1933bc24a518df1",
            "0d3dc655b3aa40a2b1373bf3bbbbe3ba",
            "bfa7ca633628408e86a2982fe7a03b4e",
            "91b85ed6b9f645b3b2b7afac661aa726",
            "ccb4d50062a94a59ac8cd34d22b62b0d",
            "a8e500d63e2f4169a691cf428abccbee",
            "a041943730c24470862a35525c60c5d6",
            "aff85a6c24ef491badb2e728d7b1d727",
            "d1bf477fb4d24a3aa33ec981df3a044f",
            "1abd7929e0c9427d9478be2671392891",
            "1a69acb82272485887433163771cac48",
            "1feb7e142eea4e45a6002567d9952cc6",
            "cd0866c5bfc14abfa1a3a6d7e15461c8",
            "185f6d2e190948db9e6bb9ffa3d56c06",
            "96d84b4a340e4022925cb0a0909c4acf",
            "5906a91fa3ba40418bfddbb48c507754",
            "19f3e1ee8e6142dbbc5402bfc37bea62",
            "80778c2689634dfea4270b7bac9c5ce1",
            "29a43aecac4e4e4780fdee66c7828617",
            "3ace230e02704187aeee23a15283135b",
            "607a4227aa9848b2913495525a5d8c7d",
            "5a4fae88f87949c8b8266c7bb4b5289c",
            "e900e19db01e48ceaf1b9ce867b1fe15",
            "f98b2ba8ae3c46f6817ce5b25f464f99",
            "b196c98287f9485fa2315981744c0a82",
            "9361fbd219874e22893e4c28b8ca56e3",
            "f35ec0f795c9470caa0b9ccfc902cced",
            "e56c56e47c4e46d2bd7b7e896c81e6be",
            "eac6c9766a9040a7a23f84374eb68e9c",
            "6a3ab72211324765b90b28522ecaee67",
            "9fd3a31fd80144599e31da21c67d0b6b",
            "19e29df0a3044eb0bb03abf5eb8c909a",
            "cb87f5aeebf84591a49ede9aa3f4bcfd",
            "7623b77405074baca3ad18dd83fc584b",
            "b67309df2df543288492bc85e8d1a4fd",
            "132725cbf8b942eb8b639f9560d722c5",
            "304afc5271724666a33e255df765f46b",
            "fc0ce345c4084d78906f131b262e4061",
            "f584a3e9cd4446418359d94301c93671",
            "d433c38cd45e446b89eb1a9d9e917eb0",
            "db0967f6623a464dba77b1b7b4c814e8",
            "e155c1ef72fb47bcaf410fecca910677",
            "b2be263961454aa4b1e7a1862465c811",
            "42fa33ae7ba24a08b8cbb787f0132587",
            "da7517c916dc4c99a005bcdb892dcfd0",
            "e97ea468f797495f9b55e9bef46f3b32",
            "8d6a4a3967374f8ba0f1a86c8733cae2",
            "271ec9000d4a4441a5ece64254a1ad97",
            "609ba05f4d714620bcf82797a1b2716d",
            "e0e66fbdeb7f42b3a0ed3f710fe025bc",
            "de1849933cfc40d882f254bad7a13fe8",
            "ec82086d21c14b1b9fabdf73d581e4d5",
            "b3dabcc6a6eb418bada1ea9d1f49cff5",
            "265752050f434d6d91288d3ac2a83ad1",
            "35cae7153ebe47f48d94b8c82ba082d8",
            "29923a21d856458a87a436003afa4b83",
            "5154be03980f492c885737b43d1f3a91",
            "9785604fff3a4e51913f69cc19eaf032"
          ]
        },
        "id": "yS6RV9CUKaGZ",
        "outputId": "538b7500-b3c1-4c03-96f3-0c01cfc0ae4f"
      },
      "outputs": [
        {
          "output_type": "stream",
          "name": "stderr",
          "text": [
            "\u001b[34m\u001b[1mwandb\u001b[0m: \u001b[33mWARNING\u001b[0m Calling wandb.login() after wandb.init() has no effect.\n"
          ]
        },
        {
          "output_type": "stream",
          "name": "stdout",
          "text": [
            "Create sweep with ID: flv85syf\n",
            "Sweep URL: https://wandb.ai/jayant3000/Final_PC_on_fire/sweeps/flv85syf\n"
          ]
        },
        {
          "output_type": "stream",
          "name": "stderr",
          "text": [
            "\u001b[34m\u001b[1mwandb\u001b[0m: Agent Starting Run: v1o8pgh8 with config:\n",
            "\u001b[34m\u001b[1mwandb\u001b[0m: \tactivation: relu\n",
            "\u001b[34m\u001b[1mwandb\u001b[0m: \tbatch_norm: True\n",
            "\u001b[34m\u001b[1mwandb\u001b[0m: \tconv_layers: 5\n",
            "\u001b[34m\u001b[1mwandb\u001b[0m: \tdata_aug: False\n",
            "\u001b[34m\u001b[1mwandb\u001b[0m: \tdense_size: 32\n",
            "\u001b[34m\u001b[1mwandb\u001b[0m: \tdropout: 0.3\n",
            "\u001b[34m\u001b[1mwandb\u001b[0m: \tfilter_org: 2\n",
            "\u001b[34m\u001b[1mwandb\u001b[0m: \tfirst_layer_filters: 32\n",
            "\u001b[34m\u001b[1mwandb\u001b[0m: \tkernel_size: 3\n",
            "\u001b[34m\u001b[1mwandb\u001b[0m: \tnum_epochs: 10\n",
            "\u001b[34m\u001b[1mwandb\u001b[0m: \toptimizer: adam\n"
          ]
        },
        {
          "output_type": "display_data",
          "data": {
            "text/plain": [
              "<IPython.core.display.HTML object>"
            ],
            "text/html": [
              "Tracking run with wandb version 0.12.14"
            ]
          },
          "metadata": {}
        },
        {
          "output_type": "display_data",
          "data": {
            "text/plain": [
              "<IPython.core.display.HTML object>"
            ],
            "text/html": [
              "Run data is saved locally in <code>/content/wandb/run-20220409_133654-v1o8pgh8</code>"
            ]
          },
          "metadata": {}
        },
        {
          "output_type": "display_data",
          "data": {
            "text/plain": [
              "<IPython.core.display.HTML object>"
            ],
            "text/html": [
              "Syncing run <strong><a href=\"https://wandb.ai/jayant3000/Final_PC_on_fire/runs/v1o8pgh8\" target=\"_blank\">scarlet-sweep-1</a></strong> to <a href=\"https://wandb.ai/jayant3000/Final_PC_on_fire\" target=\"_blank\">Weights & Biases</a> (<a href=\"https://wandb.me/run\" target=\"_blank\">docs</a>)<br/>Sweep page:  <a href=\"https://wandb.ai/jayant3000/Final_PC_on_fire/sweeps/flv85syf\" target=\"_blank\">https://wandb.ai/jayant3000/Final_PC_on_fire/sweeps/flv85syf</a>"
            ]
          },
          "metadata": {}
        },
        {
          "output_type": "display_data",
          "data": {
            "text/plain": [
              "<IPython.core.display.HTML object>"
            ],
            "text/html": [
              "Finishing last run (ID:v1o8pgh8) before initializing another..."
            ]
          },
          "metadata": {}
        },
        {
          "output_type": "stream",
          "name": "stdout",
          "text": [
            "\n"
          ]
        },
        {
          "output_type": "display_data",
          "data": {
            "text/plain": [
              "<IPython.core.display.HTML object>"
            ],
            "text/html": [
              "Waiting for W&B process to finish... <strong style=\"color:green\">(success).</strong>"
            ]
          },
          "metadata": {}
        },
        {
          "output_type": "display_data",
          "data": {
            "text/plain": [
              "VBox(children=(Label(value='0.001 MB of 0.001 MB uploaded (0.000 MB deduped)\\r'), FloatProgress(value=1.0, max…"
            ],
            "application/vnd.jupyter.widget-view+json": {
              "version_major": 2,
              "version_minor": 0,
              "model_id": "0205824fea45486a858f09758a9da00a"
            }
          },
          "metadata": {}
        },
        {
          "output_type": "display_data",
          "data": {
            "text/plain": [
              "<IPython.core.display.HTML object>"
            ],
            "text/html": [
              "Synced <strong style=\"color:#cdcd00\">scarlet-sweep-1</strong>: <a href=\"https://wandb.ai/jayant3000/Final_PC_on_fire/runs/v1o8pgh8\" target=\"_blank\">https://wandb.ai/jayant3000/Final_PC_on_fire/runs/v1o8pgh8</a><br/>Synced 4 W&B file(s), 0 media file(s), 0 artifact file(s) and 0 other file(s)"
            ]
          },
          "metadata": {}
        },
        {
          "output_type": "display_data",
          "data": {
            "text/plain": [
              "<IPython.core.display.HTML object>"
            ],
            "text/html": [
              "Find logs at: <code>./wandb/run-20220409_133654-v1o8pgh8/logs</code>"
            ]
          },
          "metadata": {}
        },
        {
          "output_type": "display_data",
          "data": {
            "text/plain": [
              "<IPython.core.display.HTML object>"
            ],
            "text/html": [
              "Successfully finished last run (ID:v1o8pgh8). Initializing new run:<br/>"
            ]
          },
          "metadata": {}
        },
        {
          "output_type": "display_data",
          "data": {
            "text/plain": [
              "<IPython.core.display.HTML object>"
            ],
            "text/html": [
              "Tracking run with wandb version 0.12.14"
            ]
          },
          "metadata": {}
        },
        {
          "output_type": "display_data",
          "data": {
            "text/plain": [
              "<IPython.core.display.HTML object>"
            ],
            "text/html": [
              "Run data is saved locally in <code>/content/wandb/run-20220409_133702-v1o8pgh8</code>"
            ]
          },
          "metadata": {}
        },
        {
          "output_type": "display_data",
          "data": {
            "text/plain": [
              "<IPython.core.display.HTML object>"
            ],
            "text/html": [
              "Syncing run <strong><a href=\"https://wandb.ai/jayant3000/Final_PC_on_fire/runs/v1o8pgh8\" target=\"_blank\">scarlet-sweep-1</a></strong> to <a href=\"https://wandb.ai/jayant3000/Final_PC_on_fire\" target=\"_blank\">Weights & Biases</a> (<a href=\"https://wandb.me/run\" target=\"_blank\">docs</a>)<br/>Sweep page:  <a href=\"https://wandb.ai/jayant3000/Final_PC_on_fire/sweeps/flv85syf\" target=\"_blank\">https://wandb.ai/jayant3000/Final_PC_on_fire/sweeps/flv85syf</a>"
            ]
          },
          "metadata": {}
        },
        {
          "output_type": "stream",
          "name": "stdout",
          "text": [
            "Epoch 1/10\n",
            "25/25 [==============================] - 390s 11s/step - loss: 2.4578 - acc: 0.1500 - val_loss: 2.4229 - val_acc: 0.1562 - _timestamp: 1649511823.0000 - _runtime: 396.0000\n",
            "Epoch 2/10\n",
            "25/25 [==============================] - 12s 395ms/step - loss: 2.2042 - acc: 0.2000 - val_loss: 2.6773 - val_acc: 0.0625 - _timestamp: 1649511834.0000 - _runtime: 407.0000\n",
            "Epoch 3/10\n",
            "25/25 [==============================] - 11s 377ms/step - loss: 2.0476 - acc: 0.2738 - val_loss: 2.4645 - val_acc: 0.1562 - _timestamp: 1649511854.0000 - _runtime: 427.0000\n",
            "Epoch 4/10\n",
            "25/25 [==============================] - 11s 379ms/step - loss: 2.0098 - acc: 0.3063 - val_loss: 2.5172 - val_acc: 0.0938 - _timestamp: 1649511875.0000 - _runtime: 448.0000\n",
            "Epoch 5/10\n",
            "25/25 [==============================] - 11s 381ms/step - loss: 1.9276 - acc: 0.3200 - val_loss: 2.6575 - val_acc: 0.0312 - _timestamp: 1649511896.0000 - _runtime: 469.0000\n",
            "Epoch 6/10\n",
            "25/25 [==============================] - 11s 364ms/step - loss: 1.8490 - acc: 0.3400 - val_loss: 2.5232 - val_acc: 0.1562 - _timestamp: 1649511915.0000 - _runtime: 488.0000\n"
          ]
        },
        {
          "output_type": "stream",
          "name": "stderr",
          "text": [
            "\u001b[34m\u001b[1mwandb\u001b[0m: Agent Starting Run: e2pz20vg with config:\n",
            "\u001b[34m\u001b[1mwandb\u001b[0m: \tactivation: relu\n",
            "\u001b[34m\u001b[1mwandb\u001b[0m: \tbatch_norm: True\n",
            "\u001b[34m\u001b[1mwandb\u001b[0m: \tconv_layers: 5\n",
            "\u001b[34m\u001b[1mwandb\u001b[0m: \tdata_aug: True\n",
            "\u001b[34m\u001b[1mwandb\u001b[0m: \tdense_size: 32\n",
            "\u001b[34m\u001b[1mwandb\u001b[0m: \tdropout: 0.3\n",
            "\u001b[34m\u001b[1mwandb\u001b[0m: \tfilter_org: 1\n",
            "\u001b[34m\u001b[1mwandb\u001b[0m: \tfirst_layer_filters: 64\n",
            "\u001b[34m\u001b[1mwandb\u001b[0m: \tkernel_size: 3\n",
            "\u001b[34m\u001b[1mwandb\u001b[0m: \tnum_epochs: 10\n",
            "\u001b[34m\u001b[1mwandb\u001b[0m: \toptimizer: adam\n"
          ]
        },
        {
          "output_type": "display_data",
          "data": {
            "text/plain": [
              "<IPython.core.display.HTML object>"
            ],
            "text/html": [
              "Tracking run with wandb version 0.12.14"
            ]
          },
          "metadata": {}
        },
        {
          "output_type": "display_data",
          "data": {
            "text/plain": [
              "<IPython.core.display.HTML object>"
            ],
            "text/html": [
              "Run data is saved locally in <code>/content/wandb/run-20220409_134527-e2pz20vg</code>"
            ]
          },
          "metadata": {}
        },
        {
          "output_type": "display_data",
          "data": {
            "text/plain": [
              "<IPython.core.display.HTML object>"
            ],
            "text/html": [
              "Syncing run <strong><a href=\"https://wandb.ai/jayant3000/Final_PC_on_fire/runs/e2pz20vg\" target=\"_blank\">absurd-sweep-2</a></strong> to <a href=\"https://wandb.ai/jayant3000/Final_PC_on_fire\" target=\"_blank\">Weights & Biases</a> (<a href=\"https://wandb.me/run\" target=\"_blank\">docs</a>)<br/>Sweep page:  <a href=\"https://wandb.ai/jayant3000/Final_PC_on_fire/sweeps/flv85syf\" target=\"_blank\">https://wandb.ai/jayant3000/Final_PC_on_fire/sweeps/flv85syf</a>"
            ]
          },
          "metadata": {}
        },
        {
          "output_type": "display_data",
          "data": {
            "text/plain": [
              "<IPython.core.display.HTML object>"
            ],
            "text/html": [
              "Finishing last run (ID:e2pz20vg) before initializing another..."
            ]
          },
          "metadata": {}
        },
        {
          "output_type": "stream",
          "name": "stdout",
          "text": [
            "\n"
          ]
        },
        {
          "output_type": "display_data",
          "data": {
            "text/plain": [
              "<IPython.core.display.HTML object>"
            ],
            "text/html": [
              "Waiting for W&B process to finish... <strong style=\"color:green\">(success).</strong>"
            ]
          },
          "metadata": {}
        },
        {
          "output_type": "display_data",
          "data": {
            "text/plain": [
              "VBox(children=(Label(value='0.001 MB of 0.001 MB uploaded (0.000 MB deduped)\\r'), FloatProgress(value=1.0, max…"
            ],
            "application/vnd.jupyter.widget-view+json": {
              "version_major": 2,
              "version_minor": 0,
              "model_id": "621ab69898374a72ba0179eac258dcfe"
            }
          },
          "metadata": {}
        },
        {
          "output_type": "display_data",
          "data": {
            "text/plain": [
              "<IPython.core.display.HTML object>"
            ],
            "text/html": [
              "Synced <strong style=\"color:#cdcd00\">absurd-sweep-2</strong>: <a href=\"https://wandb.ai/jayant3000/Final_PC_on_fire/runs/e2pz20vg\" target=\"_blank\">https://wandb.ai/jayant3000/Final_PC_on_fire/runs/e2pz20vg</a><br/>Synced 4 W&B file(s), 0 media file(s), 0 artifact file(s) and 0 other file(s)"
            ]
          },
          "metadata": {}
        },
        {
          "output_type": "display_data",
          "data": {
            "text/plain": [
              "<IPython.core.display.HTML object>"
            ],
            "text/html": [
              "Find logs at: <code>./wandb/run-20220409_134527-e2pz20vg/logs</code>"
            ]
          },
          "metadata": {}
        },
        {
          "output_type": "display_data",
          "data": {
            "text/plain": [
              "<IPython.core.display.HTML object>"
            ],
            "text/html": [
              "Successfully finished last run (ID:e2pz20vg). Initializing new run:<br/>"
            ]
          },
          "metadata": {}
        },
        {
          "output_type": "display_data",
          "data": {
            "text/plain": [
              "<IPython.core.display.HTML object>"
            ],
            "text/html": [
              "Tracking run with wandb version 0.12.14"
            ]
          },
          "metadata": {}
        },
        {
          "output_type": "display_data",
          "data": {
            "text/plain": [
              "<IPython.core.display.HTML object>"
            ],
            "text/html": [
              "Run data is saved locally in <code>/content/wandb/run-20220409_134533-e2pz20vg</code>"
            ]
          },
          "metadata": {}
        },
        {
          "output_type": "display_data",
          "data": {
            "text/plain": [
              "<IPython.core.display.HTML object>"
            ],
            "text/html": [
              "Syncing run <strong><a href=\"https://wandb.ai/jayant3000/Final_PC_on_fire/runs/e2pz20vg\" target=\"_blank\">absurd-sweep-2</a></strong> to <a href=\"https://wandb.ai/jayant3000/Final_PC_on_fire\" target=\"_blank\">Weights & Biases</a> (<a href=\"https://wandb.me/run\" target=\"_blank\">docs</a>)<br/>Sweep page:  <a href=\"https://wandb.ai/jayant3000/Final_PC_on_fire/sweeps/flv85syf\" target=\"_blank\">https://wandb.ai/jayant3000/Final_PC_on_fire/sweeps/flv85syf</a>"
            ]
          },
          "metadata": {}
        },
        {
          "output_type": "stream",
          "name": "stdout",
          "text": [
            "Epoch 1/10\n",
            "25/25 [==============================] - 14s 390ms/step - loss: 2.4320 - acc: 0.1600 - val_loss: 2.2959 - val_acc: 0.0938 - _timestamp: 1649511957.0000 - _runtime: 20.0000\n",
            "Epoch 2/10\n",
            "25/25 [==============================] - 11s 377ms/step - loss: 2.1695 - acc: 0.2450 - val_loss: 2.3082 - val_acc: 0.1875 - _timestamp: 1649511975.0000 - _runtime: 38.0000\n",
            "Epoch 3/10\n",
            "25/25 [==============================] - 11s 386ms/step - loss: 2.0371 - acc: 0.2612 - val_loss: 2.5173 - val_acc: 0.0312 - _timestamp: 1649511996.0000 - _runtime: 59.0000\n",
            "Epoch 4/10\n",
            "25/25 [==============================] - 12s 394ms/step - loss: 1.8699 - acc: 0.3388 - val_loss: 2.4780 - val_acc: 0.0625 - _timestamp: 1649512008.0000 - _runtime: 71.0000\n",
            "Epoch 5/10\n",
            "25/25 [==============================] - 12s 394ms/step - loss: 1.8152 - acc: 0.3850 - val_loss: 2.6272 - val_acc: 0.0938 - _timestamp: 1649512019.0000 - _runtime: 82.0000\n",
            "Epoch 6/10\n",
            "25/25 [==============================] - 12s 393ms/step - loss: 1.6921 - acc: 0.4125 - val_loss: 2.5944 - val_acc: 0.0625 - _timestamp: 1649512040.0000 - _runtime: 103.0000\n",
            "Epoch 7/10\n",
            "25/25 [==============================] - 12s 393ms/step - loss: 1.5487 - acc: 0.4800 - val_loss: 2.4134 - val_acc: 0.0938 - _timestamp: 1649512052.0000 - _runtime: 115.0000\n"
          ]
        },
        {
          "output_type": "stream",
          "name": "stderr",
          "text": [
            "\u001b[34m\u001b[1mwandb\u001b[0m: Agent Starting Run: gr53yzmd with config:\n",
            "\u001b[34m\u001b[1mwandb\u001b[0m: \tactivation: relu\n",
            "\u001b[34m\u001b[1mwandb\u001b[0m: \tbatch_norm: False\n",
            "\u001b[34m\u001b[1mwandb\u001b[0m: \tconv_layers: 5\n",
            "\u001b[34m\u001b[1mwandb\u001b[0m: \tdata_aug: True\n",
            "\u001b[34m\u001b[1mwandb\u001b[0m: \tdense_size: 32\n",
            "\u001b[34m\u001b[1mwandb\u001b[0m: \tdropout: 0.2\n",
            "\u001b[34m\u001b[1mwandb\u001b[0m: \tfilter_org: 2\n",
            "\u001b[34m\u001b[1mwandb\u001b[0m: \tfirst_layer_filters: 32\n",
            "\u001b[34m\u001b[1mwandb\u001b[0m: \tkernel_size: 3\n",
            "\u001b[34m\u001b[1mwandb\u001b[0m: \tnum_epochs: 10\n",
            "\u001b[34m\u001b[1mwandb\u001b[0m: \toptimizer: adam\n"
          ]
        },
        {
          "output_type": "display_data",
          "data": {
            "text/plain": [
              "<IPython.core.display.HTML object>"
            ],
            "text/html": [
              "Tracking run with wandb version 0.12.14"
            ]
          },
          "metadata": {}
        },
        {
          "output_type": "display_data",
          "data": {
            "text/plain": [
              "<IPython.core.display.HTML object>"
            ],
            "text/html": [
              "Run data is saved locally in <code>/content/wandb/run-20220409_134742-gr53yzmd</code>"
            ]
          },
          "metadata": {}
        },
        {
          "output_type": "display_data",
          "data": {
            "text/plain": [
              "<IPython.core.display.HTML object>"
            ],
            "text/html": [
              "Syncing run <strong><a href=\"https://wandb.ai/jayant3000/Final_PC_on_fire/runs/gr53yzmd\" target=\"_blank\">generous-sweep-3</a></strong> to <a href=\"https://wandb.ai/jayant3000/Final_PC_on_fire\" target=\"_blank\">Weights & Biases</a> (<a href=\"https://wandb.me/run\" target=\"_blank\">docs</a>)<br/>Sweep page:  <a href=\"https://wandb.ai/jayant3000/Final_PC_on_fire/sweeps/flv85syf\" target=\"_blank\">https://wandb.ai/jayant3000/Final_PC_on_fire/sweeps/flv85syf</a>"
            ]
          },
          "metadata": {}
        },
        {
          "output_type": "display_data",
          "data": {
            "text/plain": [
              "<IPython.core.display.HTML object>"
            ],
            "text/html": [
              "Finishing last run (ID:gr53yzmd) before initializing another..."
            ]
          },
          "metadata": {}
        },
        {
          "output_type": "stream",
          "name": "stdout",
          "text": [
            "\n"
          ]
        },
        {
          "output_type": "display_data",
          "data": {
            "text/plain": [
              "<IPython.core.display.HTML object>"
            ],
            "text/html": [
              "Waiting for W&B process to finish... <strong style=\"color:green\">(success).</strong>"
            ]
          },
          "metadata": {}
        },
        {
          "output_type": "display_data",
          "data": {
            "text/plain": [
              "VBox(children=(Label(value='0.001 MB of 0.001 MB uploaded (0.000 MB deduped)\\r'), FloatProgress(value=1.0, max…"
            ],
            "application/vnd.jupyter.widget-view+json": {
              "version_major": 2,
              "version_minor": 0,
              "model_id": "0459ed7323e24d3da094735bf043a209"
            }
          },
          "metadata": {}
        },
        {
          "output_type": "display_data",
          "data": {
            "text/plain": [
              "<IPython.core.display.HTML object>"
            ],
            "text/html": [
              "Synced <strong style=\"color:#cdcd00\">generous-sweep-3</strong>: <a href=\"https://wandb.ai/jayant3000/Final_PC_on_fire/runs/gr53yzmd\" target=\"_blank\">https://wandb.ai/jayant3000/Final_PC_on_fire/runs/gr53yzmd</a><br/>Synced 4 W&B file(s), 0 media file(s), 0 artifact file(s) and 0 other file(s)"
            ]
          },
          "metadata": {}
        },
        {
          "output_type": "display_data",
          "data": {
            "text/plain": [
              "<IPython.core.display.HTML object>"
            ],
            "text/html": [
              "Find logs at: <code>./wandb/run-20220409_134742-gr53yzmd/logs</code>"
            ]
          },
          "metadata": {}
        },
        {
          "output_type": "display_data",
          "data": {
            "text/plain": [
              "<IPython.core.display.HTML object>"
            ],
            "text/html": [
              "Successfully finished last run (ID:gr53yzmd). Initializing new run:<br/>"
            ]
          },
          "metadata": {}
        },
        {
          "output_type": "display_data",
          "data": {
            "text/plain": [
              "<IPython.core.display.HTML object>"
            ],
            "text/html": [
              "Tracking run with wandb version 0.12.14"
            ]
          },
          "metadata": {}
        },
        {
          "output_type": "display_data",
          "data": {
            "text/plain": [
              "<IPython.core.display.HTML object>"
            ],
            "text/html": [
              "Run data is saved locally in <code>/content/wandb/run-20220409_134748-gr53yzmd</code>"
            ]
          },
          "metadata": {}
        },
        {
          "output_type": "display_data",
          "data": {
            "text/plain": [
              "<IPython.core.display.HTML object>"
            ],
            "text/html": [
              "Syncing run <strong><a href=\"https://wandb.ai/jayant3000/Final_PC_on_fire/runs/gr53yzmd\" target=\"_blank\">generous-sweep-3</a></strong> to <a href=\"https://wandb.ai/jayant3000/Final_PC_on_fire\" target=\"_blank\">Weights & Biases</a> (<a href=\"https://wandb.me/run\" target=\"_blank\">docs</a>)<br/>Sweep page:  <a href=\"https://wandb.ai/jayant3000/Final_PC_on_fire/sweeps/flv85syf\" target=\"_blank\">https://wandb.ai/jayant3000/Final_PC_on_fire/sweeps/flv85syf</a>"
            ]
          },
          "metadata": {}
        },
        {
          "output_type": "stream",
          "name": "stdout",
          "text": [
            "Epoch 1/10\n",
            "25/25 [==============================] - 12s 371ms/step - loss: 2.3175 - acc: 0.1150 - val_loss: 2.3003 - val_acc: 0.0625 - _timestamp: 1649512090.0000 - _runtime: 17.0000\n",
            "Epoch 2/10\n",
            "25/25 [==============================] - 11s 361ms/step - loss: 2.3016 - acc: 0.1088 - val_loss: 2.3012 - val_acc: 0.0625 - _timestamp: 1649512110.0000 - _runtime: 37.0000\n",
            "Epoch 3/10\n",
            "25/25 [==============================] - 10s 354ms/step - loss: 2.3022 - acc: 0.0962 - val_loss: 2.3015 - val_acc: 0.1250 - _timestamp: 1649512120.0000 - _runtime: 47.0000\n",
            "Epoch 4/10\n",
            "25/25 [==============================] - 11s 357ms/step - loss: 2.3018 - acc: 0.1100 - val_loss: 2.3046 - val_acc: 0.0625 - _timestamp: 1649512131.0000 - _runtime: 58.0000\n",
            "Epoch 5/10\n",
            "25/25 [==============================] - 10s 351ms/step - loss: 2.3021 - acc: 0.1225 - val_loss: 2.3003 - val_acc: 0.1250 - _timestamp: 1649512151.0000 - _runtime: 78.0000\n",
            "Epoch 6/10\n",
            "25/25 [==============================] - 11s 360ms/step - loss: 2.3014 - acc: 0.1150 - val_loss: 2.3010 - val_acc: 0.0312 - _timestamp: 1649512172.0000 - _runtime: 99.0000\n",
            "Epoch 7/10\n",
            "25/25 [==============================] - 11s 351ms/step - loss: 2.3021 - acc: 0.1200 - val_loss: 2.3076 - val_acc: 0.0625 - _timestamp: 1649512192.0000 - _runtime: 119.0000\n",
            "Epoch 8/10\n",
            "25/25 [==============================] - 11s 357ms/step - loss: 2.3024 - acc: 0.1138 - val_loss: 2.3027 - val_acc: 0.0625 - _timestamp: 1649512213.0000 - _runtime: 140.0000\n"
          ]
        },
        {
          "output_type": "stream",
          "name": "stderr",
          "text": [
            "\u001b[34m\u001b[1mwandb\u001b[0m: Agent Starting Run: 5p2m5ljq with config:\n",
            "\u001b[34m\u001b[1mwandb\u001b[0m: \tactivation: relu\n",
            "\u001b[34m\u001b[1mwandb\u001b[0m: \tbatch_norm: False\n",
            "\u001b[34m\u001b[1mwandb\u001b[0m: \tconv_layers: 5\n",
            "\u001b[34m\u001b[1mwandb\u001b[0m: \tdata_aug: False\n",
            "\u001b[34m\u001b[1mwandb\u001b[0m: \tdense_size: 32\n",
            "\u001b[34m\u001b[1mwandb\u001b[0m: \tdropout: 0.2\n",
            "\u001b[34m\u001b[1mwandb\u001b[0m: \tfilter_org: 0.5\n",
            "\u001b[34m\u001b[1mwandb\u001b[0m: \tfirst_layer_filters: 32\n",
            "\u001b[34m\u001b[1mwandb\u001b[0m: \tkernel_size: 3\n",
            "\u001b[34m\u001b[1mwandb\u001b[0m: \tnum_epochs: 10\n",
            "\u001b[34m\u001b[1mwandb\u001b[0m: \toptimizer: adam\n"
          ]
        },
        {
          "output_type": "display_data",
          "data": {
            "text/plain": [
              "<IPython.core.display.HTML object>"
            ],
            "text/html": [
              "Tracking run with wandb version 0.12.14"
            ]
          },
          "metadata": {}
        },
        {
          "output_type": "display_data",
          "data": {
            "text/plain": [
              "<IPython.core.display.HTML object>"
            ],
            "text/html": [
              "Run data is saved locally in <code>/content/wandb/run-20220409_135018-5p2m5ljq</code>"
            ]
          },
          "metadata": {}
        },
        {
          "output_type": "display_data",
          "data": {
            "text/plain": [
              "<IPython.core.display.HTML object>"
            ],
            "text/html": [
              "Syncing run <strong><a href=\"https://wandb.ai/jayant3000/Final_PC_on_fire/runs/5p2m5ljq\" target=\"_blank\">denim-sweep-4</a></strong> to <a href=\"https://wandb.ai/jayant3000/Final_PC_on_fire\" target=\"_blank\">Weights & Biases</a> (<a href=\"https://wandb.me/run\" target=\"_blank\">docs</a>)<br/>Sweep page:  <a href=\"https://wandb.ai/jayant3000/Final_PC_on_fire/sweeps/flv85syf\" target=\"_blank\">https://wandb.ai/jayant3000/Final_PC_on_fire/sweeps/flv85syf</a>"
            ]
          },
          "metadata": {}
        },
        {
          "output_type": "display_data",
          "data": {
            "text/plain": [
              "<IPython.core.display.HTML object>"
            ],
            "text/html": [
              "Finishing last run (ID:5p2m5ljq) before initializing another..."
            ]
          },
          "metadata": {}
        },
        {
          "output_type": "stream",
          "name": "stdout",
          "text": [
            "\n"
          ]
        },
        {
          "output_type": "display_data",
          "data": {
            "text/plain": [
              "<IPython.core.display.HTML object>"
            ],
            "text/html": [
              "Waiting for W&B process to finish... <strong style=\"color:green\">(success).</strong>"
            ]
          },
          "metadata": {}
        },
        {
          "output_type": "display_data",
          "data": {
            "text/plain": [
              "VBox(children=(Label(value='0.001 MB of 0.001 MB uploaded (0.000 MB deduped)\\r'), FloatProgress(value=1.0, max…"
            ],
            "application/vnd.jupyter.widget-view+json": {
              "version_major": 2,
              "version_minor": 0,
              "model_id": "5d144fbccc274bdb85cb60316fba6c06"
            }
          },
          "metadata": {}
        },
        {
          "output_type": "display_data",
          "data": {
            "text/plain": [
              "<IPython.core.display.HTML object>"
            ],
            "text/html": [
              "Synced <strong style=\"color:#cdcd00\">denim-sweep-4</strong>: <a href=\"https://wandb.ai/jayant3000/Final_PC_on_fire/runs/5p2m5ljq\" target=\"_blank\">https://wandb.ai/jayant3000/Final_PC_on_fire/runs/5p2m5ljq</a><br/>Synced 4 W&B file(s), 0 media file(s), 0 artifact file(s) and 0 other file(s)"
            ]
          },
          "metadata": {}
        },
        {
          "output_type": "display_data",
          "data": {
            "text/plain": [
              "<IPython.core.display.HTML object>"
            ],
            "text/html": [
              "Find logs at: <code>./wandb/run-20220409_135018-5p2m5ljq/logs</code>"
            ]
          },
          "metadata": {}
        },
        {
          "output_type": "display_data",
          "data": {
            "text/plain": [
              "<IPython.core.display.HTML object>"
            ],
            "text/html": [
              "Successfully finished last run (ID:5p2m5ljq). Initializing new run:<br/>"
            ]
          },
          "metadata": {}
        },
        {
          "output_type": "display_data",
          "data": {
            "text/plain": [
              "<IPython.core.display.HTML object>"
            ],
            "text/html": [
              "Tracking run with wandb version 0.12.14"
            ]
          },
          "metadata": {}
        },
        {
          "output_type": "display_data",
          "data": {
            "text/plain": [
              "<IPython.core.display.HTML object>"
            ],
            "text/html": [
              "Run data is saved locally in <code>/content/wandb/run-20220409_135024-5p2m5ljq</code>"
            ]
          },
          "metadata": {}
        },
        {
          "output_type": "display_data",
          "data": {
            "text/plain": [
              "<IPython.core.display.HTML object>"
            ],
            "text/html": [
              "Syncing run <strong><a href=\"https://wandb.ai/jayant3000/Final_PC_on_fire/runs/5p2m5ljq\" target=\"_blank\">denim-sweep-4</a></strong> to <a href=\"https://wandb.ai/jayant3000/Final_PC_on_fire\" target=\"_blank\">Weights & Biases</a> (<a href=\"https://wandb.me/run\" target=\"_blank\">docs</a>)<br/>Sweep page:  <a href=\"https://wandb.ai/jayant3000/Final_PC_on_fire/sweeps/flv85syf\" target=\"_blank\">https://wandb.ai/jayant3000/Final_PC_on_fire/sweeps/flv85syf</a>"
            ]
          },
          "metadata": {}
        },
        {
          "output_type": "stream",
          "name": "stdout",
          "text": [
            "Epoch 1/10\n",
            "25/25 [==============================] - 12s 348ms/step - loss: 2.3040 - acc: 0.0850 - val_loss: 2.3027 - val_acc: 0.0938 - _timestamp: 1649512246.0000 - _runtime: 17.0000\n",
            "Epoch 2/10\n",
            "25/25 [==============================] - 10s 353ms/step - loss: 2.3025 - acc: 0.1013 - val_loss: 2.3052 - val_acc: 0.0312 - _timestamp: 1649512266.0000 - _runtime: 37.0000\n",
            "Epoch 3/10\n",
            "25/25 [==============================] - 10s 350ms/step - loss: 2.3014 - acc: 0.1013 - val_loss: 2.3040 - val_acc: 0.0625 - _timestamp: 1649512277.0000 - _runtime: 48.0000\n",
            "Epoch 4/10\n",
            "25/25 [==============================] - 10s 350ms/step - loss: 2.3033 - acc: 0.1088 - val_loss: 2.3050 - val_acc: 0.0625 - _timestamp: 1649512287.0000 - _runtime: 58.0000\n",
            "Epoch 5/10\n",
            "25/25 [==============================] - 10s 350ms/step - loss: 2.3001 - acc: 0.1150 - val_loss: 2.2983 - val_acc: 0.1250 - _timestamp: 1649512307.0000 - _runtime: 78.0000\n",
            "Epoch 6/10\n",
            "25/25 [==============================] - 10s 346ms/step - loss: 2.2996 - acc: 0.1262 - val_loss: 2.2933 - val_acc: 0.0312 - _timestamp: 1649512328.0000 - _runtime: 99.0000\n",
            "Epoch 7/10\n",
            "25/25 [==============================] - 10s 347ms/step - loss: 2.2952 - acc: 0.1150 - val_loss: 2.3140 - val_acc: 0.1562 - _timestamp: 1649512348.0000 - _runtime: 119.0000\n",
            "Epoch 8/10\n",
            "25/25 [==============================] - 10s 345ms/step - loss: 2.2948 - acc: 0.1375 - val_loss: 2.3263 - val_acc: 0.0000e+00 - _timestamp: 1649512359.0000 - _runtime: 130.0000\n",
            "Epoch 9/10\n",
            "25/25 [==============================] - 10s 349ms/step - loss: 2.2834 - acc: 0.1275 - val_loss: 2.2895 - val_acc: 0.0938 - _timestamp: 1649512369.0000 - _runtime: 140.0000\n",
            "Epoch 10/10\n",
            "25/25 [==============================] - 10s 346ms/step - loss: 2.2629 - acc: 0.1525 - val_loss: 2.3217 - val_acc: 0.1875 - _timestamp: 1649512390.0000 - _runtime: 161.0000\n"
          ]
        },
        {
          "output_type": "stream",
          "name": "stderr",
          "text": [
            "\u001b[34m\u001b[1mwandb\u001b[0m: Agent Starting Run: 2qz5djoc with config:\n",
            "\u001b[34m\u001b[1mwandb\u001b[0m: \tactivation: relu\n",
            "\u001b[34m\u001b[1mwandb\u001b[0m: \tbatch_norm: False\n",
            "\u001b[34m\u001b[1mwandb\u001b[0m: \tconv_layers: 5\n",
            "\u001b[34m\u001b[1mwandb\u001b[0m: \tdata_aug: True\n",
            "\u001b[34m\u001b[1mwandb\u001b[0m: \tdense_size: 32\n",
            "\u001b[34m\u001b[1mwandb\u001b[0m: \tdropout: 0.3\n",
            "\u001b[34m\u001b[1mwandb\u001b[0m: \tfilter_org: 1\n",
            "\u001b[34m\u001b[1mwandb\u001b[0m: \tfirst_layer_filters: 64\n",
            "\u001b[34m\u001b[1mwandb\u001b[0m: \tkernel_size: 3\n",
            "\u001b[34m\u001b[1mwandb\u001b[0m: \tnum_epochs: 10\n",
            "\u001b[34m\u001b[1mwandb\u001b[0m: \toptimizer: adam\n"
          ]
        },
        {
          "output_type": "display_data",
          "data": {
            "text/plain": [
              "<IPython.core.display.HTML object>"
            ],
            "text/html": [
              "Tracking run with wandb version 0.12.14"
            ]
          },
          "metadata": {}
        },
        {
          "output_type": "display_data",
          "data": {
            "text/plain": [
              "<IPython.core.display.HTML object>"
            ],
            "text/html": [
              "Run data is saved locally in <code>/content/wandb/run-20220409_135317-2qz5djoc</code>"
            ]
          },
          "metadata": {}
        },
        {
          "output_type": "display_data",
          "data": {
            "text/plain": [
              "<IPython.core.display.HTML object>"
            ],
            "text/html": [
              "Syncing run <strong><a href=\"https://wandb.ai/jayant3000/Final_PC_on_fire/runs/2qz5djoc\" target=\"_blank\">fine-sweep-5</a></strong> to <a href=\"https://wandb.ai/jayant3000/Final_PC_on_fire\" target=\"_blank\">Weights & Biases</a> (<a href=\"https://wandb.me/run\" target=\"_blank\">docs</a>)<br/>Sweep page:  <a href=\"https://wandb.ai/jayant3000/Final_PC_on_fire/sweeps/flv85syf\" target=\"_blank\">https://wandb.ai/jayant3000/Final_PC_on_fire/sweeps/flv85syf</a>"
            ]
          },
          "metadata": {}
        },
        {
          "output_type": "display_data",
          "data": {
            "text/plain": [
              "<IPython.core.display.HTML object>"
            ],
            "text/html": [
              "Finishing last run (ID:2qz5djoc) before initializing another..."
            ]
          },
          "metadata": {}
        },
        {
          "output_type": "stream",
          "name": "stdout",
          "text": [
            "\n"
          ]
        },
        {
          "output_type": "display_data",
          "data": {
            "text/plain": [
              "<IPython.core.display.HTML object>"
            ],
            "text/html": [
              "Waiting for W&B process to finish... <strong style=\"color:green\">(success).</strong>"
            ]
          },
          "metadata": {}
        },
        {
          "output_type": "display_data",
          "data": {
            "text/plain": [
              "VBox(children=(Label(value='0.001 MB of 0.001 MB uploaded (0.000 MB deduped)\\r'), FloatProgress(value=1.0, max…"
            ],
            "application/vnd.jupyter.widget-view+json": {
              "version_major": 2,
              "version_minor": 0,
              "model_id": "34cdf94c177b442e905d6734f12522e3"
            }
          },
          "metadata": {}
        },
        {
          "output_type": "display_data",
          "data": {
            "text/plain": [
              "<IPython.core.display.HTML object>"
            ],
            "text/html": [
              "Synced <strong style=\"color:#cdcd00\">fine-sweep-5</strong>: <a href=\"https://wandb.ai/jayant3000/Final_PC_on_fire/runs/2qz5djoc\" target=\"_blank\">https://wandb.ai/jayant3000/Final_PC_on_fire/runs/2qz5djoc</a><br/>Synced 4 W&B file(s), 0 media file(s), 0 artifact file(s) and 0 other file(s)"
            ]
          },
          "metadata": {}
        },
        {
          "output_type": "display_data",
          "data": {
            "text/plain": [
              "<IPython.core.display.HTML object>"
            ],
            "text/html": [
              "Find logs at: <code>./wandb/run-20220409_135317-2qz5djoc/logs</code>"
            ]
          },
          "metadata": {}
        },
        {
          "output_type": "display_data",
          "data": {
            "text/plain": [
              "<IPython.core.display.HTML object>"
            ],
            "text/html": [
              "Successfully finished last run (ID:2qz5djoc). Initializing new run:<br/>"
            ]
          },
          "metadata": {}
        },
        {
          "output_type": "display_data",
          "data": {
            "text/plain": [
              "<IPython.core.display.HTML object>"
            ],
            "text/html": [
              "Tracking run with wandb version 0.12.14"
            ]
          },
          "metadata": {}
        },
        {
          "output_type": "display_data",
          "data": {
            "text/plain": [
              "<IPython.core.display.HTML object>"
            ],
            "text/html": [
              "Run data is saved locally in <code>/content/wandb/run-20220409_135326-2qz5djoc</code>"
            ]
          },
          "metadata": {}
        },
        {
          "output_type": "display_data",
          "data": {
            "text/plain": [
              "<IPython.core.display.HTML object>"
            ],
            "text/html": [
              "Syncing run <strong><a href=\"https://wandb.ai/jayant3000/Final_PC_on_fire/runs/2qz5djoc\" target=\"_blank\">fine-sweep-5</a></strong> to <a href=\"https://wandb.ai/jayant3000/Final_PC_on_fire\" target=\"_blank\">Weights & Biases</a> (<a href=\"https://wandb.me/run\" target=\"_blank\">docs</a>)<br/>Sweep page:  <a href=\"https://wandb.ai/jayant3000/Final_PC_on_fire/sweeps/flv85syf\" target=\"_blank\">https://wandb.ai/jayant3000/Final_PC_on_fire/sweeps/flv85syf</a>"
            ]
          },
          "metadata": {}
        },
        {
          "output_type": "stream",
          "name": "stdout",
          "text": [
            "Epoch 1/10\n",
            "25/25 [==============================] - 12s 385ms/step - loss: 2.3055 - acc: 0.0975 - val_loss: 2.2977 - val_acc: 0.1875 - _timestamp: 1649512429.0000 - _runtime: 17.0000\n",
            "Epoch 2/10\n",
            "25/25 [==============================] - 11s 374ms/step - loss: 2.2918 - acc: 0.1287 - val_loss: 2.2788 - val_acc: 0.1250 - _timestamp: 1649512450.0000 - _runtime: 38.0000\n",
            "Epoch 3/10\n",
            "25/25 [==============================] - 11s 376ms/step - loss: 2.2860 - acc: 0.1088 - val_loss: 2.2442 - val_acc: 0.2188 - _timestamp: 1649512461.0000 - _runtime: 49.0000\n",
            "Epoch 4/10\n",
            "25/25 [==============================] - 11s 377ms/step - loss: 2.2989 - acc: 0.1262 - val_loss: 2.2968 - val_acc: 0.1250 - _timestamp: 1649512481.0000 - _runtime: 69.0000\n",
            "Epoch 5/10\n",
            "25/25 [==============================] - 11s 380ms/step - loss: 2.2934 - acc: 0.1412 - val_loss: 2.2099 - val_acc: 0.1875 - _timestamp: 1649512502.0000 - _runtime: 90.0000\n",
            "Epoch 6/10\n",
            "25/25 [==============================] - 11s 374ms/step - loss: 2.2782 - acc: 0.1200 - val_loss: 2.3386 - val_acc: 0.0938 - _timestamp: 1649512522.0000 - _runtime: 110.0000\n",
            "Epoch 7/10\n",
            "25/25 [==============================] - 11s 368ms/step - loss: 2.2825 - acc: 0.1225 - val_loss: 2.2364 - val_acc: 0.2500 - _timestamp: 1649512543.0000 - _runtime: 131.0000\n",
            "Epoch 8/10\n",
            "25/25 [==============================] - 11s 368ms/step - loss: 2.2620 - acc: 0.1500 - val_loss: 2.2938 - val_acc: 0.1875 - _timestamp: 1649512554.0000 - _runtime: 142.0000\n",
            "Epoch 9/10\n",
            "25/25 [==============================] - 11s 368ms/step - loss: 2.2562 - acc: 0.1612 - val_loss: 2.2889 - val_acc: 0.1562 - _timestamp: 1649512565.0000 - _runtime: 153.0000\n",
            "Epoch 10/10\n",
            "25/25 [==============================] - 11s 369ms/step - loss: 2.2443 - acc: 0.1462 - val_loss: 2.2300 - val_acc: 0.1562 - _timestamp: 1649512576.0000 - _runtime: 164.0000\n"
          ]
        },
        {
          "output_type": "stream",
          "name": "stderr",
          "text": [
            "\u001b[34m\u001b[1mwandb\u001b[0m: Agent Starting Run: jthlbyac with config:\n",
            "\u001b[34m\u001b[1mwandb\u001b[0m: \tactivation: relu\n",
            "\u001b[34m\u001b[1mwandb\u001b[0m: \tbatch_norm: False\n",
            "\u001b[34m\u001b[1mwandb\u001b[0m: \tconv_layers: 5\n",
            "\u001b[34m\u001b[1mwandb\u001b[0m: \tdata_aug: False\n",
            "\u001b[34m\u001b[1mwandb\u001b[0m: \tdense_size: 32\n",
            "\u001b[34m\u001b[1mwandb\u001b[0m: \tdropout: 0.3\n",
            "\u001b[34m\u001b[1mwandb\u001b[0m: \tfilter_org: 0.5\n",
            "\u001b[34m\u001b[1mwandb\u001b[0m: \tfirst_layer_filters: 32\n",
            "\u001b[34m\u001b[1mwandb\u001b[0m: \tkernel_size: 3\n",
            "\u001b[34m\u001b[1mwandb\u001b[0m: \tnum_epochs: 10\n",
            "\u001b[34m\u001b[1mwandb\u001b[0m: \toptimizer: adam\n"
          ]
        },
        {
          "output_type": "display_data",
          "data": {
            "text/plain": [
              "<IPython.core.display.HTML object>"
            ],
            "text/html": [
              "Tracking run with wandb version 0.12.14"
            ]
          },
          "metadata": {}
        },
        {
          "output_type": "display_data",
          "data": {
            "text/plain": [
              "<IPython.core.display.HTML object>"
            ],
            "text/html": [
              "Run data is saved locally in <code>/content/wandb/run-20220409_135620-jthlbyac</code>"
            ]
          },
          "metadata": {}
        },
        {
          "output_type": "display_data",
          "data": {
            "text/plain": [
              "<IPython.core.display.HTML object>"
            ],
            "text/html": [
              "Syncing run <strong><a href=\"https://wandb.ai/jayant3000/Final_PC_on_fire/runs/jthlbyac\" target=\"_blank\">pleasant-sweep-6</a></strong> to <a href=\"https://wandb.ai/jayant3000/Final_PC_on_fire\" target=\"_blank\">Weights & Biases</a> (<a href=\"https://wandb.me/run\" target=\"_blank\">docs</a>)<br/>Sweep page:  <a href=\"https://wandb.ai/jayant3000/Final_PC_on_fire/sweeps/flv85syf\" target=\"_blank\">https://wandb.ai/jayant3000/Final_PC_on_fire/sweeps/flv85syf</a>"
            ]
          },
          "metadata": {}
        },
        {
          "output_type": "display_data",
          "data": {
            "text/plain": [
              "<IPython.core.display.HTML object>"
            ],
            "text/html": [
              "Finishing last run (ID:jthlbyac) before initializing another..."
            ]
          },
          "metadata": {}
        },
        {
          "output_type": "stream",
          "name": "stdout",
          "text": [
            "\n"
          ]
        },
        {
          "output_type": "display_data",
          "data": {
            "text/plain": [
              "<IPython.core.display.HTML object>"
            ],
            "text/html": [
              "Waiting for W&B process to finish... <strong style=\"color:green\">(success).</strong>"
            ]
          },
          "metadata": {}
        },
        {
          "output_type": "display_data",
          "data": {
            "text/plain": [
              "VBox(children=(Label(value='0.001 MB of 0.001 MB uploaded (0.000 MB deduped)\\r'), FloatProgress(value=1.0, max…"
            ],
            "application/vnd.jupyter.widget-view+json": {
              "version_major": 2,
              "version_minor": 0,
              "model_id": "21eb25a5b8db4a2cb81610dce096e82a"
            }
          },
          "metadata": {}
        },
        {
          "output_type": "display_data",
          "data": {
            "text/plain": [
              "<IPython.core.display.HTML object>"
            ],
            "text/html": [
              "Synced <strong style=\"color:#cdcd00\">pleasant-sweep-6</strong>: <a href=\"https://wandb.ai/jayant3000/Final_PC_on_fire/runs/jthlbyac\" target=\"_blank\">https://wandb.ai/jayant3000/Final_PC_on_fire/runs/jthlbyac</a><br/>Synced 4 W&B file(s), 0 media file(s), 0 artifact file(s) and 0 other file(s)"
            ]
          },
          "metadata": {}
        },
        {
          "output_type": "display_data",
          "data": {
            "text/plain": [
              "<IPython.core.display.HTML object>"
            ],
            "text/html": [
              "Find logs at: <code>./wandb/run-20220409_135620-jthlbyac/logs</code>"
            ]
          },
          "metadata": {}
        },
        {
          "output_type": "display_data",
          "data": {
            "text/plain": [
              "<IPython.core.display.HTML object>"
            ],
            "text/html": [
              "Successfully finished last run (ID:jthlbyac). Initializing new run:<br/>"
            ]
          },
          "metadata": {}
        },
        {
          "output_type": "display_data",
          "data": {
            "text/plain": [
              "<IPython.core.display.HTML object>"
            ],
            "text/html": [
              "Tracking run with wandb version 0.12.14"
            ]
          },
          "metadata": {}
        },
        {
          "output_type": "display_data",
          "data": {
            "text/plain": [
              "<IPython.core.display.HTML object>"
            ],
            "text/html": [
              "Run data is saved locally in <code>/content/wandb/run-20220409_135626-jthlbyac</code>"
            ]
          },
          "metadata": {}
        },
        {
          "output_type": "display_data",
          "data": {
            "text/plain": [
              "<IPython.core.display.HTML object>"
            ],
            "text/html": [
              "Syncing run <strong><a href=\"https://wandb.ai/jayant3000/Final_PC_on_fire/runs/jthlbyac\" target=\"_blank\">pleasant-sweep-6</a></strong> to <a href=\"https://wandb.ai/jayant3000/Final_PC_on_fire\" target=\"_blank\">Weights & Biases</a> (<a href=\"https://wandb.me/run\" target=\"_blank\">docs</a>)<br/>Sweep page:  <a href=\"https://wandb.ai/jayant3000/Final_PC_on_fire/sweeps/flv85syf\" target=\"_blank\">https://wandb.ai/jayant3000/Final_PC_on_fire/sweeps/flv85syf</a>"
            ]
          },
          "metadata": {}
        },
        {
          "output_type": "stream",
          "name": "stdout",
          "text": [
            "Epoch 1/10\n",
            "25/25 [==============================] - 11s 358ms/step - loss: 2.3058 - acc: 0.0775 - val_loss: 2.3024 - val_acc: 0.0938 - _timestamp: 1649512609.0000 - _runtime: 18.0000\n",
            "Epoch 2/10\n",
            "25/25 [==============================] - 10s 348ms/step - loss: 2.3019 - acc: 0.1200 - val_loss: 2.2977 - val_acc: 0.1562 - _timestamp: 1649512619.0000 - _runtime: 28.0000\n",
            "Epoch 3/10\n",
            "25/25 [==============================] - 10s 348ms/step - loss: 2.3007 - acc: 0.1075 - val_loss: 2.2970 - val_acc: 0.0625 - _timestamp: 1649512639.0000 - _runtime: 48.0000\n",
            "Epoch 4/10\n",
            "25/25 [==============================] - 10s 344ms/step - loss: 2.2977 - acc: 0.1200 - val_loss: 2.3091 - val_acc: 0.0938 - _timestamp: 1649512650.0000 - _runtime: 59.0000\n",
            "Epoch 5/10\n",
            "25/25 [==============================] - 10s 346ms/step - loss: 2.2910 - acc: 0.1163 - val_loss: 2.2961 - val_acc: 0.0938 - _timestamp: 1649512670.0000 - _runtime: 79.0000\n",
            "Epoch 6/10\n",
            "25/25 [==============================] - 10s 347ms/step - loss: 2.2844 - acc: 0.1250 - val_loss: 2.2886 - val_acc: 0.0938 - _timestamp: 1649512681.0000 - _runtime: 90.0000\n",
            "Epoch 7/10\n",
            "25/25 [==============================] - 10s 345ms/step - loss: 2.2796 - acc: 0.1412 - val_loss: 2.3030 - val_acc: 0.0625 - _timestamp: 1649512701.0000 - _runtime: 110.0000\n"
          ]
        },
        {
          "output_type": "stream",
          "name": "stderr",
          "text": [
            "\u001b[34m\u001b[1mwandb\u001b[0m: Agent Starting Run: ff2jj2t7 with config:\n",
            "\u001b[34m\u001b[1mwandb\u001b[0m: \tactivation: relu\n",
            "\u001b[34m\u001b[1mwandb\u001b[0m: \tbatch_norm: False\n",
            "\u001b[34m\u001b[1mwandb\u001b[0m: \tconv_layers: 5\n",
            "\u001b[34m\u001b[1mwandb\u001b[0m: \tdata_aug: False\n",
            "\u001b[34m\u001b[1mwandb\u001b[0m: \tdense_size: 32\n",
            "\u001b[34m\u001b[1mwandb\u001b[0m: \tdropout: 0.3\n",
            "\u001b[34m\u001b[1mwandb\u001b[0m: \tfilter_org: 2\n",
            "\u001b[34m\u001b[1mwandb\u001b[0m: \tfirst_layer_filters: 32\n",
            "\u001b[34m\u001b[1mwandb\u001b[0m: \tkernel_size: 3\n",
            "\u001b[34m\u001b[1mwandb\u001b[0m: \tnum_epochs: 10\n",
            "\u001b[34m\u001b[1mwandb\u001b[0m: \toptimizer: adam\n"
          ]
        },
        {
          "output_type": "display_data",
          "data": {
            "text/plain": [
              "<IPython.core.display.HTML object>"
            ],
            "text/html": [
              "Tracking run with wandb version 0.12.14"
            ]
          },
          "metadata": {}
        },
        {
          "output_type": "display_data",
          "data": {
            "text/plain": [
              "<IPython.core.display.HTML object>"
            ],
            "text/html": [
              "Run data is saved locally in <code>/content/wandb/run-20220409_135834-ff2jj2t7</code>"
            ]
          },
          "metadata": {}
        },
        {
          "output_type": "display_data",
          "data": {
            "text/plain": [
              "<IPython.core.display.HTML object>"
            ],
            "text/html": [
              "Syncing run <strong><a href=\"https://wandb.ai/jayant3000/Final_PC_on_fire/runs/ff2jj2t7\" target=\"_blank\">driven-sweep-7</a></strong> to <a href=\"https://wandb.ai/jayant3000/Final_PC_on_fire\" target=\"_blank\">Weights & Biases</a> (<a href=\"https://wandb.me/run\" target=\"_blank\">docs</a>)<br/>Sweep page:  <a href=\"https://wandb.ai/jayant3000/Final_PC_on_fire/sweeps/flv85syf\" target=\"_blank\">https://wandb.ai/jayant3000/Final_PC_on_fire/sweeps/flv85syf</a>"
            ]
          },
          "metadata": {}
        },
        {
          "output_type": "display_data",
          "data": {
            "text/plain": [
              "<IPython.core.display.HTML object>"
            ],
            "text/html": [
              "Finishing last run (ID:ff2jj2t7) before initializing another..."
            ]
          },
          "metadata": {}
        },
        {
          "output_type": "stream",
          "name": "stdout",
          "text": [
            "\n"
          ]
        },
        {
          "output_type": "display_data",
          "data": {
            "text/plain": [
              "<IPython.core.display.HTML object>"
            ],
            "text/html": [
              "Waiting for W&B process to finish... <strong style=\"color:green\">(success).</strong>"
            ]
          },
          "metadata": {}
        },
        {
          "output_type": "display_data",
          "data": {
            "text/plain": [
              "VBox(children=(Label(value='0.001 MB of 0.001 MB uploaded (0.000 MB deduped)\\r'), FloatProgress(value=1.0, max…"
            ],
            "application/vnd.jupyter.widget-view+json": {
              "version_major": 2,
              "version_minor": 0,
              "model_id": "78300ea952b5465d98e46da0df62c901"
            }
          },
          "metadata": {}
        },
        {
          "output_type": "display_data",
          "data": {
            "text/plain": [
              "<IPython.core.display.HTML object>"
            ],
            "text/html": [
              "Synced <strong style=\"color:#cdcd00\">driven-sweep-7</strong>: <a href=\"https://wandb.ai/jayant3000/Final_PC_on_fire/runs/ff2jj2t7\" target=\"_blank\">https://wandb.ai/jayant3000/Final_PC_on_fire/runs/ff2jj2t7</a><br/>Synced 4 W&B file(s), 0 media file(s), 0 artifact file(s) and 0 other file(s)"
            ]
          },
          "metadata": {}
        },
        {
          "output_type": "display_data",
          "data": {
            "text/plain": [
              "<IPython.core.display.HTML object>"
            ],
            "text/html": [
              "Find logs at: <code>./wandb/run-20220409_135834-ff2jj2t7/logs</code>"
            ]
          },
          "metadata": {}
        },
        {
          "output_type": "display_data",
          "data": {
            "text/plain": [
              "<IPython.core.display.HTML object>"
            ],
            "text/html": [
              "Successfully finished last run (ID:ff2jj2t7). Initializing new run:<br/>"
            ]
          },
          "metadata": {}
        },
        {
          "output_type": "display_data",
          "data": {
            "text/plain": [
              "<IPython.core.display.HTML object>"
            ],
            "text/html": [
              "Tracking run with wandb version 0.12.14"
            ]
          },
          "metadata": {}
        },
        {
          "output_type": "display_data",
          "data": {
            "text/plain": [
              "<IPython.core.display.HTML object>"
            ],
            "text/html": [
              "Run data is saved locally in <code>/content/wandb/run-20220409_135841-ff2jj2t7</code>"
            ]
          },
          "metadata": {}
        },
        {
          "output_type": "display_data",
          "data": {
            "text/plain": [
              "<IPython.core.display.HTML object>"
            ],
            "text/html": [
              "Syncing run <strong><a href=\"https://wandb.ai/jayant3000/Final_PC_on_fire/runs/ff2jj2t7\" target=\"_blank\">driven-sweep-7</a></strong> to <a href=\"https://wandb.ai/jayant3000/Final_PC_on_fire\" target=\"_blank\">Weights & Biases</a> (<a href=\"https://wandb.me/run\" target=\"_blank\">docs</a>)<br/>Sweep page:  <a href=\"https://wandb.ai/jayant3000/Final_PC_on_fire/sweeps/flv85syf\" target=\"_blank\">https://wandb.ai/jayant3000/Final_PC_on_fire/sweeps/flv85syf</a>"
            ]
          },
          "metadata": {}
        },
        {
          "output_type": "stream",
          "name": "stdout",
          "text": [
            "Epoch 1/10\n",
            "25/25 [==============================] - 12s 380ms/step - loss: 2.3166 - acc: 0.0925 - val_loss: 2.3007 - val_acc: 0.1875 - _timestamp: 1649512743.0000 - _runtime: 18.0000\n",
            "Epoch 2/10\n",
            "25/25 [==============================] - 11s 365ms/step - loss: 2.3025 - acc: 0.0862 - val_loss: 2.3015 - val_acc: 0.1250 - _timestamp: 1649512754.0000 - _runtime: 29.0000\n",
            "Epoch 3/10\n",
            "25/25 [==============================] - 11s 365ms/step - loss: 2.3013 - acc: 0.1150 - val_loss: 2.3017 - val_acc: 0.1875 - _timestamp: 1649512775.0000 - _runtime: 50.0000\n",
            "Epoch 4/10\n",
            "25/25 [==============================] - 11s 362ms/step - loss: 2.3021 - acc: 0.1112 - val_loss: 2.3014 - val_acc: 0.2188 - _timestamp: 1649512786.0000 - _runtime: 61.0000\n",
            "Epoch 5/10\n",
            "25/25 [==============================] - 11s 360ms/step - loss: 2.3009 - acc: 0.1013 - val_loss: 2.3093 - val_acc: 0.0625 - _timestamp: 1649512796.0000 - _runtime: 71.0000\n",
            "Epoch 6/10\n",
            "25/25 [==============================] - 11s 368ms/step - loss: 2.3018 - acc: 0.0975 - val_loss: 2.3098 - val_acc: 0.0625 - _timestamp: 1649512807.0000 - _runtime: 82.0000\n",
            "Epoch 7/10\n",
            "25/25 [==============================] - 11s 363ms/step - loss: 2.3025 - acc: 0.1063 - val_loss: 2.2993 - val_acc: 0.0938 - _timestamp: 1649512818.0000 - _runtime: 93.0000\n",
            "Epoch 8/10\n",
            "25/25 [==============================] - 11s 363ms/step - loss: 2.3008 - acc: 0.1112 - val_loss: 2.3007 - val_acc: 0.1250 - _timestamp: 1649512839.0000 - _runtime: 114.0000\n",
            "Epoch 9/10\n",
            "25/25 [==============================] - 11s 358ms/step - loss: 2.3012 - acc: 0.1037 - val_loss: 2.3223 - val_acc: 0.0312 - _timestamp: 1649512849.0000 - _runtime: 124.0000\n"
          ]
        },
        {
          "output_type": "stream",
          "name": "stderr",
          "text": [
            "\u001b[34m\u001b[1mwandb\u001b[0m: Agent Starting Run: cbjxacd8 with config:\n",
            "\u001b[34m\u001b[1mwandb\u001b[0m: \tactivation: relu\n",
            "\u001b[34m\u001b[1mwandb\u001b[0m: \tbatch_norm: False\n",
            "\u001b[34m\u001b[1mwandb\u001b[0m: \tconv_layers: 5\n",
            "\u001b[34m\u001b[1mwandb\u001b[0m: \tdata_aug: True\n",
            "\u001b[34m\u001b[1mwandb\u001b[0m: \tdense_size: 32\n",
            "\u001b[34m\u001b[1mwandb\u001b[0m: \tdropout: 0.3\n",
            "\u001b[34m\u001b[1mwandb\u001b[0m: \tfilter_org: 1\n",
            "\u001b[34m\u001b[1mwandb\u001b[0m: \tfirst_layer_filters: 32\n",
            "\u001b[34m\u001b[1mwandb\u001b[0m: \tkernel_size: 3\n",
            "\u001b[34m\u001b[1mwandb\u001b[0m: \tnum_epochs: 10\n",
            "\u001b[34m\u001b[1mwandb\u001b[0m: \toptimizer: adam\n"
          ]
        },
        {
          "output_type": "display_data",
          "data": {
            "text/plain": [
              "<IPython.core.display.HTML object>"
            ],
            "text/html": [
              "Tracking run with wandb version 0.12.14"
            ]
          },
          "metadata": {}
        },
        {
          "output_type": "display_data",
          "data": {
            "text/plain": [
              "<IPython.core.display.HTML object>"
            ],
            "text/html": [
              "Run data is saved locally in <code>/content/wandb/run-20220409_140057-cbjxacd8</code>"
            ]
          },
          "metadata": {}
        },
        {
          "output_type": "display_data",
          "data": {
            "text/plain": [
              "<IPython.core.display.HTML object>"
            ],
            "text/html": [
              "Syncing run <strong><a href=\"https://wandb.ai/jayant3000/Final_PC_on_fire/runs/cbjxacd8\" target=\"_blank\">clean-sweep-8</a></strong> to <a href=\"https://wandb.ai/jayant3000/Final_PC_on_fire\" target=\"_blank\">Weights & Biases</a> (<a href=\"https://wandb.me/run\" target=\"_blank\">docs</a>)<br/>Sweep page:  <a href=\"https://wandb.ai/jayant3000/Final_PC_on_fire/sweeps/flv85syf\" target=\"_blank\">https://wandb.ai/jayant3000/Final_PC_on_fire/sweeps/flv85syf</a>"
            ]
          },
          "metadata": {}
        },
        {
          "output_type": "display_data",
          "data": {
            "text/plain": [
              "<IPython.core.display.HTML object>"
            ],
            "text/html": [
              "Finishing last run (ID:cbjxacd8) before initializing another..."
            ]
          },
          "metadata": {}
        },
        {
          "output_type": "stream",
          "name": "stdout",
          "text": [
            "\n"
          ]
        },
        {
          "output_type": "display_data",
          "data": {
            "text/plain": [
              "<IPython.core.display.HTML object>"
            ],
            "text/html": [
              "Waiting for W&B process to finish... <strong style=\"color:green\">(success).</strong>"
            ]
          },
          "metadata": {}
        },
        {
          "output_type": "display_data",
          "data": {
            "text/plain": [
              "VBox(children=(Label(value='0.001 MB of 0.001 MB uploaded (0.000 MB deduped)\\r'), FloatProgress(value=1.0, max…"
            ],
            "application/vnd.jupyter.widget-view+json": {
              "version_major": 2,
              "version_minor": 0,
              "model_id": "ae0413c80ee2421b93c92238f3c189d0"
            }
          },
          "metadata": {}
        },
        {
          "output_type": "display_data",
          "data": {
            "text/plain": [
              "<IPython.core.display.HTML object>"
            ],
            "text/html": [
              "Synced <strong style=\"color:#cdcd00\">clean-sweep-8</strong>: <a href=\"https://wandb.ai/jayant3000/Final_PC_on_fire/runs/cbjxacd8\" target=\"_blank\">https://wandb.ai/jayant3000/Final_PC_on_fire/runs/cbjxacd8</a><br/>Synced 4 W&B file(s), 0 media file(s), 0 artifact file(s) and 0 other file(s)"
            ]
          },
          "metadata": {}
        },
        {
          "output_type": "display_data",
          "data": {
            "text/plain": [
              "<IPython.core.display.HTML object>"
            ],
            "text/html": [
              "Find logs at: <code>./wandb/run-20220409_140057-cbjxacd8/logs</code>"
            ]
          },
          "metadata": {}
        },
        {
          "output_type": "display_data",
          "data": {
            "text/plain": [
              "<IPython.core.display.HTML object>"
            ],
            "text/html": [
              "Successfully finished last run (ID:cbjxacd8). Initializing new run:<br/>"
            ]
          },
          "metadata": {}
        },
        {
          "output_type": "display_data",
          "data": {
            "text/plain": [
              "<IPython.core.display.HTML object>"
            ],
            "text/html": [
              "Tracking run with wandb version 0.12.14"
            ]
          },
          "metadata": {}
        },
        {
          "output_type": "display_data",
          "data": {
            "text/plain": [
              "<IPython.core.display.HTML object>"
            ],
            "text/html": [
              "Run data is saved locally in <code>/content/wandb/run-20220409_140103-cbjxacd8</code>"
            ]
          },
          "metadata": {}
        },
        {
          "output_type": "display_data",
          "data": {
            "text/plain": [
              "<IPython.core.display.HTML object>"
            ],
            "text/html": [
              "Syncing run <strong><a href=\"https://wandb.ai/jayant3000/Final_PC_on_fire/runs/cbjxacd8\" target=\"_blank\">clean-sweep-8</a></strong> to <a href=\"https://wandb.ai/jayant3000/Final_PC_on_fire\" target=\"_blank\">Weights & Biases</a> (<a href=\"https://wandb.me/run\" target=\"_blank\">docs</a>)<br/>Sweep page:  <a href=\"https://wandb.ai/jayant3000/Final_PC_on_fire/sweeps/flv85syf\" target=\"_blank\">https://wandb.ai/jayant3000/Final_PC_on_fire/sweeps/flv85syf</a>"
            ]
          },
          "metadata": {}
        },
        {
          "output_type": "stream",
          "name": "stdout",
          "text": [
            "Epoch 1/10\n",
            "25/25 [==============================] - 12s 363ms/step - loss: 2.3075 - acc: 0.1112 - val_loss: 2.3021 - val_acc: 0.0938 - _timestamp: 1649512887.0000 - _runtime: 18.0000\n",
            "Epoch 2/10\n",
            "25/25 [==============================] - 11s 359ms/step - loss: 2.3026 - acc: 0.1138 - val_loss: 2.3023 - val_acc: 0.0938 - _timestamp: 1649512907.0000 - _runtime: 38.0000\n",
            "Epoch 3/10\n",
            "25/25 [==============================] - 11s 360ms/step - loss: 2.3021 - acc: 0.1037 - val_loss: 2.2980 - val_acc: 0.1875 - _timestamp: 1649512918.0000 - _runtime: 49.0000\n",
            "Epoch 4/10\n",
            "25/25 [==============================] - 11s 355ms/step - loss: 2.3015 - acc: 0.1025 - val_loss: 2.3010 - val_acc: 0.0312 - _timestamp: 1649512938.0000 - _runtime: 69.0000\n",
            "Epoch 5/10\n",
            "25/25 [==============================] - 11s 357ms/step - loss: 2.3005 - acc: 0.1325 - val_loss: 2.3048 - val_acc: 0.1250 - _timestamp: 1649512949.0000 - _runtime: 80.0000\n",
            "Epoch 6/10\n",
            "25/25 [==============================] - 11s 358ms/step - loss: 2.2970 - acc: 0.1150 - val_loss: 2.2901 - val_acc: 0.1875 - _timestamp: 1649512959.0000 - _runtime: 90.0000\n",
            "Epoch 7/10\n",
            "25/25 [==============================] - 11s 358ms/step - loss: 2.2959 - acc: 0.1338 - val_loss: 2.2738 - val_acc: 0.1250 - _timestamp: 1649512970.0000 - _runtime: 101.0000\n",
            "Epoch 8/10\n",
            "25/25 [==============================] - 11s 356ms/step - loss: 2.2733 - acc: 0.1400 - val_loss: 2.3036 - val_acc: 0.0625 - _timestamp: 1649512991.0000 - _runtime: 122.0000\n"
          ]
        },
        {
          "output_type": "stream",
          "name": "stderr",
          "text": [
            "\u001b[34m\u001b[1mwandb\u001b[0m: Agent Starting Run: n7tr6ti9 with config:\n",
            "\u001b[34m\u001b[1mwandb\u001b[0m: \tactivation: relu\n",
            "\u001b[34m\u001b[1mwandb\u001b[0m: \tbatch_norm: False\n",
            "\u001b[34m\u001b[1mwandb\u001b[0m: \tconv_layers: 5\n",
            "\u001b[34m\u001b[1mwandb\u001b[0m: \tdata_aug: True\n",
            "\u001b[34m\u001b[1mwandb\u001b[0m: \tdense_size: 32\n",
            "\u001b[34m\u001b[1mwandb\u001b[0m: \tdropout: 0.2\n",
            "\u001b[34m\u001b[1mwandb\u001b[0m: \tfilter_org: 2\n",
            "\u001b[34m\u001b[1mwandb\u001b[0m: \tfirst_layer_filters: 64\n",
            "\u001b[34m\u001b[1mwandb\u001b[0m: \tkernel_size: 3\n",
            "\u001b[34m\u001b[1mwandb\u001b[0m: \tnum_epochs: 10\n",
            "\u001b[34m\u001b[1mwandb\u001b[0m: \toptimizer: adam\n"
          ]
        },
        {
          "output_type": "display_data",
          "data": {
            "text/plain": [
              "<IPython.core.display.HTML object>"
            ],
            "text/html": [
              "Tracking run with wandb version 0.12.14"
            ]
          },
          "metadata": {}
        },
        {
          "output_type": "display_data",
          "data": {
            "text/plain": [
              "<IPython.core.display.HTML object>"
            ],
            "text/html": [
              "Run data is saved locally in <code>/content/wandb/run-20220409_140323-n7tr6ti9</code>"
            ]
          },
          "metadata": {}
        },
        {
          "output_type": "display_data",
          "data": {
            "text/plain": [
              "<IPython.core.display.HTML object>"
            ],
            "text/html": [
              "Syncing run <strong><a href=\"https://wandb.ai/jayant3000/Final_PC_on_fire/runs/n7tr6ti9\" target=\"_blank\">kind-sweep-9</a></strong> to <a href=\"https://wandb.ai/jayant3000/Final_PC_on_fire\" target=\"_blank\">Weights & Biases</a> (<a href=\"https://wandb.me/run\" target=\"_blank\">docs</a>)<br/>Sweep page:  <a href=\"https://wandb.ai/jayant3000/Final_PC_on_fire/sweeps/flv85syf\" target=\"_blank\">https://wandb.ai/jayant3000/Final_PC_on_fire/sweeps/flv85syf</a>"
            ]
          },
          "metadata": {}
        },
        {
          "output_type": "display_data",
          "data": {
            "text/plain": [
              "<IPython.core.display.HTML object>"
            ],
            "text/html": [
              "Finishing last run (ID:n7tr6ti9) before initializing another..."
            ]
          },
          "metadata": {}
        },
        {
          "output_type": "stream",
          "name": "stdout",
          "text": [
            "\n"
          ]
        },
        {
          "output_type": "display_data",
          "data": {
            "text/plain": [
              "<IPython.core.display.HTML object>"
            ],
            "text/html": [
              "Waiting for W&B process to finish... <strong style=\"color:green\">(success).</strong>"
            ]
          },
          "metadata": {}
        },
        {
          "output_type": "display_data",
          "data": {
            "text/plain": [
              "VBox(children=(Label(value='0.001 MB of 0.001 MB uploaded (0.000 MB deduped)\\r'), FloatProgress(value=1.0, max…"
            ],
            "application/vnd.jupyter.widget-view+json": {
              "version_major": 2,
              "version_minor": 0,
              "model_id": "75646c1369b34c24b6448459f39831dd"
            }
          },
          "metadata": {}
        },
        {
          "output_type": "display_data",
          "data": {
            "text/plain": [
              "<IPython.core.display.HTML object>"
            ],
            "text/html": [
              "Synced <strong style=\"color:#cdcd00\">kind-sweep-9</strong>: <a href=\"https://wandb.ai/jayant3000/Final_PC_on_fire/runs/n7tr6ti9\" target=\"_blank\">https://wandb.ai/jayant3000/Final_PC_on_fire/runs/n7tr6ti9</a><br/>Synced 4 W&B file(s), 0 media file(s), 0 artifact file(s) and 0 other file(s)"
            ]
          },
          "metadata": {}
        },
        {
          "output_type": "display_data",
          "data": {
            "text/plain": [
              "<IPython.core.display.HTML object>"
            ],
            "text/html": [
              "Find logs at: <code>./wandb/run-20220409_140323-n7tr6ti9/logs</code>"
            ]
          },
          "metadata": {}
        },
        {
          "output_type": "display_data",
          "data": {
            "text/plain": [
              "<IPython.core.display.HTML object>"
            ],
            "text/html": [
              "Successfully finished last run (ID:n7tr6ti9). Initializing new run:<br/>"
            ]
          },
          "metadata": {}
        },
        {
          "output_type": "display_data",
          "data": {
            "text/plain": [
              "<IPython.core.display.HTML object>"
            ],
            "text/html": [
              "Tracking run with wandb version 0.12.14"
            ]
          },
          "metadata": {}
        },
        {
          "output_type": "display_data",
          "data": {
            "text/plain": [
              "<IPython.core.display.HTML object>"
            ],
            "text/html": [
              "Run data is saved locally in <code>/content/wandb/run-20220409_140330-n7tr6ti9</code>"
            ]
          },
          "metadata": {}
        },
        {
          "output_type": "display_data",
          "data": {
            "text/plain": [
              "<IPython.core.display.HTML object>"
            ],
            "text/html": [
              "Syncing run <strong><a href=\"https://wandb.ai/jayant3000/Final_PC_on_fire/runs/n7tr6ti9\" target=\"_blank\">kind-sweep-9</a></strong> to <a href=\"https://wandb.ai/jayant3000/Final_PC_on_fire\" target=\"_blank\">Weights & Biases</a> (<a href=\"https://wandb.me/run\" target=\"_blank\">docs</a>)<br/>Sweep page:  <a href=\"https://wandb.ai/jayant3000/Final_PC_on_fire/sweeps/flv85syf\" target=\"_blank\">https://wandb.ai/jayant3000/Final_PC_on_fire/sweeps/flv85syf</a>"
            ]
          },
          "metadata": {}
        },
        {
          "output_type": "stream",
          "name": "stdout",
          "text": [
            "Epoch 1/10\n",
            "25/25 [==============================] - 17s 479ms/step - loss: 2.3231 - acc: 0.1063 - val_loss: 2.3032 - val_acc: 0.0312 - _timestamp: 1649513038.0000 - _runtime: 23.0000\n",
            "Epoch 2/10\n",
            "25/25 [==============================] - 13s 454ms/step - loss: 2.3023 - acc: 0.1125 - val_loss: 2.3028 - val_acc: 0.1250 - _timestamp: 1649513056.0000 - _runtime: 41.0000\n",
            "Epoch 3/10\n",
            "25/25 [==============================] - 13s 454ms/step - loss: 2.3019 - acc: 0.1075 - val_loss: 2.2995 - val_acc: 0.1562 - _timestamp: 1649513069.0000 - _runtime: 54.0000\n",
            "Epoch 4/10\n",
            "25/25 [==============================] - 13s 456ms/step - loss: 2.3046 - acc: 0.1000 - val_loss: 2.2990 - val_acc: 0.0625 - _timestamp: 1649513089.0000 - _runtime: 74.0000\n",
            "Epoch 5/10\n",
            "25/25 [==============================] - 13s 446ms/step - loss: 2.3027 - acc: 0.0913 - val_loss: 2.2990 - val_acc: 0.1250 - _timestamp: 1649513103.0000 - _runtime: 88.0000\n",
            "Epoch 6/10\n",
            "25/25 [==============================] - 13s 447ms/step - loss: 2.3010 - acc: 0.1125 - val_loss: 2.3123 - val_acc: 0.0000e+00 - _timestamp: 1649513123.0000 - _runtime: 108.0000\n",
            "Epoch 7/10\n",
            "25/25 [==============================] - 13s 446ms/step - loss: 2.3009 - acc: 0.1025 - val_loss: 2.2991 - val_acc: 0.0312 - _timestamp: 1649513144.0000 - _runtime: 129.0000\n",
            "Epoch 8/10\n",
            "25/25 [==============================] - 13s 448ms/step - loss: 2.3009 - acc: 0.1262 - val_loss: 2.3204 - val_acc: 0.0312 - _timestamp: 1649513157.0000 - _runtime: 142.0000\n"
          ]
        },
        {
          "output_type": "stream",
          "name": "stderr",
          "text": [
            "\u001b[34m\u001b[1mwandb\u001b[0m: Sweep Agent: Waiting for job.\n",
            "\u001b[34m\u001b[1mwandb\u001b[0m: Job received.\n",
            "\u001b[34m\u001b[1mwandb\u001b[0m: Agent Starting Run: ekwu0qg2 with config:\n",
            "\u001b[34m\u001b[1mwandb\u001b[0m: \tactivation: relu\n",
            "\u001b[34m\u001b[1mwandb\u001b[0m: \tbatch_norm: True\n",
            "\u001b[34m\u001b[1mwandb\u001b[0m: \tconv_layers: 5\n",
            "\u001b[34m\u001b[1mwandb\u001b[0m: \tdata_aug: True\n",
            "\u001b[34m\u001b[1mwandb\u001b[0m: \tdense_size: 32\n",
            "\u001b[34m\u001b[1mwandb\u001b[0m: \tdropout: 0.3\n",
            "\u001b[34m\u001b[1mwandb\u001b[0m: \tfilter_org: 0.5\n",
            "\u001b[34m\u001b[1mwandb\u001b[0m: \tfirst_layer_filters: 64\n",
            "\u001b[34m\u001b[1mwandb\u001b[0m: \tkernel_size: 3\n",
            "\u001b[34m\u001b[1mwandb\u001b[0m: \tnum_epochs: 10\n",
            "\u001b[34m\u001b[1mwandb\u001b[0m: \toptimizer: adam\n"
          ]
        },
        {
          "output_type": "display_data",
          "data": {
            "text/plain": [
              "<IPython.core.display.HTML object>"
            ],
            "text/html": [
              "Tracking run with wandb version 0.12.14"
            ]
          },
          "metadata": {}
        },
        {
          "output_type": "display_data",
          "data": {
            "text/plain": [
              "<IPython.core.display.HTML object>"
            ],
            "text/html": [
              "Run data is saved locally in <code>/content/wandb/run-20220409_140610-ekwu0qg2</code>"
            ]
          },
          "metadata": {}
        },
        {
          "output_type": "display_data",
          "data": {
            "text/plain": [
              "<IPython.core.display.HTML object>"
            ],
            "text/html": [
              "Syncing run <strong><a href=\"https://wandb.ai/jayant3000/Final_PC_on_fire/runs/ekwu0qg2\" target=\"_blank\">fresh-sweep-10</a></strong> to <a href=\"https://wandb.ai/jayant3000/Final_PC_on_fire\" target=\"_blank\">Weights & Biases</a> (<a href=\"https://wandb.me/run\" target=\"_blank\">docs</a>)<br/>Sweep page:  <a href=\"https://wandb.ai/jayant3000/Final_PC_on_fire/sweeps/flv85syf\" target=\"_blank\">https://wandb.ai/jayant3000/Final_PC_on_fire/sweeps/flv85syf</a>"
            ]
          },
          "metadata": {}
        },
        {
          "output_type": "display_data",
          "data": {
            "text/plain": [
              "<IPython.core.display.HTML object>"
            ],
            "text/html": [
              "Finishing last run (ID:ekwu0qg2) before initializing another..."
            ]
          },
          "metadata": {}
        },
        {
          "output_type": "stream",
          "name": "stdout",
          "text": [
            "\n"
          ]
        },
        {
          "output_type": "display_data",
          "data": {
            "text/plain": [
              "<IPython.core.display.HTML object>"
            ],
            "text/html": [
              "Waiting for W&B process to finish... <strong style=\"color:green\">(success).</strong>"
            ]
          },
          "metadata": {}
        },
        {
          "output_type": "display_data",
          "data": {
            "text/plain": [
              "VBox(children=(Label(value='0.001 MB of 0.001 MB uploaded (0.000 MB deduped)\\r'), FloatProgress(value=1.0, max…"
            ],
            "application/vnd.jupyter.widget-view+json": {
              "version_major": 2,
              "version_minor": 0,
              "model_id": "929d66999cad49fc92768f5170aee9cf"
            }
          },
          "metadata": {}
        },
        {
          "output_type": "display_data",
          "data": {
            "text/plain": [
              "<IPython.core.display.HTML object>"
            ],
            "text/html": [
              "Synced <strong style=\"color:#cdcd00\">fresh-sweep-10</strong>: <a href=\"https://wandb.ai/jayant3000/Final_PC_on_fire/runs/ekwu0qg2\" target=\"_blank\">https://wandb.ai/jayant3000/Final_PC_on_fire/runs/ekwu0qg2</a><br/>Synced 4 W&B file(s), 0 media file(s), 0 artifact file(s) and 0 other file(s)"
            ]
          },
          "metadata": {}
        },
        {
          "output_type": "display_data",
          "data": {
            "text/plain": [
              "<IPython.core.display.HTML object>"
            ],
            "text/html": [
              "Find logs at: <code>./wandb/run-20220409_140610-ekwu0qg2/logs</code>"
            ]
          },
          "metadata": {}
        },
        {
          "output_type": "display_data",
          "data": {
            "text/plain": [
              "<IPython.core.display.HTML object>"
            ],
            "text/html": [
              "Successfully finished last run (ID:ekwu0qg2). Initializing new run:<br/>"
            ]
          },
          "metadata": {}
        },
        {
          "output_type": "display_data",
          "data": {
            "text/plain": [
              "<IPython.core.display.HTML object>"
            ],
            "text/html": [
              "Tracking run with wandb version 0.12.14"
            ]
          },
          "metadata": {}
        },
        {
          "output_type": "display_data",
          "data": {
            "text/plain": [
              "<IPython.core.display.HTML object>"
            ],
            "text/html": [
              "Run data is saved locally in <code>/content/wandb/run-20220409_140617-ekwu0qg2</code>"
            ]
          },
          "metadata": {}
        },
        {
          "output_type": "display_data",
          "data": {
            "text/plain": [
              "<IPython.core.display.HTML object>"
            ],
            "text/html": [
              "Syncing run <strong><a href=\"https://wandb.ai/jayant3000/Final_PC_on_fire/runs/ekwu0qg2\" target=\"_blank\">fresh-sweep-10</a></strong> to <a href=\"https://wandb.ai/jayant3000/Final_PC_on_fire\" target=\"_blank\">Weights & Biases</a> (<a href=\"https://wandb.me/run\" target=\"_blank\">docs</a>)<br/>Sweep page:  <a href=\"https://wandb.ai/jayant3000/Final_PC_on_fire/sweeps/flv85syf\" target=\"_blank\">https://wandb.ai/jayant3000/Final_PC_on_fire/sweeps/flv85syf</a>"
            ]
          },
          "metadata": {}
        },
        {
          "output_type": "stream",
          "name": "stdout",
          "text": [
            "Epoch 1/10\n",
            "25/25 [==============================] - 14s 409ms/step - loss: 2.6999 - acc: 0.1138 - val_loss: 2.3075 - val_acc: 0.0938 - _timestamp: 1649513203.0000 - _runtime: 21.0000\n",
            "Epoch 2/10\n",
            "25/25 [==============================] - 12s 393ms/step - loss: 2.4162 - acc: 0.1450 - val_loss: 2.3087 - val_acc: 0.0938 - _timestamp: 1649513222.0000 - _runtime: 40.0000\n",
            "Epoch 3/10\n",
            "25/25 [==============================] - 11s 385ms/step - loss: 2.3083 - acc: 0.1775 - val_loss: 2.3198 - val_acc: 0.0938 - _timestamp: 1649513234.0000 - _runtime: 52.0000\n",
            "Epoch 4/10\n",
            "25/25 [==============================] - 12s 388ms/step - loss: 2.2416 - acc: 0.2000 - val_loss: 2.2995 - val_acc: 0.1875 - _timestamp: 1649513245.0000 - _runtime: 63.0000\n",
            "Epoch 5/10\n",
            "25/25 [==============================] - 11s 388ms/step - loss: 2.2037 - acc: 0.2250 - val_loss: 2.2676 - val_acc: 0.1250 - _timestamp: 1649513266.0000 - _runtime: 84.0000\n",
            "Epoch 6/10\n",
            "25/25 [==============================] - 11s 378ms/step - loss: 2.1602 - acc: 0.2100 - val_loss: 2.2683 - val_acc: 0.2500 - _timestamp: 1649513277.0000 - _runtime: 95.0000\n",
            "Epoch 7/10\n",
            "25/25 [==============================] - 11s 386ms/step - loss: 2.0942 - acc: 0.2537 - val_loss: 2.3856 - val_acc: 0.0625 - _timestamp: 1649513298.0000 - _runtime: 116.0000\n",
            "Epoch 8/10\n",
            "25/25 [==============================] - 12s 396ms/step - loss: 2.0748 - acc: 0.2713 - val_loss: 2.5153 - val_acc: 0.1250 - _timestamp: 1649513319.0000 - _runtime: 137.0000\n",
            "Epoch 9/10\n",
            "25/25 [==============================] - 12s 387ms/step - loss: 1.9952 - acc: 0.2900 - val_loss: 2.3685 - val_acc: 0.1875 - _timestamp: 1649513339.0000 - _runtime: 157.0000\n",
            "Epoch 10/10\n",
            "25/25 [==============================] - 11s 382ms/step - loss: 1.9808 - acc: 0.3150 - val_loss: 2.3056 - val_acc: 0.1562 - _timestamp: 1649513350.0000 - _runtime: 168.0000\n"
          ]
        },
        {
          "output_type": "stream",
          "name": "stderr",
          "text": [
            "\u001b[34m\u001b[1mwandb\u001b[0m: Agent Starting Run: bexlgm72 with config:\n",
            "\u001b[34m\u001b[1mwandb\u001b[0m: \tactivation: relu\n",
            "\u001b[34m\u001b[1mwandb\u001b[0m: \tbatch_norm: False\n",
            "\u001b[34m\u001b[1mwandb\u001b[0m: \tconv_layers: 5\n",
            "\u001b[34m\u001b[1mwandb\u001b[0m: \tdata_aug: True\n",
            "\u001b[34m\u001b[1mwandb\u001b[0m: \tdense_size: 32\n",
            "\u001b[34m\u001b[1mwandb\u001b[0m: \tdropout: 0.3\n",
            "\u001b[34m\u001b[1mwandb\u001b[0m: \tfilter_org: 0.5\n",
            "\u001b[34m\u001b[1mwandb\u001b[0m: \tfirst_layer_filters: 64\n",
            "\u001b[34m\u001b[1mwandb\u001b[0m: \tkernel_size: 3\n",
            "\u001b[34m\u001b[1mwandb\u001b[0m: \tnum_epochs: 10\n",
            "\u001b[34m\u001b[1mwandb\u001b[0m: \toptimizer: adam\n"
          ]
        },
        {
          "output_type": "display_data",
          "data": {
            "text/plain": [
              "<IPython.core.display.HTML object>"
            ],
            "text/html": [
              "Tracking run with wandb version 0.12.14"
            ]
          },
          "metadata": {}
        },
        {
          "output_type": "display_data",
          "data": {
            "text/plain": [
              "<IPython.core.display.HTML object>"
            ],
            "text/html": [
              "Run data is saved locally in <code>/content/wandb/run-20220409_140924-bexlgm72</code>"
            ]
          },
          "metadata": {}
        },
        {
          "output_type": "display_data",
          "data": {
            "text/plain": [
              "<IPython.core.display.HTML object>"
            ],
            "text/html": [
              "Syncing run <strong><a href=\"https://wandb.ai/jayant3000/Final_PC_on_fire/runs/bexlgm72\" target=\"_blank\">warm-sweep-11</a></strong> to <a href=\"https://wandb.ai/jayant3000/Final_PC_on_fire\" target=\"_blank\">Weights & Biases</a> (<a href=\"https://wandb.me/run\" target=\"_blank\">docs</a>)<br/>Sweep page:  <a href=\"https://wandb.ai/jayant3000/Final_PC_on_fire/sweeps/flv85syf\" target=\"_blank\">https://wandb.ai/jayant3000/Final_PC_on_fire/sweeps/flv85syf</a>"
            ]
          },
          "metadata": {}
        },
        {
          "output_type": "display_data",
          "data": {
            "text/plain": [
              "<IPython.core.display.HTML object>"
            ],
            "text/html": [
              "Finishing last run (ID:bexlgm72) before initializing another..."
            ]
          },
          "metadata": {}
        },
        {
          "output_type": "stream",
          "name": "stdout",
          "text": [
            "\n"
          ]
        },
        {
          "output_type": "display_data",
          "data": {
            "text/plain": [
              "<IPython.core.display.HTML object>"
            ],
            "text/html": [
              "Waiting for W&B process to finish... <strong style=\"color:green\">(success).</strong>"
            ]
          },
          "metadata": {}
        },
        {
          "output_type": "display_data",
          "data": {
            "text/plain": [
              "VBox(children=(Label(value='0.001 MB of 0.001 MB uploaded (0.000 MB deduped)\\r'), FloatProgress(value=1.0, max…"
            ],
            "application/vnd.jupyter.widget-view+json": {
              "version_major": 2,
              "version_minor": 0,
              "model_id": "a36a567fd955427f898c001c380918c2"
            }
          },
          "metadata": {}
        },
        {
          "output_type": "display_data",
          "data": {
            "text/plain": [
              "<IPython.core.display.HTML object>"
            ],
            "text/html": [
              "Synced <strong style=\"color:#cdcd00\">warm-sweep-11</strong>: <a href=\"https://wandb.ai/jayant3000/Final_PC_on_fire/runs/bexlgm72\" target=\"_blank\">https://wandb.ai/jayant3000/Final_PC_on_fire/runs/bexlgm72</a><br/>Synced 4 W&B file(s), 0 media file(s), 0 artifact file(s) and 0 other file(s)"
            ]
          },
          "metadata": {}
        },
        {
          "output_type": "display_data",
          "data": {
            "text/plain": [
              "<IPython.core.display.HTML object>"
            ],
            "text/html": [
              "Find logs at: <code>./wandb/run-20220409_140924-bexlgm72/logs</code>"
            ]
          },
          "metadata": {}
        },
        {
          "output_type": "display_data",
          "data": {
            "text/plain": [
              "<IPython.core.display.HTML object>"
            ],
            "text/html": [
              "Successfully finished last run (ID:bexlgm72). Initializing new run:<br/>"
            ]
          },
          "metadata": {}
        },
        {
          "output_type": "display_data",
          "data": {
            "text/plain": [
              "<IPython.core.display.HTML object>"
            ],
            "text/html": [
              "Tracking run with wandb version 0.12.14"
            ]
          },
          "metadata": {}
        },
        {
          "output_type": "display_data",
          "data": {
            "text/plain": [
              "<IPython.core.display.HTML object>"
            ],
            "text/html": [
              "Run data is saved locally in <code>/content/wandb/run-20220409_140931-bexlgm72</code>"
            ]
          },
          "metadata": {}
        },
        {
          "output_type": "display_data",
          "data": {
            "text/plain": [
              "<IPython.core.display.HTML object>"
            ],
            "text/html": [
              "Syncing run <strong><a href=\"https://wandb.ai/jayant3000/Final_PC_on_fire/runs/bexlgm72\" target=\"_blank\">warm-sweep-11</a></strong> to <a href=\"https://wandb.ai/jayant3000/Final_PC_on_fire\" target=\"_blank\">Weights & Biases</a> (<a href=\"https://wandb.me/run\" target=\"_blank\">docs</a>)<br/>Sweep page:  <a href=\"https://wandb.ai/jayant3000/Final_PC_on_fire/sweeps/flv85syf\" target=\"_blank\">https://wandb.ai/jayant3000/Final_PC_on_fire/sweeps/flv85syf</a>"
            ]
          },
          "metadata": {}
        },
        {
          "output_type": "stream",
          "name": "stdout",
          "text": [
            "Epoch 1/10\n",
            "25/25 [==============================] - 12s 384ms/step - loss: 2.3027 - acc: 0.1013 - val_loss: 2.3102 - val_acc: 0.0938 - _timestamp: 1649513395.0000 - _runtime: 18.0000\n",
            "Epoch 2/10\n",
            "25/25 [==============================] - 11s 372ms/step - loss: 2.3012 - acc: 0.1187 - val_loss: 2.3004 - val_acc: 0.1250 - _timestamp: 1649513406.0000 - _runtime: 29.0000\n",
            "Epoch 3/10\n",
            "25/25 [==============================] - 11s 370ms/step - loss: 2.2965 - acc: 0.1287 - val_loss: 2.2979 - val_acc: 0.1562 - _timestamp: 1649513417.0000 - _runtime: 40.0000\n",
            "Epoch 4/10\n",
            "25/25 [==============================] - 11s 367ms/step - loss: 2.2955 - acc: 0.1200 - val_loss: 2.2990 - val_acc: 0.0625 - _timestamp: 1649513428.0000 - _runtime: 51.0000\n",
            "Epoch 5/10\n",
            "25/25 [==============================] - 11s 369ms/step - loss: 2.2886 - acc: 0.1363 - val_loss: 2.3329 - val_acc: 0.1875 - _timestamp: 1649513449.0000 - _runtime: 72.0000\n",
            "Epoch 6/10\n",
            "25/25 [==============================] - 11s 374ms/step - loss: 2.2667 - acc: 0.1562 - val_loss: 2.2995 - val_acc: 0.0938 - _timestamp: 1649513469.0000 - _runtime: 92.0000\n",
            "Epoch 7/10\n",
            "25/25 [==============================] - 11s 372ms/step - loss: 2.2540 - acc: 0.1625 - val_loss: 2.2378 - val_acc: 0.2188 - _timestamp: 1649513480.0000 - _runtime: 103.0000\n",
            "Epoch 8/10\n",
            "25/25 [==============================] - 11s 359ms/step - loss: 2.2363 - acc: 0.1937 - val_loss: 2.3038 - val_acc: 0.1562 - _timestamp: 1649513491.0000 - _runtime: 114.0000\n",
            "Epoch 9/10\n",
            "25/25 [==============================] - 11s 363ms/step - loss: 2.2235 - acc: 0.1737 - val_loss: 2.2864 - val_acc: 0.1562 - _timestamp: 1649513502.0000 - _runtime: 125.0000\n",
            "Epoch 10/10\n",
            "25/25 [==============================] - 11s 366ms/step - loss: 2.2045 - acc: 0.1787 - val_loss: 2.2771 - val_acc: 0.0625 - _timestamp: 1649513523.0000 - _runtime: 146.0000\n"
          ]
        },
        {
          "output_type": "stream",
          "name": "stderr",
          "text": [
            "\u001b[34m\u001b[1mwandb\u001b[0m: Sweep Agent: Waiting for job.\n",
            "\u001b[34m\u001b[1mwandb\u001b[0m: Job received.\n",
            "\u001b[34m\u001b[1mwandb\u001b[0m: Agent Starting Run: g22xgewl with config:\n",
            "\u001b[34m\u001b[1mwandb\u001b[0m: \tactivation: relu\n",
            "\u001b[34m\u001b[1mwandb\u001b[0m: \tbatch_norm: True\n",
            "\u001b[34m\u001b[1mwandb\u001b[0m: \tconv_layers: 5\n",
            "\u001b[34m\u001b[1mwandb\u001b[0m: \tdata_aug: True\n",
            "\u001b[34m\u001b[1mwandb\u001b[0m: \tdense_size: 32\n",
            "\u001b[34m\u001b[1mwandb\u001b[0m: \tdropout: 0.3\n",
            "\u001b[34m\u001b[1mwandb\u001b[0m: \tfilter_org: 2\n",
            "\u001b[34m\u001b[1mwandb\u001b[0m: \tfirst_layer_filters: 64\n",
            "\u001b[34m\u001b[1mwandb\u001b[0m: \tkernel_size: 3\n",
            "\u001b[34m\u001b[1mwandb\u001b[0m: \tnum_epochs: 10\n",
            "\u001b[34m\u001b[1mwandb\u001b[0m: \toptimizer: adam\n"
          ]
        },
        {
          "output_type": "display_data",
          "data": {
            "text/plain": [
              "<IPython.core.display.HTML object>"
            ],
            "text/html": [
              "Tracking run with wandb version 0.12.14"
            ]
          },
          "metadata": {}
        },
        {
          "output_type": "display_data",
          "data": {
            "text/plain": [
              "<IPython.core.display.HTML object>"
            ],
            "text/html": [
              "Run data is saved locally in <code>/content/wandb/run-20220409_141216-g22xgewl</code>"
            ]
          },
          "metadata": {}
        },
        {
          "output_type": "display_data",
          "data": {
            "text/plain": [
              "<IPython.core.display.HTML object>"
            ],
            "text/html": [
              "Syncing run <strong><a href=\"https://wandb.ai/jayant3000/Final_PC_on_fire/runs/g22xgewl\" target=\"_blank\">revived-sweep-12</a></strong> to <a href=\"https://wandb.ai/jayant3000/Final_PC_on_fire\" target=\"_blank\">Weights & Biases</a> (<a href=\"https://wandb.me/run\" target=\"_blank\">docs</a>)<br/>Sweep page:  <a href=\"https://wandb.ai/jayant3000/Final_PC_on_fire/sweeps/flv85syf\" target=\"_blank\">https://wandb.ai/jayant3000/Final_PC_on_fire/sweeps/flv85syf</a>"
            ]
          },
          "metadata": {}
        },
        {
          "output_type": "display_data",
          "data": {
            "text/plain": [
              "<IPython.core.display.HTML object>"
            ],
            "text/html": [
              "Finishing last run (ID:g22xgewl) before initializing another..."
            ]
          },
          "metadata": {}
        },
        {
          "output_type": "stream",
          "name": "stdout",
          "text": [
            "\n"
          ]
        },
        {
          "output_type": "display_data",
          "data": {
            "text/plain": [
              "<IPython.core.display.HTML object>"
            ],
            "text/html": [
              "Waiting for W&B process to finish... <strong style=\"color:green\">(success).</strong>"
            ]
          },
          "metadata": {}
        },
        {
          "output_type": "display_data",
          "data": {
            "text/plain": [
              "VBox(children=(Label(value='0.001 MB of 0.001 MB uploaded (0.000 MB deduped)\\r'), FloatProgress(value=1.0, max…"
            ],
            "application/vnd.jupyter.widget-view+json": {
              "version_major": 2,
              "version_minor": 0,
              "model_id": "897109fa61344cd6bab1241722e81942"
            }
          },
          "metadata": {}
        },
        {
          "output_type": "display_data",
          "data": {
            "text/plain": [
              "<IPython.core.display.HTML object>"
            ],
            "text/html": [
              "Synced <strong style=\"color:#cdcd00\">revived-sweep-12</strong>: <a href=\"https://wandb.ai/jayant3000/Final_PC_on_fire/runs/g22xgewl\" target=\"_blank\">https://wandb.ai/jayant3000/Final_PC_on_fire/runs/g22xgewl</a><br/>Synced 4 W&B file(s), 0 media file(s), 0 artifact file(s) and 0 other file(s)"
            ]
          },
          "metadata": {}
        },
        {
          "output_type": "display_data",
          "data": {
            "text/plain": [
              "<IPython.core.display.HTML object>"
            ],
            "text/html": [
              "Find logs at: <code>./wandb/run-20220409_141216-g22xgewl/logs</code>"
            ]
          },
          "metadata": {}
        },
        {
          "output_type": "display_data",
          "data": {
            "text/plain": [
              "<IPython.core.display.HTML object>"
            ],
            "text/html": [
              "Successfully finished last run (ID:g22xgewl). Initializing new run:<br/>"
            ]
          },
          "metadata": {}
        },
        {
          "output_type": "display_data",
          "data": {
            "text/plain": [
              "<IPython.core.display.HTML object>"
            ],
            "text/html": [
              "Tracking run with wandb version 0.12.14"
            ]
          },
          "metadata": {}
        },
        {
          "output_type": "display_data",
          "data": {
            "text/plain": [
              "<IPython.core.display.HTML object>"
            ],
            "text/html": [
              "Run data is saved locally in <code>/content/wandb/run-20220409_141223-g22xgewl</code>"
            ]
          },
          "metadata": {}
        },
        {
          "output_type": "display_data",
          "data": {
            "text/plain": [
              "<IPython.core.display.HTML object>"
            ],
            "text/html": [
              "Syncing run <strong><a href=\"https://wandb.ai/jayant3000/Final_PC_on_fire/runs/g22xgewl\" target=\"_blank\">revived-sweep-12</a></strong> to <a href=\"https://wandb.ai/jayant3000/Final_PC_on_fire\" target=\"_blank\">Weights & Biases</a> (<a href=\"https://wandb.me/run\" target=\"_blank\">docs</a>)<br/>Sweep page:  <a href=\"https://wandb.ai/jayant3000/Final_PC_on_fire/sweeps/flv85syf\" target=\"_blank\">https://wandb.ai/jayant3000/Final_PC_on_fire/sweeps/flv85syf</a>"
            ]
          },
          "metadata": {}
        },
        {
          "output_type": "stream",
          "name": "stdout",
          "text": [
            "Epoch 1/10\n",
            " 6/25 [======>.......................] - ETA: 9s - loss: 2.8992 - acc: 0.0885 WARNING:tensorflow:Callback method `on_train_batch_end` is slow compared to the batch time (batch time: 0.2535s vs `on_train_batch_end` time: 0.2576s). Check your callbacks.\n",
            "25/25 [==============================] - 17s 555ms/step - loss: 2.6187 - acc: 0.1312 - val_loss: 2.6395 - val_acc: 0.1250 - _timestamp: 1649513571.0000 - _runtime: 23.0000\n",
            "Epoch 2/10\n",
            "25/25 [==============================] - 15s 526ms/step - loss: 2.3415 - acc: 0.1863 - val_loss: 2.9193 - val_acc: 0.0938 - _timestamp: 1649513587.0000 - _runtime: 39.0000\n",
            "Epoch 3/10\n",
            "25/25 [==============================] - 15s 538ms/step - loss: 2.1569 - acc: 0.2412 - val_loss: 2.5399 - val_acc: 0.0312 - _timestamp: 1649513602.0000 - _runtime: 54.0000\n",
            "Epoch 4/10\n",
            "25/25 [==============================] - 15s 526ms/step - loss: 2.0909 - acc: 0.2387 - val_loss: 2.5466 - val_acc: 0.0312 - _timestamp: 1649513623.0000 - _runtime: 75.0000\n",
            "Epoch 5/10\n",
            "25/25 [==============================] - 15s 528ms/step - loss: 1.9766 - acc: 0.2900 - val_loss: 3.1874 - val_acc: 0.0312 - _timestamp: 1649513643.0000 - _runtime: 95.0000\n",
            "Epoch 6/10\n",
            "25/25 [==============================] - 15s 521ms/step - loss: 1.9710 - acc: 0.3075 - val_loss: 2.9209 - val_acc: 0.0625 - _timestamp: 1649513658.0000 - _runtime: 110.0000\n"
          ]
        },
        {
          "output_type": "stream",
          "name": "stderr",
          "text": [
            "\u001b[34m\u001b[1mwandb\u001b[0m: Sweep Agent: Waiting for job.\n",
            "\u001b[34m\u001b[1mwandb\u001b[0m: Job received.\n",
            "\u001b[34m\u001b[1mwandb\u001b[0m: Agent Starting Run: 0ssyjmb0 with config:\n",
            "\u001b[34m\u001b[1mwandb\u001b[0m: \tactivation: relu\n",
            "\u001b[34m\u001b[1mwandb\u001b[0m: \tbatch_norm: True\n",
            "\u001b[34m\u001b[1mwandb\u001b[0m: \tconv_layers: 5\n",
            "\u001b[34m\u001b[1mwandb\u001b[0m: \tdata_aug: False\n",
            "\u001b[34m\u001b[1mwandb\u001b[0m: \tdense_size: 32\n",
            "\u001b[34m\u001b[1mwandb\u001b[0m: \tdropout: 0.3\n",
            "\u001b[34m\u001b[1mwandb\u001b[0m: \tfilter_org: 0.5\n",
            "\u001b[34m\u001b[1mwandb\u001b[0m: \tfirst_layer_filters: 32\n",
            "\u001b[34m\u001b[1mwandb\u001b[0m: \tkernel_size: 3\n",
            "\u001b[34m\u001b[1mwandb\u001b[0m: \tnum_epochs: 10\n",
            "\u001b[34m\u001b[1mwandb\u001b[0m: \toptimizer: adam\n"
          ]
        },
        {
          "output_type": "display_data",
          "data": {
            "text/plain": [
              "<IPython.core.display.HTML object>"
            ],
            "text/html": [
              "Tracking run with wandb version 0.12.14"
            ]
          },
          "metadata": {}
        },
        {
          "output_type": "display_data",
          "data": {
            "text/plain": [
              "<IPython.core.display.HTML object>"
            ],
            "text/html": [
              "Run data is saved locally in <code>/content/wandb/run-20220409_141448-0ssyjmb0</code>"
            ]
          },
          "metadata": {}
        },
        {
          "output_type": "display_data",
          "data": {
            "text/plain": [
              "<IPython.core.display.HTML object>"
            ],
            "text/html": [
              "Syncing run <strong><a href=\"https://wandb.ai/jayant3000/Final_PC_on_fire/runs/0ssyjmb0\" target=\"_blank\">driven-sweep-13</a></strong> to <a href=\"https://wandb.ai/jayant3000/Final_PC_on_fire\" target=\"_blank\">Weights & Biases</a> (<a href=\"https://wandb.me/run\" target=\"_blank\">docs</a>)<br/>Sweep page:  <a href=\"https://wandb.ai/jayant3000/Final_PC_on_fire/sweeps/flv85syf\" target=\"_blank\">https://wandb.ai/jayant3000/Final_PC_on_fire/sweeps/flv85syf</a>"
            ]
          },
          "metadata": {}
        },
        {
          "output_type": "display_data",
          "data": {
            "text/plain": [
              "<IPython.core.display.HTML object>"
            ],
            "text/html": [
              "Finishing last run (ID:0ssyjmb0) before initializing another..."
            ]
          },
          "metadata": {}
        },
        {
          "output_type": "stream",
          "name": "stdout",
          "text": [
            "\n"
          ]
        },
        {
          "output_type": "display_data",
          "data": {
            "text/plain": [
              "<IPython.core.display.HTML object>"
            ],
            "text/html": [
              "Waiting for W&B process to finish... <strong style=\"color:green\">(success).</strong>"
            ]
          },
          "metadata": {}
        },
        {
          "output_type": "display_data",
          "data": {
            "text/plain": [
              "VBox(children=(Label(value='0.001 MB of 0.001 MB uploaded (0.000 MB deduped)\\r'), FloatProgress(value=1.0, max…"
            ],
            "application/vnd.jupyter.widget-view+json": {
              "version_major": 2,
              "version_minor": 0,
              "model_id": "01c3fc982a314c8a93f2b97ec9a72157"
            }
          },
          "metadata": {}
        },
        {
          "output_type": "display_data",
          "data": {
            "text/plain": [
              "<IPython.core.display.HTML object>"
            ],
            "text/html": [
              "Synced <strong style=\"color:#cdcd00\">driven-sweep-13</strong>: <a href=\"https://wandb.ai/jayant3000/Final_PC_on_fire/runs/0ssyjmb0\" target=\"_blank\">https://wandb.ai/jayant3000/Final_PC_on_fire/runs/0ssyjmb0</a><br/>Synced 4 W&B file(s), 0 media file(s), 0 artifact file(s) and 0 other file(s)"
            ]
          },
          "metadata": {}
        },
        {
          "output_type": "display_data",
          "data": {
            "text/plain": [
              "<IPython.core.display.HTML object>"
            ],
            "text/html": [
              "Find logs at: <code>./wandb/run-20220409_141448-0ssyjmb0/logs</code>"
            ]
          },
          "metadata": {}
        },
        {
          "output_type": "display_data",
          "data": {
            "text/plain": [
              "<IPython.core.display.HTML object>"
            ],
            "text/html": [
              "Successfully finished last run (ID:0ssyjmb0). Initializing new run:<br/>"
            ]
          },
          "metadata": {}
        },
        {
          "output_type": "display_data",
          "data": {
            "text/plain": [
              "<IPython.core.display.HTML object>"
            ],
            "text/html": [
              "Tracking run with wandb version 0.12.14"
            ]
          },
          "metadata": {}
        },
        {
          "output_type": "display_data",
          "data": {
            "text/plain": [
              "<IPython.core.display.HTML object>"
            ],
            "text/html": [
              "Run data is saved locally in <code>/content/wandb/run-20220409_141455-0ssyjmb0</code>"
            ]
          },
          "metadata": {}
        },
        {
          "output_type": "display_data",
          "data": {
            "text/plain": [
              "<IPython.core.display.HTML object>"
            ],
            "text/html": [
              "Syncing run <strong><a href=\"https://wandb.ai/jayant3000/Final_PC_on_fire/runs/0ssyjmb0\" target=\"_blank\">driven-sweep-13</a></strong> to <a href=\"https://wandb.ai/jayant3000/Final_PC_on_fire\" target=\"_blank\">Weights & Biases</a> (<a href=\"https://wandb.me/run\" target=\"_blank\">docs</a>)<br/>Sweep page:  <a href=\"https://wandb.ai/jayant3000/Final_PC_on_fire/sweeps/flv85syf\" target=\"_blank\">https://wandb.ai/jayant3000/Final_PC_on_fire/sweeps/flv85syf</a>"
            ]
          },
          "metadata": {}
        },
        {
          "output_type": "stream",
          "name": "stdout",
          "text": [
            "Epoch 1/10\n",
            "25/25 [==============================] - 13s 383ms/step - loss: 2.6480 - acc: 0.1262 - val_loss: 2.2897 - val_acc: 0.1250 - _timestamp: 1649513719.0000 - _runtime: 19.0000\n",
            "Epoch 2/10\n",
            "25/25 [==============================] - 11s 364ms/step - loss: 2.4428 - acc: 0.1450 - val_loss: 2.3493 - val_acc: 0.0625 - _timestamp: 1649513739.0000 - _runtime: 39.0000\n",
            "Epoch 3/10\n",
            "25/25 [==============================] - 11s 366ms/step - loss: 2.3713 - acc: 0.1637 - val_loss: 2.3075 - val_acc: 0.1250 - _timestamp: 1649513760.0000 - _runtime: 60.0000\n",
            "Epoch 4/10\n",
            "25/25 [==============================] - 11s 363ms/step - loss: 2.2576 - acc: 0.1887 - val_loss: 2.3435 - val_acc: 0.0312 - _timestamp: 1649513771.0000 - _runtime: 71.0000\n",
            "Epoch 5/10\n",
            "25/25 [==============================] - 11s 363ms/step - loss: 2.2174 - acc: 0.2100 - val_loss: 2.3848 - val_acc: 0.0625 - _timestamp: 1649513791.0000 - _runtime: 91.0000\n",
            "Epoch 6/10\n",
            "25/25 [==============================] - 11s 351ms/step - loss: 2.1885 - acc: 0.1963 - val_loss: 2.3683 - val_acc: 0.1562 - _timestamp: 1649513811.0000 - _runtime: 111.0000\n",
            "Epoch 7/10\n",
            "25/25 [==============================] - 11s 359ms/step - loss: 2.1666 - acc: 0.2338 - val_loss: 2.4875 - val_acc: 0.1250 - _timestamp: 1649513822.0000 - _runtime: 122.0000\n",
            "Epoch 8/10\n",
            "25/25 [==============================] - 11s 358ms/step - loss: 2.1406 - acc: 0.2325 - val_loss: 2.5517 - val_acc: 0.0938 - _timestamp: 1649513842.0000 - _runtime: 142.0000\n",
            "Epoch 9/10\n",
            "25/25 [==============================] - 11s 360ms/step - loss: 2.1775 - acc: 0.2313 - val_loss: 2.3617 - val_acc: 0.0938 - _timestamp: 1649513863.0000 - _runtime: 163.0000\n",
            "Epoch 10/10\n",
            "25/25 [==============================] - 11s 361ms/step - loss: 2.0933 - acc: 0.2488 - val_loss: 2.4298 - val_acc: 0.1562 - _timestamp: 1649513874.0000 - _runtime: 174.0000\n"
          ]
        },
        {
          "output_type": "stream",
          "name": "stderr",
          "text": [
            "\u001b[34m\u001b[1mwandb\u001b[0m: Agent Starting Run: 269md7rj with config:\n",
            "\u001b[34m\u001b[1mwandb\u001b[0m: \tactivation: relu\n",
            "\u001b[34m\u001b[1mwandb\u001b[0m: \tbatch_norm: True\n",
            "\u001b[34m\u001b[1mwandb\u001b[0m: \tconv_layers: 5\n",
            "\u001b[34m\u001b[1mwandb\u001b[0m: \tdata_aug: True\n",
            "\u001b[34m\u001b[1mwandb\u001b[0m: \tdense_size: 32\n",
            "\u001b[34m\u001b[1mwandb\u001b[0m: \tdropout: 0.3\n",
            "\u001b[34m\u001b[1mwandb\u001b[0m: \tfilter_org: 1\n",
            "\u001b[34m\u001b[1mwandb\u001b[0m: \tfirst_layer_filters: 32\n",
            "\u001b[34m\u001b[1mwandb\u001b[0m: \tkernel_size: 3\n",
            "\u001b[34m\u001b[1mwandb\u001b[0m: \tnum_epochs: 10\n",
            "\u001b[34m\u001b[1mwandb\u001b[0m: \toptimizer: adam\n"
          ]
        },
        {
          "output_type": "display_data",
          "data": {
            "text/plain": [
              "<IPython.core.display.HTML object>"
            ],
            "text/html": [
              "Tracking run with wandb version 0.12.14"
            ]
          },
          "metadata": {}
        },
        {
          "output_type": "display_data",
          "data": {
            "text/plain": [
              "<IPython.core.display.HTML object>"
            ],
            "text/html": [
              "Run data is saved locally in <code>/content/wandb/run-20220409_141811-269md7rj</code>"
            ]
          },
          "metadata": {}
        },
        {
          "output_type": "display_data",
          "data": {
            "text/plain": [
              "<IPython.core.display.HTML object>"
            ],
            "text/html": [
              "Syncing run <strong><a href=\"https://wandb.ai/jayant3000/Final_PC_on_fire/runs/269md7rj\" target=\"_blank\">radiant-sweep-14</a></strong> to <a href=\"https://wandb.ai/jayant3000/Final_PC_on_fire\" target=\"_blank\">Weights & Biases</a> (<a href=\"https://wandb.me/run\" target=\"_blank\">docs</a>)<br/>Sweep page:  <a href=\"https://wandb.ai/jayant3000/Final_PC_on_fire/sweeps/flv85syf\" target=\"_blank\">https://wandb.ai/jayant3000/Final_PC_on_fire/sweeps/flv85syf</a>"
            ]
          },
          "metadata": {}
        },
        {
          "output_type": "display_data",
          "data": {
            "text/plain": [
              "<IPython.core.display.HTML object>"
            ],
            "text/html": [
              "Finishing last run (ID:269md7rj) before initializing another..."
            ]
          },
          "metadata": {}
        },
        {
          "output_type": "stream",
          "name": "stdout",
          "text": [
            "\n"
          ]
        },
        {
          "output_type": "display_data",
          "data": {
            "text/plain": [
              "<IPython.core.display.HTML object>"
            ],
            "text/html": [
              "Waiting for W&B process to finish... <strong style=\"color:green\">(success).</strong>"
            ]
          },
          "metadata": {}
        },
        {
          "output_type": "display_data",
          "data": {
            "text/plain": [
              "VBox(children=(Label(value='0.001 MB of 0.001 MB uploaded (0.000 MB deduped)\\r'), FloatProgress(value=1.0, max…"
            ],
            "application/vnd.jupyter.widget-view+json": {
              "version_major": 2,
              "version_minor": 0,
              "model_id": "5837e3d797544d8180925de1bda9f54e"
            }
          },
          "metadata": {}
        },
        {
          "output_type": "display_data",
          "data": {
            "text/plain": [
              "<IPython.core.display.HTML object>"
            ],
            "text/html": [
              "Synced <strong style=\"color:#cdcd00\">radiant-sweep-14</strong>: <a href=\"https://wandb.ai/jayant3000/Final_PC_on_fire/runs/269md7rj\" target=\"_blank\">https://wandb.ai/jayant3000/Final_PC_on_fire/runs/269md7rj</a><br/>Synced 4 W&B file(s), 0 media file(s), 0 artifact file(s) and 0 other file(s)"
            ]
          },
          "metadata": {}
        },
        {
          "output_type": "display_data",
          "data": {
            "text/plain": [
              "<IPython.core.display.HTML object>"
            ],
            "text/html": [
              "Find logs at: <code>./wandb/run-20220409_141811-269md7rj/logs</code>"
            ]
          },
          "metadata": {}
        },
        {
          "output_type": "display_data",
          "data": {
            "text/plain": [
              "<IPython.core.display.HTML object>"
            ],
            "text/html": [
              "Successfully finished last run (ID:269md7rj). Initializing new run:<br/>"
            ]
          },
          "metadata": {}
        },
        {
          "output_type": "display_data",
          "data": {
            "text/plain": [
              "<IPython.core.display.HTML object>"
            ],
            "text/html": [
              "Tracking run with wandb version 0.12.14"
            ]
          },
          "metadata": {}
        },
        {
          "output_type": "display_data",
          "data": {
            "text/plain": [
              "<IPython.core.display.HTML object>"
            ],
            "text/html": [
              "Run data is saved locally in <code>/content/wandb/run-20220409_141819-269md7rj</code>"
            ]
          },
          "metadata": {}
        },
        {
          "output_type": "display_data",
          "data": {
            "text/plain": [
              "<IPython.core.display.HTML object>"
            ],
            "text/html": [
              "Syncing run <strong><a href=\"https://wandb.ai/jayant3000/Final_PC_on_fire/runs/269md7rj\" target=\"_blank\">radiant-sweep-14</a></strong> to <a href=\"https://wandb.ai/jayant3000/Final_PC_on_fire\" target=\"_blank\">Weights & Biases</a> (<a href=\"https://wandb.me/run\" target=\"_blank\">docs</a>)<br/>Sweep page:  <a href=\"https://wandb.ai/jayant3000/Final_PC_on_fire/sweeps/flv85syf\" target=\"_blank\">https://wandb.ai/jayant3000/Final_PC_on_fire/sweeps/flv85syf</a>"
            ]
          },
          "metadata": {}
        },
        {
          "output_type": "stream",
          "name": "stdout",
          "text": [
            "Epoch 1/10\n",
            "25/25 [==============================] - 13s 392ms/step - loss: 2.4645 - acc: 0.1488 - val_loss: 2.3666 - val_acc: 0.0625 - _timestamp: 1649513924.0000 - _runtime: 20.0000\n",
            "Epoch 2/10\n",
            "25/25 [==============================] - 11s 374ms/step - loss: 2.1830 - acc: 0.2262 - val_loss: 2.3652 - val_acc: 0.0938 - _timestamp: 1649513935.0000 - _runtime: 31.0000\n",
            "Epoch 3/10\n",
            "25/25 [==============================] - 11s 363ms/step - loss: 2.0704 - acc: 0.2725 - val_loss: 2.3787 - val_acc: 0.0938 - _timestamp: 1649513955.0000 - _runtime: 51.0000\n",
            "Epoch 4/10\n",
            "25/25 [==============================] - 11s 364ms/step - loss: 1.9710 - acc: 0.2962 - val_loss: 2.2976 - val_acc: 0.0938 - _timestamp: 1649513976.0000 - _runtime: 72.0000\n",
            "Epoch 5/10\n",
            "25/25 [==============================] - 11s 372ms/step - loss: 1.8317 - acc: 0.3487 - val_loss: 2.3664 - val_acc: 0.1250 - _timestamp: 1649513996.0000 - _runtime: 92.0000\n",
            "Epoch 6/10\n",
            "25/25 [==============================] - 11s 361ms/step - loss: 1.6903 - acc: 0.4375 - val_loss: 2.4506 - val_acc: 0.1250 - _timestamp: 1649514017.0000 - _runtime: 113.0000\n",
            "Epoch 7/10\n",
            "25/25 [==============================] - 11s 367ms/step - loss: 1.6360 - acc: 0.4450 - val_loss: 2.4272 - val_acc: 0.1250 - _timestamp: 1649514028.0000 - _runtime: 124.0000\n",
            "Epoch 8/10\n",
            "25/25 [==============================] - 11s 375ms/step - loss: 1.5270 - acc: 0.5063 - val_loss: 2.5612 - val_acc: 0.1250 - _timestamp: 1649514039.0000 - _runtime: 135.0000\n",
            "Epoch 9/10\n",
            "25/25 [==============================] - 11s 370ms/step - loss: 1.3963 - acc: 0.5587 - val_loss: 2.4620 - val_acc: 0.1562 - _timestamp: 1649514050.0000 - _runtime: 146.0000\n",
            "Epoch 10/10\n",
            "25/25 [==============================] - 11s 366ms/step - loss: 1.2840 - acc: 0.6237 - val_loss: 2.3782 - val_acc: 0.1875 - _timestamp: 1649514070.0000 - _runtime: 166.0000\n"
          ]
        },
        {
          "output_type": "stream",
          "name": "stderr",
          "text": [
            "\u001b[34m\u001b[1mwandb\u001b[0m: Sweep Agent: Waiting for job.\n",
            "\u001b[34m\u001b[1mwandb\u001b[0m: Job received.\n",
            "\u001b[34m\u001b[1mwandb\u001b[0m: Agent Starting Run: tt794oiq with config:\n",
            "\u001b[34m\u001b[1mwandb\u001b[0m: \tactivation: relu\n",
            "\u001b[34m\u001b[1mwandb\u001b[0m: \tbatch_norm: True\n",
            "\u001b[34m\u001b[1mwandb\u001b[0m: \tconv_layers: 5\n",
            "\u001b[34m\u001b[1mwandb\u001b[0m: \tdata_aug: True\n",
            "\u001b[34m\u001b[1mwandb\u001b[0m: \tdense_size: 32\n",
            "\u001b[34m\u001b[1mwandb\u001b[0m: \tdropout: 0.3\n",
            "\u001b[34m\u001b[1mwandb\u001b[0m: \tfilter_org: 2\n",
            "\u001b[34m\u001b[1mwandb\u001b[0m: \tfirst_layer_filters: 32\n",
            "\u001b[34m\u001b[1mwandb\u001b[0m: \tkernel_size: 3\n",
            "\u001b[34m\u001b[1mwandb\u001b[0m: \tnum_epochs: 10\n",
            "\u001b[34m\u001b[1mwandb\u001b[0m: \toptimizer: adam\n"
          ]
        },
        {
          "output_type": "display_data",
          "data": {
            "text/plain": [
              "<IPython.core.display.HTML object>"
            ],
            "text/html": [
              "Tracking run with wandb version 0.12.14"
            ]
          },
          "metadata": {}
        },
        {
          "output_type": "display_data",
          "data": {
            "text/plain": [
              "<IPython.core.display.HTML object>"
            ],
            "text/html": [
              "Run data is saved locally in <code>/content/wandb/run-20220409_142124-tt794oiq</code>"
            ]
          },
          "metadata": {}
        },
        {
          "output_type": "display_data",
          "data": {
            "text/plain": [
              "<IPython.core.display.HTML object>"
            ],
            "text/html": [
              "Syncing run <strong><a href=\"https://wandb.ai/jayant3000/Final_PC_on_fire/runs/tt794oiq\" target=\"_blank\">comic-sweep-15</a></strong> to <a href=\"https://wandb.ai/jayant3000/Final_PC_on_fire\" target=\"_blank\">Weights & Biases</a> (<a href=\"https://wandb.me/run\" target=\"_blank\">docs</a>)<br/>Sweep page:  <a href=\"https://wandb.ai/jayant3000/Final_PC_on_fire/sweeps/flv85syf\" target=\"_blank\">https://wandb.ai/jayant3000/Final_PC_on_fire/sweeps/flv85syf</a>"
            ]
          },
          "metadata": {}
        },
        {
          "output_type": "display_data",
          "data": {
            "text/plain": [
              "<IPython.core.display.HTML object>"
            ],
            "text/html": [
              "Finishing last run (ID:tt794oiq) before initializing another..."
            ]
          },
          "metadata": {}
        },
        {
          "output_type": "stream",
          "name": "stdout",
          "text": [
            "\n"
          ]
        },
        {
          "output_type": "display_data",
          "data": {
            "text/plain": [
              "<IPython.core.display.HTML object>"
            ],
            "text/html": [
              "Waiting for W&B process to finish... <strong style=\"color:green\">(success).</strong>"
            ]
          },
          "metadata": {}
        },
        {
          "output_type": "display_data",
          "data": {
            "text/plain": [
              "VBox(children=(Label(value='0.001 MB of 0.001 MB uploaded (0.000 MB deduped)\\r'), FloatProgress(value=1.0, max…"
            ],
            "application/vnd.jupyter.widget-view+json": {
              "version_major": 2,
              "version_minor": 0,
              "model_id": "1497fb90e2bd458db216a0e9210914d2"
            }
          },
          "metadata": {}
        },
        {
          "output_type": "display_data",
          "data": {
            "text/plain": [
              "<IPython.core.display.HTML object>"
            ],
            "text/html": [
              "Synced <strong style=\"color:#cdcd00\">comic-sweep-15</strong>: <a href=\"https://wandb.ai/jayant3000/Final_PC_on_fire/runs/tt794oiq\" target=\"_blank\">https://wandb.ai/jayant3000/Final_PC_on_fire/runs/tt794oiq</a><br/>Synced 4 W&B file(s), 0 media file(s), 0 artifact file(s) and 0 other file(s)"
            ]
          },
          "metadata": {}
        },
        {
          "output_type": "display_data",
          "data": {
            "text/plain": [
              "<IPython.core.display.HTML object>"
            ],
            "text/html": [
              "Find logs at: <code>./wandb/run-20220409_142124-tt794oiq/logs</code>"
            ]
          },
          "metadata": {}
        },
        {
          "output_type": "display_data",
          "data": {
            "text/plain": [
              "<IPython.core.display.HTML object>"
            ],
            "text/html": [
              "Successfully finished last run (ID:tt794oiq). Initializing new run:<br/>"
            ]
          },
          "metadata": {}
        },
        {
          "output_type": "display_data",
          "data": {
            "text/plain": [
              "<IPython.core.display.HTML object>"
            ],
            "text/html": [
              "Tracking run with wandb version 0.12.14"
            ]
          },
          "metadata": {}
        },
        {
          "output_type": "display_data",
          "data": {
            "text/plain": [
              "<IPython.core.display.HTML object>"
            ],
            "text/html": [
              "Run data is saved locally in <code>/content/wandb/run-20220409_142132-tt794oiq</code>"
            ]
          },
          "metadata": {}
        },
        {
          "output_type": "display_data",
          "data": {
            "text/plain": [
              "<IPython.core.display.HTML object>"
            ],
            "text/html": [
              "Syncing run <strong><a href=\"https://wandb.ai/jayant3000/Final_PC_on_fire/runs/tt794oiq\" target=\"_blank\">comic-sweep-15</a></strong> to <a href=\"https://wandb.ai/jayant3000/Final_PC_on_fire\" target=\"_blank\">Weights & Biases</a> (<a href=\"https://wandb.me/run\" target=\"_blank\">docs</a>)<br/>Sweep page:  <a href=\"https://wandb.ai/jayant3000/Final_PC_on_fire/sweeps/flv85syf\" target=\"_blank\">https://wandb.ai/jayant3000/Final_PC_on_fire/sweeps/flv85syf</a>"
            ]
          },
          "metadata": {}
        },
        {
          "output_type": "stream",
          "name": "stdout",
          "text": [
            "Epoch 1/10\n",
            "25/25 [==============================] - 13s 412ms/step - loss: 2.4879 - acc: 0.1363 - val_loss: 2.3458 - val_acc: 0.0938 - _timestamp: 1649514118.0000 - _runtime: 21.0000\n",
            "Epoch 2/10\n",
            "25/25 [==============================] - 12s 395ms/step - loss: 2.2409 - acc: 0.2100 - val_loss: 2.4920 - val_acc: 0.1250 - _timestamp: 1649514130.0000 - _runtime: 33.0000\n",
            "Epoch 3/10\n",
            "25/25 [==============================] - 12s 396ms/step - loss: 2.0892 - acc: 0.2537 - val_loss: 2.4601 - val_acc: 0.0938 - _timestamp: 1649514141.0000 - _runtime: 44.0000\n",
            "Epoch 4/10\n",
            "25/25 [==============================] - 12s 389ms/step - loss: 1.9913 - acc: 0.3137 - val_loss: 2.5999 - val_acc: 0.0625 - _timestamp: 1649514153.0000 - _runtime: 56.0000\n",
            "Epoch 5/10\n",
            "25/25 [==============================] - 12s 394ms/step - loss: 1.8986 - acc: 0.3425 - val_loss: 2.5576 - val_acc: 0.0625 - _timestamp: 1649514165.0000 - _runtime: 68.0000\n",
            "Epoch 6/10\n",
            "25/25 [==============================] - 12s 395ms/step - loss: 1.8143 - acc: 0.3537 - val_loss: 2.5763 - val_acc: 0.1562 - _timestamp: 1649514185.0000 - _runtime: 88.0000\n",
            "Epoch 7/10\n",
            "25/25 [==============================] - 12s 402ms/step - loss: 1.6716 - acc: 0.4225 - val_loss: 2.3138 - val_acc: 0.0938 - _timestamp: 1649514197.0000 - _runtime: 100.0000\n",
            "Epoch 8/10\n",
            "25/25 [==============================] - 12s 400ms/step - loss: 1.5638 - acc: 0.4700 - val_loss: 2.3142 - val_acc: 0.1250 - _timestamp: 1649514218.0000 - _runtime: 121.0000\n",
            "Epoch 9/10\n",
            "25/25 [==============================] - 12s 393ms/step - loss: 1.4898 - acc: 0.5238 - val_loss: 2.4644 - val_acc: 0.0938 - _timestamp: 1649514229.0000 - _runtime: 132.0000\n",
            "Epoch 10/10\n",
            "25/25 [==============================] - 11s 386ms/step - loss: 1.2962 - acc: 0.6062 - val_loss: 2.3813 - val_acc: 0.2500 - _timestamp: 1649514250.0000 - _runtime: 153.0000\n"
          ]
        },
        {
          "output_type": "stream",
          "name": "stderr",
          "text": [
            "\u001b[34m\u001b[1mwandb\u001b[0m: Sweep Agent: Waiting for job.\n",
            "\u001b[34m\u001b[1mwandb\u001b[0m: Job received.\n",
            "\u001b[34m\u001b[1mwandb\u001b[0m: Agent Starting Run: pod54r6b with config:\n",
            "\u001b[34m\u001b[1mwandb\u001b[0m: \tactivation: relu\n",
            "\u001b[34m\u001b[1mwandb\u001b[0m: \tbatch_norm: True\n",
            "\u001b[34m\u001b[1mwandb\u001b[0m: \tconv_layers: 5\n",
            "\u001b[34m\u001b[1mwandb\u001b[0m: \tdata_aug: True\n",
            "\u001b[34m\u001b[1mwandb\u001b[0m: \tdense_size: 32\n",
            "\u001b[34m\u001b[1mwandb\u001b[0m: \tdropout: 0.2\n",
            "\u001b[34m\u001b[1mwandb\u001b[0m: \tfilter_org: 1\n",
            "\u001b[34m\u001b[1mwandb\u001b[0m: \tfirst_layer_filters: 32\n",
            "\u001b[34m\u001b[1mwandb\u001b[0m: \tkernel_size: 3\n",
            "\u001b[34m\u001b[1mwandb\u001b[0m: \tnum_epochs: 10\n",
            "\u001b[34m\u001b[1mwandb\u001b[0m: \toptimizer: adam\n"
          ]
        },
        {
          "output_type": "display_data",
          "data": {
            "text/plain": [
              "<IPython.core.display.HTML object>"
            ],
            "text/html": [
              "Tracking run with wandb version 0.12.14"
            ]
          },
          "metadata": {}
        },
        {
          "output_type": "display_data",
          "data": {
            "text/plain": [
              "<IPython.core.display.HTML object>"
            ],
            "text/html": [
              "Run data is saved locally in <code>/content/wandb/run-20220409_142432-pod54r6b</code>"
            ]
          },
          "metadata": {}
        },
        {
          "output_type": "display_data",
          "data": {
            "text/plain": [
              "<IPython.core.display.HTML object>"
            ],
            "text/html": [
              "Syncing run <strong><a href=\"https://wandb.ai/jayant3000/Final_PC_on_fire/runs/pod54r6b\" target=\"_blank\">denim-sweep-16</a></strong> to <a href=\"https://wandb.ai/jayant3000/Final_PC_on_fire\" target=\"_blank\">Weights & Biases</a> (<a href=\"https://wandb.me/run\" target=\"_blank\">docs</a>)<br/>Sweep page:  <a href=\"https://wandb.ai/jayant3000/Final_PC_on_fire/sweeps/flv85syf\" target=\"_blank\">https://wandb.ai/jayant3000/Final_PC_on_fire/sweeps/flv85syf</a>"
            ]
          },
          "metadata": {}
        },
        {
          "output_type": "display_data",
          "data": {
            "text/plain": [
              "<IPython.core.display.HTML object>"
            ],
            "text/html": [
              "Finishing last run (ID:pod54r6b) before initializing another..."
            ]
          },
          "metadata": {}
        },
        {
          "output_type": "stream",
          "name": "stdout",
          "text": [
            "\n"
          ]
        },
        {
          "output_type": "display_data",
          "data": {
            "text/plain": [
              "<IPython.core.display.HTML object>"
            ],
            "text/html": [
              "Waiting for W&B process to finish... <strong style=\"color:green\">(success).</strong>"
            ]
          },
          "metadata": {}
        },
        {
          "output_type": "display_data",
          "data": {
            "text/plain": [
              "VBox(children=(Label(value='0.001 MB of 0.001 MB uploaded (0.000 MB deduped)\\r'), FloatProgress(value=1.0, max…"
            ],
            "application/vnd.jupyter.widget-view+json": {
              "version_major": 2,
              "version_minor": 0,
              "model_id": "0621f11098374f39a25fa9c1191256bf"
            }
          },
          "metadata": {}
        },
        {
          "output_type": "display_data",
          "data": {
            "text/plain": [
              "<IPython.core.display.HTML object>"
            ],
            "text/html": [
              "Synced <strong style=\"color:#cdcd00\">denim-sweep-16</strong>: <a href=\"https://wandb.ai/jayant3000/Final_PC_on_fire/runs/pod54r6b\" target=\"_blank\">https://wandb.ai/jayant3000/Final_PC_on_fire/runs/pod54r6b</a><br/>Synced 4 W&B file(s), 0 media file(s), 0 artifact file(s) and 0 other file(s)"
            ]
          },
          "metadata": {}
        },
        {
          "output_type": "display_data",
          "data": {
            "text/plain": [
              "<IPython.core.display.HTML object>"
            ],
            "text/html": [
              "Find logs at: <code>./wandb/run-20220409_142432-pod54r6b/logs</code>"
            ]
          },
          "metadata": {}
        },
        {
          "output_type": "display_data",
          "data": {
            "text/plain": [
              "<IPython.core.display.HTML object>"
            ],
            "text/html": [
              "Successfully finished last run (ID:pod54r6b). Initializing new run:<br/>"
            ]
          },
          "metadata": {}
        },
        {
          "output_type": "display_data",
          "data": {
            "text/plain": [
              "<IPython.core.display.HTML object>"
            ],
            "text/html": [
              "Tracking run with wandb version 0.12.14"
            ]
          },
          "metadata": {}
        },
        {
          "output_type": "display_data",
          "data": {
            "text/plain": [
              "<IPython.core.display.HTML object>"
            ],
            "text/html": [
              "Run data is saved locally in <code>/content/wandb/run-20220409_142440-pod54r6b</code>"
            ]
          },
          "metadata": {}
        },
        {
          "output_type": "display_data",
          "data": {
            "text/plain": [
              "<IPython.core.display.HTML object>"
            ],
            "text/html": [
              "Syncing run <strong><a href=\"https://wandb.ai/jayant3000/Final_PC_on_fire/runs/pod54r6b\" target=\"_blank\">denim-sweep-16</a></strong> to <a href=\"https://wandb.ai/jayant3000/Final_PC_on_fire\" target=\"_blank\">Weights & Biases</a> (<a href=\"https://wandb.me/run\" target=\"_blank\">docs</a>)<br/>Sweep page:  <a href=\"https://wandb.ai/jayant3000/Final_PC_on_fire/sweeps/flv85syf\" target=\"_blank\">https://wandb.ai/jayant3000/Final_PC_on_fire/sweeps/flv85syf</a>"
            ]
          },
          "metadata": {}
        },
        {
          "output_type": "stream",
          "name": "stdout",
          "text": [
            "Epoch 1/10\n",
            "25/25 [==============================] - 13s 391ms/step - loss: 2.4673 - acc: 0.1262 - val_loss: 2.3776 - val_acc: 0.0312 - _timestamp: 1649514305.0000 - _runtime: 20.0000\n",
            "Epoch 2/10\n",
            "25/25 [==============================] - 11s 370ms/step - loss: 2.0777 - acc: 0.2562 - val_loss: 2.5267 - val_acc: 0.1250 - _timestamp: 1649514325.0000 - _runtime: 40.0000\n",
            "Epoch 3/10\n",
            "25/25 [==============================] - 11s 364ms/step - loss: 1.9236 - acc: 0.3288 - val_loss: 2.4700 - val_acc: 0.1562 - _timestamp: 1649514336.0000 - _runtime: 51.0000\n",
            "Epoch 4/10\n",
            "25/25 [==============================] - 11s 366ms/step - loss: 1.7685 - acc: 0.3963 - val_loss: 2.4857 - val_acc: 0.0938 - _timestamp: 1649514347.0000 - _runtime: 62.0000\n",
            "Epoch 5/10\n",
            "25/25 [==============================] - 11s 362ms/step - loss: 1.6670 - acc: 0.4387 - val_loss: 2.9759 - val_acc: 0.1250 - _timestamp: 1649514358.0000 - _runtime: 73.0000\n",
            "Epoch 6/10\n",
            "25/25 [==============================] - 11s 372ms/step - loss: 1.5441 - acc: 0.4863 - val_loss: 2.6691 - val_acc: 0.0312 - _timestamp: 1649514369.0000 - _runtime: 84.0000\n",
            "Epoch 7/10\n",
            "25/25 [==============================] - 11s 363ms/step - loss: 1.4293 - acc: 0.5587 - val_loss: 2.4474 - val_acc: 0.0938 - _timestamp: 1649514389.0000 - _runtime: 104.0000\n",
            "Epoch 8/10\n",
            "25/25 [==============================] - 11s 363ms/step - loss: 1.2966 - acc: 0.6275 - val_loss: 2.7117 - val_acc: 0.0625 - _timestamp: 1649514400.0000 - _runtime: 115.0000\n"
          ]
        },
        {
          "output_type": "stream",
          "name": "stderr",
          "text": [
            "\u001b[34m\u001b[1mwandb\u001b[0m: Agent Starting Run: 1tzb3osj with config:\n",
            "\u001b[34m\u001b[1mwandb\u001b[0m: \tactivation: relu\n",
            "\u001b[34m\u001b[1mwandb\u001b[0m: \tbatch_norm: False\n",
            "\u001b[34m\u001b[1mwandb\u001b[0m: \tconv_layers: 5\n",
            "\u001b[34m\u001b[1mwandb\u001b[0m: \tdata_aug: True\n",
            "\u001b[34m\u001b[1mwandb\u001b[0m: \tdense_size: 32\n",
            "\u001b[34m\u001b[1mwandb\u001b[0m: \tdropout: 0.2\n",
            "\u001b[34m\u001b[1mwandb\u001b[0m: \tfilter_org: 0.5\n",
            "\u001b[34m\u001b[1mwandb\u001b[0m: \tfirst_layer_filters: 32\n",
            "\u001b[34m\u001b[1mwandb\u001b[0m: \tkernel_size: 3\n",
            "\u001b[34m\u001b[1mwandb\u001b[0m: \tnum_epochs: 10\n",
            "\u001b[34m\u001b[1mwandb\u001b[0m: \toptimizer: adam\n"
          ]
        },
        {
          "output_type": "display_data",
          "data": {
            "text/plain": [
              "<IPython.core.display.HTML object>"
            ],
            "text/html": [
              "Tracking run with wandb version 0.12.14"
            ]
          },
          "metadata": {}
        },
        {
          "output_type": "display_data",
          "data": {
            "text/plain": [
              "<IPython.core.display.HTML object>"
            ],
            "text/html": [
              "Run data is saved locally in <code>/content/wandb/run-20220409_142654-1tzb3osj</code>"
            ]
          },
          "metadata": {}
        },
        {
          "output_type": "display_data",
          "data": {
            "text/plain": [
              "<IPython.core.display.HTML object>"
            ],
            "text/html": [
              "Syncing run <strong><a href=\"https://wandb.ai/jayant3000/Final_PC_on_fire/runs/1tzb3osj\" target=\"_blank\">tough-sweep-17</a></strong> to <a href=\"https://wandb.ai/jayant3000/Final_PC_on_fire\" target=\"_blank\">Weights & Biases</a> (<a href=\"https://wandb.me/run\" target=\"_blank\">docs</a>)<br/>Sweep page:  <a href=\"https://wandb.ai/jayant3000/Final_PC_on_fire/sweeps/flv85syf\" target=\"_blank\">https://wandb.ai/jayant3000/Final_PC_on_fire/sweeps/flv85syf</a>"
            ]
          },
          "metadata": {}
        },
        {
          "output_type": "display_data",
          "data": {
            "text/plain": [
              "<IPython.core.display.HTML object>"
            ],
            "text/html": [
              "Finishing last run (ID:1tzb3osj) before initializing another..."
            ]
          },
          "metadata": {}
        },
        {
          "output_type": "stream",
          "name": "stdout",
          "text": [
            "\n"
          ]
        },
        {
          "output_type": "display_data",
          "data": {
            "text/plain": [
              "<IPython.core.display.HTML object>"
            ],
            "text/html": [
              "Waiting for W&B process to finish... <strong style=\"color:green\">(success).</strong>"
            ]
          },
          "metadata": {}
        },
        {
          "output_type": "display_data",
          "data": {
            "text/plain": [
              "VBox(children=(Label(value='0.001 MB of 0.001 MB uploaded (0.000 MB deduped)\\r'), FloatProgress(value=1.0, max…"
            ],
            "application/vnd.jupyter.widget-view+json": {
              "version_major": 2,
              "version_minor": 0,
              "model_id": "763986036d5c43bbaf6723cb01e28c9d"
            }
          },
          "metadata": {}
        },
        {
          "output_type": "display_data",
          "data": {
            "text/plain": [
              "<IPython.core.display.HTML object>"
            ],
            "text/html": [
              "Synced <strong style=\"color:#cdcd00\">tough-sweep-17</strong>: <a href=\"https://wandb.ai/jayant3000/Final_PC_on_fire/runs/1tzb3osj\" target=\"_blank\">https://wandb.ai/jayant3000/Final_PC_on_fire/runs/1tzb3osj</a><br/>Synced 4 W&B file(s), 0 media file(s), 0 artifact file(s) and 0 other file(s)"
            ]
          },
          "metadata": {}
        },
        {
          "output_type": "display_data",
          "data": {
            "text/plain": [
              "<IPython.core.display.HTML object>"
            ],
            "text/html": [
              "Find logs at: <code>./wandb/run-20220409_142654-1tzb3osj/logs</code>"
            ]
          },
          "metadata": {}
        },
        {
          "output_type": "display_data",
          "data": {
            "text/plain": [
              "<IPython.core.display.HTML object>"
            ],
            "text/html": [
              "Successfully finished last run (ID:1tzb3osj). Initializing new run:<br/>"
            ]
          },
          "metadata": {}
        },
        {
          "output_type": "display_data",
          "data": {
            "text/plain": [
              "<IPython.core.display.HTML object>"
            ],
            "text/html": [
              "Tracking run with wandb version 0.12.14"
            ]
          },
          "metadata": {}
        },
        {
          "output_type": "display_data",
          "data": {
            "text/plain": [
              "<IPython.core.display.HTML object>"
            ],
            "text/html": [
              "Run data is saved locally in <code>/content/wandb/run-20220409_142704-1tzb3osj</code>"
            ]
          },
          "metadata": {}
        },
        {
          "output_type": "display_data",
          "data": {
            "text/plain": [
              "<IPython.core.display.HTML object>"
            ],
            "text/html": [
              "Syncing run <strong><a href=\"https://wandb.ai/jayant3000/Final_PC_on_fire/runs/1tzb3osj\" target=\"_blank\">tough-sweep-17</a></strong> to <a href=\"https://wandb.ai/jayant3000/Final_PC_on_fire\" target=\"_blank\">Weights & Biases</a> (<a href=\"https://wandb.me/run\" target=\"_blank\">docs</a>)<br/>Sweep page:  <a href=\"https://wandb.ai/jayant3000/Final_PC_on_fire/sweeps/flv85syf\" target=\"_blank\">https://wandb.ai/jayant3000/Final_PC_on_fire/sweeps/flv85syf</a>"
            ]
          },
          "metadata": {}
        },
        {
          "output_type": "stream",
          "name": "stdout",
          "text": [
            "Epoch 1/10\n",
            "25/25 [==============================] - 12s 375ms/step - loss: 2.3037 - acc: 0.1050 - val_loss: 2.3025 - val_acc: 0.0938 - _timestamp: 1649514448.0000 - _runtime: 20.0000\n",
            "Epoch 2/10\n",
            "25/25 [==============================] - 11s 359ms/step - loss: 2.3036 - acc: 0.1163 - val_loss: 2.2999 - val_acc: 0.0938 - _timestamp: 1649514459.0000 - _runtime: 31.0000\n",
            "Epoch 3/10\n",
            "25/25 [==============================] - 11s 361ms/step - loss: 2.3023 - acc: 0.1050 - val_loss: 2.2969 - val_acc: 0.1562 - _timestamp: 1649514480.0000 - _runtime: 52.0000\n",
            "Epoch 4/10\n",
            "25/25 [==============================] - 11s 359ms/step - loss: 2.3013 - acc: 0.1138 - val_loss: 2.3035 - val_acc: 0.1250 - _timestamp: 1649514490.0000 - _runtime: 62.0000\n",
            "Epoch 5/10\n",
            "25/25 [==============================] - 11s 365ms/step - loss: 2.3000 - acc: 0.0975 - val_loss: 2.2999 - val_acc: 0.0625 - _timestamp: 1649514501.0000 - _runtime: 73.0000\n",
            "Epoch 6/10\n",
            "25/25 [==============================] - 11s 356ms/step - loss: 2.2987 - acc: 0.1100 - val_loss: 2.3053 - val_acc: 0.0000e+00 - _timestamp: 1649514522.0000 - _runtime: 94.0000\n",
            "Epoch 7/10\n",
            "25/25 [==============================] - 11s 354ms/step - loss: 2.2947 - acc: 0.1300 - val_loss: 2.3073 - val_acc: 0.0625 - _timestamp: 1649514542.0000 - _runtime: 114.0000\n",
            "Epoch 8/10\n",
            "25/25 [==============================] - 11s 360ms/step - loss: 2.2835 - acc: 0.1262 - val_loss: 2.3096 - val_acc: 0.0625 - _timestamp: 1649514563.0000 - _runtime: 135.0000\n"
          ]
        },
        {
          "output_type": "stream",
          "name": "stderr",
          "text": [
            "\u001b[34m\u001b[1mwandb\u001b[0m: Sweep Agent: Waiting for job.\n",
            "\u001b[34m\u001b[1mwandb\u001b[0m: Job received.\n",
            "\u001b[34m\u001b[1mwandb\u001b[0m: Agent Starting Run: wf6rd3ws with config:\n",
            "\u001b[34m\u001b[1mwandb\u001b[0m: \tactivation: relu\n",
            "\u001b[34m\u001b[1mwandb\u001b[0m: \tbatch_norm: True\n",
            "\u001b[34m\u001b[1mwandb\u001b[0m: \tconv_layers: 5\n",
            "\u001b[34m\u001b[1mwandb\u001b[0m: \tdata_aug: True\n",
            "\u001b[34m\u001b[1mwandb\u001b[0m: \tdense_size: 32\n",
            "\u001b[34m\u001b[1mwandb\u001b[0m: \tdropout: 0.2\n",
            "\u001b[34m\u001b[1mwandb\u001b[0m: \tfilter_org: 1\n",
            "\u001b[34m\u001b[1mwandb\u001b[0m: \tfirst_layer_filters: 32\n",
            "\u001b[34m\u001b[1mwandb\u001b[0m: \tkernel_size: 3\n",
            "\u001b[34m\u001b[1mwandb\u001b[0m: \tnum_epochs: 10\n",
            "\u001b[34m\u001b[1mwandb\u001b[0m: \toptimizer: adam\n"
          ]
        },
        {
          "output_type": "display_data",
          "data": {
            "text/plain": [
              "<IPython.core.display.HTML object>"
            ],
            "text/html": [
              "Tracking run with wandb version 0.12.14"
            ]
          },
          "metadata": {}
        },
        {
          "output_type": "display_data",
          "data": {
            "text/plain": [
              "<IPython.core.display.HTML object>"
            ],
            "text/html": [
              "Run data is saved locally in <code>/content/wandb/run-20220409_142937-wf6rd3ws</code>"
            ]
          },
          "metadata": {}
        },
        {
          "output_type": "display_data",
          "data": {
            "text/plain": [
              "<IPython.core.display.HTML object>"
            ],
            "text/html": [
              "Syncing run <strong><a href=\"https://wandb.ai/jayant3000/Final_PC_on_fire/runs/wf6rd3ws\" target=\"_blank\">neat-sweep-18</a></strong> to <a href=\"https://wandb.ai/jayant3000/Final_PC_on_fire\" target=\"_blank\">Weights & Biases</a> (<a href=\"https://wandb.me/run\" target=\"_blank\">docs</a>)<br/>Sweep page:  <a href=\"https://wandb.ai/jayant3000/Final_PC_on_fire/sweeps/flv85syf\" target=\"_blank\">https://wandb.ai/jayant3000/Final_PC_on_fire/sweeps/flv85syf</a>"
            ]
          },
          "metadata": {}
        },
        {
          "output_type": "display_data",
          "data": {
            "text/plain": [
              "<IPython.core.display.HTML object>"
            ],
            "text/html": [
              "Finishing last run (ID:wf6rd3ws) before initializing another..."
            ]
          },
          "metadata": {}
        },
        {
          "output_type": "stream",
          "name": "stdout",
          "text": [
            "\n"
          ]
        },
        {
          "output_type": "display_data",
          "data": {
            "text/plain": [
              "<IPython.core.display.HTML object>"
            ],
            "text/html": [
              "Waiting for W&B process to finish... <strong style=\"color:green\">(success).</strong>"
            ]
          },
          "metadata": {}
        },
        {
          "output_type": "display_data",
          "data": {
            "text/plain": [
              "VBox(children=(Label(value='0.001 MB of 0.001 MB uploaded (0.000 MB deduped)\\r'), FloatProgress(value=1.0, max…"
            ],
            "application/vnd.jupyter.widget-view+json": {
              "version_major": 2,
              "version_minor": 0,
              "model_id": "394512b84e6d464994a93676c82fd2f3"
            }
          },
          "metadata": {}
        },
        {
          "output_type": "display_data",
          "data": {
            "text/plain": [
              "<IPython.core.display.HTML object>"
            ],
            "text/html": [
              "Synced <strong style=\"color:#cdcd00\">neat-sweep-18</strong>: <a href=\"https://wandb.ai/jayant3000/Final_PC_on_fire/runs/wf6rd3ws\" target=\"_blank\">https://wandb.ai/jayant3000/Final_PC_on_fire/runs/wf6rd3ws</a><br/>Synced 4 W&B file(s), 0 media file(s), 0 artifact file(s) and 0 other file(s)"
            ]
          },
          "metadata": {}
        },
        {
          "output_type": "display_data",
          "data": {
            "text/plain": [
              "<IPython.core.display.HTML object>"
            ],
            "text/html": [
              "Find logs at: <code>./wandb/run-20220409_142937-wf6rd3ws/logs</code>"
            ]
          },
          "metadata": {}
        },
        {
          "output_type": "display_data",
          "data": {
            "text/plain": [
              "<IPython.core.display.HTML object>"
            ],
            "text/html": [
              "Successfully finished last run (ID:wf6rd3ws). Initializing new run:<br/>"
            ]
          },
          "metadata": {}
        },
        {
          "output_type": "display_data",
          "data": {
            "text/plain": [
              "<IPython.core.display.HTML object>"
            ],
            "text/html": [
              "Tracking run with wandb version 0.12.14"
            ]
          },
          "metadata": {}
        },
        {
          "output_type": "display_data",
          "data": {
            "text/plain": [
              "<IPython.core.display.HTML object>"
            ],
            "text/html": [
              "Run data is saved locally in <code>/content/wandb/run-20220409_142946-wf6rd3ws</code>"
            ]
          },
          "metadata": {}
        },
        {
          "output_type": "display_data",
          "data": {
            "text/plain": [
              "<IPython.core.display.HTML object>"
            ],
            "text/html": [
              "Syncing run <strong><a href=\"https://wandb.ai/jayant3000/Final_PC_on_fire/runs/wf6rd3ws\" target=\"_blank\">neat-sweep-18</a></strong> to <a href=\"https://wandb.ai/jayant3000/Final_PC_on_fire\" target=\"_blank\">Weights & Biases</a> (<a href=\"https://wandb.me/run\" target=\"_blank\">docs</a>)<br/>Sweep page:  <a href=\"https://wandb.ai/jayant3000/Final_PC_on_fire/sweeps/flv85syf\" target=\"_blank\">https://wandb.ai/jayant3000/Final_PC_on_fire/sweeps/flv85syf</a>"
            ]
          },
          "metadata": {}
        },
        {
          "output_type": "stream",
          "name": "stdout",
          "text": [
            "Epoch 1/10\n",
            "25/25 [==============================] - 13s 391ms/step - loss: 2.4832 - acc: 0.1538 - val_loss: 2.3495 - val_acc: 0.0625 - _timestamp: 1649514611.0000 - _runtime: 21.0000\n",
            "Epoch 2/10\n",
            "25/25 [==============================] - 11s 371ms/step - loss: 2.1326 - acc: 0.2512 - val_loss: 2.3675 - val_acc: 0.0938 - _timestamp: 1649514622.0000 - _runtime: 32.0000\n",
            "Epoch 3/10\n",
            "25/25 [==============================] - 11s 368ms/step - loss: 2.0089 - acc: 0.3038 - val_loss: 2.4470 - val_acc: 0.0625 - _timestamp: 1649514633.0000 - _runtime: 43.0000\n",
            "Epoch 4/10\n",
            "25/25 [==============================] - 11s 368ms/step - loss: 1.7863 - acc: 0.3887 - val_loss: 2.4096 - val_acc: 0.0625 - _timestamp: 1649514644.0000 - _runtime: 54.0000\n",
            "Epoch 5/10\n",
            "25/25 [==============================] - 11s 367ms/step - loss: 1.6555 - acc: 0.4487 - val_loss: 2.3502 - val_acc: 0.1875 - _timestamp: 1649514655.0000 - _runtime: 65.0000\n",
            "Epoch 6/10\n",
            "25/25 [==============================] - 11s 372ms/step - loss: 1.5478 - acc: 0.5050 - val_loss: 2.5821 - val_acc: 0.0625 - _timestamp: 1649514676.0000 - _runtime: 86.0000\n",
            "Epoch 7/10\n",
            "25/25 [==============================] - 11s 373ms/step - loss: 1.4082 - acc: 0.5850 - val_loss: 2.2665 - val_acc: 0.0625 - _timestamp: 1649514696.0000 - _runtime: 106.0000\n",
            "Epoch 8/10\n",
            "25/25 [==============================] - 11s 371ms/step - loss: 1.2916 - acc: 0.6375 - val_loss: 2.4908 - val_acc: 0.0625 - _timestamp: 1649514707.0000 - _runtime: 117.0000\n",
            "Epoch 9/10\n",
            "25/25 [==============================] - 11s 368ms/step - loss: 1.1923 - acc: 0.6475 - val_loss: 2.3129 - val_acc: 0.1875 - _timestamp: 1649514728.0000 - _runtime: 138.0000\n",
            "Epoch 10/10\n",
            "25/25 [==============================] - 11s 369ms/step - loss: 1.0763 - acc: 0.7175 - val_loss: 2.5100 - val_acc: 0.0625 - _timestamp: 1649514748.0000 - _runtime: 158.0000\n"
          ]
        },
        {
          "output_type": "stream",
          "name": "stderr",
          "text": [
            "\u001b[34m\u001b[1mwandb\u001b[0m: Agent Starting Run: 9up1yt4f with config:\n",
            "\u001b[34m\u001b[1mwandb\u001b[0m: \tactivation: relu\n",
            "\u001b[34m\u001b[1mwandb\u001b[0m: \tbatch_norm: True\n",
            "\u001b[34m\u001b[1mwandb\u001b[0m: \tconv_layers: 5\n",
            "\u001b[34m\u001b[1mwandb\u001b[0m: \tdata_aug: False\n",
            "\u001b[34m\u001b[1mwandb\u001b[0m: \tdense_size: 32\n",
            "\u001b[34m\u001b[1mwandb\u001b[0m: \tdropout: 0.3\n",
            "\u001b[34m\u001b[1mwandb\u001b[0m: \tfilter_org: 0.5\n",
            "\u001b[34m\u001b[1mwandb\u001b[0m: \tfirst_layer_filters: 64\n",
            "\u001b[34m\u001b[1mwandb\u001b[0m: \tkernel_size: 3\n",
            "\u001b[34m\u001b[1mwandb\u001b[0m: \tnum_epochs: 10\n",
            "\u001b[34m\u001b[1mwandb\u001b[0m: \toptimizer: adam\n"
          ]
        },
        {
          "output_type": "display_data",
          "data": {
            "text/plain": [
              "<IPython.core.display.HTML object>"
            ],
            "text/html": [
              "Tracking run with wandb version 0.12.14"
            ]
          },
          "metadata": {}
        },
        {
          "output_type": "display_data",
          "data": {
            "text/plain": [
              "<IPython.core.display.HTML object>"
            ],
            "text/html": [
              "Run data is saved locally in <code>/content/wandb/run-20220409_143234-9up1yt4f</code>"
            ]
          },
          "metadata": {}
        },
        {
          "output_type": "display_data",
          "data": {
            "text/plain": [
              "<IPython.core.display.HTML object>"
            ],
            "text/html": [
              "Syncing run <strong><a href=\"https://wandb.ai/jayant3000/Final_PC_on_fire/runs/9up1yt4f\" target=\"_blank\">decent-sweep-19</a></strong> to <a href=\"https://wandb.ai/jayant3000/Final_PC_on_fire\" target=\"_blank\">Weights & Biases</a> (<a href=\"https://wandb.me/run\" target=\"_blank\">docs</a>)<br/>Sweep page:  <a href=\"https://wandb.ai/jayant3000/Final_PC_on_fire/sweeps/flv85syf\" target=\"_blank\">https://wandb.ai/jayant3000/Final_PC_on_fire/sweeps/flv85syf</a>"
            ]
          },
          "metadata": {}
        },
        {
          "output_type": "display_data",
          "data": {
            "text/plain": [
              "<IPython.core.display.HTML object>"
            ],
            "text/html": [
              "Finishing last run (ID:9up1yt4f) before initializing another..."
            ]
          },
          "metadata": {}
        },
        {
          "output_type": "stream",
          "name": "stdout",
          "text": [
            "\n"
          ]
        },
        {
          "output_type": "display_data",
          "data": {
            "text/plain": [
              "<IPython.core.display.HTML object>"
            ],
            "text/html": [
              "Waiting for W&B process to finish... <strong style=\"color:green\">(success).</strong>"
            ]
          },
          "metadata": {}
        },
        {
          "output_type": "display_data",
          "data": {
            "text/plain": [
              "VBox(children=(Label(value='0.001 MB of 0.001 MB uploaded (0.000 MB deduped)\\r'), FloatProgress(value=1.0, max…"
            ],
            "application/vnd.jupyter.widget-view+json": {
              "version_major": 2,
              "version_minor": 0,
              "model_id": "73628cd3783b4bb4929acd5e338c0662"
            }
          },
          "metadata": {}
        },
        {
          "output_type": "display_data",
          "data": {
            "text/plain": [
              "<IPython.core.display.HTML object>"
            ],
            "text/html": [
              "Synced <strong style=\"color:#cdcd00\">decent-sweep-19</strong>: <a href=\"https://wandb.ai/jayant3000/Final_PC_on_fire/runs/9up1yt4f\" target=\"_blank\">https://wandb.ai/jayant3000/Final_PC_on_fire/runs/9up1yt4f</a><br/>Synced 4 W&B file(s), 0 media file(s), 0 artifact file(s) and 0 other file(s)"
            ]
          },
          "metadata": {}
        },
        {
          "output_type": "display_data",
          "data": {
            "text/plain": [
              "<IPython.core.display.HTML object>"
            ],
            "text/html": [
              "Find logs at: <code>./wandb/run-20220409_143234-9up1yt4f/logs</code>"
            ]
          },
          "metadata": {}
        },
        {
          "output_type": "display_data",
          "data": {
            "text/plain": [
              "<IPython.core.display.HTML object>"
            ],
            "text/html": [
              "Successfully finished last run (ID:9up1yt4f). Initializing new run:<br/>"
            ]
          },
          "metadata": {}
        },
        {
          "output_type": "display_data",
          "data": {
            "text/plain": [
              "<IPython.core.display.HTML object>"
            ],
            "text/html": [
              "Tracking run with wandb version 0.12.14"
            ]
          },
          "metadata": {}
        },
        {
          "output_type": "display_data",
          "data": {
            "text/plain": [
              "<IPython.core.display.HTML object>"
            ],
            "text/html": [
              "Run data is saved locally in <code>/content/wandb/run-20220409_143243-9up1yt4f</code>"
            ]
          },
          "metadata": {}
        },
        {
          "output_type": "display_data",
          "data": {
            "text/plain": [
              "<IPython.core.display.HTML object>"
            ],
            "text/html": [
              "Syncing run <strong><a href=\"https://wandb.ai/jayant3000/Final_PC_on_fire/runs/9up1yt4f\" target=\"_blank\">decent-sweep-19</a></strong> to <a href=\"https://wandb.ai/jayant3000/Final_PC_on_fire\" target=\"_blank\">Weights & Biases</a> (<a href=\"https://wandb.me/run\" target=\"_blank\">docs</a>)<br/>Sweep page:  <a href=\"https://wandb.ai/jayant3000/Final_PC_on_fire/sweeps/flv85syf\" target=\"_blank\">https://wandb.ai/jayant3000/Final_PC_on_fire/sweeps/flv85syf</a>"
            ]
          },
          "metadata": {}
        },
        {
          "output_type": "stream",
          "name": "stdout",
          "text": [
            "Epoch 1/10\n",
            "25/25 [==============================] - 14s 416ms/step - loss: 2.6209 - acc: 0.1088 - val_loss: 2.3254 - val_acc: 0.0938 - _timestamp: 1649514789.0000 - _runtime: 22.0000\n",
            "Epoch 2/10\n",
            "25/25 [==============================] - 12s 399ms/step - loss: 2.3958 - acc: 0.1475 - val_loss: 2.3321 - val_acc: 0.0938 - _timestamp: 1649514801.0000 - _runtime: 34.0000\n",
            "Epoch 3/10\n",
            "25/25 [==============================] - 12s 399ms/step - loss: 2.3237 - acc: 0.1525 - val_loss: 2.3307 - val_acc: 0.1562 - _timestamp: 1649514821.0000 - _runtime: 54.0000\n",
            "Epoch 4/10\n",
            "25/25 [==============================] - 12s 389ms/step - loss: 2.2647 - acc: 0.1912 - val_loss: 2.3772 - val_acc: 0.0625 - _timestamp: 1649514833.0000 - _runtime: 66.0000\n",
            "Epoch 5/10\n",
            "25/25 [==============================] - 12s 393ms/step - loss: 2.1759 - acc: 0.2188 - val_loss: 2.4071 - val_acc: 0.0938 - _timestamp: 1649514854.0000 - _runtime: 87.0000\n",
            "Epoch 6/10\n",
            "25/25 [==============================] - 12s 399ms/step - loss: 2.1460 - acc: 0.2212 - val_loss: 2.5030 - val_acc: 0.0312 - _timestamp: 1649514874.0000 - _runtime: 107.0000\n",
            "Epoch 7/10\n",
            "25/25 [==============================] - 12s 401ms/step - loss: 2.1009 - acc: 0.2350 - val_loss: 2.4647 - val_acc: 0.0000e+00 - _timestamp: 1649514886.0000 - _runtime: 119.0000\n",
            "Epoch 8/10\n",
            "25/25 [==============================] - 12s 399ms/step - loss: 2.0221 - acc: 0.2625 - val_loss: 2.5390 - val_acc: 0.0312 - _timestamp: 1649514907.0000 - _runtime: 140.0000\n"
          ]
        },
        {
          "output_type": "stream",
          "name": "stderr",
          "text": [
            "\u001b[34m\u001b[1mwandb\u001b[0m: Sweep Agent: Waiting for job.\n",
            "\u001b[34m\u001b[1mwandb\u001b[0m: Job received.\n",
            "\u001b[34m\u001b[1mwandb\u001b[0m: Agent Starting Run: p5oozugv with config:\n",
            "\u001b[34m\u001b[1mwandb\u001b[0m: \tactivation: relu\n",
            "\u001b[34m\u001b[1mwandb\u001b[0m: \tbatch_norm: True\n",
            "\u001b[34m\u001b[1mwandb\u001b[0m: \tconv_layers: 5\n",
            "\u001b[34m\u001b[1mwandb\u001b[0m: \tdata_aug: True\n",
            "\u001b[34m\u001b[1mwandb\u001b[0m: \tdense_size: 32\n",
            "\u001b[34m\u001b[1mwandb\u001b[0m: \tdropout: 0.3\n",
            "\u001b[34m\u001b[1mwandb\u001b[0m: \tfilter_org: 1\n",
            "\u001b[34m\u001b[1mwandb\u001b[0m: \tfirst_layer_filters: 32\n",
            "\u001b[34m\u001b[1mwandb\u001b[0m: \tkernel_size: 3\n",
            "\u001b[34m\u001b[1mwandb\u001b[0m: \tnum_epochs: 10\n",
            "\u001b[34m\u001b[1mwandb\u001b[0m: \toptimizer: adam\n"
          ]
        },
        {
          "output_type": "display_data",
          "data": {
            "text/plain": [
              "<IPython.core.display.HTML object>"
            ],
            "text/html": [
              "Tracking run with wandb version 0.12.14"
            ]
          },
          "metadata": {}
        },
        {
          "output_type": "display_data",
          "data": {
            "text/plain": [
              "<IPython.core.display.HTML object>"
            ],
            "text/html": [
              "Run data is saved locally in <code>/content/wandb/run-20220409_143540-p5oozugv</code>"
            ]
          },
          "metadata": {}
        },
        {
          "output_type": "display_data",
          "data": {
            "text/plain": [
              "<IPython.core.display.HTML object>"
            ],
            "text/html": [
              "Syncing run <strong><a href=\"https://wandb.ai/jayant3000/Final_PC_on_fire/runs/p5oozugv\" target=\"_blank\">misunderstood-sweep-20</a></strong> to <a href=\"https://wandb.ai/jayant3000/Final_PC_on_fire\" target=\"_blank\">Weights & Biases</a> (<a href=\"https://wandb.me/run\" target=\"_blank\">docs</a>)<br/>Sweep page:  <a href=\"https://wandb.ai/jayant3000/Final_PC_on_fire/sweeps/flv85syf\" target=\"_blank\">https://wandb.ai/jayant3000/Final_PC_on_fire/sweeps/flv85syf</a>"
            ]
          },
          "metadata": {}
        },
        {
          "output_type": "display_data",
          "data": {
            "text/plain": [
              "<IPython.core.display.HTML object>"
            ],
            "text/html": [
              "Finishing last run (ID:p5oozugv) before initializing another..."
            ]
          },
          "metadata": {}
        },
        {
          "output_type": "stream",
          "name": "stdout",
          "text": [
            "\n"
          ]
        },
        {
          "output_type": "display_data",
          "data": {
            "text/plain": [
              "<IPython.core.display.HTML object>"
            ],
            "text/html": [
              "Waiting for W&B process to finish... <strong style=\"color:green\">(success).</strong>"
            ]
          },
          "metadata": {}
        },
        {
          "output_type": "display_data",
          "data": {
            "text/plain": [
              "VBox(children=(Label(value='0.001 MB of 0.001 MB uploaded (0.000 MB deduped)\\r'), FloatProgress(value=1.0, max…"
            ],
            "application/vnd.jupyter.widget-view+json": {
              "version_major": 2,
              "version_minor": 0,
              "model_id": "ed440cc09d4d484ea0057d022b1eb5b8"
            }
          },
          "metadata": {}
        },
        {
          "output_type": "display_data",
          "data": {
            "text/plain": [
              "<IPython.core.display.HTML object>"
            ],
            "text/html": [
              "Synced <strong style=\"color:#cdcd00\">misunderstood-sweep-20</strong>: <a href=\"https://wandb.ai/jayant3000/Final_PC_on_fire/runs/p5oozugv\" target=\"_blank\">https://wandb.ai/jayant3000/Final_PC_on_fire/runs/p5oozugv</a><br/>Synced 4 W&B file(s), 0 media file(s), 0 artifact file(s) and 0 other file(s)"
            ]
          },
          "metadata": {}
        },
        {
          "output_type": "display_data",
          "data": {
            "text/plain": [
              "<IPython.core.display.HTML object>"
            ],
            "text/html": [
              "Find logs at: <code>./wandb/run-20220409_143540-p5oozugv/logs</code>"
            ]
          },
          "metadata": {}
        },
        {
          "output_type": "display_data",
          "data": {
            "text/plain": [
              "<IPython.core.display.HTML object>"
            ],
            "text/html": [
              "Successfully finished last run (ID:p5oozugv). Initializing new run:<br/>"
            ]
          },
          "metadata": {}
        },
        {
          "output_type": "display_data",
          "data": {
            "text/plain": [
              "<IPython.core.display.HTML object>"
            ],
            "text/html": [
              "Tracking run with wandb version 0.12.14"
            ]
          },
          "metadata": {}
        },
        {
          "output_type": "display_data",
          "data": {
            "text/plain": [
              "<IPython.core.display.HTML object>"
            ],
            "text/html": [
              "Run data is saved locally in <code>/content/wandb/run-20220409_143551-p5oozugv</code>"
            ]
          },
          "metadata": {}
        },
        {
          "output_type": "display_data",
          "data": {
            "text/plain": [
              "<IPython.core.display.HTML object>"
            ],
            "text/html": [
              "Syncing run <strong><a href=\"https://wandb.ai/jayant3000/Final_PC_on_fire/runs/p5oozugv\" target=\"_blank\">misunderstood-sweep-20</a></strong> to <a href=\"https://wandb.ai/jayant3000/Final_PC_on_fire\" target=\"_blank\">Weights & Biases</a> (<a href=\"https://wandb.me/run\" target=\"_blank\">docs</a>)<br/>Sweep page:  <a href=\"https://wandb.ai/jayant3000/Final_PC_on_fire/sweeps/flv85syf\" target=\"_blank\">https://wandb.ai/jayant3000/Final_PC_on_fire/sweeps/flv85syf</a>"
            ]
          },
          "metadata": {}
        },
        {
          "output_type": "stream",
          "name": "stdout",
          "text": [
            "Epoch 1/10\n",
            "25/25 [==============================] - 13s 382ms/step - loss: 2.5924 - acc: 0.1100 - val_loss: 2.3208 - val_acc: 0.0625 - _timestamp: 1649514976.0000 - _runtime: 20.0000\n",
            "Epoch 2/10\n",
            "25/25 [==============================] - 11s 368ms/step - loss: 2.2310 - acc: 0.2013 - val_loss: 2.3371 - val_acc: 0.1562 - _timestamp: 1649514988.0000 - _runtime: 32.0000\n",
            "Epoch 3/10\n",
            "25/25 [==============================] - 11s 374ms/step - loss: 2.0305 - acc: 0.2763 - val_loss: 2.4227 - val_acc: 0.0312 - _timestamp: 1649515008.0000 - _runtime: 52.0000\n",
            "Epoch 4/10\n",
            "25/25 [==============================] - 11s 371ms/step - loss: 1.8821 - acc: 0.3625 - val_loss: 2.4578 - val_acc: 0.0625 - _timestamp: 1649515019.0000 - _runtime: 63.0000\n",
            "Epoch 5/10\n",
            "25/25 [==============================] - 11s 381ms/step - loss: 1.7429 - acc: 0.4075 - val_loss: 2.4708 - val_acc: 0.0938 - _timestamp: 1649515040.0000 - _runtime: 84.0000\n",
            "Epoch 6/10\n",
            "25/25 [==============================] - 11s 375ms/step - loss: 1.6701 - acc: 0.4212 - val_loss: 2.4167 - val_acc: 0.1250 - _timestamp: 1649515060.0000 - _runtime: 104.0000\n",
            "Epoch 7/10\n",
            "25/25 [==============================] - 11s 369ms/step - loss: 1.5607 - acc: 0.4837 - val_loss: 2.4975 - val_acc: 0.0938 - _timestamp: 1649515071.0000 - _runtime: 115.0000\n"
          ]
        },
        {
          "output_type": "stream",
          "name": "stderr",
          "text": [
            "\u001b[34m\u001b[1mwandb\u001b[0m: Agent Starting Run: jwtyy62k with config:\n",
            "\u001b[34m\u001b[1mwandb\u001b[0m: \tactivation: relu\n",
            "\u001b[34m\u001b[1mwandb\u001b[0m: \tbatch_norm: False\n",
            "\u001b[34m\u001b[1mwandb\u001b[0m: \tconv_layers: 5\n",
            "\u001b[34m\u001b[1mwandb\u001b[0m: \tdata_aug: True\n",
            "\u001b[34m\u001b[1mwandb\u001b[0m: \tdense_size: 32\n",
            "\u001b[34m\u001b[1mwandb\u001b[0m: \tdropout: 0.3\n",
            "\u001b[34m\u001b[1mwandb\u001b[0m: \tfilter_org: 2\n",
            "\u001b[34m\u001b[1mwandb\u001b[0m: \tfirst_layer_filters: 64\n",
            "\u001b[34m\u001b[1mwandb\u001b[0m: \tkernel_size: 3\n",
            "\u001b[34m\u001b[1mwandb\u001b[0m: \tnum_epochs: 10\n",
            "\u001b[34m\u001b[1mwandb\u001b[0m: \toptimizer: adam\n"
          ]
        },
        {
          "output_type": "display_data",
          "data": {
            "text/plain": [
              "<IPython.core.display.HTML object>"
            ],
            "text/html": [
              "Tracking run with wandb version 0.12.14"
            ]
          },
          "metadata": {}
        },
        {
          "output_type": "display_data",
          "data": {
            "text/plain": [
              "<IPython.core.display.HTML object>"
            ],
            "text/html": [
              "Run data is saved locally in <code>/content/wandb/run-20220409_143800-jwtyy62k</code>"
            ]
          },
          "metadata": {}
        },
        {
          "output_type": "display_data",
          "data": {
            "text/plain": [
              "<IPython.core.display.HTML object>"
            ],
            "text/html": [
              "Syncing run <strong><a href=\"https://wandb.ai/jayant3000/Final_PC_on_fire/runs/jwtyy62k\" target=\"_blank\">revived-sweep-21</a></strong> to <a href=\"https://wandb.ai/jayant3000/Final_PC_on_fire\" target=\"_blank\">Weights & Biases</a> (<a href=\"https://wandb.me/run\" target=\"_blank\">docs</a>)<br/>Sweep page:  <a href=\"https://wandb.ai/jayant3000/Final_PC_on_fire/sweeps/flv85syf\" target=\"_blank\">https://wandb.ai/jayant3000/Final_PC_on_fire/sweeps/flv85syf</a>"
            ]
          },
          "metadata": {}
        },
        {
          "output_type": "display_data",
          "data": {
            "text/plain": [
              "<IPython.core.display.HTML object>"
            ],
            "text/html": [
              "Finishing last run (ID:jwtyy62k) before initializing another..."
            ]
          },
          "metadata": {}
        },
        {
          "output_type": "stream",
          "name": "stdout",
          "text": [
            "\n"
          ]
        },
        {
          "output_type": "display_data",
          "data": {
            "text/plain": [
              "<IPython.core.display.HTML object>"
            ],
            "text/html": [
              "Waiting for W&B process to finish... <strong style=\"color:green\">(success).</strong>"
            ]
          },
          "metadata": {}
        },
        {
          "output_type": "display_data",
          "data": {
            "text/plain": [
              "VBox(children=(Label(value='0.001 MB of 0.001 MB uploaded (0.000 MB deduped)\\r'), FloatProgress(value=1.0, max…"
            ],
            "application/vnd.jupyter.widget-view+json": {
              "version_major": 2,
              "version_minor": 0,
              "model_id": "70229ff920ae47bf9d9a31ceb0fc490e"
            }
          },
          "metadata": {}
        },
        {
          "output_type": "display_data",
          "data": {
            "text/plain": [
              "<IPython.core.display.HTML object>"
            ],
            "text/html": [
              "Synced <strong style=\"color:#cdcd00\">revived-sweep-21</strong>: <a href=\"https://wandb.ai/jayant3000/Final_PC_on_fire/runs/jwtyy62k\" target=\"_blank\">https://wandb.ai/jayant3000/Final_PC_on_fire/runs/jwtyy62k</a><br/>Synced 4 W&B file(s), 0 media file(s), 0 artifact file(s) and 0 other file(s)"
            ]
          },
          "metadata": {}
        },
        {
          "output_type": "display_data",
          "data": {
            "text/plain": [
              "<IPython.core.display.HTML object>"
            ],
            "text/html": [
              "Find logs at: <code>./wandb/run-20220409_143800-jwtyy62k/logs</code>"
            ]
          },
          "metadata": {}
        },
        {
          "output_type": "display_data",
          "data": {
            "text/plain": [
              "<IPython.core.display.HTML object>"
            ],
            "text/html": [
              "Successfully finished last run (ID:jwtyy62k). Initializing new run:<br/>"
            ]
          },
          "metadata": {}
        },
        {
          "output_type": "display_data",
          "data": {
            "text/plain": [
              "<IPython.core.display.HTML object>"
            ],
            "text/html": [
              "Tracking run with wandb version 0.12.14"
            ]
          },
          "metadata": {}
        },
        {
          "output_type": "display_data",
          "data": {
            "text/plain": [
              "<IPython.core.display.HTML object>"
            ],
            "text/html": [
              "Run data is saved locally in <code>/content/wandb/run-20220409_143808-jwtyy62k</code>"
            ]
          },
          "metadata": {}
        },
        {
          "output_type": "display_data",
          "data": {
            "text/plain": [
              "<IPython.core.display.HTML object>"
            ],
            "text/html": [
              "Syncing run <strong><a href=\"https://wandb.ai/jayant3000/Final_PC_on_fire/runs/jwtyy62k\" target=\"_blank\">revived-sweep-21</a></strong> to <a href=\"https://wandb.ai/jayant3000/Final_PC_on_fire\" target=\"_blank\">Weights & Biases</a> (<a href=\"https://wandb.me/run\" target=\"_blank\">docs</a>)<br/>Sweep page:  <a href=\"https://wandb.ai/jayant3000/Final_PC_on_fire/sweeps/flv85syf\" target=\"_blank\">https://wandb.ai/jayant3000/Final_PC_on_fire/sweeps/flv85syf</a>"
            ]
          },
          "metadata": {}
        },
        {
          "output_type": "stream",
          "name": "stdout",
          "text": [
            "Epoch 1/10\n",
            "25/25 [==============================] - 14s 470ms/step - loss: 2.3201 - acc: 0.0962 - val_loss: 2.3036 - val_acc: 0.0938 - _timestamp: 1649515116.0000 - _runtime: 22.0000\n",
            "Epoch 2/10\n",
            "25/25 [==============================] - 14s 466ms/step - loss: 2.3026 - acc: 0.1112 - val_loss: 2.3033 - val_acc: 0.1250 - _timestamp: 1649515130.0000 - _runtime: 36.0000\n",
            "Epoch 3/10\n",
            "25/25 [==============================] - 13s 458ms/step - loss: 2.3018 - acc: 0.1013 - val_loss: 2.2907 - val_acc: 0.0625 - _timestamp: 1649515150.0000 - _runtime: 56.0000\n",
            "Epoch 4/10\n",
            "25/25 [==============================] - 13s 448ms/step - loss: 2.3012 - acc: 0.1075 - val_loss: 2.2924 - val_acc: 0.1250 - _timestamp: 1649515163.0000 - _runtime: 69.0000\n",
            "Epoch 5/10\n",
            "25/25 [==============================] - 14s 471ms/step - loss: 2.2998 - acc: 0.1187 - val_loss: 2.3012 - val_acc: 0.1250 - _timestamp: 1649515184.0000 - _runtime: 90.0000\n",
            "Epoch 6/10\n",
            "25/25 [==============================] - 14s 463ms/step - loss: 2.2955 - acc: 0.1175 - val_loss: 2.3224 - val_acc: 0.1250 - _timestamp: 1649515205.0000 - _runtime: 111.0000\n",
            "Epoch 7/10\n",
            "25/25 [==============================] - 14s 467ms/step - loss: 2.3016 - acc: 0.1163 - val_loss: 2.3078 - val_acc: 0.0938 - _timestamp: 1649515225.0000 - _runtime: 131.0000\n"
          ]
        },
        {
          "output_type": "stream",
          "name": "stderr",
          "text": [
            "\u001b[34m\u001b[1mwandb\u001b[0m: Agent Starting Run: asq6ktq7 with config:\n",
            "\u001b[34m\u001b[1mwandb\u001b[0m: \tactivation: relu\n",
            "\u001b[34m\u001b[1mwandb\u001b[0m: \tbatch_norm: True\n",
            "\u001b[34m\u001b[1mwandb\u001b[0m: \tconv_layers: 5\n",
            "\u001b[34m\u001b[1mwandb\u001b[0m: \tdata_aug: True\n",
            "\u001b[34m\u001b[1mwandb\u001b[0m: \tdense_size: 32\n",
            "\u001b[34m\u001b[1mwandb\u001b[0m: \tdropout: 0.3\n",
            "\u001b[34m\u001b[1mwandb\u001b[0m: \tfilter_org: 0.5\n",
            "\u001b[34m\u001b[1mwandb\u001b[0m: \tfirst_layer_filters: 32\n",
            "\u001b[34m\u001b[1mwandb\u001b[0m: \tkernel_size: 3\n",
            "\u001b[34m\u001b[1mwandb\u001b[0m: \tnum_epochs: 10\n",
            "\u001b[34m\u001b[1mwandb\u001b[0m: \toptimizer: adam\n"
          ]
        },
        {
          "output_type": "display_data",
          "data": {
            "text/plain": [
              "<IPython.core.display.HTML object>"
            ],
            "text/html": [
              "Tracking run with wandb version 0.12.14"
            ]
          },
          "metadata": {}
        },
        {
          "output_type": "display_data",
          "data": {
            "text/plain": [
              "<IPython.core.display.HTML object>"
            ],
            "text/html": [
              "Run data is saved locally in <code>/content/wandb/run-20220409_144036-asq6ktq7</code>"
            ]
          },
          "metadata": {}
        },
        {
          "output_type": "display_data",
          "data": {
            "text/plain": [
              "<IPython.core.display.HTML object>"
            ],
            "text/html": [
              "Syncing run <strong><a href=\"https://wandb.ai/jayant3000/Final_PC_on_fire/runs/asq6ktq7\" target=\"_blank\">fallen-sweep-22</a></strong> to <a href=\"https://wandb.ai/jayant3000/Final_PC_on_fire\" target=\"_blank\">Weights & Biases</a> (<a href=\"https://wandb.me/run\" target=\"_blank\">docs</a>)<br/>Sweep page:  <a href=\"https://wandb.ai/jayant3000/Final_PC_on_fire/sweeps/flv85syf\" target=\"_blank\">https://wandb.ai/jayant3000/Final_PC_on_fire/sweeps/flv85syf</a>"
            ]
          },
          "metadata": {}
        },
        {
          "output_type": "display_data",
          "data": {
            "text/plain": [
              "<IPython.core.display.HTML object>"
            ],
            "text/html": [
              "Finishing last run (ID:asq6ktq7) before initializing another..."
            ]
          },
          "metadata": {}
        },
        {
          "output_type": "stream",
          "name": "stdout",
          "text": [
            "\n"
          ]
        },
        {
          "output_type": "display_data",
          "data": {
            "text/plain": [
              "<IPython.core.display.HTML object>"
            ],
            "text/html": [
              "Waiting for W&B process to finish... <strong style=\"color:green\">(success).</strong>"
            ]
          },
          "metadata": {}
        },
        {
          "output_type": "display_data",
          "data": {
            "text/plain": [
              "VBox(children=(Label(value='0.001 MB of 0.001 MB uploaded (0.000 MB deduped)\\r'), FloatProgress(value=1.0, max…"
            ],
            "application/vnd.jupyter.widget-view+json": {
              "version_major": 2,
              "version_minor": 0,
              "model_id": "427dff9df1d0424295b3f486ea167c41"
            }
          },
          "metadata": {}
        },
        {
          "output_type": "display_data",
          "data": {
            "text/plain": [
              "<IPython.core.display.HTML object>"
            ],
            "text/html": [
              "Synced <strong style=\"color:#cdcd00\">fallen-sweep-22</strong>: <a href=\"https://wandb.ai/jayant3000/Final_PC_on_fire/runs/asq6ktq7\" target=\"_blank\">https://wandb.ai/jayant3000/Final_PC_on_fire/runs/asq6ktq7</a><br/>Synced 4 W&B file(s), 0 media file(s), 0 artifact file(s) and 0 other file(s)"
            ]
          },
          "metadata": {}
        },
        {
          "output_type": "display_data",
          "data": {
            "text/plain": [
              "<IPython.core.display.HTML object>"
            ],
            "text/html": [
              "Find logs at: <code>./wandb/run-20220409_144036-asq6ktq7/logs</code>"
            ]
          },
          "metadata": {}
        },
        {
          "output_type": "display_data",
          "data": {
            "text/plain": [
              "<IPython.core.display.HTML object>"
            ],
            "text/html": [
              "Successfully finished last run (ID:asq6ktq7). Initializing new run:<br/>"
            ]
          },
          "metadata": {}
        },
        {
          "output_type": "display_data",
          "data": {
            "text/plain": [
              "<IPython.core.display.HTML object>"
            ],
            "text/html": [
              "Tracking run with wandb version 0.12.14"
            ]
          },
          "metadata": {}
        },
        {
          "output_type": "display_data",
          "data": {
            "text/plain": [
              "<IPython.core.display.HTML object>"
            ],
            "text/html": [
              "Run data is saved locally in <code>/content/wandb/run-20220409_144045-asq6ktq7</code>"
            ]
          },
          "metadata": {}
        },
        {
          "output_type": "display_data",
          "data": {
            "text/plain": [
              "<IPython.core.display.HTML object>"
            ],
            "text/html": [
              "Syncing run <strong><a href=\"https://wandb.ai/jayant3000/Final_PC_on_fire/runs/asq6ktq7\" target=\"_blank\">fallen-sweep-22</a></strong> to <a href=\"https://wandb.ai/jayant3000/Final_PC_on_fire\" target=\"_blank\">Weights & Biases</a> (<a href=\"https://wandb.me/run\" target=\"_blank\">docs</a>)<br/>Sweep page:  <a href=\"https://wandb.ai/jayant3000/Final_PC_on_fire/sweeps/flv85syf\" target=\"_blank\">https://wandb.ai/jayant3000/Final_PC_on_fire/sweeps/flv85syf</a>"
            ]
          },
          "metadata": {}
        },
        {
          "output_type": "stream",
          "name": "stdout",
          "text": [
            "Epoch 1/10\n",
            "25/25 [==============================] - 13s 395ms/step - loss: 2.6077 - acc: 0.1100 - val_loss: 2.3307 - val_acc: 0.0938 - _timestamp: 1649515270.0000 - _runtime: 21.0000\n",
            "Epoch 2/10\n",
            "25/25 [==============================] - 11s 379ms/step - loss: 2.4618 - acc: 0.1262 - val_loss: 2.3519 - val_acc: 0.0938 - _timestamp: 1649515290.0000 - _runtime: 41.0000\n",
            "Epoch 3/10\n",
            "25/25 [==============================] - 11s 381ms/step - loss: 2.3571 - acc: 0.1475 - val_loss: 2.2917 - val_acc: 0.0625 - _timestamp: 1649515311.0000 - _runtime: 62.0000\n",
            "Epoch 4/10\n",
            "25/25 [==============================] - 11s 374ms/step - loss: 2.2726 - acc: 0.1750 - val_loss: 2.3108 - val_acc: 0.1250 - _timestamp: 1649515322.0000 - _runtime: 73.0000\n",
            "Epoch 5/10\n",
            "25/25 [==============================] - 11s 372ms/step - loss: 2.2427 - acc: 0.1825 - val_loss: 2.3648 - val_acc: 0.0938 - _timestamp: 1649515333.0000 - _runtime: 84.0000\n",
            "Epoch 6/10\n",
            "25/25 [==============================] - 11s 378ms/step - loss: 2.2154 - acc: 0.1737 - val_loss: 2.2513 - val_acc: 0.1250 - _timestamp: 1649515344.0000 - _runtime: 95.0000\n",
            "Epoch 7/10\n",
            "25/25 [==============================] - 11s 369ms/step - loss: 2.1549 - acc: 0.2075 - val_loss: 2.3814 - val_acc: 0.0312 - _timestamp: 1649515356.0000 - _runtime: 107.0000\n",
            "Epoch 8/10\n",
            "25/25 [==============================] - 12s 392ms/step - loss: 2.1354 - acc: 0.2013 - val_loss: 2.5206 - val_acc: 0.0000e+00 - _timestamp: 1649515377.0000 - _runtime: 128.0000\n",
            "Epoch 9/10\n",
            "25/25 [==============================] - 12s 388ms/step - loss: 2.1054 - acc: 0.2212 - val_loss: 2.4379 - val_acc: 0.0312 - _timestamp: 1649515397.0000 - _runtime: 148.0000\n"
          ]
        },
        {
          "output_type": "stream",
          "name": "stderr",
          "text": [
            "\u001b[34m\u001b[1mwandb\u001b[0m: Agent Starting Run: c6l1agz7 with config:\n",
            "\u001b[34m\u001b[1mwandb\u001b[0m: \tactivation: relu\n",
            "\u001b[34m\u001b[1mwandb\u001b[0m: \tbatch_norm: True\n",
            "\u001b[34m\u001b[1mwandb\u001b[0m: \tconv_layers: 5\n",
            "\u001b[34m\u001b[1mwandb\u001b[0m: \tdata_aug: True\n",
            "\u001b[34m\u001b[1mwandb\u001b[0m: \tdense_size: 32\n",
            "\u001b[34m\u001b[1mwandb\u001b[0m: \tdropout: 0.3\n",
            "\u001b[34m\u001b[1mwandb\u001b[0m: \tfilter_org: 1\n",
            "\u001b[34m\u001b[1mwandb\u001b[0m: \tfirst_layer_filters: 64\n",
            "\u001b[34m\u001b[1mwandb\u001b[0m: \tkernel_size: 3\n",
            "\u001b[34m\u001b[1mwandb\u001b[0m: \tnum_epochs: 10\n",
            "\u001b[34m\u001b[1mwandb\u001b[0m: \toptimizer: adam\n"
          ]
        },
        {
          "output_type": "display_data",
          "data": {
            "text/plain": [
              "<IPython.core.display.HTML object>"
            ],
            "text/html": [
              "Tracking run with wandb version 0.12.14"
            ]
          },
          "metadata": {}
        },
        {
          "output_type": "display_data",
          "data": {
            "text/plain": [
              "<IPython.core.display.HTML object>"
            ],
            "text/html": [
              "Run data is saved locally in <code>/content/wandb/run-20220409_144330-c6l1agz7</code>"
            ]
          },
          "metadata": {}
        },
        {
          "output_type": "display_data",
          "data": {
            "text/plain": [
              "<IPython.core.display.HTML object>"
            ],
            "text/html": [
              "Syncing run <strong><a href=\"https://wandb.ai/jayant3000/Final_PC_on_fire/runs/c6l1agz7\" target=\"_blank\">blooming-sweep-23</a></strong> to <a href=\"https://wandb.ai/jayant3000/Final_PC_on_fire\" target=\"_blank\">Weights & Biases</a> (<a href=\"https://wandb.me/run\" target=\"_blank\">docs</a>)<br/>Sweep page:  <a href=\"https://wandb.ai/jayant3000/Final_PC_on_fire/sweeps/flv85syf\" target=\"_blank\">https://wandb.ai/jayant3000/Final_PC_on_fire/sweeps/flv85syf</a>"
            ]
          },
          "metadata": {}
        },
        {
          "output_type": "display_data",
          "data": {
            "text/plain": [
              "<IPython.core.display.HTML object>"
            ],
            "text/html": [
              "Finishing last run (ID:c6l1agz7) before initializing another..."
            ]
          },
          "metadata": {}
        },
        {
          "output_type": "stream",
          "name": "stdout",
          "text": [
            "\n"
          ]
        },
        {
          "output_type": "display_data",
          "data": {
            "text/plain": [
              "<IPython.core.display.HTML object>"
            ],
            "text/html": [
              "Waiting for W&B process to finish... <strong style=\"color:green\">(success).</strong>"
            ]
          },
          "metadata": {}
        },
        {
          "output_type": "display_data",
          "data": {
            "text/plain": [
              "VBox(children=(Label(value='0.001 MB of 0.001 MB uploaded (0.000 MB deduped)\\r'), FloatProgress(value=1.0, max…"
            ],
            "application/vnd.jupyter.widget-view+json": {
              "version_major": 2,
              "version_minor": 0,
              "model_id": "37515ecd2a3a4982abb2a52299d3533a"
            }
          },
          "metadata": {}
        },
        {
          "output_type": "display_data",
          "data": {
            "text/plain": [
              "<IPython.core.display.HTML object>"
            ],
            "text/html": [
              "Synced <strong style=\"color:#cdcd00\">blooming-sweep-23</strong>: <a href=\"https://wandb.ai/jayant3000/Final_PC_on_fire/runs/c6l1agz7\" target=\"_blank\">https://wandb.ai/jayant3000/Final_PC_on_fire/runs/c6l1agz7</a><br/>Synced 4 W&B file(s), 0 media file(s), 0 artifact file(s) and 0 other file(s)"
            ]
          },
          "metadata": {}
        },
        {
          "output_type": "display_data",
          "data": {
            "text/plain": [
              "<IPython.core.display.HTML object>"
            ],
            "text/html": [
              "Find logs at: <code>./wandb/run-20220409_144330-c6l1agz7/logs</code>"
            ]
          },
          "metadata": {}
        },
        {
          "output_type": "display_data",
          "data": {
            "text/plain": [
              "<IPython.core.display.HTML object>"
            ],
            "text/html": [
              "Successfully finished last run (ID:c6l1agz7). Initializing new run:<br/>"
            ]
          },
          "metadata": {}
        },
        {
          "output_type": "display_data",
          "data": {
            "text/plain": [
              "<IPython.core.display.HTML object>"
            ],
            "text/html": [
              "Tracking run with wandb version 0.12.14"
            ]
          },
          "metadata": {}
        },
        {
          "output_type": "display_data",
          "data": {
            "text/plain": [
              "<IPython.core.display.HTML object>"
            ],
            "text/html": [
              "Run data is saved locally in <code>/content/wandb/run-20220409_144339-c6l1agz7</code>"
            ]
          },
          "metadata": {}
        },
        {
          "output_type": "display_data",
          "data": {
            "text/plain": [
              "<IPython.core.display.HTML object>"
            ],
            "text/html": [
              "Syncing run <strong><a href=\"https://wandb.ai/jayant3000/Final_PC_on_fire/runs/c6l1agz7\" target=\"_blank\">blooming-sweep-23</a></strong> to <a href=\"https://wandb.ai/jayant3000/Final_PC_on_fire\" target=\"_blank\">Weights & Biases</a> (<a href=\"https://wandb.me/run\" target=\"_blank\">docs</a>)<br/>Sweep page:  <a href=\"https://wandb.ai/jayant3000/Final_PC_on_fire/sweeps/flv85syf\" target=\"_blank\">https://wandb.ai/jayant3000/Final_PC_on_fire/sweeps/flv85syf</a>"
            ]
          },
          "metadata": {}
        },
        {
          "output_type": "stream",
          "name": "stdout",
          "text": [
            "Epoch 1/10\n",
            "25/25 [==============================] - 14s 443ms/step - loss: 2.4927 - acc: 0.1637 - val_loss: 2.3172 - val_acc: 0.0000e+00 - _timestamp: 1649515447.0000 - _runtime: 23.0000\n",
            "Epoch 2/10\n",
            "25/25 [==============================] - 13s 430ms/step - loss: 2.1655 - acc: 0.2075 - val_loss: 2.3544 - val_acc: 0.0938 - _timestamp: 1649515467.0000 - _runtime: 43.0000\n",
            "Epoch 3/10\n",
            "25/25 [==============================] - 12s 418ms/step - loss: 2.0168 - acc: 0.2950 - val_loss: 2.3636 - val_acc: 0.0938 - _timestamp: 1649515479.0000 - _runtime: 55.0000\n",
            "Epoch 4/10\n",
            "25/25 [==============================] - 12s 420ms/step - loss: 1.9007 - acc: 0.3187 - val_loss: 2.3449 - val_acc: 0.1250 - _timestamp: 1649515492.0000 - _runtime: 68.0000\n",
            "Epoch 5/10\n",
            "25/25 [==============================] - 12s 421ms/step - loss: 1.7714 - acc: 0.3988 - val_loss: 2.3228 - val_acc: 0.1562 - _timestamp: 1649515504.0000 - _runtime: 80.0000\n",
            "Epoch 6/10\n",
            "25/25 [==============================] - 12s 421ms/step - loss: 1.6953 - acc: 0.4425 - val_loss: 2.3960 - val_acc: 0.1562 - _timestamp: 1649515525.0000 - _runtime: 101.0000\n",
            "Epoch 7/10\n",
            "25/25 [==============================] - 12s 421ms/step - loss: 1.6288 - acc: 0.4712 - val_loss: 2.3378 - val_acc: 0.1250 - _timestamp: 1649515537.0000 - _runtime: 113.0000\n",
            "Epoch 8/10\n",
            "25/25 [==============================] - 12s 418ms/step - loss: 1.4719 - acc: 0.5300 - val_loss: 2.2987 - val_acc: 0.0938 - _timestamp: 1649515558.0000 - _runtime: 134.0000\n",
            "Epoch 9/10\n",
            "25/25 [==============================] - 12s 420ms/step - loss: 1.3186 - acc: 0.6012 - val_loss: 2.5254 - val_acc: 0.1562 - _timestamp: 1649515578.0000 - _runtime: 154.0000\n",
            "Epoch 10/10\n",
            "25/25 [==============================] - 13s 432ms/step - loss: 1.2532 - acc: 0.6350 - val_loss: 2.4263 - val_acc: 0.0000e+00 - _timestamp: 1649515599.0000 - _runtime: 175.0000\n"
          ]
        },
        {
          "output_type": "stream",
          "name": "stderr",
          "text": [
            "\u001b[34m\u001b[1mwandb\u001b[0m: Agent Starting Run: 16hgx93x with config:\n",
            "\u001b[34m\u001b[1mwandb\u001b[0m: \tactivation: relu\n",
            "\u001b[34m\u001b[1mwandb\u001b[0m: \tbatch_norm: False\n",
            "\u001b[34m\u001b[1mwandb\u001b[0m: \tconv_layers: 5\n",
            "\u001b[34m\u001b[1mwandb\u001b[0m: \tdata_aug: True\n",
            "\u001b[34m\u001b[1mwandb\u001b[0m: \tdense_size: 32\n",
            "\u001b[34m\u001b[1mwandb\u001b[0m: \tdropout: 0.3\n",
            "\u001b[34m\u001b[1mwandb\u001b[0m: \tfilter_org: 1\n",
            "\u001b[34m\u001b[1mwandb\u001b[0m: \tfirst_layer_filters: 64\n",
            "\u001b[34m\u001b[1mwandb\u001b[0m: \tkernel_size: 3\n",
            "\u001b[34m\u001b[1mwandb\u001b[0m: \tnum_epochs: 10\n",
            "\u001b[34m\u001b[1mwandb\u001b[0m: \toptimizer: adam\n"
          ]
        },
        {
          "output_type": "display_data",
          "data": {
            "text/plain": [
              "<IPython.core.display.HTML object>"
            ],
            "text/html": [
              "Tracking run with wandb version 0.12.14"
            ]
          },
          "metadata": {}
        },
        {
          "output_type": "display_data",
          "data": {
            "text/plain": [
              "<IPython.core.display.HTML object>"
            ],
            "text/html": [
              "Run data is saved locally in <code>/content/wandb/run-20220409_144648-16hgx93x</code>"
            ]
          },
          "metadata": {}
        },
        {
          "output_type": "display_data",
          "data": {
            "text/plain": [
              "<IPython.core.display.HTML object>"
            ],
            "text/html": [
              "Syncing run <strong><a href=\"https://wandb.ai/jayant3000/Final_PC_on_fire/runs/16hgx93x\" target=\"_blank\">worthy-sweep-24</a></strong> to <a href=\"https://wandb.ai/jayant3000/Final_PC_on_fire\" target=\"_blank\">Weights & Biases</a> (<a href=\"https://wandb.me/run\" target=\"_blank\">docs</a>)<br/>Sweep page:  <a href=\"https://wandb.ai/jayant3000/Final_PC_on_fire/sweeps/flv85syf\" target=\"_blank\">https://wandb.ai/jayant3000/Final_PC_on_fire/sweeps/flv85syf</a>"
            ]
          },
          "metadata": {}
        },
        {
          "output_type": "display_data",
          "data": {
            "text/plain": [
              "<IPython.core.display.HTML object>"
            ],
            "text/html": [
              "Finishing last run (ID:16hgx93x) before initializing another..."
            ]
          },
          "metadata": {}
        },
        {
          "output_type": "stream",
          "name": "stdout",
          "text": [
            "\n"
          ]
        },
        {
          "output_type": "display_data",
          "data": {
            "text/plain": [
              "<IPython.core.display.HTML object>"
            ],
            "text/html": [
              "Waiting for W&B process to finish... <strong style=\"color:green\">(success).</strong>"
            ]
          },
          "metadata": {}
        },
        {
          "output_type": "display_data",
          "data": {
            "text/plain": [
              "VBox(children=(Label(value='0.001 MB of 0.001 MB uploaded (0.000 MB deduped)\\r'), FloatProgress(value=1.0, max…"
            ],
            "application/vnd.jupyter.widget-view+json": {
              "version_major": 2,
              "version_minor": 0,
              "model_id": "5a5ca9eb42bf455c9bd462ddc3cc17cd"
            }
          },
          "metadata": {}
        },
        {
          "output_type": "display_data",
          "data": {
            "text/plain": [
              "<IPython.core.display.HTML object>"
            ],
            "text/html": [
              "Synced <strong style=\"color:#cdcd00\">worthy-sweep-24</strong>: <a href=\"https://wandb.ai/jayant3000/Final_PC_on_fire/runs/16hgx93x\" target=\"_blank\">https://wandb.ai/jayant3000/Final_PC_on_fire/runs/16hgx93x</a><br/>Synced 4 W&B file(s), 0 media file(s), 0 artifact file(s) and 0 other file(s)"
            ]
          },
          "metadata": {}
        },
        {
          "output_type": "display_data",
          "data": {
            "text/plain": [
              "<IPython.core.display.HTML object>"
            ],
            "text/html": [
              "Find logs at: <code>./wandb/run-20220409_144648-16hgx93x/logs</code>"
            ]
          },
          "metadata": {}
        },
        {
          "output_type": "display_data",
          "data": {
            "text/plain": [
              "<IPython.core.display.HTML object>"
            ],
            "text/html": [
              "Successfully finished last run (ID:16hgx93x). Initializing new run:<br/>"
            ]
          },
          "metadata": {}
        },
        {
          "output_type": "display_data",
          "data": {
            "text/plain": [
              "<IPython.core.display.HTML object>"
            ],
            "text/html": [
              "Tracking run with wandb version 0.12.14"
            ]
          },
          "metadata": {}
        },
        {
          "output_type": "display_data",
          "data": {
            "text/plain": [
              "<IPython.core.display.HTML object>"
            ],
            "text/html": [
              "Run data is saved locally in <code>/content/wandb/run-20220409_144657-16hgx93x</code>"
            ]
          },
          "metadata": {}
        },
        {
          "output_type": "display_data",
          "data": {
            "text/plain": [
              "<IPython.core.display.HTML object>"
            ],
            "text/html": [
              "Syncing run <strong><a href=\"https://wandb.ai/jayant3000/Final_PC_on_fire/runs/16hgx93x\" target=\"_blank\">worthy-sweep-24</a></strong> to <a href=\"https://wandb.ai/jayant3000/Final_PC_on_fire\" target=\"_blank\">Weights & Biases</a> (<a href=\"https://wandb.me/run\" target=\"_blank\">docs</a>)<br/>Sweep page:  <a href=\"https://wandb.ai/jayant3000/Final_PC_on_fire/sweeps/flv85syf\" target=\"_blank\">https://wandb.ai/jayant3000/Final_PC_on_fire/sweeps/flv85syf</a>"
            ]
          },
          "metadata": {}
        },
        {
          "output_type": "stream",
          "name": "stdout",
          "text": [
            "Epoch 1/10\n",
            "25/25 [==============================] - 14s 445ms/step - loss: 2.3064 - acc: 0.0925 - val_loss: 2.3027 - val_acc: 0.0938 - _timestamp: 1649515645.0000 - _runtime: 22.0000\n",
            "Epoch 2/10\n",
            "25/25 [==============================] - 12s 411ms/step - loss: 2.3023 - acc: 0.1138 - val_loss: 2.3021 - val_acc: 0.1562 - _timestamp: 1649515665.0000 - _runtime: 42.0000\n",
            "Epoch 3/10\n",
            "25/25 [==============================] - 12s 410ms/step - loss: 2.3018 - acc: 0.1350 - val_loss: 2.3035 - val_acc: 0.0312 - _timestamp: 1649515677.0000 - _runtime: 54.0000\n",
            "Epoch 4/10\n",
            "25/25 [==============================] - 12s 409ms/step - loss: 2.3018 - acc: 0.1187 - val_loss: 2.3025 - val_acc: 0.0312 - _timestamp: 1649515697.0000 - _runtime: 74.0000\n",
            "Epoch 5/10\n",
            "25/25 [==============================] - 12s 413ms/step - loss: 2.3003 - acc: 0.1125 - val_loss: 2.3103 - val_acc: 0.0938 - _timestamp: 1649515710.0000 - _runtime: 87.0000\n",
            "Epoch 6/10\n",
            "25/25 [==============================] - 12s 413ms/step - loss: 2.3000 - acc: 0.1262 - val_loss: 2.2846 - val_acc: 0.2500 - _timestamp: 1649515730.0000 - _runtime: 107.0000\n",
            "Epoch 7/10\n",
            "25/25 [==============================] - 12s 400ms/step - loss: 2.2908 - acc: 0.1525 - val_loss: 2.2782 - val_acc: 0.2500 - _timestamp: 1649515742.0000 - _runtime: 119.0000\n",
            "Epoch 8/10\n",
            "25/25 [==============================] - 12s 397ms/step - loss: 2.2836 - acc: 0.1325 - val_loss: 2.3043 - val_acc: 0.1250 - _timestamp: 1649515754.0000 - _runtime: 131.0000\n",
            "Epoch 9/10\n",
            "25/25 [==============================] - 12s 394ms/step - loss: 2.2757 - acc: 0.1338 - val_loss: 2.2806 - val_acc: 0.1562 - _timestamp: 1649515766.0000 - _runtime: 143.0000\n",
            "Epoch 10/10\n",
            "25/25 [==============================] - 12s 402ms/step - loss: 2.2687 - acc: 0.1400 - val_loss: 2.2709 - val_acc: 0.1875 - _timestamp: 1649515786.0000 - _runtime: 163.0000\n"
          ]
        },
        {
          "output_type": "stream",
          "name": "stderr",
          "text": [
            "\u001b[34m\u001b[1mwandb\u001b[0m: Agent Starting Run: 5x8yiqsr with config:\n",
            "\u001b[34m\u001b[1mwandb\u001b[0m: \tactivation: relu\n",
            "\u001b[34m\u001b[1mwandb\u001b[0m: \tbatch_norm: False\n",
            "\u001b[34m\u001b[1mwandb\u001b[0m: \tconv_layers: 5\n",
            "\u001b[34m\u001b[1mwandb\u001b[0m: \tdata_aug: True\n",
            "\u001b[34m\u001b[1mwandb\u001b[0m: \tdense_size: 32\n",
            "\u001b[34m\u001b[1mwandb\u001b[0m: \tdropout: 0.3\n",
            "\u001b[34m\u001b[1mwandb\u001b[0m: \tfilter_org: 1\n",
            "\u001b[34m\u001b[1mwandb\u001b[0m: \tfirst_layer_filters: 64\n",
            "\u001b[34m\u001b[1mwandb\u001b[0m: \tkernel_size: 3\n",
            "\u001b[34m\u001b[1mwandb\u001b[0m: \tnum_epochs: 10\n",
            "\u001b[34m\u001b[1mwandb\u001b[0m: \toptimizer: adam\n"
          ]
        },
        {
          "output_type": "display_data",
          "data": {
            "text/plain": [
              "<IPython.core.display.HTML object>"
            ],
            "text/html": [
              "Tracking run with wandb version 0.12.14"
            ]
          },
          "metadata": {}
        },
        {
          "output_type": "display_data",
          "data": {
            "text/plain": [
              "<IPython.core.display.HTML object>"
            ],
            "text/html": [
              "Run data is saved locally in <code>/content/wandb/run-20220409_145002-5x8yiqsr</code>"
            ]
          },
          "metadata": {}
        },
        {
          "output_type": "display_data",
          "data": {
            "text/plain": [
              "<IPython.core.display.HTML object>"
            ],
            "text/html": [
              "Syncing run <strong><a href=\"https://wandb.ai/jayant3000/Final_PC_on_fire/runs/5x8yiqsr\" target=\"_blank\">generous-sweep-25</a></strong> to <a href=\"https://wandb.ai/jayant3000/Final_PC_on_fire\" target=\"_blank\">Weights & Biases</a> (<a href=\"https://wandb.me/run\" target=\"_blank\">docs</a>)<br/>Sweep page:  <a href=\"https://wandb.ai/jayant3000/Final_PC_on_fire/sweeps/flv85syf\" target=\"_blank\">https://wandb.ai/jayant3000/Final_PC_on_fire/sweeps/flv85syf</a>"
            ]
          },
          "metadata": {}
        },
        {
          "output_type": "display_data",
          "data": {
            "text/plain": [
              "<IPython.core.display.HTML object>"
            ],
            "text/html": [
              "Finishing last run (ID:5x8yiqsr) before initializing another..."
            ]
          },
          "metadata": {}
        },
        {
          "output_type": "stream",
          "name": "stdout",
          "text": [
            "\n"
          ]
        },
        {
          "output_type": "display_data",
          "data": {
            "text/plain": [
              "<IPython.core.display.HTML object>"
            ],
            "text/html": [
              "Waiting for W&B process to finish... <strong style=\"color:green\">(success).</strong>"
            ]
          },
          "metadata": {}
        },
        {
          "output_type": "display_data",
          "data": {
            "text/plain": [
              "VBox(children=(Label(value='0.001 MB of 0.001 MB uploaded (0.000 MB deduped)\\r'), FloatProgress(value=1.0, max…"
            ],
            "application/vnd.jupyter.widget-view+json": {
              "version_major": 2,
              "version_minor": 0,
              "model_id": "bfa7ca633628408e86a2982fe7a03b4e"
            }
          },
          "metadata": {}
        },
        {
          "output_type": "display_data",
          "data": {
            "text/plain": [
              "<IPython.core.display.HTML object>"
            ],
            "text/html": [
              "Synced <strong style=\"color:#cdcd00\">generous-sweep-25</strong>: <a href=\"https://wandb.ai/jayant3000/Final_PC_on_fire/runs/5x8yiqsr\" target=\"_blank\">https://wandb.ai/jayant3000/Final_PC_on_fire/runs/5x8yiqsr</a><br/>Synced 4 W&B file(s), 0 media file(s), 0 artifact file(s) and 0 other file(s)"
            ]
          },
          "metadata": {}
        },
        {
          "output_type": "display_data",
          "data": {
            "text/plain": [
              "<IPython.core.display.HTML object>"
            ],
            "text/html": [
              "Find logs at: <code>./wandb/run-20220409_145002-5x8yiqsr/logs</code>"
            ]
          },
          "metadata": {}
        },
        {
          "output_type": "display_data",
          "data": {
            "text/plain": [
              "<IPython.core.display.HTML object>"
            ],
            "text/html": [
              "Successfully finished last run (ID:5x8yiqsr). Initializing new run:<br/>"
            ]
          },
          "metadata": {}
        },
        {
          "output_type": "display_data",
          "data": {
            "text/plain": [
              "<IPython.core.display.HTML object>"
            ],
            "text/html": [
              "Tracking run with wandb version 0.12.14"
            ]
          },
          "metadata": {}
        },
        {
          "output_type": "display_data",
          "data": {
            "text/plain": [
              "<IPython.core.display.HTML object>"
            ],
            "text/html": [
              "Run data is saved locally in <code>/content/wandb/run-20220409_145011-5x8yiqsr</code>"
            ]
          },
          "metadata": {}
        },
        {
          "output_type": "display_data",
          "data": {
            "text/plain": [
              "<IPython.core.display.HTML object>"
            ],
            "text/html": [
              "Syncing run <strong><a href=\"https://wandb.ai/jayant3000/Final_PC_on_fire/runs/5x8yiqsr\" target=\"_blank\">generous-sweep-25</a></strong> to <a href=\"https://wandb.ai/jayant3000/Final_PC_on_fire\" target=\"_blank\">Weights & Biases</a> (<a href=\"https://wandb.me/run\" target=\"_blank\">docs</a>)<br/>Sweep page:  <a href=\"https://wandb.ai/jayant3000/Final_PC_on_fire/sweeps/flv85syf\" target=\"_blank\">https://wandb.ai/jayant3000/Final_PC_on_fire/sweeps/flv85syf</a>"
            ]
          },
          "metadata": {}
        },
        {
          "output_type": "stream",
          "name": "stdout",
          "text": [
            "Epoch 1/10\n",
            "25/25 [==============================] - 13s 418ms/step - loss: 2.3065 - acc: 0.1000 - val_loss: 2.3048 - val_acc: 0.0312 - _timestamp: 1649515837.0000 - _runtime: 22.0000\n",
            "Epoch 2/10\n",
            "25/25 [==============================] - 12s 395ms/step - loss: 2.3023 - acc: 0.1088 - val_loss: 2.3023 - val_acc: 0.0938 - _timestamp: 1649515849.0000 - _runtime: 34.0000\n",
            "Epoch 3/10\n",
            "25/25 [==============================] - 12s 396ms/step - loss: 2.3019 - acc: 0.1125 - val_loss: 2.3021 - val_acc: 0.1250 - _timestamp: 1649515860.0000 - _runtime: 45.0000\n",
            "Epoch 4/10\n",
            "25/25 [==============================] - 12s 388ms/step - loss: 2.3013 - acc: 0.1187 - val_loss: 2.3071 - val_acc: 0.0938 - _timestamp: 1649515872.0000 - _runtime: 57.0000\n",
            "Epoch 5/10\n",
            "25/25 [==============================] - 11s 388ms/step - loss: 2.3016 - acc: 0.1187 - val_loss: 2.3021 - val_acc: 0.0938 - _timestamp: 1649515892.0000 - _runtime: 77.0000\n",
            "Epoch 6/10\n",
            "25/25 [==============================] - 12s 398ms/step - loss: 2.3009 - acc: 0.1225 - val_loss: 2.2992 - val_acc: 0.1562 - _timestamp: 1649515913.0000 - _runtime: 98.0000\n",
            "Epoch 7/10\n",
            "25/25 [==============================] - 12s 406ms/step - loss: 2.3011 - acc: 0.1213 - val_loss: 2.3087 - val_acc: 0.0938 - _timestamp: 1649515934.0000 - _runtime: 119.0000\n",
            "Epoch 8/10\n",
            "25/25 [==============================] - 13s 434ms/step - loss: 2.3004 - acc: 0.1138 - val_loss: 2.2905 - val_acc: 0.1250 - _timestamp: 1649515956.0000 - _runtime: 141.0000\n",
            "Epoch 9/10\n",
            "25/25 [==============================] - 12s 417ms/step - loss: 2.3001 - acc: 0.1163 - val_loss: 2.3119 - val_acc: 0.0625 - _timestamp: 1649515968.0000 - _runtime: 153.0000\n",
            "Epoch 10/10\n",
            "25/25 [==============================] - 13s 424ms/step - loss: 2.3012 - acc: 0.1112 - val_loss: 2.2948 - val_acc: 0.1875 - _timestamp: 1649515989.0000 - _runtime: 174.0000\n"
          ]
        },
        {
          "output_type": "stream",
          "name": "stderr",
          "text": [
            "\u001b[34m\u001b[1mwandb\u001b[0m: Agent Starting Run: acjt947p with config:\n",
            "\u001b[34m\u001b[1mwandb\u001b[0m: \tactivation: relu\n",
            "\u001b[34m\u001b[1mwandb\u001b[0m: \tbatch_norm: True\n",
            "\u001b[34m\u001b[1mwandb\u001b[0m: \tconv_layers: 5\n",
            "\u001b[34m\u001b[1mwandb\u001b[0m: \tdata_aug: True\n",
            "\u001b[34m\u001b[1mwandb\u001b[0m: \tdense_size: 32\n",
            "\u001b[34m\u001b[1mwandb\u001b[0m: \tdropout: 0.3\n",
            "\u001b[34m\u001b[1mwandb\u001b[0m: \tfilter_org: 2\n",
            "\u001b[34m\u001b[1mwandb\u001b[0m: \tfirst_layer_filters: 64\n",
            "\u001b[34m\u001b[1mwandb\u001b[0m: \tkernel_size: 3\n",
            "\u001b[34m\u001b[1mwandb\u001b[0m: \tnum_epochs: 10\n",
            "\u001b[34m\u001b[1mwandb\u001b[0m: \toptimizer: adam\n"
          ]
        },
        {
          "output_type": "display_data",
          "data": {
            "text/plain": [
              "<IPython.core.display.HTML object>"
            ],
            "text/html": [
              "Tracking run with wandb version 0.12.14"
            ]
          },
          "metadata": {}
        },
        {
          "output_type": "display_data",
          "data": {
            "text/plain": [
              "<IPython.core.display.HTML object>"
            ],
            "text/html": [
              "Run data is saved locally in <code>/content/wandb/run-20220409_145325-acjt947p</code>"
            ]
          },
          "metadata": {}
        },
        {
          "output_type": "display_data",
          "data": {
            "text/plain": [
              "<IPython.core.display.HTML object>"
            ],
            "text/html": [
              "Syncing run <strong><a href=\"https://wandb.ai/jayant3000/Final_PC_on_fire/runs/acjt947p\" target=\"_blank\">rural-sweep-26</a></strong> to <a href=\"https://wandb.ai/jayant3000/Final_PC_on_fire\" target=\"_blank\">Weights & Biases</a> (<a href=\"https://wandb.me/run\" target=\"_blank\">docs</a>)<br/>Sweep page:  <a href=\"https://wandb.ai/jayant3000/Final_PC_on_fire/sweeps/flv85syf\" target=\"_blank\">https://wandb.ai/jayant3000/Final_PC_on_fire/sweeps/flv85syf</a>"
            ]
          },
          "metadata": {}
        },
        {
          "output_type": "display_data",
          "data": {
            "text/plain": [
              "<IPython.core.display.HTML object>"
            ],
            "text/html": [
              "Finishing last run (ID:acjt947p) before initializing another..."
            ]
          },
          "metadata": {}
        },
        {
          "output_type": "stream",
          "name": "stdout",
          "text": [
            "\n"
          ]
        },
        {
          "output_type": "display_data",
          "data": {
            "text/plain": [
              "<IPython.core.display.HTML object>"
            ],
            "text/html": [
              "Waiting for W&B process to finish... <strong style=\"color:green\">(success).</strong>"
            ]
          },
          "metadata": {}
        },
        {
          "output_type": "display_data",
          "data": {
            "text/plain": [
              "VBox(children=(Label(value='0.001 MB of 0.001 MB uploaded (0.000 MB deduped)\\r'), FloatProgress(value=1.0, max…"
            ],
            "application/vnd.jupyter.widget-view+json": {
              "version_major": 2,
              "version_minor": 0,
              "model_id": "1a69acb82272485887433163771cac48"
            }
          },
          "metadata": {}
        },
        {
          "output_type": "display_data",
          "data": {
            "text/plain": [
              "<IPython.core.display.HTML object>"
            ],
            "text/html": [
              "Synced <strong style=\"color:#cdcd00\">rural-sweep-26</strong>: <a href=\"https://wandb.ai/jayant3000/Final_PC_on_fire/runs/acjt947p\" target=\"_blank\">https://wandb.ai/jayant3000/Final_PC_on_fire/runs/acjt947p</a><br/>Synced 4 W&B file(s), 0 media file(s), 0 artifact file(s) and 0 other file(s)"
            ]
          },
          "metadata": {}
        },
        {
          "output_type": "display_data",
          "data": {
            "text/plain": [
              "<IPython.core.display.HTML object>"
            ],
            "text/html": [
              "Find logs at: <code>./wandb/run-20220409_145325-acjt947p/logs</code>"
            ]
          },
          "metadata": {}
        },
        {
          "output_type": "display_data",
          "data": {
            "text/plain": [
              "<IPython.core.display.HTML object>"
            ],
            "text/html": [
              "Successfully finished last run (ID:acjt947p). Initializing new run:<br/>"
            ]
          },
          "metadata": {}
        },
        {
          "output_type": "display_data",
          "data": {
            "text/plain": [
              "<IPython.core.display.HTML object>"
            ],
            "text/html": [
              "Tracking run with wandb version 0.12.14"
            ]
          },
          "metadata": {}
        },
        {
          "output_type": "display_data",
          "data": {
            "text/plain": [
              "<IPython.core.display.HTML object>"
            ],
            "text/html": [
              "Run data is saved locally in <code>/content/wandb/run-20220409_145335-acjt947p</code>"
            ]
          },
          "metadata": {}
        },
        {
          "output_type": "display_data",
          "data": {
            "text/plain": [
              "<IPython.core.display.HTML object>"
            ],
            "text/html": [
              "Syncing run <strong><a href=\"https://wandb.ai/jayant3000/Final_PC_on_fire/runs/acjt947p\" target=\"_blank\">rural-sweep-26</a></strong> to <a href=\"https://wandb.ai/jayant3000/Final_PC_on_fire\" target=\"_blank\">Weights & Biases</a> (<a href=\"https://wandb.me/run\" target=\"_blank\">docs</a>)<br/>Sweep page:  <a href=\"https://wandb.ai/jayant3000/Final_PC_on_fire/sweeps/flv85syf\" target=\"_blank\">https://wandb.ai/jayant3000/Final_PC_on_fire/sweeps/flv85syf</a>"
            ]
          },
          "metadata": {}
        },
        {
          "output_type": "stream",
          "name": "stdout",
          "text": [
            "Epoch 1/10\n",
            "25/25 [==============================] - 18s 585ms/step - loss: 2.5650 - acc: 0.1013 - val_loss: 2.5304 - val_acc: 0.1875 - _timestamp: 1649516046.0000 - _runtime: 27.0000\n",
            "Epoch 2/10\n",
            "25/25 [==============================] - 16s 550ms/step - loss: 2.2668 - acc: 0.1688 - val_loss: 2.6158 - val_acc: 0.1250 - _timestamp: 1649516066.0000 - _runtime: 47.0000\n",
            "Epoch 3/10\n",
            "25/25 [==============================] - 16s 539ms/step - loss: 2.1555 - acc: 0.2275 - val_loss: 2.8731 - val_acc: 0.0625 - _timestamp: 1649516086.0000 - _runtime: 67.0000\n",
            "Epoch 4/10\n",
            "25/25 [==============================] - 16s 547ms/step - loss: 2.0576 - acc: 0.2525 - val_loss: 2.9495 - val_acc: 0.0625 - _timestamp: 1649516102.0000 - _runtime: 83.0000\n",
            "Epoch 5/10\n",
            "25/25 [==============================] - 16s 538ms/step - loss: 2.0301 - acc: 0.2988 - val_loss: 2.7274 - val_acc: 0.0625 - _timestamp: 1649516122.0000 - _runtime: 103.0000\n",
            "Epoch 6/10\n",
            "25/25 [==============================] - 16s 542ms/step - loss: 1.9172 - acc: 0.3225 - val_loss: 2.5937 - val_acc: 0.0312 - _timestamp: 1649516138.0000 - _runtime: 119.0000\n"
          ]
        },
        {
          "output_type": "stream",
          "name": "stderr",
          "text": [
            "\u001b[34m\u001b[1mwandb\u001b[0m: Agent Starting Run: znuz37q5 with config:\n",
            "\u001b[34m\u001b[1mwandb\u001b[0m: \tactivation: relu\n",
            "\u001b[34m\u001b[1mwandb\u001b[0m: \tbatch_norm: True\n",
            "\u001b[34m\u001b[1mwandb\u001b[0m: \tconv_layers: 5\n",
            "\u001b[34m\u001b[1mwandb\u001b[0m: \tdata_aug: True\n",
            "\u001b[34m\u001b[1mwandb\u001b[0m: \tdense_size: 32\n",
            "\u001b[34m\u001b[1mwandb\u001b[0m: \tdropout: 0.2\n",
            "\u001b[34m\u001b[1mwandb\u001b[0m: \tfilter_org: 0.5\n",
            "\u001b[34m\u001b[1mwandb\u001b[0m: \tfirst_layer_filters: 32\n",
            "\u001b[34m\u001b[1mwandb\u001b[0m: \tkernel_size: 3\n",
            "\u001b[34m\u001b[1mwandb\u001b[0m: \tnum_epochs: 10\n",
            "\u001b[34m\u001b[1mwandb\u001b[0m: \toptimizer: adam\n"
          ]
        },
        {
          "output_type": "display_data",
          "data": {
            "text/plain": [
              "<IPython.core.display.HTML object>"
            ],
            "text/html": [
              "Tracking run with wandb version 0.12.14"
            ]
          },
          "metadata": {}
        },
        {
          "output_type": "display_data",
          "data": {
            "text/plain": [
              "<IPython.core.display.HTML object>"
            ],
            "text/html": [
              "Run data is saved locally in <code>/content/wandb/run-20220409_145547-znuz37q5</code>"
            ]
          },
          "metadata": {}
        },
        {
          "output_type": "display_data",
          "data": {
            "text/plain": [
              "<IPython.core.display.HTML object>"
            ],
            "text/html": [
              "Syncing run <strong><a href=\"https://wandb.ai/jayant3000/Final_PC_on_fire/runs/znuz37q5\" target=\"_blank\">copper-sweep-27</a></strong> to <a href=\"https://wandb.ai/jayant3000/Final_PC_on_fire\" target=\"_blank\">Weights & Biases</a> (<a href=\"https://wandb.me/run\" target=\"_blank\">docs</a>)<br/>Sweep page:  <a href=\"https://wandb.ai/jayant3000/Final_PC_on_fire/sweeps/flv85syf\" target=\"_blank\">https://wandb.ai/jayant3000/Final_PC_on_fire/sweeps/flv85syf</a>"
            ]
          },
          "metadata": {}
        },
        {
          "output_type": "display_data",
          "data": {
            "text/plain": [
              "<IPython.core.display.HTML object>"
            ],
            "text/html": [
              "Finishing last run (ID:znuz37q5) before initializing another..."
            ]
          },
          "metadata": {}
        },
        {
          "output_type": "stream",
          "name": "stdout",
          "text": [
            "\n"
          ]
        },
        {
          "output_type": "display_data",
          "data": {
            "text/plain": [
              "<IPython.core.display.HTML object>"
            ],
            "text/html": [
              "Waiting for W&B process to finish... <strong style=\"color:green\">(success).</strong>"
            ]
          },
          "metadata": {}
        },
        {
          "output_type": "display_data",
          "data": {
            "text/plain": [
              "VBox(children=(Label(value='0.000 MB of 0.000 MB uploaded (0.000 MB deduped)\\r'), FloatProgress(value=1.0, max…"
            ],
            "application/vnd.jupyter.widget-view+json": {
              "version_major": 2,
              "version_minor": 0,
              "model_id": "29a43aecac4e4e4780fdee66c7828617"
            }
          },
          "metadata": {}
        },
        {
          "output_type": "display_data",
          "data": {
            "text/plain": [
              "<IPython.core.display.HTML object>"
            ],
            "text/html": [
              "Synced <strong style=\"color:#cdcd00\">copper-sweep-27</strong>: <a href=\"https://wandb.ai/jayant3000/Final_PC_on_fire/runs/znuz37q5\" target=\"_blank\">https://wandb.ai/jayant3000/Final_PC_on_fire/runs/znuz37q5</a><br/>Synced 4 W&B file(s), 0 media file(s), 0 artifact file(s) and 0 other file(s)"
            ]
          },
          "metadata": {}
        },
        {
          "output_type": "display_data",
          "data": {
            "text/plain": [
              "<IPython.core.display.HTML object>"
            ],
            "text/html": [
              "Find logs at: <code>./wandb/run-20220409_145547-znuz37q5/logs</code>"
            ]
          },
          "metadata": {}
        },
        {
          "output_type": "display_data",
          "data": {
            "text/plain": [
              "<IPython.core.display.HTML object>"
            ],
            "text/html": [
              "Successfully finished last run (ID:znuz37q5). Initializing new run:<br/>"
            ]
          },
          "metadata": {}
        },
        {
          "output_type": "display_data",
          "data": {
            "text/plain": [
              "<IPython.core.display.HTML object>"
            ],
            "text/html": [
              "Tracking run with wandb version 0.12.14"
            ]
          },
          "metadata": {}
        },
        {
          "output_type": "display_data",
          "data": {
            "text/plain": [
              "<IPython.core.display.HTML object>"
            ],
            "text/html": [
              "Run data is saved locally in <code>/content/wandb/run-20220409_145559-znuz37q5</code>"
            ]
          },
          "metadata": {}
        },
        {
          "output_type": "display_data",
          "data": {
            "text/plain": [
              "<IPython.core.display.HTML object>"
            ],
            "text/html": [
              "Syncing run <strong><a href=\"https://wandb.ai/jayant3000/Final_PC_on_fire/runs/znuz37q5\" target=\"_blank\">copper-sweep-27</a></strong> to <a href=\"https://wandb.ai/jayant3000/Final_PC_on_fire\" target=\"_blank\">Weights & Biases</a> (<a href=\"https://wandb.me/run\" target=\"_blank\">docs</a>)<br/>Sweep page:  <a href=\"https://wandb.ai/jayant3000/Final_PC_on_fire/sweeps/flv85syf\" target=\"_blank\">https://wandb.ai/jayant3000/Final_PC_on_fire/sweeps/flv85syf</a>"
            ]
          },
          "metadata": {}
        },
        {
          "output_type": "stream",
          "name": "stdout",
          "text": [
            "Epoch 1/10\n",
            "25/25 [==============================] - 14s 433ms/step - loss: 2.6220 - acc: 0.1025 - val_loss: 2.3156 - val_acc: 0.0312 - _timestamp: 1649516187.0000 - _runtime: 23.0000\n",
            "Epoch 2/10\n",
            "25/25 [==============================] - 12s 413ms/step - loss: 2.4176 - acc: 0.1462 - val_loss: 2.2974 - val_acc: 0.0312 - _timestamp: 1649516199.0000 - _runtime: 35.0000\n",
            "Epoch 3/10\n",
            "25/25 [==============================] - 12s 408ms/step - loss: 2.3501 - acc: 0.1538 - val_loss: 2.3044 - val_acc: 0.1562 - _timestamp: 1649516219.0000 - _runtime: 55.0000\n",
            "Epoch 4/10\n",
            "25/25 [==============================] - 12s 396ms/step - loss: 2.2455 - acc: 0.2025 - val_loss: 2.3574 - val_acc: 0.0312 - _timestamp: 1649516240.0000 - _runtime: 76.0000\n",
            "Epoch 5/10\n",
            "25/25 [==============================] - 12s 394ms/step - loss: 2.1995 - acc: 0.2138 - val_loss: 2.3484 - val_acc: 0.0938 - _timestamp: 1649516251.0000 - _runtime: 87.0000\n",
            "Epoch 6/10\n",
            "25/25 [==============================] - 12s 396ms/step - loss: 2.1445 - acc: 0.2250 - val_loss: 2.3511 - val_acc: 0.1562 - _timestamp: 1649516263.0000 - _runtime: 99.0000\n",
            "Epoch 7/10\n",
            "25/25 [==============================] - 12s 386ms/step - loss: 2.1026 - acc: 0.2675 - val_loss: 2.3036 - val_acc: 0.1250 - _timestamp: 1649516275.0000 - _runtime: 111.0000\n",
            "Epoch 8/10\n",
            "25/25 [==============================] - 12s 391ms/step - loss: 2.0725 - acc: 0.2600 - val_loss: 2.4206 - val_acc: 0.0938 - _timestamp: 1649516295.0000 - _runtime: 131.0000\n"
          ]
        },
        {
          "output_type": "stream",
          "name": "stderr",
          "text": [
            "\u001b[34m\u001b[1mwandb\u001b[0m: Agent Starting Run: jk4s80tp with config:\n",
            "\u001b[34m\u001b[1mwandb\u001b[0m: \tactivation: relu\n",
            "\u001b[34m\u001b[1mwandb\u001b[0m: \tbatch_norm: True\n",
            "\u001b[34m\u001b[1mwandb\u001b[0m: \tconv_layers: 5\n",
            "\u001b[34m\u001b[1mwandb\u001b[0m: \tdata_aug: True\n",
            "\u001b[34m\u001b[1mwandb\u001b[0m: \tdense_size: 32\n",
            "\u001b[34m\u001b[1mwandb\u001b[0m: \tdropout: 0.2\n",
            "\u001b[34m\u001b[1mwandb\u001b[0m: \tfilter_org: 0.5\n",
            "\u001b[34m\u001b[1mwandb\u001b[0m: \tfirst_layer_filters: 64\n",
            "\u001b[34m\u001b[1mwandb\u001b[0m: \tkernel_size: 3\n",
            "\u001b[34m\u001b[1mwandb\u001b[0m: \tnum_epochs: 10\n",
            "\u001b[34m\u001b[1mwandb\u001b[0m: \toptimizer: adam\n"
          ]
        },
        {
          "output_type": "display_data",
          "data": {
            "text/plain": [
              "<IPython.core.display.HTML object>"
            ],
            "text/html": [
              "Tracking run with wandb version 0.12.14"
            ]
          },
          "metadata": {}
        },
        {
          "output_type": "display_data",
          "data": {
            "text/plain": [
              "<IPython.core.display.HTML object>"
            ],
            "text/html": [
              "Run data is saved locally in <code>/content/wandb/run-20220409_145824-jk4s80tp</code>"
            ]
          },
          "metadata": {}
        },
        {
          "output_type": "display_data",
          "data": {
            "text/plain": [
              "<IPython.core.display.HTML object>"
            ],
            "text/html": [
              "Syncing run <strong><a href=\"https://wandb.ai/jayant3000/Final_PC_on_fire/runs/jk4s80tp\" target=\"_blank\">amber-sweep-28</a></strong> to <a href=\"https://wandb.ai/jayant3000/Final_PC_on_fire\" target=\"_blank\">Weights & Biases</a> (<a href=\"https://wandb.me/run\" target=\"_blank\">docs</a>)<br/>Sweep page:  <a href=\"https://wandb.ai/jayant3000/Final_PC_on_fire/sweeps/flv85syf\" target=\"_blank\">https://wandb.ai/jayant3000/Final_PC_on_fire/sweeps/flv85syf</a>"
            ]
          },
          "metadata": {}
        },
        {
          "output_type": "display_data",
          "data": {
            "text/plain": [
              "<IPython.core.display.HTML object>"
            ],
            "text/html": [
              "Finishing last run (ID:jk4s80tp) before initializing another..."
            ]
          },
          "metadata": {}
        },
        {
          "output_type": "stream",
          "name": "stdout",
          "text": [
            "\n"
          ]
        },
        {
          "output_type": "display_data",
          "data": {
            "text/plain": [
              "<IPython.core.display.HTML object>"
            ],
            "text/html": [
              "Waiting for W&B process to finish... <strong style=\"color:green\">(success).</strong>"
            ]
          },
          "metadata": {}
        },
        {
          "output_type": "display_data",
          "data": {
            "text/plain": [
              "VBox(children=(Label(value='0.001 MB of 0.001 MB uploaded (0.000 MB deduped)\\r'), FloatProgress(value=1.0, max…"
            ],
            "application/vnd.jupyter.widget-view+json": {
              "version_major": 2,
              "version_minor": 0,
              "model_id": "f35ec0f795c9470caa0b9ccfc902cced"
            }
          },
          "metadata": {}
        },
        {
          "output_type": "display_data",
          "data": {
            "text/plain": [
              "<IPython.core.display.HTML object>"
            ],
            "text/html": [
              "Synced <strong style=\"color:#cdcd00\">amber-sweep-28</strong>: <a href=\"https://wandb.ai/jayant3000/Final_PC_on_fire/runs/jk4s80tp\" target=\"_blank\">https://wandb.ai/jayant3000/Final_PC_on_fire/runs/jk4s80tp</a><br/>Synced 4 W&B file(s), 0 media file(s), 0 artifact file(s) and 0 other file(s)"
            ]
          },
          "metadata": {}
        },
        {
          "output_type": "display_data",
          "data": {
            "text/plain": [
              "<IPython.core.display.HTML object>"
            ],
            "text/html": [
              "Find logs at: <code>./wandb/run-20220409_145824-jk4s80tp/logs</code>"
            ]
          },
          "metadata": {}
        },
        {
          "output_type": "display_data",
          "data": {
            "text/plain": [
              "<IPython.core.display.HTML object>"
            ],
            "text/html": [
              "Successfully finished last run (ID:jk4s80tp). Initializing new run:<br/>"
            ]
          },
          "metadata": {}
        },
        {
          "output_type": "display_data",
          "data": {
            "text/plain": [
              "<IPython.core.display.HTML object>"
            ],
            "text/html": [
              "Tracking run with wandb version 0.12.14"
            ]
          },
          "metadata": {}
        },
        {
          "output_type": "display_data",
          "data": {
            "text/plain": [
              "<IPython.core.display.HTML object>"
            ],
            "text/html": [
              "Run data is saved locally in <code>/content/wandb/run-20220409_145833-jk4s80tp</code>"
            ]
          },
          "metadata": {}
        },
        {
          "output_type": "display_data",
          "data": {
            "text/plain": [
              "<IPython.core.display.HTML object>"
            ],
            "text/html": [
              "Syncing run <strong><a href=\"https://wandb.ai/jayant3000/Final_PC_on_fire/runs/jk4s80tp\" target=\"_blank\">amber-sweep-28</a></strong> to <a href=\"https://wandb.ai/jayant3000/Final_PC_on_fire\" target=\"_blank\">Weights & Biases</a> (<a href=\"https://wandb.me/run\" target=\"_blank\">docs</a>)<br/>Sweep page:  <a href=\"https://wandb.ai/jayant3000/Final_PC_on_fire/sweeps/flv85syf\" target=\"_blank\">https://wandb.ai/jayant3000/Final_PC_on_fire/sweeps/flv85syf</a>"
            ]
          },
          "metadata": {}
        },
        {
          "output_type": "stream",
          "name": "stdout",
          "text": [
            "Epoch 1/10\n",
            "25/25 [==============================] - 15s 444ms/step - loss: 2.5194 - acc: 0.1275 - val_loss: 2.3404 - val_acc: 0.1250 - _timestamp: 1649516342.0000 - _runtime: 23.0000\n",
            "Epoch 2/10\n",
            "25/25 [==============================] - 13s 436ms/step - loss: 2.3624 - acc: 0.1425 - val_loss: 2.3462 - val_acc: 0.0312 - _timestamp: 1649516363.0000 - _runtime: 44.0000\n",
            "Epoch 3/10\n",
            "25/25 [==============================] - 13s 438ms/step - loss: 2.2827 - acc: 0.1838 - val_loss: 2.3715 - val_acc: 0.0938 - _timestamp: 1649516375.0000 - _runtime: 56.0000\n",
            "Epoch 4/10\n",
            "25/25 [==============================] - 13s 433ms/step - loss: 2.1507 - acc: 0.2050 - val_loss: 2.3591 - val_acc: 0.0625 - _timestamp: 1649516396.0000 - _runtime: 77.0000\n",
            "Epoch 5/10\n",
            "25/25 [==============================] - 13s 452ms/step - loss: 2.1408 - acc: 0.2163 - val_loss: 2.3266 - val_acc: 0.0625 - _timestamp: 1649516417.0000 - _runtime: 98.0000\n",
            "Epoch 6/10\n",
            "25/25 [==============================] - 13s 421ms/step - loss: 2.0337 - acc: 0.2587 - val_loss: 2.3288 - val_acc: 0.1562 - _timestamp: 1649516429.0000 - _runtime: 110.0000\n",
            "Epoch 7/10\n",
            "25/25 [==============================] - 13s 424ms/step - loss: 2.0264 - acc: 0.2738 - val_loss: 2.4325 - val_acc: 0.0938 - _timestamp: 1649516442.0000 - _runtime: 123.0000\n",
            "Epoch 8/10\n",
            "25/25 [==============================] - 13s 426ms/step - loss: 2.0066 - acc: 0.2488 - val_loss: 2.2964 - val_acc: 0.1562 - _timestamp: 1649516455.0000 - _runtime: 136.0000\n",
            "Epoch 9/10\n",
            "25/25 [==============================] - 12s 419ms/step - loss: 1.9523 - acc: 0.3088 - val_loss: 2.4955 - val_acc: 0.0625 - _timestamp: 1649516467.0000 - _runtime: 148.0000\n",
            "Epoch 10/10\n",
            "25/25 [==============================] - 13s 427ms/step - loss: 1.8922 - acc: 0.3325 - val_loss: 2.2891 - val_acc: 0.1562 - _timestamp: 1649516480.0000 - _runtime: 161.0000\n"
          ]
        },
        {
          "output_type": "stream",
          "name": "stderr",
          "text": [
            "\u001b[34m\u001b[1mwandb\u001b[0m: Agent Starting Run: r8ygyr9y with config:\n",
            "\u001b[34m\u001b[1mwandb\u001b[0m: \tactivation: relu\n",
            "\u001b[34m\u001b[1mwandb\u001b[0m: \tbatch_norm: False\n",
            "\u001b[34m\u001b[1mwandb\u001b[0m: \tconv_layers: 5\n",
            "\u001b[34m\u001b[1mwandb\u001b[0m: \tdata_aug: True\n",
            "\u001b[34m\u001b[1mwandb\u001b[0m: \tdense_size: 32\n",
            "\u001b[34m\u001b[1mwandb\u001b[0m: \tdropout: 0.2\n",
            "\u001b[34m\u001b[1mwandb\u001b[0m: \tfilter_org: 0.5\n",
            "\u001b[34m\u001b[1mwandb\u001b[0m: \tfirst_layer_filters: 64\n",
            "\u001b[34m\u001b[1mwandb\u001b[0m: \tkernel_size: 3\n",
            "\u001b[34m\u001b[1mwandb\u001b[0m: \tnum_epochs: 10\n",
            "\u001b[34m\u001b[1mwandb\u001b[0m: \toptimizer: adam\n"
          ]
        },
        {
          "output_type": "display_data",
          "data": {
            "text/plain": [
              "<IPython.core.display.HTML object>"
            ],
            "text/html": [
              "Tracking run with wandb version 0.12.14"
            ]
          },
          "metadata": {}
        },
        {
          "output_type": "display_data",
          "data": {
            "text/plain": [
              "<IPython.core.display.HTML object>"
            ],
            "text/html": [
              "Run data is saved locally in <code>/content/wandb/run-20220409_150137-r8ygyr9y</code>"
            ]
          },
          "metadata": {}
        },
        {
          "output_type": "display_data",
          "data": {
            "text/plain": [
              "<IPython.core.display.HTML object>"
            ],
            "text/html": [
              "Syncing run <strong><a href=\"https://wandb.ai/jayant3000/Final_PC_on_fire/runs/r8ygyr9y\" target=\"_blank\">dashing-sweep-29</a></strong> to <a href=\"https://wandb.ai/jayant3000/Final_PC_on_fire\" target=\"_blank\">Weights & Biases</a> (<a href=\"https://wandb.me/run\" target=\"_blank\">docs</a>)<br/>Sweep page:  <a href=\"https://wandb.ai/jayant3000/Final_PC_on_fire/sweeps/flv85syf\" target=\"_blank\">https://wandb.ai/jayant3000/Final_PC_on_fire/sweeps/flv85syf</a>"
            ]
          },
          "metadata": {}
        },
        {
          "output_type": "display_data",
          "data": {
            "text/plain": [
              "<IPython.core.display.HTML object>"
            ],
            "text/html": [
              "Finishing last run (ID:r8ygyr9y) before initializing another..."
            ]
          },
          "metadata": {}
        },
        {
          "output_type": "stream",
          "name": "stdout",
          "text": [
            "\n"
          ]
        },
        {
          "output_type": "display_data",
          "data": {
            "text/plain": [
              "<IPython.core.display.HTML object>"
            ],
            "text/html": [
              "Waiting for W&B process to finish... <strong style=\"color:green\">(success).</strong>"
            ]
          },
          "metadata": {}
        },
        {
          "output_type": "display_data",
          "data": {
            "text/plain": [
              "VBox(children=(Label(value='0.001 MB of 0.001 MB uploaded (0.000 MB deduped)\\r'), FloatProgress(value=1.0, max…"
            ],
            "application/vnd.jupyter.widget-view+json": {
              "version_major": 2,
              "version_minor": 0,
              "model_id": "b67309df2df543288492bc85e8d1a4fd"
            }
          },
          "metadata": {}
        },
        {
          "output_type": "display_data",
          "data": {
            "text/plain": [
              "<IPython.core.display.HTML object>"
            ],
            "text/html": [
              "Synced <strong style=\"color:#cdcd00\">dashing-sweep-29</strong>: <a href=\"https://wandb.ai/jayant3000/Final_PC_on_fire/runs/r8ygyr9y\" target=\"_blank\">https://wandb.ai/jayant3000/Final_PC_on_fire/runs/r8ygyr9y</a><br/>Synced 4 W&B file(s), 0 media file(s), 0 artifact file(s) and 0 other file(s)"
            ]
          },
          "metadata": {}
        },
        {
          "output_type": "display_data",
          "data": {
            "text/plain": [
              "<IPython.core.display.HTML object>"
            ],
            "text/html": [
              "Find logs at: <code>./wandb/run-20220409_150137-r8ygyr9y/logs</code>"
            ]
          },
          "metadata": {}
        },
        {
          "output_type": "display_data",
          "data": {
            "text/plain": [
              "<IPython.core.display.HTML object>"
            ],
            "text/html": [
              "Successfully finished last run (ID:r8ygyr9y). Initializing new run:<br/>"
            ]
          },
          "metadata": {}
        },
        {
          "output_type": "display_data",
          "data": {
            "text/plain": [
              "<IPython.core.display.HTML object>"
            ],
            "text/html": [
              "Tracking run with wandb version 0.12.14"
            ]
          },
          "metadata": {}
        },
        {
          "output_type": "display_data",
          "data": {
            "text/plain": [
              "<IPython.core.display.HTML object>"
            ],
            "text/html": [
              "Run data is saved locally in <code>/content/wandb/run-20220409_150147-r8ygyr9y</code>"
            ]
          },
          "metadata": {}
        },
        {
          "output_type": "display_data",
          "data": {
            "text/plain": [
              "<IPython.core.display.HTML object>"
            ],
            "text/html": [
              "Syncing run <strong><a href=\"https://wandb.ai/jayant3000/Final_PC_on_fire/runs/r8ygyr9y\" target=\"_blank\">dashing-sweep-29</a></strong> to <a href=\"https://wandb.ai/jayant3000/Final_PC_on_fire\" target=\"_blank\">Weights & Biases</a> (<a href=\"https://wandb.me/run\" target=\"_blank\">docs</a>)<br/>Sweep page:  <a href=\"https://wandb.ai/jayant3000/Final_PC_on_fire/sweeps/flv85syf\" target=\"_blank\">https://wandb.ai/jayant3000/Final_PC_on_fire/sweeps/flv85syf</a>"
            ]
          },
          "metadata": {}
        },
        {
          "output_type": "stream",
          "name": "stdout",
          "text": [
            "Epoch 1/10\n",
            "25/25 [==============================] - 13s 415ms/step - loss: 2.3080 - acc: 0.0887 - val_loss: 2.3017 - val_acc: 0.0625 - _timestamp: 1649516534.0000 - _runtime: 22.0000\n",
            "Epoch 2/10\n",
            "25/25 [==============================] - 13s 422ms/step - loss: 2.3017 - acc: 0.1163 - val_loss: 2.3041 - val_acc: 0.0625 - _timestamp: 1649516555.0000 - _runtime: 43.0000\n",
            "Epoch 3/10\n",
            "25/25 [==============================] - 12s 418ms/step - loss: 2.3014 - acc: 0.1063 - val_loss: 2.2970 - val_acc: 0.0938 - _timestamp: 1649516575.0000 - _runtime: 63.0000\n",
            "Epoch 4/10\n",
            "25/25 [==============================] - 12s 419ms/step - loss: 2.2992 - acc: 0.1200 - val_loss: 2.3054 - val_acc: 0.0625 - _timestamp: 1649516588.0000 - _runtime: 76.0000\n",
            "Epoch 5/10\n",
            "25/25 [==============================] - 13s 420ms/step - loss: 2.2997 - acc: 0.1275 - val_loss: 2.3051 - val_acc: 0.0625 - _timestamp: 1649516600.0000 - _runtime: 88.0000\n",
            "Epoch 6/10\n",
            "25/25 [==============================] - 12s 418ms/step - loss: 2.2898 - acc: 0.1400 - val_loss: 2.3341 - val_acc: 0.0938 - _timestamp: 1649516613.0000 - _runtime: 101.0000\n",
            "Epoch 7/10\n",
            "25/25 [==============================] - 12s 420ms/step - loss: 2.2814 - acc: 0.1475 - val_loss: 2.3060 - val_acc: 0.1875 - _timestamp: 1649516633.0000 - _runtime: 121.0000\n",
            "Epoch 8/10\n",
            "25/25 [==============================] - 13s 431ms/step - loss: 2.2625 - acc: 0.1525 - val_loss: 2.2653 - val_acc: 0.1562 - _timestamp: 1649516654.0000 - _runtime: 142.0000\n",
            "Epoch 9/10\n",
            "25/25 [==============================] - 12s 409ms/step - loss: 2.2317 - acc: 0.1625 - val_loss: 2.3656 - val_acc: 0.0625 - _timestamp: 1649516666.0000 - _runtime: 154.0000\n",
            "Epoch 10/10\n",
            "25/25 [==============================] - 12s 418ms/step - loss: 2.2197 - acc: 0.1838 - val_loss: 2.3386 - val_acc: 0.0938 - _timestamp: 1649516679.0000 - _runtime: 167.0000\n"
          ]
        },
        {
          "output_type": "stream",
          "name": "stderr",
          "text": [
            "\u001b[34m\u001b[1mwandb\u001b[0m: Agent Starting Run: n92gwjkw with config:\n",
            "\u001b[34m\u001b[1mwandb\u001b[0m: \tactivation: relu\n",
            "\u001b[34m\u001b[1mwandb\u001b[0m: \tbatch_norm: False\n",
            "\u001b[34m\u001b[1mwandb\u001b[0m: \tconv_layers: 5\n",
            "\u001b[34m\u001b[1mwandb\u001b[0m: \tdata_aug: False\n",
            "\u001b[34m\u001b[1mwandb\u001b[0m: \tdense_size: 32\n",
            "\u001b[34m\u001b[1mwandb\u001b[0m: \tdropout: 0.2\n",
            "\u001b[34m\u001b[1mwandb\u001b[0m: \tfilter_org: 2\n",
            "\u001b[34m\u001b[1mwandb\u001b[0m: \tfirst_layer_filters: 32\n",
            "\u001b[34m\u001b[1mwandb\u001b[0m: \tkernel_size: 3\n",
            "\u001b[34m\u001b[1mwandb\u001b[0m: \tnum_epochs: 10\n",
            "\u001b[34m\u001b[1mwandb\u001b[0m: \toptimizer: adam\n"
          ]
        },
        {
          "output_type": "display_data",
          "data": {
            "text/plain": [
              "<IPython.core.display.HTML object>"
            ],
            "text/html": [
              "Tracking run with wandb version 0.12.14"
            ]
          },
          "metadata": {}
        },
        {
          "output_type": "display_data",
          "data": {
            "text/plain": [
              "<IPython.core.display.HTML object>"
            ],
            "text/html": [
              "Run data is saved locally in <code>/content/wandb/run-20220409_150445-n92gwjkw</code>"
            ]
          },
          "metadata": {}
        },
        {
          "output_type": "display_data",
          "data": {
            "text/plain": [
              "<IPython.core.display.HTML object>"
            ],
            "text/html": [
              "Syncing run <strong><a href=\"https://wandb.ai/jayant3000/Final_PC_on_fire/runs/n92gwjkw\" target=\"_blank\">young-sweep-30</a></strong> to <a href=\"https://wandb.ai/jayant3000/Final_PC_on_fire\" target=\"_blank\">Weights & Biases</a> (<a href=\"https://wandb.me/run\" target=\"_blank\">docs</a>)<br/>Sweep page:  <a href=\"https://wandb.ai/jayant3000/Final_PC_on_fire/sweeps/flv85syf\" target=\"_blank\">https://wandb.ai/jayant3000/Final_PC_on_fire/sweeps/flv85syf</a>"
            ]
          },
          "metadata": {}
        },
        {
          "output_type": "display_data",
          "data": {
            "text/plain": [
              "<IPython.core.display.HTML object>"
            ],
            "text/html": [
              "Finishing last run (ID:n92gwjkw) before initializing another..."
            ]
          },
          "metadata": {}
        },
        {
          "output_type": "stream",
          "name": "stdout",
          "text": [
            "\n"
          ]
        },
        {
          "output_type": "display_data",
          "data": {
            "text/plain": [
              "<IPython.core.display.HTML object>"
            ],
            "text/html": [
              "Waiting for W&B process to finish... <strong style=\"color:green\">(success).</strong>"
            ]
          },
          "metadata": {}
        },
        {
          "output_type": "display_data",
          "data": {
            "text/plain": [
              "VBox(children=(Label(value='0.001 MB of 0.001 MB uploaded (0.000 MB deduped)\\r'), FloatProgress(value=1.0, max…"
            ],
            "application/vnd.jupyter.widget-view+json": {
              "version_major": 2,
              "version_minor": 0,
              "model_id": "b2be263961454aa4b1e7a1862465c811"
            }
          },
          "metadata": {}
        },
        {
          "output_type": "display_data",
          "data": {
            "text/plain": [
              "<IPython.core.display.HTML object>"
            ],
            "text/html": [
              "Synced <strong style=\"color:#cdcd00\">young-sweep-30</strong>: <a href=\"https://wandb.ai/jayant3000/Final_PC_on_fire/runs/n92gwjkw\" target=\"_blank\">https://wandb.ai/jayant3000/Final_PC_on_fire/runs/n92gwjkw</a><br/>Synced 4 W&B file(s), 0 media file(s), 0 artifact file(s) and 0 other file(s)"
            ]
          },
          "metadata": {}
        },
        {
          "output_type": "display_data",
          "data": {
            "text/plain": [
              "<IPython.core.display.HTML object>"
            ],
            "text/html": [
              "Find logs at: <code>./wandb/run-20220409_150445-n92gwjkw/logs</code>"
            ]
          },
          "metadata": {}
        },
        {
          "output_type": "display_data",
          "data": {
            "text/plain": [
              "<IPython.core.display.HTML object>"
            ],
            "text/html": [
              "Successfully finished last run (ID:n92gwjkw). Initializing new run:<br/>"
            ]
          },
          "metadata": {}
        },
        {
          "output_type": "display_data",
          "data": {
            "text/plain": [
              "<IPython.core.display.HTML object>"
            ],
            "text/html": [
              "Tracking run with wandb version 0.12.14"
            ]
          },
          "metadata": {}
        },
        {
          "output_type": "display_data",
          "data": {
            "text/plain": [
              "<IPython.core.display.HTML object>"
            ],
            "text/html": [
              "Run data is saved locally in <code>/content/wandb/run-20220409_150456-n92gwjkw</code>"
            ]
          },
          "metadata": {}
        },
        {
          "output_type": "display_data",
          "data": {
            "text/plain": [
              "<IPython.core.display.HTML object>"
            ],
            "text/html": [
              "Syncing run <strong><a href=\"https://wandb.ai/jayant3000/Final_PC_on_fire/runs/n92gwjkw\" target=\"_blank\">young-sweep-30</a></strong> to <a href=\"https://wandb.ai/jayant3000/Final_PC_on_fire\" target=\"_blank\">Weights & Biases</a> (<a href=\"https://wandb.me/run\" target=\"_blank\">docs</a>)<br/>Sweep page:  <a href=\"https://wandb.ai/jayant3000/Final_PC_on_fire/sweeps/flv85syf\" target=\"_blank\">https://wandb.ai/jayant3000/Final_PC_on_fire/sweeps/flv85syf</a>"
            ]
          },
          "metadata": {}
        },
        {
          "output_type": "stream",
          "name": "stdout",
          "text": [
            "Epoch 1/10\n",
            "25/25 [==============================] - 15s 492ms/step - loss: 2.3117 - acc: 0.1013 - val_loss: 2.3028 - val_acc: 0.0938 - _timestamp: 1649516726.0000 - _runtime: 24.0000\n",
            "Epoch 2/10\n",
            "25/25 [==============================] - 14s 470ms/step - loss: 2.3022 - acc: 0.1075 - val_loss: 2.3047 - val_acc: 0.0938 - _timestamp: 1649516740.0000 - _runtime: 38.0000\n",
            "Epoch 3/10\n",
            "25/25 [==============================] - 13s 412ms/step - loss: 2.3013 - acc: 0.1063 - val_loss: 2.3018 - val_acc: 0.0625 - _timestamp: 1649516753.0000 - _runtime: 51.0000\n",
            "Epoch 4/10\n",
            "25/25 [==============================] - 12s 401ms/step - loss: 2.2998 - acc: 0.1200 - val_loss: 2.2996 - val_acc: 0.1875 - _timestamp: 1649516765.0000 - _runtime: 63.0000\n",
            "Epoch 5/10\n",
            "25/25 [==============================] - 12s 400ms/step - loss: 2.3013 - acc: 0.1163 - val_loss: 2.3024 - val_acc: 0.0625 - _timestamp: 1649516777.0000 - _runtime: 75.0000\n",
            "Epoch 6/10\n",
            "25/25 [==============================] - 12s 407ms/step - loss: 2.2931 - acc: 0.1138 - val_loss: 2.3727 - val_acc: 0.0625 - _timestamp: 1649516798.0000 - _runtime: 96.0000\n",
            "Epoch 7/10\n",
            "25/25 [==============================] - 12s 400ms/step - loss: 2.2937 - acc: 0.1525 - val_loss: 2.2635 - val_acc: 0.1562 - _timestamp: 1649516809.0000 - _runtime: 107.0000\n",
            "Epoch 8/10\n",
            "25/25 [==============================] - 12s 403ms/step - loss: 2.2877 - acc: 0.1300 - val_loss: 2.2557 - val_acc: 0.1250 - _timestamp: 1649516830.0000 - _runtime: 128.0000\n",
            "Epoch 9/10\n",
            "25/25 [==============================] - 12s 394ms/step - loss: 2.2470 - acc: 0.1688 - val_loss: 2.2940 - val_acc: 0.1562 - _timestamp: 1649516842.0000 - _runtime: 140.0000\n"
          ]
        },
        {
          "output_type": "stream",
          "name": "stderr",
          "text": [
            "\u001b[34m\u001b[1mwandb\u001b[0m: Sweep Agent: Waiting for job.\n",
            "\u001b[34m\u001b[1mwandb\u001b[0m: Job received.\n",
            "\u001b[34m\u001b[1mwandb\u001b[0m: Agent Starting Run: rx1tseqb with config:\n",
            "\u001b[34m\u001b[1mwandb\u001b[0m: \tactivation: relu\n",
            "\u001b[34m\u001b[1mwandb\u001b[0m: \tbatch_norm: True\n",
            "\u001b[34m\u001b[1mwandb\u001b[0m: \tconv_layers: 5\n",
            "\u001b[34m\u001b[1mwandb\u001b[0m: \tdata_aug: True\n",
            "\u001b[34m\u001b[1mwandb\u001b[0m: \tdense_size: 32\n",
            "\u001b[34m\u001b[1mwandb\u001b[0m: \tdropout: 0.3\n",
            "\u001b[34m\u001b[1mwandb\u001b[0m: \tfilter_org: 0.5\n",
            "\u001b[34m\u001b[1mwandb\u001b[0m: \tfirst_layer_filters: 64\n",
            "\u001b[34m\u001b[1mwandb\u001b[0m: \tkernel_size: 3\n",
            "\u001b[34m\u001b[1mwandb\u001b[0m: \tnum_epochs: 10\n",
            "\u001b[34m\u001b[1mwandb\u001b[0m: \toptimizer: adam\n"
          ]
        },
        {
          "output_type": "display_data",
          "data": {
            "text/plain": [
              "<IPython.core.display.HTML object>"
            ],
            "text/html": [
              "Tracking run with wandb version 0.12.14"
            ]
          },
          "metadata": {}
        },
        {
          "output_type": "display_data",
          "data": {
            "text/plain": [
              "<IPython.core.display.HTML object>"
            ],
            "text/html": [
              "Run data is saved locally in <code>/content/wandb/run-20220409_150756-rx1tseqb</code>"
            ]
          },
          "metadata": {}
        },
        {
          "output_type": "display_data",
          "data": {
            "text/plain": [
              "<IPython.core.display.HTML object>"
            ],
            "text/html": [
              "Syncing run <strong><a href=\"https://wandb.ai/jayant3000/Final_PC_on_fire/runs/rx1tseqb\" target=\"_blank\">bumbling-sweep-31</a></strong> to <a href=\"https://wandb.ai/jayant3000/Final_PC_on_fire\" target=\"_blank\">Weights & Biases</a> (<a href=\"https://wandb.me/run\" target=\"_blank\">docs</a>)<br/>Sweep page:  <a href=\"https://wandb.ai/jayant3000/Final_PC_on_fire/sweeps/flv85syf\" target=\"_blank\">https://wandb.ai/jayant3000/Final_PC_on_fire/sweeps/flv85syf</a>"
            ]
          },
          "metadata": {}
        },
        {
          "output_type": "display_data",
          "data": {
            "text/plain": [
              "<IPython.core.display.HTML object>"
            ],
            "text/html": [
              "Finishing last run (ID:rx1tseqb) before initializing another..."
            ]
          },
          "metadata": {}
        },
        {
          "output_type": "stream",
          "name": "stdout",
          "text": [
            "\n"
          ]
        },
        {
          "output_type": "display_data",
          "data": {
            "text/plain": [
              "<IPython.core.display.HTML object>"
            ],
            "text/html": [
              "Waiting for W&B process to finish... <strong style=\"color:green\">(success).</strong>"
            ]
          },
          "metadata": {}
        },
        {
          "output_type": "display_data",
          "data": {
            "text/plain": [
              "VBox(children=(Label(value='0.000 MB of 0.000 MB uploaded (0.000 MB deduped)\\r'), FloatProgress(value=1.0, max…"
            ],
            "application/vnd.jupyter.widget-view+json": {
              "version_major": 2,
              "version_minor": 0,
              "model_id": "de1849933cfc40d882f254bad7a13fe8"
            }
          },
          "metadata": {}
        },
        {
          "output_type": "display_data",
          "data": {
            "text/plain": [
              "<IPython.core.display.HTML object>"
            ],
            "text/html": [
              "Synced <strong style=\"color:#cdcd00\">bumbling-sweep-31</strong>: <a href=\"https://wandb.ai/jayant3000/Final_PC_on_fire/runs/rx1tseqb\" target=\"_blank\">https://wandb.ai/jayant3000/Final_PC_on_fire/runs/rx1tseqb</a><br/>Synced 4 W&B file(s), 0 media file(s), 0 artifact file(s) and 0 other file(s)"
            ]
          },
          "metadata": {}
        },
        {
          "output_type": "display_data",
          "data": {
            "text/plain": [
              "<IPython.core.display.HTML object>"
            ],
            "text/html": [
              "Find logs at: <code>./wandb/run-20220409_150756-rx1tseqb/logs</code>"
            ]
          },
          "metadata": {}
        },
        {
          "output_type": "display_data",
          "data": {
            "text/plain": [
              "<IPython.core.display.HTML object>"
            ],
            "text/html": [
              "Successfully finished last run (ID:rx1tseqb). Initializing new run:<br/>"
            ]
          },
          "metadata": {}
        },
        {
          "output_type": "display_data",
          "data": {
            "text/plain": [
              "<IPython.core.display.HTML object>"
            ],
            "text/html": [
              "Tracking run with wandb version 0.12.14"
            ]
          },
          "metadata": {}
        },
        {
          "output_type": "display_data",
          "data": {
            "text/plain": [
              "<IPython.core.display.HTML object>"
            ],
            "text/html": [
              "Run data is saved locally in <code>/content/wandb/run-20220409_150808-rx1tseqb</code>"
            ]
          },
          "metadata": {}
        },
        {
          "output_type": "display_data",
          "data": {
            "text/plain": [
              "<IPython.core.display.HTML object>"
            ],
            "text/html": [
              "Syncing run <strong><a href=\"https://wandb.ai/jayant3000/Final_PC_on_fire/runs/rx1tseqb\" target=\"_blank\">bumbling-sweep-31</a></strong> to <a href=\"https://wandb.ai/jayant3000/Final_PC_on_fire\" target=\"_blank\">Weights & Biases</a> (<a href=\"https://wandb.me/run\" target=\"_blank\">docs</a>)<br/>Sweep page:  <a href=\"https://wandb.ai/jayant3000/Final_PC_on_fire/sweeps/flv85syf\" target=\"_blank\">https://wandb.ai/jayant3000/Final_PC_on_fire/sweeps/flv85syf</a>"
            ]
          },
          "metadata": {}
        },
        {
          "output_type": "stream",
          "name": "stdout",
          "text": [
            "Epoch 1/10\n",
            "22/25 [=========================>....] - ETA: 1s - loss: 2.6602 - acc: 0.0994"
          ]
        },
        {
          "output_type": "stream",
          "name": "stderr",
          "text": [
            "\u001b[34m\u001b[1mwandb\u001b[0m: Ctrl + C detected. Stopping sweep.\n"
          ]
        }
      ],
      "source": [
        "sweep_id = wandb.sweep(sweep_config, project=\"Final_PC_on_fire\", entity=\"jayant3000\")\n",
        "wandb.agent(sweep_id, function = convolutional_neural_network)"
      ]
    },
    {
      "cell_type": "code",
      "execution_count": null,
      "metadata": {
        "id": "O6-U3Vw_KaEA"
      },
      "outputs": [],
      "source": [
        ""
      ]
    },
    {
      "cell_type": "code",
      "execution_count": null,
      "metadata": {
        "id": "OkdgvG23KaBi"
      },
      "outputs": [],
      "source": [
        ""
      ]
    }
  ],
  "metadata": {
    "accelerator": "GPU",
    "colab": {
      "collapsed_sections": [],
      "name": "Part_A_Question_02.ipynb",
      "provenance": [],
      "mount_file_id": "19ULeykT_uqIexViYHEchVYLL2UO58W-4",
      "authorship_tag": "ABX9TyP73xO93abso6TxlC5e0qO9",
      "include_colab_link": true
    },
    "kernelspec": {
      "display_name": "Python 3",
      "name": "python3"
    },
    "language_info": {
      "name": "python"
    },
    "widgets": {
      "application/vnd.jupyter.widget-state+json": {
        "0205824fea45486a858f09758a9da00a": {
          "model_module": "@jupyter-widgets/controls",
          "model_name": "VBoxModel",
          "model_module_version": "1.5.0",
          "state": {
            "_dom_classes": [],
            "_model_module": "@jupyter-widgets/controls",
            "_model_module_version": "1.5.0",
            "_model_name": "VBoxModel",
            "_view_count": null,
            "_view_module": "@jupyter-widgets/controls",
            "_view_module_version": "1.5.0",
            "_view_name": "VBoxView",
            "box_style": "",
            "children": [
              "IPY_MODEL_abf007d943b347558c1b890388200774",
              "IPY_MODEL_3a6843b5bf334349892ebd4771bbf61d"
            ],
            "layout": "IPY_MODEL_79e45bb2b8f34512b868e93d3fd7b8a3"
          }
        },
        "abf007d943b347558c1b890388200774": {
          "model_module": "@jupyter-widgets/controls",
          "model_name": "LabelModel",
          "model_module_version": "1.5.0",
          "state": {
            "_dom_classes": [],
            "_model_module": "@jupyter-widgets/controls",
            "_model_module_version": "1.5.0",
            "_model_name": "LabelModel",
            "_view_count": null,
            "_view_module": "@jupyter-widgets/controls",
            "_view_module_version": "1.5.0",
            "_view_name": "LabelView",
            "description": "",
            "description_tooltip": null,
            "layout": "IPY_MODEL_518fdf90549e4e049ca677a8e50b1735",
            "placeholder": "​",
            "style": "IPY_MODEL_0887e4bfbde1478dacee7ea2325b362a",
            "value": "0.009 MB of 0.009 MB uploaded (0.000 MB deduped)\r"
          }
        },
        "3a6843b5bf334349892ebd4771bbf61d": {
          "model_module": "@jupyter-widgets/controls",
          "model_name": "FloatProgressModel",
          "model_module_version": "1.5.0",
          "state": {
            "_dom_classes": [],
            "_model_module": "@jupyter-widgets/controls",
            "_model_module_version": "1.5.0",
            "_model_name": "FloatProgressModel",
            "_view_count": null,
            "_view_module": "@jupyter-widgets/controls",
            "_view_module_version": "1.5.0",
            "_view_name": "ProgressView",
            "bar_style": "",
            "description": "",
            "description_tooltip": null,
            "layout": "IPY_MODEL_8cc98b8c529949669b227da160783d3c",
            "max": 1,
            "min": 0,
            "orientation": "horizontal",
            "style": "IPY_MODEL_c671024ec1ec4076ae745cb90ff08674",
            "value": 1
          }
        },
        "79e45bb2b8f34512b868e93d3fd7b8a3": {
          "model_module": "@jupyter-widgets/base",
          "model_name": "LayoutModel",
          "model_module_version": "1.2.0",
          "state": {
            "_model_module": "@jupyter-widgets/base",
            "_model_module_version": "1.2.0",
            "_model_name": "LayoutModel",
            "_view_count": null,
            "_view_module": "@jupyter-widgets/base",
            "_view_module_version": "1.2.0",
            "_view_name": "LayoutView",
            "align_content": null,
            "align_items": null,
            "align_self": null,
            "border": null,
            "bottom": null,
            "display": null,
            "flex": null,
            "flex_flow": null,
            "grid_area": null,
            "grid_auto_columns": null,
            "grid_auto_flow": null,
            "grid_auto_rows": null,
            "grid_column": null,
            "grid_gap": null,
            "grid_row": null,
            "grid_template_areas": null,
            "grid_template_columns": null,
            "grid_template_rows": null,
            "height": null,
            "justify_content": null,
            "justify_items": null,
            "left": null,
            "margin": null,
            "max_height": null,
            "max_width": null,
            "min_height": null,
            "min_width": null,
            "object_fit": null,
            "object_position": null,
            "order": null,
            "overflow": null,
            "overflow_x": null,
            "overflow_y": null,
            "padding": null,
            "right": null,
            "top": null,
            "visibility": null,
            "width": null
          }
        },
        "518fdf90549e4e049ca677a8e50b1735": {
          "model_module": "@jupyter-widgets/base",
          "model_name": "LayoutModel",
          "model_module_version": "1.2.0",
          "state": {
            "_model_module": "@jupyter-widgets/base",
            "_model_module_version": "1.2.0",
            "_model_name": "LayoutModel",
            "_view_count": null,
            "_view_module": "@jupyter-widgets/base",
            "_view_module_version": "1.2.0",
            "_view_name": "LayoutView",
            "align_content": null,
            "align_items": null,
            "align_self": null,
            "border": null,
            "bottom": null,
            "display": null,
            "flex": null,
            "flex_flow": null,
            "grid_area": null,
            "grid_auto_columns": null,
            "grid_auto_flow": null,
            "grid_auto_rows": null,
            "grid_column": null,
            "grid_gap": null,
            "grid_row": null,
            "grid_template_areas": null,
            "grid_template_columns": null,
            "grid_template_rows": null,
            "height": null,
            "justify_content": null,
            "justify_items": null,
            "left": null,
            "margin": null,
            "max_height": null,
            "max_width": null,
            "min_height": null,
            "min_width": null,
            "object_fit": null,
            "object_position": null,
            "order": null,
            "overflow": null,
            "overflow_x": null,
            "overflow_y": null,
            "padding": null,
            "right": null,
            "top": null,
            "visibility": null,
            "width": null
          }
        },
        "0887e4bfbde1478dacee7ea2325b362a": {
          "model_module": "@jupyter-widgets/controls",
          "model_name": "DescriptionStyleModel",
          "model_module_version": "1.5.0",
          "state": {
            "_model_module": "@jupyter-widgets/controls",
            "_model_module_version": "1.5.0",
            "_model_name": "DescriptionStyleModel",
            "_view_count": null,
            "_view_module": "@jupyter-widgets/base",
            "_view_module_version": "1.2.0",
            "_view_name": "StyleView",
            "description_width": ""
          }
        },
        "8cc98b8c529949669b227da160783d3c": {
          "model_module": "@jupyter-widgets/base",
          "model_name": "LayoutModel",
          "model_module_version": "1.2.0",
          "state": {
            "_model_module": "@jupyter-widgets/base",
            "_model_module_version": "1.2.0",
            "_model_name": "LayoutModel",
            "_view_count": null,
            "_view_module": "@jupyter-widgets/base",
            "_view_module_version": "1.2.0",
            "_view_name": "LayoutView",
            "align_content": null,
            "align_items": null,
            "align_self": null,
            "border": null,
            "bottom": null,
            "display": null,
            "flex": null,
            "flex_flow": null,
            "grid_area": null,
            "grid_auto_columns": null,
            "grid_auto_flow": null,
            "grid_auto_rows": null,
            "grid_column": null,
            "grid_gap": null,
            "grid_row": null,
            "grid_template_areas": null,
            "grid_template_columns": null,
            "grid_template_rows": null,
            "height": null,
            "justify_content": null,
            "justify_items": null,
            "left": null,
            "margin": null,
            "max_height": null,
            "max_width": null,
            "min_height": null,
            "min_width": null,
            "object_fit": null,
            "object_position": null,
            "order": null,
            "overflow": null,
            "overflow_x": null,
            "overflow_y": null,
            "padding": null,
            "right": null,
            "top": null,
            "visibility": null,
            "width": null
          }
        },
        "c671024ec1ec4076ae745cb90ff08674": {
          "model_module": "@jupyter-widgets/controls",
          "model_name": "ProgressStyleModel",
          "model_module_version": "1.5.0",
          "state": {
            "_model_module": "@jupyter-widgets/controls",
            "_model_module_version": "1.5.0",
            "_model_name": "ProgressStyleModel",
            "_view_count": null,
            "_view_module": "@jupyter-widgets/base",
            "_view_module_version": "1.2.0",
            "_view_name": "StyleView",
            "bar_color": null,
            "description_width": ""
          }
        },
        "621ab69898374a72ba0179eac258dcfe": {
          "model_module": "@jupyter-widgets/controls",
          "model_name": "VBoxModel",
          "model_module_version": "1.5.0",
          "state": {
            "_dom_classes": [],
            "_model_module": "@jupyter-widgets/controls",
            "_model_module_version": "1.5.0",
            "_model_name": "VBoxModel",
            "_view_count": null,
            "_view_module": "@jupyter-widgets/controls",
            "_view_module_version": "1.5.0",
            "_view_name": "VBoxView",
            "box_style": "",
            "children": [
              "IPY_MODEL_850ca599f67943caade8e7007f477fc8",
              "IPY_MODEL_bf875140628c4b3d923d1b3e136911bd"
            ],
            "layout": "IPY_MODEL_a1bd1bcec5b143e48024c70d717aad00"
          }
        },
        "850ca599f67943caade8e7007f477fc8": {
          "model_module": "@jupyter-widgets/controls",
          "model_name": "LabelModel",
          "model_module_version": "1.5.0",
          "state": {
            "_dom_classes": [],
            "_model_module": "@jupyter-widgets/controls",
            "_model_module_version": "1.5.0",
            "_model_name": "LabelModel",
            "_view_count": null,
            "_view_module": "@jupyter-widgets/controls",
            "_view_module_version": "1.5.0",
            "_view_name": "LabelView",
            "description": "",
            "description_tooltip": null,
            "layout": "IPY_MODEL_1ee1b251ccdb455a87aec953ae8b97a4",
            "placeholder": "​",
            "style": "IPY_MODEL_2f12a559aa1442fcb642d32425a0e1e8",
            "value": "0.009 MB of 0.009 MB uploaded (0.000 MB deduped)\r"
          }
        },
        "bf875140628c4b3d923d1b3e136911bd": {
          "model_module": "@jupyter-widgets/controls",
          "model_name": "FloatProgressModel",
          "model_module_version": "1.5.0",
          "state": {
            "_dom_classes": [],
            "_model_module": "@jupyter-widgets/controls",
            "_model_module_version": "1.5.0",
            "_model_name": "FloatProgressModel",
            "_view_count": null,
            "_view_module": "@jupyter-widgets/controls",
            "_view_module_version": "1.5.0",
            "_view_name": "ProgressView",
            "bar_style": "",
            "description": "",
            "description_tooltip": null,
            "layout": "IPY_MODEL_d23c72a50c9a472f9f1a8ab9baf86fff",
            "max": 1,
            "min": 0,
            "orientation": "horizontal",
            "style": "IPY_MODEL_d109236ad9c7430d98e39e1318bc7a45",
            "value": 1
          }
        },
        "a1bd1bcec5b143e48024c70d717aad00": {
          "model_module": "@jupyter-widgets/base",
          "model_name": "LayoutModel",
          "model_module_version": "1.2.0",
          "state": {
            "_model_module": "@jupyter-widgets/base",
            "_model_module_version": "1.2.0",
            "_model_name": "LayoutModel",
            "_view_count": null,
            "_view_module": "@jupyter-widgets/base",
            "_view_module_version": "1.2.0",
            "_view_name": "LayoutView",
            "align_content": null,
            "align_items": null,
            "align_self": null,
            "border": null,
            "bottom": null,
            "display": null,
            "flex": null,
            "flex_flow": null,
            "grid_area": null,
            "grid_auto_columns": null,
            "grid_auto_flow": null,
            "grid_auto_rows": null,
            "grid_column": null,
            "grid_gap": null,
            "grid_row": null,
            "grid_template_areas": null,
            "grid_template_columns": null,
            "grid_template_rows": null,
            "height": null,
            "justify_content": null,
            "justify_items": null,
            "left": null,
            "margin": null,
            "max_height": null,
            "max_width": null,
            "min_height": null,
            "min_width": null,
            "object_fit": null,
            "object_position": null,
            "order": null,
            "overflow": null,
            "overflow_x": null,
            "overflow_y": null,
            "padding": null,
            "right": null,
            "top": null,
            "visibility": null,
            "width": null
          }
        },
        "1ee1b251ccdb455a87aec953ae8b97a4": {
          "model_module": "@jupyter-widgets/base",
          "model_name": "LayoutModel",
          "model_module_version": "1.2.0",
          "state": {
            "_model_module": "@jupyter-widgets/base",
            "_model_module_version": "1.2.0",
            "_model_name": "LayoutModel",
            "_view_count": null,
            "_view_module": "@jupyter-widgets/base",
            "_view_module_version": "1.2.0",
            "_view_name": "LayoutView",
            "align_content": null,
            "align_items": null,
            "align_self": null,
            "border": null,
            "bottom": null,
            "display": null,
            "flex": null,
            "flex_flow": null,
            "grid_area": null,
            "grid_auto_columns": null,
            "grid_auto_flow": null,
            "grid_auto_rows": null,
            "grid_column": null,
            "grid_gap": null,
            "grid_row": null,
            "grid_template_areas": null,
            "grid_template_columns": null,
            "grid_template_rows": null,
            "height": null,
            "justify_content": null,
            "justify_items": null,
            "left": null,
            "margin": null,
            "max_height": null,
            "max_width": null,
            "min_height": null,
            "min_width": null,
            "object_fit": null,
            "object_position": null,
            "order": null,
            "overflow": null,
            "overflow_x": null,
            "overflow_y": null,
            "padding": null,
            "right": null,
            "top": null,
            "visibility": null,
            "width": null
          }
        },
        "2f12a559aa1442fcb642d32425a0e1e8": {
          "model_module": "@jupyter-widgets/controls",
          "model_name": "DescriptionStyleModel",
          "model_module_version": "1.5.0",
          "state": {
            "_model_module": "@jupyter-widgets/controls",
            "_model_module_version": "1.5.0",
            "_model_name": "DescriptionStyleModel",
            "_view_count": null,
            "_view_module": "@jupyter-widgets/base",
            "_view_module_version": "1.2.0",
            "_view_name": "StyleView",
            "description_width": ""
          }
        },
        "d23c72a50c9a472f9f1a8ab9baf86fff": {
          "model_module": "@jupyter-widgets/base",
          "model_name": "LayoutModel",
          "model_module_version": "1.2.0",
          "state": {
            "_model_module": "@jupyter-widgets/base",
            "_model_module_version": "1.2.0",
            "_model_name": "LayoutModel",
            "_view_count": null,
            "_view_module": "@jupyter-widgets/base",
            "_view_module_version": "1.2.0",
            "_view_name": "LayoutView",
            "align_content": null,
            "align_items": null,
            "align_self": null,
            "border": null,
            "bottom": null,
            "display": null,
            "flex": null,
            "flex_flow": null,
            "grid_area": null,
            "grid_auto_columns": null,
            "grid_auto_flow": null,
            "grid_auto_rows": null,
            "grid_column": null,
            "grid_gap": null,
            "grid_row": null,
            "grid_template_areas": null,
            "grid_template_columns": null,
            "grid_template_rows": null,
            "height": null,
            "justify_content": null,
            "justify_items": null,
            "left": null,
            "margin": null,
            "max_height": null,
            "max_width": null,
            "min_height": null,
            "min_width": null,
            "object_fit": null,
            "object_position": null,
            "order": null,
            "overflow": null,
            "overflow_x": null,
            "overflow_y": null,
            "padding": null,
            "right": null,
            "top": null,
            "visibility": null,
            "width": null
          }
        },
        "d109236ad9c7430d98e39e1318bc7a45": {
          "model_module": "@jupyter-widgets/controls",
          "model_name": "ProgressStyleModel",
          "model_module_version": "1.5.0",
          "state": {
            "_model_module": "@jupyter-widgets/controls",
            "_model_module_version": "1.5.0",
            "_model_name": "ProgressStyleModel",
            "_view_count": null,
            "_view_module": "@jupyter-widgets/base",
            "_view_module_version": "1.2.0",
            "_view_name": "StyleView",
            "bar_color": null,
            "description_width": ""
          }
        },
        "0459ed7323e24d3da094735bf043a209": {
          "model_module": "@jupyter-widgets/controls",
          "model_name": "VBoxModel",
          "model_module_version": "1.5.0",
          "state": {
            "_dom_classes": [],
            "_model_module": "@jupyter-widgets/controls",
            "_model_module_version": "1.5.0",
            "_model_name": "VBoxModel",
            "_view_count": null,
            "_view_module": "@jupyter-widgets/controls",
            "_view_module_version": "1.5.0",
            "_view_name": "VBoxView",
            "box_style": "",
            "children": [
              "IPY_MODEL_b40d955b4e944ba882d3c7ab28dbf04d",
              "IPY_MODEL_d6a9209f42f746f79fe28897c1a26596"
            ],
            "layout": "IPY_MODEL_9a77e6363b1b488d958c2bb3043bed55"
          }
        },
        "b40d955b4e944ba882d3c7ab28dbf04d": {
          "model_module": "@jupyter-widgets/controls",
          "model_name": "LabelModel",
          "model_module_version": "1.5.0",
          "state": {
            "_dom_classes": [],
            "_model_module": "@jupyter-widgets/controls",
            "_model_module_version": "1.5.0",
            "_model_name": "LabelModel",
            "_view_count": null,
            "_view_module": "@jupyter-widgets/controls",
            "_view_module_version": "1.5.0",
            "_view_name": "LabelView",
            "description": "",
            "description_tooltip": null,
            "layout": "IPY_MODEL_73fc495213b541c0bce8dde4c7410005",
            "placeholder": "​",
            "style": "IPY_MODEL_416aa12bdac240748fd912fa917a6d7a",
            "value": "0.009 MB of 0.009 MB uploaded (0.000 MB deduped)\r"
          }
        },
        "d6a9209f42f746f79fe28897c1a26596": {
          "model_module": "@jupyter-widgets/controls",
          "model_name": "FloatProgressModel",
          "model_module_version": "1.5.0",
          "state": {
            "_dom_classes": [],
            "_model_module": "@jupyter-widgets/controls",
            "_model_module_version": "1.5.0",
            "_model_name": "FloatProgressModel",
            "_view_count": null,
            "_view_module": "@jupyter-widgets/controls",
            "_view_module_version": "1.5.0",
            "_view_name": "ProgressView",
            "bar_style": "",
            "description": "",
            "description_tooltip": null,
            "layout": "IPY_MODEL_fb3ea26e78864ceab72eb4c3eef0b906",
            "max": 1,
            "min": 0,
            "orientation": "horizontal",
            "style": "IPY_MODEL_8160d2d5d04f4586927fdcfb5e6a1fbe",
            "value": 1
          }
        },
        "9a77e6363b1b488d958c2bb3043bed55": {
          "model_module": "@jupyter-widgets/base",
          "model_name": "LayoutModel",
          "model_module_version": "1.2.0",
          "state": {
            "_model_module": "@jupyter-widgets/base",
            "_model_module_version": "1.2.0",
            "_model_name": "LayoutModel",
            "_view_count": null,
            "_view_module": "@jupyter-widgets/base",
            "_view_module_version": "1.2.0",
            "_view_name": "LayoutView",
            "align_content": null,
            "align_items": null,
            "align_self": null,
            "border": null,
            "bottom": null,
            "display": null,
            "flex": null,
            "flex_flow": null,
            "grid_area": null,
            "grid_auto_columns": null,
            "grid_auto_flow": null,
            "grid_auto_rows": null,
            "grid_column": null,
            "grid_gap": null,
            "grid_row": null,
            "grid_template_areas": null,
            "grid_template_columns": null,
            "grid_template_rows": null,
            "height": null,
            "justify_content": null,
            "justify_items": null,
            "left": null,
            "margin": null,
            "max_height": null,
            "max_width": null,
            "min_height": null,
            "min_width": null,
            "object_fit": null,
            "object_position": null,
            "order": null,
            "overflow": null,
            "overflow_x": null,
            "overflow_y": null,
            "padding": null,
            "right": null,
            "top": null,
            "visibility": null,
            "width": null
          }
        },
        "73fc495213b541c0bce8dde4c7410005": {
          "model_module": "@jupyter-widgets/base",
          "model_name": "LayoutModel",
          "model_module_version": "1.2.0",
          "state": {
            "_model_module": "@jupyter-widgets/base",
            "_model_module_version": "1.2.0",
            "_model_name": "LayoutModel",
            "_view_count": null,
            "_view_module": "@jupyter-widgets/base",
            "_view_module_version": "1.2.0",
            "_view_name": "LayoutView",
            "align_content": null,
            "align_items": null,
            "align_self": null,
            "border": null,
            "bottom": null,
            "display": null,
            "flex": null,
            "flex_flow": null,
            "grid_area": null,
            "grid_auto_columns": null,
            "grid_auto_flow": null,
            "grid_auto_rows": null,
            "grid_column": null,
            "grid_gap": null,
            "grid_row": null,
            "grid_template_areas": null,
            "grid_template_columns": null,
            "grid_template_rows": null,
            "height": null,
            "justify_content": null,
            "justify_items": null,
            "left": null,
            "margin": null,
            "max_height": null,
            "max_width": null,
            "min_height": null,
            "min_width": null,
            "object_fit": null,
            "object_position": null,
            "order": null,
            "overflow": null,
            "overflow_x": null,
            "overflow_y": null,
            "padding": null,
            "right": null,
            "top": null,
            "visibility": null,
            "width": null
          }
        },
        "416aa12bdac240748fd912fa917a6d7a": {
          "model_module": "@jupyter-widgets/controls",
          "model_name": "DescriptionStyleModel",
          "model_module_version": "1.5.0",
          "state": {
            "_model_module": "@jupyter-widgets/controls",
            "_model_module_version": "1.5.0",
            "_model_name": "DescriptionStyleModel",
            "_view_count": null,
            "_view_module": "@jupyter-widgets/base",
            "_view_module_version": "1.2.0",
            "_view_name": "StyleView",
            "description_width": ""
          }
        },
        "fb3ea26e78864ceab72eb4c3eef0b906": {
          "model_module": "@jupyter-widgets/base",
          "model_name": "LayoutModel",
          "model_module_version": "1.2.0",
          "state": {
            "_model_module": "@jupyter-widgets/base",
            "_model_module_version": "1.2.0",
            "_model_name": "LayoutModel",
            "_view_count": null,
            "_view_module": "@jupyter-widgets/base",
            "_view_module_version": "1.2.0",
            "_view_name": "LayoutView",
            "align_content": null,
            "align_items": null,
            "align_self": null,
            "border": null,
            "bottom": null,
            "display": null,
            "flex": null,
            "flex_flow": null,
            "grid_area": null,
            "grid_auto_columns": null,
            "grid_auto_flow": null,
            "grid_auto_rows": null,
            "grid_column": null,
            "grid_gap": null,
            "grid_row": null,
            "grid_template_areas": null,
            "grid_template_columns": null,
            "grid_template_rows": null,
            "height": null,
            "justify_content": null,
            "justify_items": null,
            "left": null,
            "margin": null,
            "max_height": null,
            "max_width": null,
            "min_height": null,
            "min_width": null,
            "object_fit": null,
            "object_position": null,
            "order": null,
            "overflow": null,
            "overflow_x": null,
            "overflow_y": null,
            "padding": null,
            "right": null,
            "top": null,
            "visibility": null,
            "width": null
          }
        },
        "8160d2d5d04f4586927fdcfb5e6a1fbe": {
          "model_module": "@jupyter-widgets/controls",
          "model_name": "ProgressStyleModel",
          "model_module_version": "1.5.0",
          "state": {
            "_model_module": "@jupyter-widgets/controls",
            "_model_module_version": "1.5.0",
            "_model_name": "ProgressStyleModel",
            "_view_count": null,
            "_view_module": "@jupyter-widgets/base",
            "_view_module_version": "1.2.0",
            "_view_name": "StyleView",
            "bar_color": null,
            "description_width": ""
          }
        },
        "5d144fbccc274bdb85cb60316fba6c06": {
          "model_module": "@jupyter-widgets/controls",
          "model_name": "VBoxModel",
          "model_module_version": "1.5.0",
          "state": {
            "_dom_classes": [],
            "_model_module": "@jupyter-widgets/controls",
            "_model_module_version": "1.5.0",
            "_model_name": "VBoxModel",
            "_view_count": null,
            "_view_module": "@jupyter-widgets/controls",
            "_view_module_version": "1.5.0",
            "_view_name": "VBoxView",
            "box_style": "",
            "children": [
              "IPY_MODEL_0cc653d8bf5e4f5eae87586a43b302ee",
              "IPY_MODEL_a67eccc932ae4b15a2925f79f01c1b05"
            ],
            "layout": "IPY_MODEL_44b0c79a39d049d798b8485862aa08bd"
          }
        },
        "0cc653d8bf5e4f5eae87586a43b302ee": {
          "model_module": "@jupyter-widgets/controls",
          "model_name": "LabelModel",
          "model_module_version": "1.5.0",
          "state": {
            "_dom_classes": [],
            "_model_module": "@jupyter-widgets/controls",
            "_model_module_version": "1.5.0",
            "_model_name": "LabelModel",
            "_view_count": null,
            "_view_module": "@jupyter-widgets/controls",
            "_view_module_version": "1.5.0",
            "_view_name": "LabelView",
            "description": "",
            "description_tooltip": null,
            "layout": "IPY_MODEL_4c273a999b07452599a64861c15d0570",
            "placeholder": "​",
            "style": "IPY_MODEL_25a1683bd1404f1d986d7de9b3062e18",
            "value": "0.009 MB of 0.009 MB uploaded (0.000 MB deduped)\r"
          }
        },
        "a67eccc932ae4b15a2925f79f01c1b05": {
          "model_module": "@jupyter-widgets/controls",
          "model_name": "FloatProgressModel",
          "model_module_version": "1.5.0",
          "state": {
            "_dom_classes": [],
            "_model_module": "@jupyter-widgets/controls",
            "_model_module_version": "1.5.0",
            "_model_name": "FloatProgressModel",
            "_view_count": null,
            "_view_module": "@jupyter-widgets/controls",
            "_view_module_version": "1.5.0",
            "_view_name": "ProgressView",
            "bar_style": "",
            "description": "",
            "description_tooltip": null,
            "layout": "IPY_MODEL_909cc4a6ea31428684b46a7ba5469f31",
            "max": 1,
            "min": 0,
            "orientation": "horizontal",
            "style": "IPY_MODEL_f506475ce1da4a90831220d316733e30",
            "value": 1
          }
        },
        "44b0c79a39d049d798b8485862aa08bd": {
          "model_module": "@jupyter-widgets/base",
          "model_name": "LayoutModel",
          "model_module_version": "1.2.0",
          "state": {
            "_model_module": "@jupyter-widgets/base",
            "_model_module_version": "1.2.0",
            "_model_name": "LayoutModel",
            "_view_count": null,
            "_view_module": "@jupyter-widgets/base",
            "_view_module_version": "1.2.0",
            "_view_name": "LayoutView",
            "align_content": null,
            "align_items": null,
            "align_self": null,
            "border": null,
            "bottom": null,
            "display": null,
            "flex": null,
            "flex_flow": null,
            "grid_area": null,
            "grid_auto_columns": null,
            "grid_auto_flow": null,
            "grid_auto_rows": null,
            "grid_column": null,
            "grid_gap": null,
            "grid_row": null,
            "grid_template_areas": null,
            "grid_template_columns": null,
            "grid_template_rows": null,
            "height": null,
            "justify_content": null,
            "justify_items": null,
            "left": null,
            "margin": null,
            "max_height": null,
            "max_width": null,
            "min_height": null,
            "min_width": null,
            "object_fit": null,
            "object_position": null,
            "order": null,
            "overflow": null,
            "overflow_x": null,
            "overflow_y": null,
            "padding": null,
            "right": null,
            "top": null,
            "visibility": null,
            "width": null
          }
        },
        "4c273a999b07452599a64861c15d0570": {
          "model_module": "@jupyter-widgets/base",
          "model_name": "LayoutModel",
          "model_module_version": "1.2.0",
          "state": {
            "_model_module": "@jupyter-widgets/base",
            "_model_module_version": "1.2.0",
            "_model_name": "LayoutModel",
            "_view_count": null,
            "_view_module": "@jupyter-widgets/base",
            "_view_module_version": "1.2.0",
            "_view_name": "LayoutView",
            "align_content": null,
            "align_items": null,
            "align_self": null,
            "border": null,
            "bottom": null,
            "display": null,
            "flex": null,
            "flex_flow": null,
            "grid_area": null,
            "grid_auto_columns": null,
            "grid_auto_flow": null,
            "grid_auto_rows": null,
            "grid_column": null,
            "grid_gap": null,
            "grid_row": null,
            "grid_template_areas": null,
            "grid_template_columns": null,
            "grid_template_rows": null,
            "height": null,
            "justify_content": null,
            "justify_items": null,
            "left": null,
            "margin": null,
            "max_height": null,
            "max_width": null,
            "min_height": null,
            "min_width": null,
            "object_fit": null,
            "object_position": null,
            "order": null,
            "overflow": null,
            "overflow_x": null,
            "overflow_y": null,
            "padding": null,
            "right": null,
            "top": null,
            "visibility": null,
            "width": null
          }
        },
        "25a1683bd1404f1d986d7de9b3062e18": {
          "model_module": "@jupyter-widgets/controls",
          "model_name": "DescriptionStyleModel",
          "model_module_version": "1.5.0",
          "state": {
            "_model_module": "@jupyter-widgets/controls",
            "_model_module_version": "1.5.0",
            "_model_name": "DescriptionStyleModel",
            "_view_count": null,
            "_view_module": "@jupyter-widgets/base",
            "_view_module_version": "1.2.0",
            "_view_name": "StyleView",
            "description_width": ""
          }
        },
        "909cc4a6ea31428684b46a7ba5469f31": {
          "model_module": "@jupyter-widgets/base",
          "model_name": "LayoutModel",
          "model_module_version": "1.2.0",
          "state": {
            "_model_module": "@jupyter-widgets/base",
            "_model_module_version": "1.2.0",
            "_model_name": "LayoutModel",
            "_view_count": null,
            "_view_module": "@jupyter-widgets/base",
            "_view_module_version": "1.2.0",
            "_view_name": "LayoutView",
            "align_content": null,
            "align_items": null,
            "align_self": null,
            "border": null,
            "bottom": null,
            "display": null,
            "flex": null,
            "flex_flow": null,
            "grid_area": null,
            "grid_auto_columns": null,
            "grid_auto_flow": null,
            "grid_auto_rows": null,
            "grid_column": null,
            "grid_gap": null,
            "grid_row": null,
            "grid_template_areas": null,
            "grid_template_columns": null,
            "grid_template_rows": null,
            "height": null,
            "justify_content": null,
            "justify_items": null,
            "left": null,
            "margin": null,
            "max_height": null,
            "max_width": null,
            "min_height": null,
            "min_width": null,
            "object_fit": null,
            "object_position": null,
            "order": null,
            "overflow": null,
            "overflow_x": null,
            "overflow_y": null,
            "padding": null,
            "right": null,
            "top": null,
            "visibility": null,
            "width": null
          }
        },
        "f506475ce1da4a90831220d316733e30": {
          "model_module": "@jupyter-widgets/controls",
          "model_name": "ProgressStyleModel",
          "model_module_version": "1.5.0",
          "state": {
            "_model_module": "@jupyter-widgets/controls",
            "_model_module_version": "1.5.0",
            "_model_name": "ProgressStyleModel",
            "_view_count": null,
            "_view_module": "@jupyter-widgets/base",
            "_view_module_version": "1.2.0",
            "_view_name": "StyleView",
            "bar_color": null,
            "description_width": ""
          }
        },
        "34cdf94c177b442e905d6734f12522e3": {
          "model_module": "@jupyter-widgets/controls",
          "model_name": "VBoxModel",
          "model_module_version": "1.5.0",
          "state": {
            "_dom_classes": [],
            "_model_module": "@jupyter-widgets/controls",
            "_model_module_version": "1.5.0",
            "_model_name": "VBoxModel",
            "_view_count": null,
            "_view_module": "@jupyter-widgets/controls",
            "_view_module_version": "1.5.0",
            "_view_name": "VBoxView",
            "box_style": "",
            "children": [
              "IPY_MODEL_d2db83fd61294d879c18051740641633",
              "IPY_MODEL_7c1bbae08a93492ab57a839cc47478c6"
            ],
            "layout": "IPY_MODEL_3c3e4d9d59964a59be67f09b92249ab3"
          }
        },
        "d2db83fd61294d879c18051740641633": {
          "model_module": "@jupyter-widgets/controls",
          "model_name": "LabelModel",
          "model_module_version": "1.5.0",
          "state": {
            "_dom_classes": [],
            "_model_module": "@jupyter-widgets/controls",
            "_model_module_version": "1.5.0",
            "_model_name": "LabelModel",
            "_view_count": null,
            "_view_module": "@jupyter-widgets/controls",
            "_view_module_version": "1.5.0",
            "_view_name": "LabelView",
            "description": "",
            "description_tooltip": null,
            "layout": "IPY_MODEL_93eacbfdb5c542d59b6f774217ecfe19",
            "placeholder": "​",
            "style": "IPY_MODEL_9df6648ba96043b2861131bc8b217929",
            "value": "0.009 MB of 0.009 MB uploaded (0.000 MB deduped)\r"
          }
        },
        "7c1bbae08a93492ab57a839cc47478c6": {
          "model_module": "@jupyter-widgets/controls",
          "model_name": "FloatProgressModel",
          "model_module_version": "1.5.0",
          "state": {
            "_dom_classes": [],
            "_model_module": "@jupyter-widgets/controls",
            "_model_module_version": "1.5.0",
            "_model_name": "FloatProgressModel",
            "_view_count": null,
            "_view_module": "@jupyter-widgets/controls",
            "_view_module_version": "1.5.0",
            "_view_name": "ProgressView",
            "bar_style": "",
            "description": "",
            "description_tooltip": null,
            "layout": "IPY_MODEL_8ffbbe8afb4640bd8bde36c4baf0d804",
            "max": 1,
            "min": 0,
            "orientation": "horizontal",
            "style": "IPY_MODEL_ce535aca97c34fccb666b229c9f32da2",
            "value": 1
          }
        },
        "3c3e4d9d59964a59be67f09b92249ab3": {
          "model_module": "@jupyter-widgets/base",
          "model_name": "LayoutModel",
          "model_module_version": "1.2.0",
          "state": {
            "_model_module": "@jupyter-widgets/base",
            "_model_module_version": "1.2.0",
            "_model_name": "LayoutModel",
            "_view_count": null,
            "_view_module": "@jupyter-widgets/base",
            "_view_module_version": "1.2.0",
            "_view_name": "LayoutView",
            "align_content": null,
            "align_items": null,
            "align_self": null,
            "border": null,
            "bottom": null,
            "display": null,
            "flex": null,
            "flex_flow": null,
            "grid_area": null,
            "grid_auto_columns": null,
            "grid_auto_flow": null,
            "grid_auto_rows": null,
            "grid_column": null,
            "grid_gap": null,
            "grid_row": null,
            "grid_template_areas": null,
            "grid_template_columns": null,
            "grid_template_rows": null,
            "height": null,
            "justify_content": null,
            "justify_items": null,
            "left": null,
            "margin": null,
            "max_height": null,
            "max_width": null,
            "min_height": null,
            "min_width": null,
            "object_fit": null,
            "object_position": null,
            "order": null,
            "overflow": null,
            "overflow_x": null,
            "overflow_y": null,
            "padding": null,
            "right": null,
            "top": null,
            "visibility": null,
            "width": null
          }
        },
        "93eacbfdb5c542d59b6f774217ecfe19": {
          "model_module": "@jupyter-widgets/base",
          "model_name": "LayoutModel",
          "model_module_version": "1.2.0",
          "state": {
            "_model_module": "@jupyter-widgets/base",
            "_model_module_version": "1.2.0",
            "_model_name": "LayoutModel",
            "_view_count": null,
            "_view_module": "@jupyter-widgets/base",
            "_view_module_version": "1.2.0",
            "_view_name": "LayoutView",
            "align_content": null,
            "align_items": null,
            "align_self": null,
            "border": null,
            "bottom": null,
            "display": null,
            "flex": null,
            "flex_flow": null,
            "grid_area": null,
            "grid_auto_columns": null,
            "grid_auto_flow": null,
            "grid_auto_rows": null,
            "grid_column": null,
            "grid_gap": null,
            "grid_row": null,
            "grid_template_areas": null,
            "grid_template_columns": null,
            "grid_template_rows": null,
            "height": null,
            "justify_content": null,
            "justify_items": null,
            "left": null,
            "margin": null,
            "max_height": null,
            "max_width": null,
            "min_height": null,
            "min_width": null,
            "object_fit": null,
            "object_position": null,
            "order": null,
            "overflow": null,
            "overflow_x": null,
            "overflow_y": null,
            "padding": null,
            "right": null,
            "top": null,
            "visibility": null,
            "width": null
          }
        },
        "9df6648ba96043b2861131bc8b217929": {
          "model_module": "@jupyter-widgets/controls",
          "model_name": "DescriptionStyleModel",
          "model_module_version": "1.5.0",
          "state": {
            "_model_module": "@jupyter-widgets/controls",
            "_model_module_version": "1.5.0",
            "_model_name": "DescriptionStyleModel",
            "_view_count": null,
            "_view_module": "@jupyter-widgets/base",
            "_view_module_version": "1.2.0",
            "_view_name": "StyleView",
            "description_width": ""
          }
        },
        "8ffbbe8afb4640bd8bde36c4baf0d804": {
          "model_module": "@jupyter-widgets/base",
          "model_name": "LayoutModel",
          "model_module_version": "1.2.0",
          "state": {
            "_model_module": "@jupyter-widgets/base",
            "_model_module_version": "1.2.0",
            "_model_name": "LayoutModel",
            "_view_count": null,
            "_view_module": "@jupyter-widgets/base",
            "_view_module_version": "1.2.0",
            "_view_name": "LayoutView",
            "align_content": null,
            "align_items": null,
            "align_self": null,
            "border": null,
            "bottom": null,
            "display": null,
            "flex": null,
            "flex_flow": null,
            "grid_area": null,
            "grid_auto_columns": null,
            "grid_auto_flow": null,
            "grid_auto_rows": null,
            "grid_column": null,
            "grid_gap": null,
            "grid_row": null,
            "grid_template_areas": null,
            "grid_template_columns": null,
            "grid_template_rows": null,
            "height": null,
            "justify_content": null,
            "justify_items": null,
            "left": null,
            "margin": null,
            "max_height": null,
            "max_width": null,
            "min_height": null,
            "min_width": null,
            "object_fit": null,
            "object_position": null,
            "order": null,
            "overflow": null,
            "overflow_x": null,
            "overflow_y": null,
            "padding": null,
            "right": null,
            "top": null,
            "visibility": null,
            "width": null
          }
        },
        "ce535aca97c34fccb666b229c9f32da2": {
          "model_module": "@jupyter-widgets/controls",
          "model_name": "ProgressStyleModel",
          "model_module_version": "1.5.0",
          "state": {
            "_model_module": "@jupyter-widgets/controls",
            "_model_module_version": "1.5.0",
            "_model_name": "ProgressStyleModel",
            "_view_count": null,
            "_view_module": "@jupyter-widgets/base",
            "_view_module_version": "1.2.0",
            "_view_name": "StyleView",
            "bar_color": null,
            "description_width": ""
          }
        },
        "21eb25a5b8db4a2cb81610dce096e82a": {
          "model_module": "@jupyter-widgets/controls",
          "model_name": "VBoxModel",
          "model_module_version": "1.5.0",
          "state": {
            "_dom_classes": [],
            "_model_module": "@jupyter-widgets/controls",
            "_model_module_version": "1.5.0",
            "_model_name": "VBoxModel",
            "_view_count": null,
            "_view_module": "@jupyter-widgets/controls",
            "_view_module_version": "1.5.0",
            "_view_name": "VBoxView",
            "box_style": "",
            "children": [
              "IPY_MODEL_633b2a0fcb7e407eb9cb40adf1a999f0",
              "IPY_MODEL_3d766b4ef0464b52b3e693cfbc62741a"
            ],
            "layout": "IPY_MODEL_2553fcb52cba414a8e2f201d744c6792"
          }
        },
        "633b2a0fcb7e407eb9cb40adf1a999f0": {
          "model_module": "@jupyter-widgets/controls",
          "model_name": "LabelModel",
          "model_module_version": "1.5.0",
          "state": {
            "_dom_classes": [],
            "_model_module": "@jupyter-widgets/controls",
            "_model_module_version": "1.5.0",
            "_model_name": "LabelModel",
            "_view_count": null,
            "_view_module": "@jupyter-widgets/controls",
            "_view_module_version": "1.5.0",
            "_view_name": "LabelView",
            "description": "",
            "description_tooltip": null,
            "layout": "IPY_MODEL_13448bc2c2664e4382e52bc5052e1e80",
            "placeholder": "​",
            "style": "IPY_MODEL_4992a87caf2f42e78691b8dc8a0731a5",
            "value": "0.009 MB of 0.009 MB uploaded (0.000 MB deduped)\r"
          }
        },
        "3d766b4ef0464b52b3e693cfbc62741a": {
          "model_module": "@jupyter-widgets/controls",
          "model_name": "FloatProgressModel",
          "model_module_version": "1.5.0",
          "state": {
            "_dom_classes": [],
            "_model_module": "@jupyter-widgets/controls",
            "_model_module_version": "1.5.0",
            "_model_name": "FloatProgressModel",
            "_view_count": null,
            "_view_module": "@jupyter-widgets/controls",
            "_view_module_version": "1.5.0",
            "_view_name": "ProgressView",
            "bar_style": "",
            "description": "",
            "description_tooltip": null,
            "layout": "IPY_MODEL_74ed8f0086d548eabdd055fa571feb22",
            "max": 1,
            "min": 0,
            "orientation": "horizontal",
            "style": "IPY_MODEL_8f217c3fa5f9465ab7ecc743d4145075",
            "value": 1
          }
        },
        "2553fcb52cba414a8e2f201d744c6792": {
          "model_module": "@jupyter-widgets/base",
          "model_name": "LayoutModel",
          "model_module_version": "1.2.0",
          "state": {
            "_model_module": "@jupyter-widgets/base",
            "_model_module_version": "1.2.0",
            "_model_name": "LayoutModel",
            "_view_count": null,
            "_view_module": "@jupyter-widgets/base",
            "_view_module_version": "1.2.0",
            "_view_name": "LayoutView",
            "align_content": null,
            "align_items": null,
            "align_self": null,
            "border": null,
            "bottom": null,
            "display": null,
            "flex": null,
            "flex_flow": null,
            "grid_area": null,
            "grid_auto_columns": null,
            "grid_auto_flow": null,
            "grid_auto_rows": null,
            "grid_column": null,
            "grid_gap": null,
            "grid_row": null,
            "grid_template_areas": null,
            "grid_template_columns": null,
            "grid_template_rows": null,
            "height": null,
            "justify_content": null,
            "justify_items": null,
            "left": null,
            "margin": null,
            "max_height": null,
            "max_width": null,
            "min_height": null,
            "min_width": null,
            "object_fit": null,
            "object_position": null,
            "order": null,
            "overflow": null,
            "overflow_x": null,
            "overflow_y": null,
            "padding": null,
            "right": null,
            "top": null,
            "visibility": null,
            "width": null
          }
        },
        "13448bc2c2664e4382e52bc5052e1e80": {
          "model_module": "@jupyter-widgets/base",
          "model_name": "LayoutModel",
          "model_module_version": "1.2.0",
          "state": {
            "_model_module": "@jupyter-widgets/base",
            "_model_module_version": "1.2.0",
            "_model_name": "LayoutModel",
            "_view_count": null,
            "_view_module": "@jupyter-widgets/base",
            "_view_module_version": "1.2.0",
            "_view_name": "LayoutView",
            "align_content": null,
            "align_items": null,
            "align_self": null,
            "border": null,
            "bottom": null,
            "display": null,
            "flex": null,
            "flex_flow": null,
            "grid_area": null,
            "grid_auto_columns": null,
            "grid_auto_flow": null,
            "grid_auto_rows": null,
            "grid_column": null,
            "grid_gap": null,
            "grid_row": null,
            "grid_template_areas": null,
            "grid_template_columns": null,
            "grid_template_rows": null,
            "height": null,
            "justify_content": null,
            "justify_items": null,
            "left": null,
            "margin": null,
            "max_height": null,
            "max_width": null,
            "min_height": null,
            "min_width": null,
            "object_fit": null,
            "object_position": null,
            "order": null,
            "overflow": null,
            "overflow_x": null,
            "overflow_y": null,
            "padding": null,
            "right": null,
            "top": null,
            "visibility": null,
            "width": null
          }
        },
        "4992a87caf2f42e78691b8dc8a0731a5": {
          "model_module": "@jupyter-widgets/controls",
          "model_name": "DescriptionStyleModel",
          "model_module_version": "1.5.0",
          "state": {
            "_model_module": "@jupyter-widgets/controls",
            "_model_module_version": "1.5.0",
            "_model_name": "DescriptionStyleModel",
            "_view_count": null,
            "_view_module": "@jupyter-widgets/base",
            "_view_module_version": "1.2.0",
            "_view_name": "StyleView",
            "description_width": ""
          }
        },
        "74ed8f0086d548eabdd055fa571feb22": {
          "model_module": "@jupyter-widgets/base",
          "model_name": "LayoutModel",
          "model_module_version": "1.2.0",
          "state": {
            "_model_module": "@jupyter-widgets/base",
            "_model_module_version": "1.2.0",
            "_model_name": "LayoutModel",
            "_view_count": null,
            "_view_module": "@jupyter-widgets/base",
            "_view_module_version": "1.2.0",
            "_view_name": "LayoutView",
            "align_content": null,
            "align_items": null,
            "align_self": null,
            "border": null,
            "bottom": null,
            "display": null,
            "flex": null,
            "flex_flow": null,
            "grid_area": null,
            "grid_auto_columns": null,
            "grid_auto_flow": null,
            "grid_auto_rows": null,
            "grid_column": null,
            "grid_gap": null,
            "grid_row": null,
            "grid_template_areas": null,
            "grid_template_columns": null,
            "grid_template_rows": null,
            "height": null,
            "justify_content": null,
            "justify_items": null,
            "left": null,
            "margin": null,
            "max_height": null,
            "max_width": null,
            "min_height": null,
            "min_width": null,
            "object_fit": null,
            "object_position": null,
            "order": null,
            "overflow": null,
            "overflow_x": null,
            "overflow_y": null,
            "padding": null,
            "right": null,
            "top": null,
            "visibility": null,
            "width": null
          }
        },
        "8f217c3fa5f9465ab7ecc743d4145075": {
          "model_module": "@jupyter-widgets/controls",
          "model_name": "ProgressStyleModel",
          "model_module_version": "1.5.0",
          "state": {
            "_model_module": "@jupyter-widgets/controls",
            "_model_module_version": "1.5.0",
            "_model_name": "ProgressStyleModel",
            "_view_count": null,
            "_view_module": "@jupyter-widgets/base",
            "_view_module_version": "1.2.0",
            "_view_name": "StyleView",
            "bar_color": null,
            "description_width": ""
          }
        },
        "78300ea952b5465d98e46da0df62c901": {
          "model_module": "@jupyter-widgets/controls",
          "model_name": "VBoxModel",
          "model_module_version": "1.5.0",
          "state": {
            "_dom_classes": [],
            "_model_module": "@jupyter-widgets/controls",
            "_model_module_version": "1.5.0",
            "_model_name": "VBoxModel",
            "_view_count": null,
            "_view_module": "@jupyter-widgets/controls",
            "_view_module_version": "1.5.0",
            "_view_name": "VBoxView",
            "box_style": "",
            "children": [
              "IPY_MODEL_0755eb4651454249a68760453fbc81d8",
              "IPY_MODEL_40ac89e2c50c473eb589cbe501346650"
            ],
            "layout": "IPY_MODEL_63e4ce3b327a42b9a3cf00d1efe9631a"
          }
        },
        "0755eb4651454249a68760453fbc81d8": {
          "model_module": "@jupyter-widgets/controls",
          "model_name": "LabelModel",
          "model_module_version": "1.5.0",
          "state": {
            "_dom_classes": [],
            "_model_module": "@jupyter-widgets/controls",
            "_model_module_version": "1.5.0",
            "_model_name": "LabelModel",
            "_view_count": null,
            "_view_module": "@jupyter-widgets/controls",
            "_view_module_version": "1.5.0",
            "_view_name": "LabelView",
            "description": "",
            "description_tooltip": null,
            "layout": "IPY_MODEL_de1a15b08e444812af7baa2e2dbbb013",
            "placeholder": "​",
            "style": "IPY_MODEL_6e867d42d2174fb6a99cd3dbe8e0847e",
            "value": "0.009 MB of 0.009 MB uploaded (0.000 MB deduped)\r"
          }
        },
        "40ac89e2c50c473eb589cbe501346650": {
          "model_module": "@jupyter-widgets/controls",
          "model_name": "FloatProgressModel",
          "model_module_version": "1.5.0",
          "state": {
            "_dom_classes": [],
            "_model_module": "@jupyter-widgets/controls",
            "_model_module_version": "1.5.0",
            "_model_name": "FloatProgressModel",
            "_view_count": null,
            "_view_module": "@jupyter-widgets/controls",
            "_view_module_version": "1.5.0",
            "_view_name": "ProgressView",
            "bar_style": "",
            "description": "",
            "description_tooltip": null,
            "layout": "IPY_MODEL_d6eb24e1ce034bc0824c7f2b89e59198",
            "max": 1,
            "min": 0,
            "orientation": "horizontal",
            "style": "IPY_MODEL_bbf4788e407041618f8d437c3e619b86",
            "value": 1
          }
        },
        "63e4ce3b327a42b9a3cf00d1efe9631a": {
          "model_module": "@jupyter-widgets/base",
          "model_name": "LayoutModel",
          "model_module_version": "1.2.0",
          "state": {
            "_model_module": "@jupyter-widgets/base",
            "_model_module_version": "1.2.0",
            "_model_name": "LayoutModel",
            "_view_count": null,
            "_view_module": "@jupyter-widgets/base",
            "_view_module_version": "1.2.0",
            "_view_name": "LayoutView",
            "align_content": null,
            "align_items": null,
            "align_self": null,
            "border": null,
            "bottom": null,
            "display": null,
            "flex": null,
            "flex_flow": null,
            "grid_area": null,
            "grid_auto_columns": null,
            "grid_auto_flow": null,
            "grid_auto_rows": null,
            "grid_column": null,
            "grid_gap": null,
            "grid_row": null,
            "grid_template_areas": null,
            "grid_template_columns": null,
            "grid_template_rows": null,
            "height": null,
            "justify_content": null,
            "justify_items": null,
            "left": null,
            "margin": null,
            "max_height": null,
            "max_width": null,
            "min_height": null,
            "min_width": null,
            "object_fit": null,
            "object_position": null,
            "order": null,
            "overflow": null,
            "overflow_x": null,
            "overflow_y": null,
            "padding": null,
            "right": null,
            "top": null,
            "visibility": null,
            "width": null
          }
        },
        "de1a15b08e444812af7baa2e2dbbb013": {
          "model_module": "@jupyter-widgets/base",
          "model_name": "LayoutModel",
          "model_module_version": "1.2.0",
          "state": {
            "_model_module": "@jupyter-widgets/base",
            "_model_module_version": "1.2.0",
            "_model_name": "LayoutModel",
            "_view_count": null,
            "_view_module": "@jupyter-widgets/base",
            "_view_module_version": "1.2.0",
            "_view_name": "LayoutView",
            "align_content": null,
            "align_items": null,
            "align_self": null,
            "border": null,
            "bottom": null,
            "display": null,
            "flex": null,
            "flex_flow": null,
            "grid_area": null,
            "grid_auto_columns": null,
            "grid_auto_flow": null,
            "grid_auto_rows": null,
            "grid_column": null,
            "grid_gap": null,
            "grid_row": null,
            "grid_template_areas": null,
            "grid_template_columns": null,
            "grid_template_rows": null,
            "height": null,
            "justify_content": null,
            "justify_items": null,
            "left": null,
            "margin": null,
            "max_height": null,
            "max_width": null,
            "min_height": null,
            "min_width": null,
            "object_fit": null,
            "object_position": null,
            "order": null,
            "overflow": null,
            "overflow_x": null,
            "overflow_y": null,
            "padding": null,
            "right": null,
            "top": null,
            "visibility": null,
            "width": null
          }
        },
        "6e867d42d2174fb6a99cd3dbe8e0847e": {
          "model_module": "@jupyter-widgets/controls",
          "model_name": "DescriptionStyleModel",
          "model_module_version": "1.5.0",
          "state": {
            "_model_module": "@jupyter-widgets/controls",
            "_model_module_version": "1.5.0",
            "_model_name": "DescriptionStyleModel",
            "_view_count": null,
            "_view_module": "@jupyter-widgets/base",
            "_view_module_version": "1.2.0",
            "_view_name": "StyleView",
            "description_width": ""
          }
        },
        "d6eb24e1ce034bc0824c7f2b89e59198": {
          "model_module": "@jupyter-widgets/base",
          "model_name": "LayoutModel",
          "model_module_version": "1.2.0",
          "state": {
            "_model_module": "@jupyter-widgets/base",
            "_model_module_version": "1.2.0",
            "_model_name": "LayoutModel",
            "_view_count": null,
            "_view_module": "@jupyter-widgets/base",
            "_view_module_version": "1.2.0",
            "_view_name": "LayoutView",
            "align_content": null,
            "align_items": null,
            "align_self": null,
            "border": null,
            "bottom": null,
            "display": null,
            "flex": null,
            "flex_flow": null,
            "grid_area": null,
            "grid_auto_columns": null,
            "grid_auto_flow": null,
            "grid_auto_rows": null,
            "grid_column": null,
            "grid_gap": null,
            "grid_row": null,
            "grid_template_areas": null,
            "grid_template_columns": null,
            "grid_template_rows": null,
            "height": null,
            "justify_content": null,
            "justify_items": null,
            "left": null,
            "margin": null,
            "max_height": null,
            "max_width": null,
            "min_height": null,
            "min_width": null,
            "object_fit": null,
            "object_position": null,
            "order": null,
            "overflow": null,
            "overflow_x": null,
            "overflow_y": null,
            "padding": null,
            "right": null,
            "top": null,
            "visibility": null,
            "width": null
          }
        },
        "bbf4788e407041618f8d437c3e619b86": {
          "model_module": "@jupyter-widgets/controls",
          "model_name": "ProgressStyleModel",
          "model_module_version": "1.5.0",
          "state": {
            "_model_module": "@jupyter-widgets/controls",
            "_model_module_version": "1.5.0",
            "_model_name": "ProgressStyleModel",
            "_view_count": null,
            "_view_module": "@jupyter-widgets/base",
            "_view_module_version": "1.2.0",
            "_view_name": "StyleView",
            "bar_color": null,
            "description_width": ""
          }
        },
        "ae0413c80ee2421b93c92238f3c189d0": {
          "model_module": "@jupyter-widgets/controls",
          "model_name": "VBoxModel",
          "model_module_version": "1.5.0",
          "state": {
            "_dom_classes": [],
            "_model_module": "@jupyter-widgets/controls",
            "_model_module_version": "1.5.0",
            "_model_name": "VBoxModel",
            "_view_count": null,
            "_view_module": "@jupyter-widgets/controls",
            "_view_module_version": "1.5.0",
            "_view_name": "VBoxView",
            "box_style": "",
            "children": [
              "IPY_MODEL_19001497798649c18be62247984244a1",
              "IPY_MODEL_f4a089d631004053a0285a7d17f95058"
            ],
            "layout": "IPY_MODEL_bf027cadddfa4657a8a256dd25ec2d2e"
          }
        },
        "19001497798649c18be62247984244a1": {
          "model_module": "@jupyter-widgets/controls",
          "model_name": "LabelModel",
          "model_module_version": "1.5.0",
          "state": {
            "_dom_classes": [],
            "_model_module": "@jupyter-widgets/controls",
            "_model_module_version": "1.5.0",
            "_model_name": "LabelModel",
            "_view_count": null,
            "_view_module": "@jupyter-widgets/controls",
            "_view_module_version": "1.5.0",
            "_view_name": "LabelView",
            "description": "",
            "description_tooltip": null,
            "layout": "IPY_MODEL_2b8220bc295f478aa9e14d6f45c4029f",
            "placeholder": "​",
            "style": "IPY_MODEL_b1355668a83d4ac2b51902812b815e86",
            "value": "0.009 MB of 0.009 MB uploaded (0.000 MB deduped)\r"
          }
        },
        "f4a089d631004053a0285a7d17f95058": {
          "model_module": "@jupyter-widgets/controls",
          "model_name": "FloatProgressModel",
          "model_module_version": "1.5.0",
          "state": {
            "_dom_classes": [],
            "_model_module": "@jupyter-widgets/controls",
            "_model_module_version": "1.5.0",
            "_model_name": "FloatProgressModel",
            "_view_count": null,
            "_view_module": "@jupyter-widgets/controls",
            "_view_module_version": "1.5.0",
            "_view_name": "ProgressView",
            "bar_style": "",
            "description": "",
            "description_tooltip": null,
            "layout": "IPY_MODEL_3981731624a8413da8ba11527eeaa42f",
            "max": 1,
            "min": 0,
            "orientation": "horizontal",
            "style": "IPY_MODEL_829e6bfbd70448038e53bde9a8b477d6",
            "value": 1
          }
        },
        "bf027cadddfa4657a8a256dd25ec2d2e": {
          "model_module": "@jupyter-widgets/base",
          "model_name": "LayoutModel",
          "model_module_version": "1.2.0",
          "state": {
            "_model_module": "@jupyter-widgets/base",
            "_model_module_version": "1.2.0",
            "_model_name": "LayoutModel",
            "_view_count": null,
            "_view_module": "@jupyter-widgets/base",
            "_view_module_version": "1.2.0",
            "_view_name": "LayoutView",
            "align_content": null,
            "align_items": null,
            "align_self": null,
            "border": null,
            "bottom": null,
            "display": null,
            "flex": null,
            "flex_flow": null,
            "grid_area": null,
            "grid_auto_columns": null,
            "grid_auto_flow": null,
            "grid_auto_rows": null,
            "grid_column": null,
            "grid_gap": null,
            "grid_row": null,
            "grid_template_areas": null,
            "grid_template_columns": null,
            "grid_template_rows": null,
            "height": null,
            "justify_content": null,
            "justify_items": null,
            "left": null,
            "margin": null,
            "max_height": null,
            "max_width": null,
            "min_height": null,
            "min_width": null,
            "object_fit": null,
            "object_position": null,
            "order": null,
            "overflow": null,
            "overflow_x": null,
            "overflow_y": null,
            "padding": null,
            "right": null,
            "top": null,
            "visibility": null,
            "width": null
          }
        },
        "2b8220bc295f478aa9e14d6f45c4029f": {
          "model_module": "@jupyter-widgets/base",
          "model_name": "LayoutModel",
          "model_module_version": "1.2.0",
          "state": {
            "_model_module": "@jupyter-widgets/base",
            "_model_module_version": "1.2.0",
            "_model_name": "LayoutModel",
            "_view_count": null,
            "_view_module": "@jupyter-widgets/base",
            "_view_module_version": "1.2.0",
            "_view_name": "LayoutView",
            "align_content": null,
            "align_items": null,
            "align_self": null,
            "border": null,
            "bottom": null,
            "display": null,
            "flex": null,
            "flex_flow": null,
            "grid_area": null,
            "grid_auto_columns": null,
            "grid_auto_flow": null,
            "grid_auto_rows": null,
            "grid_column": null,
            "grid_gap": null,
            "grid_row": null,
            "grid_template_areas": null,
            "grid_template_columns": null,
            "grid_template_rows": null,
            "height": null,
            "justify_content": null,
            "justify_items": null,
            "left": null,
            "margin": null,
            "max_height": null,
            "max_width": null,
            "min_height": null,
            "min_width": null,
            "object_fit": null,
            "object_position": null,
            "order": null,
            "overflow": null,
            "overflow_x": null,
            "overflow_y": null,
            "padding": null,
            "right": null,
            "top": null,
            "visibility": null,
            "width": null
          }
        },
        "b1355668a83d4ac2b51902812b815e86": {
          "model_module": "@jupyter-widgets/controls",
          "model_name": "DescriptionStyleModel",
          "model_module_version": "1.5.0",
          "state": {
            "_model_module": "@jupyter-widgets/controls",
            "_model_module_version": "1.5.0",
            "_model_name": "DescriptionStyleModel",
            "_view_count": null,
            "_view_module": "@jupyter-widgets/base",
            "_view_module_version": "1.2.0",
            "_view_name": "StyleView",
            "description_width": ""
          }
        },
        "3981731624a8413da8ba11527eeaa42f": {
          "model_module": "@jupyter-widgets/base",
          "model_name": "LayoutModel",
          "model_module_version": "1.2.0",
          "state": {
            "_model_module": "@jupyter-widgets/base",
            "_model_module_version": "1.2.0",
            "_model_name": "LayoutModel",
            "_view_count": null,
            "_view_module": "@jupyter-widgets/base",
            "_view_module_version": "1.2.0",
            "_view_name": "LayoutView",
            "align_content": null,
            "align_items": null,
            "align_self": null,
            "border": null,
            "bottom": null,
            "display": null,
            "flex": null,
            "flex_flow": null,
            "grid_area": null,
            "grid_auto_columns": null,
            "grid_auto_flow": null,
            "grid_auto_rows": null,
            "grid_column": null,
            "grid_gap": null,
            "grid_row": null,
            "grid_template_areas": null,
            "grid_template_columns": null,
            "grid_template_rows": null,
            "height": null,
            "justify_content": null,
            "justify_items": null,
            "left": null,
            "margin": null,
            "max_height": null,
            "max_width": null,
            "min_height": null,
            "min_width": null,
            "object_fit": null,
            "object_position": null,
            "order": null,
            "overflow": null,
            "overflow_x": null,
            "overflow_y": null,
            "padding": null,
            "right": null,
            "top": null,
            "visibility": null,
            "width": null
          }
        },
        "829e6bfbd70448038e53bde9a8b477d6": {
          "model_module": "@jupyter-widgets/controls",
          "model_name": "ProgressStyleModel",
          "model_module_version": "1.5.0",
          "state": {
            "_model_module": "@jupyter-widgets/controls",
            "_model_module_version": "1.5.0",
            "_model_name": "ProgressStyleModel",
            "_view_count": null,
            "_view_module": "@jupyter-widgets/base",
            "_view_module_version": "1.2.0",
            "_view_name": "StyleView",
            "bar_color": null,
            "description_width": ""
          }
        },
        "75646c1369b34c24b6448459f39831dd": {
          "model_module": "@jupyter-widgets/controls",
          "model_name": "VBoxModel",
          "model_module_version": "1.5.0",
          "state": {
            "_dom_classes": [],
            "_model_module": "@jupyter-widgets/controls",
            "_model_module_version": "1.5.0",
            "_model_name": "VBoxModel",
            "_view_count": null,
            "_view_module": "@jupyter-widgets/controls",
            "_view_module_version": "1.5.0",
            "_view_name": "VBoxView",
            "box_style": "",
            "children": [
              "IPY_MODEL_9063d4ffae2341ac8e7044e9446cd8ad",
              "IPY_MODEL_cf8b55e0a94a4ccf943644e6604436dc"
            ],
            "layout": "IPY_MODEL_41ebaba13516408b9cc387733df8516c"
          }
        },
        "9063d4ffae2341ac8e7044e9446cd8ad": {
          "model_module": "@jupyter-widgets/controls",
          "model_name": "LabelModel",
          "model_module_version": "1.5.0",
          "state": {
            "_dom_classes": [],
            "_model_module": "@jupyter-widgets/controls",
            "_model_module_version": "1.5.0",
            "_model_name": "LabelModel",
            "_view_count": null,
            "_view_module": "@jupyter-widgets/controls",
            "_view_module_version": "1.5.0",
            "_view_name": "LabelView",
            "description": "",
            "description_tooltip": null,
            "layout": "IPY_MODEL_d5fd3ce4cdbe432d937d727de1116564",
            "placeholder": "​",
            "style": "IPY_MODEL_37c0392204144f14a7570ccddbca4691",
            "value": "0.009 MB of 0.009 MB uploaded (0.000 MB deduped)\r"
          }
        },
        "cf8b55e0a94a4ccf943644e6604436dc": {
          "model_module": "@jupyter-widgets/controls",
          "model_name": "FloatProgressModel",
          "model_module_version": "1.5.0",
          "state": {
            "_dom_classes": [],
            "_model_module": "@jupyter-widgets/controls",
            "_model_module_version": "1.5.0",
            "_model_name": "FloatProgressModel",
            "_view_count": null,
            "_view_module": "@jupyter-widgets/controls",
            "_view_module_version": "1.5.0",
            "_view_name": "ProgressView",
            "bar_style": "",
            "description": "",
            "description_tooltip": null,
            "layout": "IPY_MODEL_1961737e61424f48b6c9bef5c345bc9d",
            "max": 1,
            "min": 0,
            "orientation": "horizontal",
            "style": "IPY_MODEL_c51bf952f67a4c0b89ac113efb8a0e8b",
            "value": 1
          }
        },
        "41ebaba13516408b9cc387733df8516c": {
          "model_module": "@jupyter-widgets/base",
          "model_name": "LayoutModel",
          "model_module_version": "1.2.0",
          "state": {
            "_model_module": "@jupyter-widgets/base",
            "_model_module_version": "1.2.0",
            "_model_name": "LayoutModel",
            "_view_count": null,
            "_view_module": "@jupyter-widgets/base",
            "_view_module_version": "1.2.0",
            "_view_name": "LayoutView",
            "align_content": null,
            "align_items": null,
            "align_self": null,
            "border": null,
            "bottom": null,
            "display": null,
            "flex": null,
            "flex_flow": null,
            "grid_area": null,
            "grid_auto_columns": null,
            "grid_auto_flow": null,
            "grid_auto_rows": null,
            "grid_column": null,
            "grid_gap": null,
            "grid_row": null,
            "grid_template_areas": null,
            "grid_template_columns": null,
            "grid_template_rows": null,
            "height": null,
            "justify_content": null,
            "justify_items": null,
            "left": null,
            "margin": null,
            "max_height": null,
            "max_width": null,
            "min_height": null,
            "min_width": null,
            "object_fit": null,
            "object_position": null,
            "order": null,
            "overflow": null,
            "overflow_x": null,
            "overflow_y": null,
            "padding": null,
            "right": null,
            "top": null,
            "visibility": null,
            "width": null
          }
        },
        "d5fd3ce4cdbe432d937d727de1116564": {
          "model_module": "@jupyter-widgets/base",
          "model_name": "LayoutModel",
          "model_module_version": "1.2.0",
          "state": {
            "_model_module": "@jupyter-widgets/base",
            "_model_module_version": "1.2.0",
            "_model_name": "LayoutModel",
            "_view_count": null,
            "_view_module": "@jupyter-widgets/base",
            "_view_module_version": "1.2.0",
            "_view_name": "LayoutView",
            "align_content": null,
            "align_items": null,
            "align_self": null,
            "border": null,
            "bottom": null,
            "display": null,
            "flex": null,
            "flex_flow": null,
            "grid_area": null,
            "grid_auto_columns": null,
            "grid_auto_flow": null,
            "grid_auto_rows": null,
            "grid_column": null,
            "grid_gap": null,
            "grid_row": null,
            "grid_template_areas": null,
            "grid_template_columns": null,
            "grid_template_rows": null,
            "height": null,
            "justify_content": null,
            "justify_items": null,
            "left": null,
            "margin": null,
            "max_height": null,
            "max_width": null,
            "min_height": null,
            "min_width": null,
            "object_fit": null,
            "object_position": null,
            "order": null,
            "overflow": null,
            "overflow_x": null,
            "overflow_y": null,
            "padding": null,
            "right": null,
            "top": null,
            "visibility": null,
            "width": null
          }
        },
        "37c0392204144f14a7570ccddbca4691": {
          "model_module": "@jupyter-widgets/controls",
          "model_name": "DescriptionStyleModel",
          "model_module_version": "1.5.0",
          "state": {
            "_model_module": "@jupyter-widgets/controls",
            "_model_module_version": "1.5.0",
            "_model_name": "DescriptionStyleModel",
            "_view_count": null,
            "_view_module": "@jupyter-widgets/base",
            "_view_module_version": "1.2.0",
            "_view_name": "StyleView",
            "description_width": ""
          }
        },
        "1961737e61424f48b6c9bef5c345bc9d": {
          "model_module": "@jupyter-widgets/base",
          "model_name": "LayoutModel",
          "model_module_version": "1.2.0",
          "state": {
            "_model_module": "@jupyter-widgets/base",
            "_model_module_version": "1.2.0",
            "_model_name": "LayoutModel",
            "_view_count": null,
            "_view_module": "@jupyter-widgets/base",
            "_view_module_version": "1.2.0",
            "_view_name": "LayoutView",
            "align_content": null,
            "align_items": null,
            "align_self": null,
            "border": null,
            "bottom": null,
            "display": null,
            "flex": null,
            "flex_flow": null,
            "grid_area": null,
            "grid_auto_columns": null,
            "grid_auto_flow": null,
            "grid_auto_rows": null,
            "grid_column": null,
            "grid_gap": null,
            "grid_row": null,
            "grid_template_areas": null,
            "grid_template_columns": null,
            "grid_template_rows": null,
            "height": null,
            "justify_content": null,
            "justify_items": null,
            "left": null,
            "margin": null,
            "max_height": null,
            "max_width": null,
            "min_height": null,
            "min_width": null,
            "object_fit": null,
            "object_position": null,
            "order": null,
            "overflow": null,
            "overflow_x": null,
            "overflow_y": null,
            "padding": null,
            "right": null,
            "top": null,
            "visibility": null,
            "width": null
          }
        },
        "c51bf952f67a4c0b89ac113efb8a0e8b": {
          "model_module": "@jupyter-widgets/controls",
          "model_name": "ProgressStyleModel",
          "model_module_version": "1.5.0",
          "state": {
            "_model_module": "@jupyter-widgets/controls",
            "_model_module_version": "1.5.0",
            "_model_name": "ProgressStyleModel",
            "_view_count": null,
            "_view_module": "@jupyter-widgets/base",
            "_view_module_version": "1.2.0",
            "_view_name": "StyleView",
            "bar_color": null,
            "description_width": ""
          }
        },
        "929d66999cad49fc92768f5170aee9cf": {
          "model_module": "@jupyter-widgets/controls",
          "model_name": "VBoxModel",
          "model_module_version": "1.5.0",
          "state": {
            "_dom_classes": [],
            "_model_module": "@jupyter-widgets/controls",
            "_model_module_version": "1.5.0",
            "_model_name": "VBoxModel",
            "_view_count": null,
            "_view_module": "@jupyter-widgets/controls",
            "_view_module_version": "1.5.0",
            "_view_name": "VBoxView",
            "box_style": "",
            "children": [
              "IPY_MODEL_718c866043ad494d8d3f90ecfd7ca10b",
              "IPY_MODEL_f138fabbaf954a19a158538680ad07c6"
            ],
            "layout": "IPY_MODEL_74bf5cc0dc03405c85745a550e3cc59a"
          }
        },
        "718c866043ad494d8d3f90ecfd7ca10b": {
          "model_module": "@jupyter-widgets/controls",
          "model_name": "LabelModel",
          "model_module_version": "1.5.0",
          "state": {
            "_dom_classes": [],
            "_model_module": "@jupyter-widgets/controls",
            "_model_module_version": "1.5.0",
            "_model_name": "LabelModel",
            "_view_count": null,
            "_view_module": "@jupyter-widgets/controls",
            "_view_module_version": "1.5.0",
            "_view_name": "LabelView",
            "description": "",
            "description_tooltip": null,
            "layout": "IPY_MODEL_dd54d3652ae347d8b47cc77efde6c7e9",
            "placeholder": "​",
            "style": "IPY_MODEL_973e612f27224a9a839859d6c5cbf916",
            "value": "0.009 MB of 0.009 MB uploaded (0.000 MB deduped)\r"
          }
        },
        "f138fabbaf954a19a158538680ad07c6": {
          "model_module": "@jupyter-widgets/controls",
          "model_name": "FloatProgressModel",
          "model_module_version": "1.5.0",
          "state": {
            "_dom_classes": [],
            "_model_module": "@jupyter-widgets/controls",
            "_model_module_version": "1.5.0",
            "_model_name": "FloatProgressModel",
            "_view_count": null,
            "_view_module": "@jupyter-widgets/controls",
            "_view_module_version": "1.5.0",
            "_view_name": "ProgressView",
            "bar_style": "",
            "description": "",
            "description_tooltip": null,
            "layout": "IPY_MODEL_5942c8a1e33a4c57a6bc7c4c12fb0acf",
            "max": 1,
            "min": 0,
            "orientation": "horizontal",
            "style": "IPY_MODEL_5a67ffb16f754671b6a3f8170898feb4",
            "value": 1
          }
        },
        "74bf5cc0dc03405c85745a550e3cc59a": {
          "model_module": "@jupyter-widgets/base",
          "model_name": "LayoutModel",
          "model_module_version": "1.2.0",
          "state": {
            "_model_module": "@jupyter-widgets/base",
            "_model_module_version": "1.2.0",
            "_model_name": "LayoutModel",
            "_view_count": null,
            "_view_module": "@jupyter-widgets/base",
            "_view_module_version": "1.2.0",
            "_view_name": "LayoutView",
            "align_content": null,
            "align_items": null,
            "align_self": null,
            "border": null,
            "bottom": null,
            "display": null,
            "flex": null,
            "flex_flow": null,
            "grid_area": null,
            "grid_auto_columns": null,
            "grid_auto_flow": null,
            "grid_auto_rows": null,
            "grid_column": null,
            "grid_gap": null,
            "grid_row": null,
            "grid_template_areas": null,
            "grid_template_columns": null,
            "grid_template_rows": null,
            "height": null,
            "justify_content": null,
            "justify_items": null,
            "left": null,
            "margin": null,
            "max_height": null,
            "max_width": null,
            "min_height": null,
            "min_width": null,
            "object_fit": null,
            "object_position": null,
            "order": null,
            "overflow": null,
            "overflow_x": null,
            "overflow_y": null,
            "padding": null,
            "right": null,
            "top": null,
            "visibility": null,
            "width": null
          }
        },
        "dd54d3652ae347d8b47cc77efde6c7e9": {
          "model_module": "@jupyter-widgets/base",
          "model_name": "LayoutModel",
          "model_module_version": "1.2.0",
          "state": {
            "_model_module": "@jupyter-widgets/base",
            "_model_module_version": "1.2.0",
            "_model_name": "LayoutModel",
            "_view_count": null,
            "_view_module": "@jupyter-widgets/base",
            "_view_module_version": "1.2.0",
            "_view_name": "LayoutView",
            "align_content": null,
            "align_items": null,
            "align_self": null,
            "border": null,
            "bottom": null,
            "display": null,
            "flex": null,
            "flex_flow": null,
            "grid_area": null,
            "grid_auto_columns": null,
            "grid_auto_flow": null,
            "grid_auto_rows": null,
            "grid_column": null,
            "grid_gap": null,
            "grid_row": null,
            "grid_template_areas": null,
            "grid_template_columns": null,
            "grid_template_rows": null,
            "height": null,
            "justify_content": null,
            "justify_items": null,
            "left": null,
            "margin": null,
            "max_height": null,
            "max_width": null,
            "min_height": null,
            "min_width": null,
            "object_fit": null,
            "object_position": null,
            "order": null,
            "overflow": null,
            "overflow_x": null,
            "overflow_y": null,
            "padding": null,
            "right": null,
            "top": null,
            "visibility": null,
            "width": null
          }
        },
        "973e612f27224a9a839859d6c5cbf916": {
          "model_module": "@jupyter-widgets/controls",
          "model_name": "DescriptionStyleModel",
          "model_module_version": "1.5.0",
          "state": {
            "_model_module": "@jupyter-widgets/controls",
            "_model_module_version": "1.5.0",
            "_model_name": "DescriptionStyleModel",
            "_view_count": null,
            "_view_module": "@jupyter-widgets/base",
            "_view_module_version": "1.2.0",
            "_view_name": "StyleView",
            "description_width": ""
          }
        },
        "5942c8a1e33a4c57a6bc7c4c12fb0acf": {
          "model_module": "@jupyter-widgets/base",
          "model_name": "LayoutModel",
          "model_module_version": "1.2.0",
          "state": {
            "_model_module": "@jupyter-widgets/base",
            "_model_module_version": "1.2.0",
            "_model_name": "LayoutModel",
            "_view_count": null,
            "_view_module": "@jupyter-widgets/base",
            "_view_module_version": "1.2.0",
            "_view_name": "LayoutView",
            "align_content": null,
            "align_items": null,
            "align_self": null,
            "border": null,
            "bottom": null,
            "display": null,
            "flex": null,
            "flex_flow": null,
            "grid_area": null,
            "grid_auto_columns": null,
            "grid_auto_flow": null,
            "grid_auto_rows": null,
            "grid_column": null,
            "grid_gap": null,
            "grid_row": null,
            "grid_template_areas": null,
            "grid_template_columns": null,
            "grid_template_rows": null,
            "height": null,
            "justify_content": null,
            "justify_items": null,
            "left": null,
            "margin": null,
            "max_height": null,
            "max_width": null,
            "min_height": null,
            "min_width": null,
            "object_fit": null,
            "object_position": null,
            "order": null,
            "overflow": null,
            "overflow_x": null,
            "overflow_y": null,
            "padding": null,
            "right": null,
            "top": null,
            "visibility": null,
            "width": null
          }
        },
        "5a67ffb16f754671b6a3f8170898feb4": {
          "model_module": "@jupyter-widgets/controls",
          "model_name": "ProgressStyleModel",
          "model_module_version": "1.5.0",
          "state": {
            "_model_module": "@jupyter-widgets/controls",
            "_model_module_version": "1.5.0",
            "_model_name": "ProgressStyleModel",
            "_view_count": null,
            "_view_module": "@jupyter-widgets/base",
            "_view_module_version": "1.2.0",
            "_view_name": "StyleView",
            "bar_color": null,
            "description_width": ""
          }
        },
        "a36a567fd955427f898c001c380918c2": {
          "model_module": "@jupyter-widgets/controls",
          "model_name": "VBoxModel",
          "model_module_version": "1.5.0",
          "state": {
            "_dom_classes": [],
            "_model_module": "@jupyter-widgets/controls",
            "_model_module_version": "1.5.0",
            "_model_name": "VBoxModel",
            "_view_count": null,
            "_view_module": "@jupyter-widgets/controls",
            "_view_module_version": "1.5.0",
            "_view_name": "VBoxView",
            "box_style": "",
            "children": [
              "IPY_MODEL_8f727dfe477241ca838dab823863066b",
              "IPY_MODEL_180b91a7583348f7b04b14784172c0fc"
            ],
            "layout": "IPY_MODEL_2fb0f47282b74379844432daee390eb8"
          }
        },
        "8f727dfe477241ca838dab823863066b": {
          "model_module": "@jupyter-widgets/controls",
          "model_name": "LabelModel",
          "model_module_version": "1.5.0",
          "state": {
            "_dom_classes": [],
            "_model_module": "@jupyter-widgets/controls",
            "_model_module_version": "1.5.0",
            "_model_name": "LabelModel",
            "_view_count": null,
            "_view_module": "@jupyter-widgets/controls",
            "_view_module_version": "1.5.0",
            "_view_name": "LabelView",
            "description": "",
            "description_tooltip": null,
            "layout": "IPY_MODEL_8fa92341061042bab727d297feb0492c",
            "placeholder": "​",
            "style": "IPY_MODEL_a5894c5911be414c860a3a301902ef80",
            "value": "0.009 MB of 0.009 MB uploaded (0.000 MB deduped)\r"
          }
        },
        "180b91a7583348f7b04b14784172c0fc": {
          "model_module": "@jupyter-widgets/controls",
          "model_name": "FloatProgressModel",
          "model_module_version": "1.5.0",
          "state": {
            "_dom_classes": [],
            "_model_module": "@jupyter-widgets/controls",
            "_model_module_version": "1.5.0",
            "_model_name": "FloatProgressModel",
            "_view_count": null,
            "_view_module": "@jupyter-widgets/controls",
            "_view_module_version": "1.5.0",
            "_view_name": "ProgressView",
            "bar_style": "",
            "description": "",
            "description_tooltip": null,
            "layout": "IPY_MODEL_ece89a1d73a44eabbb812ad092f72972",
            "max": 1,
            "min": 0,
            "orientation": "horizontal",
            "style": "IPY_MODEL_c066655d8f90497ebce673c74c324e1d",
            "value": 1
          }
        },
        "2fb0f47282b74379844432daee390eb8": {
          "model_module": "@jupyter-widgets/base",
          "model_name": "LayoutModel",
          "model_module_version": "1.2.0",
          "state": {
            "_model_module": "@jupyter-widgets/base",
            "_model_module_version": "1.2.0",
            "_model_name": "LayoutModel",
            "_view_count": null,
            "_view_module": "@jupyter-widgets/base",
            "_view_module_version": "1.2.0",
            "_view_name": "LayoutView",
            "align_content": null,
            "align_items": null,
            "align_self": null,
            "border": null,
            "bottom": null,
            "display": null,
            "flex": null,
            "flex_flow": null,
            "grid_area": null,
            "grid_auto_columns": null,
            "grid_auto_flow": null,
            "grid_auto_rows": null,
            "grid_column": null,
            "grid_gap": null,
            "grid_row": null,
            "grid_template_areas": null,
            "grid_template_columns": null,
            "grid_template_rows": null,
            "height": null,
            "justify_content": null,
            "justify_items": null,
            "left": null,
            "margin": null,
            "max_height": null,
            "max_width": null,
            "min_height": null,
            "min_width": null,
            "object_fit": null,
            "object_position": null,
            "order": null,
            "overflow": null,
            "overflow_x": null,
            "overflow_y": null,
            "padding": null,
            "right": null,
            "top": null,
            "visibility": null,
            "width": null
          }
        },
        "8fa92341061042bab727d297feb0492c": {
          "model_module": "@jupyter-widgets/base",
          "model_name": "LayoutModel",
          "model_module_version": "1.2.0",
          "state": {
            "_model_module": "@jupyter-widgets/base",
            "_model_module_version": "1.2.0",
            "_model_name": "LayoutModel",
            "_view_count": null,
            "_view_module": "@jupyter-widgets/base",
            "_view_module_version": "1.2.0",
            "_view_name": "LayoutView",
            "align_content": null,
            "align_items": null,
            "align_self": null,
            "border": null,
            "bottom": null,
            "display": null,
            "flex": null,
            "flex_flow": null,
            "grid_area": null,
            "grid_auto_columns": null,
            "grid_auto_flow": null,
            "grid_auto_rows": null,
            "grid_column": null,
            "grid_gap": null,
            "grid_row": null,
            "grid_template_areas": null,
            "grid_template_columns": null,
            "grid_template_rows": null,
            "height": null,
            "justify_content": null,
            "justify_items": null,
            "left": null,
            "margin": null,
            "max_height": null,
            "max_width": null,
            "min_height": null,
            "min_width": null,
            "object_fit": null,
            "object_position": null,
            "order": null,
            "overflow": null,
            "overflow_x": null,
            "overflow_y": null,
            "padding": null,
            "right": null,
            "top": null,
            "visibility": null,
            "width": null
          }
        },
        "a5894c5911be414c860a3a301902ef80": {
          "model_module": "@jupyter-widgets/controls",
          "model_name": "DescriptionStyleModel",
          "model_module_version": "1.5.0",
          "state": {
            "_model_module": "@jupyter-widgets/controls",
            "_model_module_version": "1.5.0",
            "_model_name": "DescriptionStyleModel",
            "_view_count": null,
            "_view_module": "@jupyter-widgets/base",
            "_view_module_version": "1.2.0",
            "_view_name": "StyleView",
            "description_width": ""
          }
        },
        "ece89a1d73a44eabbb812ad092f72972": {
          "model_module": "@jupyter-widgets/base",
          "model_name": "LayoutModel",
          "model_module_version": "1.2.0",
          "state": {
            "_model_module": "@jupyter-widgets/base",
            "_model_module_version": "1.2.0",
            "_model_name": "LayoutModel",
            "_view_count": null,
            "_view_module": "@jupyter-widgets/base",
            "_view_module_version": "1.2.0",
            "_view_name": "LayoutView",
            "align_content": null,
            "align_items": null,
            "align_self": null,
            "border": null,
            "bottom": null,
            "display": null,
            "flex": null,
            "flex_flow": null,
            "grid_area": null,
            "grid_auto_columns": null,
            "grid_auto_flow": null,
            "grid_auto_rows": null,
            "grid_column": null,
            "grid_gap": null,
            "grid_row": null,
            "grid_template_areas": null,
            "grid_template_columns": null,
            "grid_template_rows": null,
            "height": null,
            "justify_content": null,
            "justify_items": null,
            "left": null,
            "margin": null,
            "max_height": null,
            "max_width": null,
            "min_height": null,
            "min_width": null,
            "object_fit": null,
            "object_position": null,
            "order": null,
            "overflow": null,
            "overflow_x": null,
            "overflow_y": null,
            "padding": null,
            "right": null,
            "top": null,
            "visibility": null,
            "width": null
          }
        },
        "c066655d8f90497ebce673c74c324e1d": {
          "model_module": "@jupyter-widgets/controls",
          "model_name": "ProgressStyleModel",
          "model_module_version": "1.5.0",
          "state": {
            "_model_module": "@jupyter-widgets/controls",
            "_model_module_version": "1.5.0",
            "_model_name": "ProgressStyleModel",
            "_view_count": null,
            "_view_module": "@jupyter-widgets/base",
            "_view_module_version": "1.2.0",
            "_view_name": "StyleView",
            "bar_color": null,
            "description_width": ""
          }
        },
        "897109fa61344cd6bab1241722e81942": {
          "model_module": "@jupyter-widgets/controls",
          "model_name": "VBoxModel",
          "model_module_version": "1.5.0",
          "state": {
            "_dom_classes": [],
            "_model_module": "@jupyter-widgets/controls",
            "_model_module_version": "1.5.0",
            "_model_name": "VBoxModel",
            "_view_count": null,
            "_view_module": "@jupyter-widgets/controls",
            "_view_module_version": "1.5.0",
            "_view_name": "VBoxView",
            "box_style": "",
            "children": [
              "IPY_MODEL_41d322de8a91451d8237f12f78b5324d",
              "IPY_MODEL_aec51af201f848c2b521fe1623a1a001"
            ],
            "layout": "IPY_MODEL_4cc36f830bb74b5c8773c2dd55678650"
          }
        },
        "41d322de8a91451d8237f12f78b5324d": {
          "model_module": "@jupyter-widgets/controls",
          "model_name": "LabelModel",
          "model_module_version": "1.5.0",
          "state": {
            "_dom_classes": [],
            "_model_module": "@jupyter-widgets/controls",
            "_model_module_version": "1.5.0",
            "_model_name": "LabelModel",
            "_view_count": null,
            "_view_module": "@jupyter-widgets/controls",
            "_view_module_version": "1.5.0",
            "_view_name": "LabelView",
            "description": "",
            "description_tooltip": null,
            "layout": "IPY_MODEL_ddfec91a420d4362ad693d435f98e2b8",
            "placeholder": "​",
            "style": "IPY_MODEL_34a6c34651e34b8e86430f7b79299c45",
            "value": "0.009 MB of 0.009 MB uploaded (0.000 MB deduped)\r"
          }
        },
        "aec51af201f848c2b521fe1623a1a001": {
          "model_module": "@jupyter-widgets/controls",
          "model_name": "FloatProgressModel",
          "model_module_version": "1.5.0",
          "state": {
            "_dom_classes": [],
            "_model_module": "@jupyter-widgets/controls",
            "_model_module_version": "1.5.0",
            "_model_name": "FloatProgressModel",
            "_view_count": null,
            "_view_module": "@jupyter-widgets/controls",
            "_view_module_version": "1.5.0",
            "_view_name": "ProgressView",
            "bar_style": "",
            "description": "",
            "description_tooltip": null,
            "layout": "IPY_MODEL_01d5f2517a794af69d1be42976652830",
            "max": 1,
            "min": 0,
            "orientation": "horizontal",
            "style": "IPY_MODEL_0d451b4b61f54846b933fe5e02d683b2",
            "value": 1
          }
        },
        "4cc36f830bb74b5c8773c2dd55678650": {
          "model_module": "@jupyter-widgets/base",
          "model_name": "LayoutModel",
          "model_module_version": "1.2.0",
          "state": {
            "_model_module": "@jupyter-widgets/base",
            "_model_module_version": "1.2.0",
            "_model_name": "LayoutModel",
            "_view_count": null,
            "_view_module": "@jupyter-widgets/base",
            "_view_module_version": "1.2.0",
            "_view_name": "LayoutView",
            "align_content": null,
            "align_items": null,
            "align_self": null,
            "border": null,
            "bottom": null,
            "display": null,
            "flex": null,
            "flex_flow": null,
            "grid_area": null,
            "grid_auto_columns": null,
            "grid_auto_flow": null,
            "grid_auto_rows": null,
            "grid_column": null,
            "grid_gap": null,
            "grid_row": null,
            "grid_template_areas": null,
            "grid_template_columns": null,
            "grid_template_rows": null,
            "height": null,
            "justify_content": null,
            "justify_items": null,
            "left": null,
            "margin": null,
            "max_height": null,
            "max_width": null,
            "min_height": null,
            "min_width": null,
            "object_fit": null,
            "object_position": null,
            "order": null,
            "overflow": null,
            "overflow_x": null,
            "overflow_y": null,
            "padding": null,
            "right": null,
            "top": null,
            "visibility": null,
            "width": null
          }
        },
        "ddfec91a420d4362ad693d435f98e2b8": {
          "model_module": "@jupyter-widgets/base",
          "model_name": "LayoutModel",
          "model_module_version": "1.2.0",
          "state": {
            "_model_module": "@jupyter-widgets/base",
            "_model_module_version": "1.2.0",
            "_model_name": "LayoutModel",
            "_view_count": null,
            "_view_module": "@jupyter-widgets/base",
            "_view_module_version": "1.2.0",
            "_view_name": "LayoutView",
            "align_content": null,
            "align_items": null,
            "align_self": null,
            "border": null,
            "bottom": null,
            "display": null,
            "flex": null,
            "flex_flow": null,
            "grid_area": null,
            "grid_auto_columns": null,
            "grid_auto_flow": null,
            "grid_auto_rows": null,
            "grid_column": null,
            "grid_gap": null,
            "grid_row": null,
            "grid_template_areas": null,
            "grid_template_columns": null,
            "grid_template_rows": null,
            "height": null,
            "justify_content": null,
            "justify_items": null,
            "left": null,
            "margin": null,
            "max_height": null,
            "max_width": null,
            "min_height": null,
            "min_width": null,
            "object_fit": null,
            "object_position": null,
            "order": null,
            "overflow": null,
            "overflow_x": null,
            "overflow_y": null,
            "padding": null,
            "right": null,
            "top": null,
            "visibility": null,
            "width": null
          }
        },
        "34a6c34651e34b8e86430f7b79299c45": {
          "model_module": "@jupyter-widgets/controls",
          "model_name": "DescriptionStyleModel",
          "model_module_version": "1.5.0",
          "state": {
            "_model_module": "@jupyter-widgets/controls",
            "_model_module_version": "1.5.0",
            "_model_name": "DescriptionStyleModel",
            "_view_count": null,
            "_view_module": "@jupyter-widgets/base",
            "_view_module_version": "1.2.0",
            "_view_name": "StyleView",
            "description_width": ""
          }
        },
        "01d5f2517a794af69d1be42976652830": {
          "model_module": "@jupyter-widgets/base",
          "model_name": "LayoutModel",
          "model_module_version": "1.2.0",
          "state": {
            "_model_module": "@jupyter-widgets/base",
            "_model_module_version": "1.2.0",
            "_model_name": "LayoutModel",
            "_view_count": null,
            "_view_module": "@jupyter-widgets/base",
            "_view_module_version": "1.2.0",
            "_view_name": "LayoutView",
            "align_content": null,
            "align_items": null,
            "align_self": null,
            "border": null,
            "bottom": null,
            "display": null,
            "flex": null,
            "flex_flow": null,
            "grid_area": null,
            "grid_auto_columns": null,
            "grid_auto_flow": null,
            "grid_auto_rows": null,
            "grid_column": null,
            "grid_gap": null,
            "grid_row": null,
            "grid_template_areas": null,
            "grid_template_columns": null,
            "grid_template_rows": null,
            "height": null,
            "justify_content": null,
            "justify_items": null,
            "left": null,
            "margin": null,
            "max_height": null,
            "max_width": null,
            "min_height": null,
            "min_width": null,
            "object_fit": null,
            "object_position": null,
            "order": null,
            "overflow": null,
            "overflow_x": null,
            "overflow_y": null,
            "padding": null,
            "right": null,
            "top": null,
            "visibility": null,
            "width": null
          }
        },
        "0d451b4b61f54846b933fe5e02d683b2": {
          "model_module": "@jupyter-widgets/controls",
          "model_name": "ProgressStyleModel",
          "model_module_version": "1.5.0",
          "state": {
            "_model_module": "@jupyter-widgets/controls",
            "_model_module_version": "1.5.0",
            "_model_name": "ProgressStyleModel",
            "_view_count": null,
            "_view_module": "@jupyter-widgets/base",
            "_view_module_version": "1.2.0",
            "_view_name": "StyleView",
            "bar_color": null,
            "description_width": ""
          }
        },
        "01c3fc982a314c8a93f2b97ec9a72157": {
          "model_module": "@jupyter-widgets/controls",
          "model_name": "VBoxModel",
          "model_module_version": "1.5.0",
          "state": {
            "_dom_classes": [],
            "_model_module": "@jupyter-widgets/controls",
            "_model_module_version": "1.5.0",
            "_model_name": "VBoxModel",
            "_view_count": null,
            "_view_module": "@jupyter-widgets/controls",
            "_view_module_version": "1.5.0",
            "_view_name": "VBoxView",
            "box_style": "",
            "children": [
              "IPY_MODEL_6e211e48e9334f0eb218258307a2dfb2",
              "IPY_MODEL_c7194826e665418d90d4484d06c133eb"
            ],
            "layout": "IPY_MODEL_bc21132a30104b52b7ff3d7aa6435e76"
          }
        },
        "6e211e48e9334f0eb218258307a2dfb2": {
          "model_module": "@jupyter-widgets/controls",
          "model_name": "LabelModel",
          "model_module_version": "1.5.0",
          "state": {
            "_dom_classes": [],
            "_model_module": "@jupyter-widgets/controls",
            "_model_module_version": "1.5.0",
            "_model_name": "LabelModel",
            "_view_count": null,
            "_view_module": "@jupyter-widgets/controls",
            "_view_module_version": "1.5.0",
            "_view_name": "LabelView",
            "description": "",
            "description_tooltip": null,
            "layout": "IPY_MODEL_e2b738f5b42f49f99e48a93886d4a76c",
            "placeholder": "​",
            "style": "IPY_MODEL_6f9096ec964047a9bae4f6610b8b930d",
            "value": "0.009 MB of 0.009 MB uploaded (0.000 MB deduped)\r"
          }
        },
        "c7194826e665418d90d4484d06c133eb": {
          "model_module": "@jupyter-widgets/controls",
          "model_name": "FloatProgressModel",
          "model_module_version": "1.5.0",
          "state": {
            "_dom_classes": [],
            "_model_module": "@jupyter-widgets/controls",
            "_model_module_version": "1.5.0",
            "_model_name": "FloatProgressModel",
            "_view_count": null,
            "_view_module": "@jupyter-widgets/controls",
            "_view_module_version": "1.5.0",
            "_view_name": "ProgressView",
            "bar_style": "",
            "description": "",
            "description_tooltip": null,
            "layout": "IPY_MODEL_ea52adf6c8b74e208788b096e22f3166",
            "max": 1,
            "min": 0,
            "orientation": "horizontal",
            "style": "IPY_MODEL_d7fd92b07cf347e2bddae3aeedebc4b9",
            "value": 1
          }
        },
        "bc21132a30104b52b7ff3d7aa6435e76": {
          "model_module": "@jupyter-widgets/base",
          "model_name": "LayoutModel",
          "model_module_version": "1.2.0",
          "state": {
            "_model_module": "@jupyter-widgets/base",
            "_model_module_version": "1.2.0",
            "_model_name": "LayoutModel",
            "_view_count": null,
            "_view_module": "@jupyter-widgets/base",
            "_view_module_version": "1.2.0",
            "_view_name": "LayoutView",
            "align_content": null,
            "align_items": null,
            "align_self": null,
            "border": null,
            "bottom": null,
            "display": null,
            "flex": null,
            "flex_flow": null,
            "grid_area": null,
            "grid_auto_columns": null,
            "grid_auto_flow": null,
            "grid_auto_rows": null,
            "grid_column": null,
            "grid_gap": null,
            "grid_row": null,
            "grid_template_areas": null,
            "grid_template_columns": null,
            "grid_template_rows": null,
            "height": null,
            "justify_content": null,
            "justify_items": null,
            "left": null,
            "margin": null,
            "max_height": null,
            "max_width": null,
            "min_height": null,
            "min_width": null,
            "object_fit": null,
            "object_position": null,
            "order": null,
            "overflow": null,
            "overflow_x": null,
            "overflow_y": null,
            "padding": null,
            "right": null,
            "top": null,
            "visibility": null,
            "width": null
          }
        },
        "e2b738f5b42f49f99e48a93886d4a76c": {
          "model_module": "@jupyter-widgets/base",
          "model_name": "LayoutModel",
          "model_module_version": "1.2.0",
          "state": {
            "_model_module": "@jupyter-widgets/base",
            "_model_module_version": "1.2.0",
            "_model_name": "LayoutModel",
            "_view_count": null,
            "_view_module": "@jupyter-widgets/base",
            "_view_module_version": "1.2.0",
            "_view_name": "LayoutView",
            "align_content": null,
            "align_items": null,
            "align_self": null,
            "border": null,
            "bottom": null,
            "display": null,
            "flex": null,
            "flex_flow": null,
            "grid_area": null,
            "grid_auto_columns": null,
            "grid_auto_flow": null,
            "grid_auto_rows": null,
            "grid_column": null,
            "grid_gap": null,
            "grid_row": null,
            "grid_template_areas": null,
            "grid_template_columns": null,
            "grid_template_rows": null,
            "height": null,
            "justify_content": null,
            "justify_items": null,
            "left": null,
            "margin": null,
            "max_height": null,
            "max_width": null,
            "min_height": null,
            "min_width": null,
            "object_fit": null,
            "object_position": null,
            "order": null,
            "overflow": null,
            "overflow_x": null,
            "overflow_y": null,
            "padding": null,
            "right": null,
            "top": null,
            "visibility": null,
            "width": null
          }
        },
        "6f9096ec964047a9bae4f6610b8b930d": {
          "model_module": "@jupyter-widgets/controls",
          "model_name": "DescriptionStyleModel",
          "model_module_version": "1.5.0",
          "state": {
            "_model_module": "@jupyter-widgets/controls",
            "_model_module_version": "1.5.0",
            "_model_name": "DescriptionStyleModel",
            "_view_count": null,
            "_view_module": "@jupyter-widgets/base",
            "_view_module_version": "1.2.0",
            "_view_name": "StyleView",
            "description_width": ""
          }
        },
        "ea52adf6c8b74e208788b096e22f3166": {
          "model_module": "@jupyter-widgets/base",
          "model_name": "LayoutModel",
          "model_module_version": "1.2.0",
          "state": {
            "_model_module": "@jupyter-widgets/base",
            "_model_module_version": "1.2.0",
            "_model_name": "LayoutModel",
            "_view_count": null,
            "_view_module": "@jupyter-widgets/base",
            "_view_module_version": "1.2.0",
            "_view_name": "LayoutView",
            "align_content": null,
            "align_items": null,
            "align_self": null,
            "border": null,
            "bottom": null,
            "display": null,
            "flex": null,
            "flex_flow": null,
            "grid_area": null,
            "grid_auto_columns": null,
            "grid_auto_flow": null,
            "grid_auto_rows": null,
            "grid_column": null,
            "grid_gap": null,
            "grid_row": null,
            "grid_template_areas": null,
            "grid_template_columns": null,
            "grid_template_rows": null,
            "height": null,
            "justify_content": null,
            "justify_items": null,
            "left": null,
            "margin": null,
            "max_height": null,
            "max_width": null,
            "min_height": null,
            "min_width": null,
            "object_fit": null,
            "object_position": null,
            "order": null,
            "overflow": null,
            "overflow_x": null,
            "overflow_y": null,
            "padding": null,
            "right": null,
            "top": null,
            "visibility": null,
            "width": null
          }
        },
        "d7fd92b07cf347e2bddae3aeedebc4b9": {
          "model_module": "@jupyter-widgets/controls",
          "model_name": "ProgressStyleModel",
          "model_module_version": "1.5.0",
          "state": {
            "_model_module": "@jupyter-widgets/controls",
            "_model_module_version": "1.5.0",
            "_model_name": "ProgressStyleModel",
            "_view_count": null,
            "_view_module": "@jupyter-widgets/base",
            "_view_module_version": "1.2.0",
            "_view_name": "StyleView",
            "bar_color": null,
            "description_width": ""
          }
        },
        "5837e3d797544d8180925de1bda9f54e": {
          "model_module": "@jupyter-widgets/controls",
          "model_name": "VBoxModel",
          "model_module_version": "1.5.0",
          "state": {
            "_dom_classes": [],
            "_model_module": "@jupyter-widgets/controls",
            "_model_module_version": "1.5.0",
            "_model_name": "VBoxModel",
            "_view_count": null,
            "_view_module": "@jupyter-widgets/controls",
            "_view_module_version": "1.5.0",
            "_view_name": "VBoxView",
            "box_style": "",
            "children": [
              "IPY_MODEL_f3097ea8402a49568c23e8c5f67d1cbb",
              "IPY_MODEL_5b3b86f9a1f34f87b9da96f9b469d005"
            ],
            "layout": "IPY_MODEL_55842124feb44d0db2ae6a7bfce8ee19"
          }
        },
        "f3097ea8402a49568c23e8c5f67d1cbb": {
          "model_module": "@jupyter-widgets/controls",
          "model_name": "LabelModel",
          "model_module_version": "1.5.0",
          "state": {
            "_dom_classes": [],
            "_model_module": "@jupyter-widgets/controls",
            "_model_module_version": "1.5.0",
            "_model_name": "LabelModel",
            "_view_count": null,
            "_view_module": "@jupyter-widgets/controls",
            "_view_module_version": "1.5.0",
            "_view_name": "LabelView",
            "description": "",
            "description_tooltip": null,
            "layout": "IPY_MODEL_78184ca7dce94b42a8cd072a4bc621b0",
            "placeholder": "​",
            "style": "IPY_MODEL_87c772827516411bb30bdc4f5cc36376",
            "value": "0.009 MB of 0.009 MB uploaded (0.000 MB deduped)\r"
          }
        },
        "5b3b86f9a1f34f87b9da96f9b469d005": {
          "model_module": "@jupyter-widgets/controls",
          "model_name": "FloatProgressModel",
          "model_module_version": "1.5.0",
          "state": {
            "_dom_classes": [],
            "_model_module": "@jupyter-widgets/controls",
            "_model_module_version": "1.5.0",
            "_model_name": "FloatProgressModel",
            "_view_count": null,
            "_view_module": "@jupyter-widgets/controls",
            "_view_module_version": "1.5.0",
            "_view_name": "ProgressView",
            "bar_style": "",
            "description": "",
            "description_tooltip": null,
            "layout": "IPY_MODEL_6d77f45d46a943bd807b0348047002be",
            "max": 1,
            "min": 0,
            "orientation": "horizontal",
            "style": "IPY_MODEL_64cced9033864806bef6eba51e8e7a0e",
            "value": 1
          }
        },
        "55842124feb44d0db2ae6a7bfce8ee19": {
          "model_module": "@jupyter-widgets/base",
          "model_name": "LayoutModel",
          "model_module_version": "1.2.0",
          "state": {
            "_model_module": "@jupyter-widgets/base",
            "_model_module_version": "1.2.0",
            "_model_name": "LayoutModel",
            "_view_count": null,
            "_view_module": "@jupyter-widgets/base",
            "_view_module_version": "1.2.0",
            "_view_name": "LayoutView",
            "align_content": null,
            "align_items": null,
            "align_self": null,
            "border": null,
            "bottom": null,
            "display": null,
            "flex": null,
            "flex_flow": null,
            "grid_area": null,
            "grid_auto_columns": null,
            "grid_auto_flow": null,
            "grid_auto_rows": null,
            "grid_column": null,
            "grid_gap": null,
            "grid_row": null,
            "grid_template_areas": null,
            "grid_template_columns": null,
            "grid_template_rows": null,
            "height": null,
            "justify_content": null,
            "justify_items": null,
            "left": null,
            "margin": null,
            "max_height": null,
            "max_width": null,
            "min_height": null,
            "min_width": null,
            "object_fit": null,
            "object_position": null,
            "order": null,
            "overflow": null,
            "overflow_x": null,
            "overflow_y": null,
            "padding": null,
            "right": null,
            "top": null,
            "visibility": null,
            "width": null
          }
        },
        "78184ca7dce94b42a8cd072a4bc621b0": {
          "model_module": "@jupyter-widgets/base",
          "model_name": "LayoutModel",
          "model_module_version": "1.2.0",
          "state": {
            "_model_module": "@jupyter-widgets/base",
            "_model_module_version": "1.2.0",
            "_model_name": "LayoutModel",
            "_view_count": null,
            "_view_module": "@jupyter-widgets/base",
            "_view_module_version": "1.2.0",
            "_view_name": "LayoutView",
            "align_content": null,
            "align_items": null,
            "align_self": null,
            "border": null,
            "bottom": null,
            "display": null,
            "flex": null,
            "flex_flow": null,
            "grid_area": null,
            "grid_auto_columns": null,
            "grid_auto_flow": null,
            "grid_auto_rows": null,
            "grid_column": null,
            "grid_gap": null,
            "grid_row": null,
            "grid_template_areas": null,
            "grid_template_columns": null,
            "grid_template_rows": null,
            "height": null,
            "justify_content": null,
            "justify_items": null,
            "left": null,
            "margin": null,
            "max_height": null,
            "max_width": null,
            "min_height": null,
            "min_width": null,
            "object_fit": null,
            "object_position": null,
            "order": null,
            "overflow": null,
            "overflow_x": null,
            "overflow_y": null,
            "padding": null,
            "right": null,
            "top": null,
            "visibility": null,
            "width": null
          }
        },
        "87c772827516411bb30bdc4f5cc36376": {
          "model_module": "@jupyter-widgets/controls",
          "model_name": "DescriptionStyleModel",
          "model_module_version": "1.5.0",
          "state": {
            "_model_module": "@jupyter-widgets/controls",
            "_model_module_version": "1.5.0",
            "_model_name": "DescriptionStyleModel",
            "_view_count": null,
            "_view_module": "@jupyter-widgets/base",
            "_view_module_version": "1.2.0",
            "_view_name": "StyleView",
            "description_width": ""
          }
        },
        "6d77f45d46a943bd807b0348047002be": {
          "model_module": "@jupyter-widgets/base",
          "model_name": "LayoutModel",
          "model_module_version": "1.2.0",
          "state": {
            "_model_module": "@jupyter-widgets/base",
            "_model_module_version": "1.2.0",
            "_model_name": "LayoutModel",
            "_view_count": null,
            "_view_module": "@jupyter-widgets/base",
            "_view_module_version": "1.2.0",
            "_view_name": "LayoutView",
            "align_content": null,
            "align_items": null,
            "align_self": null,
            "border": null,
            "bottom": null,
            "display": null,
            "flex": null,
            "flex_flow": null,
            "grid_area": null,
            "grid_auto_columns": null,
            "grid_auto_flow": null,
            "grid_auto_rows": null,
            "grid_column": null,
            "grid_gap": null,
            "grid_row": null,
            "grid_template_areas": null,
            "grid_template_columns": null,
            "grid_template_rows": null,
            "height": null,
            "justify_content": null,
            "justify_items": null,
            "left": null,
            "margin": null,
            "max_height": null,
            "max_width": null,
            "min_height": null,
            "min_width": null,
            "object_fit": null,
            "object_position": null,
            "order": null,
            "overflow": null,
            "overflow_x": null,
            "overflow_y": null,
            "padding": null,
            "right": null,
            "top": null,
            "visibility": null,
            "width": null
          }
        },
        "64cced9033864806bef6eba51e8e7a0e": {
          "model_module": "@jupyter-widgets/controls",
          "model_name": "ProgressStyleModel",
          "model_module_version": "1.5.0",
          "state": {
            "_model_module": "@jupyter-widgets/controls",
            "_model_module_version": "1.5.0",
            "_model_name": "ProgressStyleModel",
            "_view_count": null,
            "_view_module": "@jupyter-widgets/base",
            "_view_module_version": "1.2.0",
            "_view_name": "StyleView",
            "bar_color": null,
            "description_width": ""
          }
        },
        "1497fb90e2bd458db216a0e9210914d2": {
          "model_module": "@jupyter-widgets/controls",
          "model_name": "VBoxModel",
          "model_module_version": "1.5.0",
          "state": {
            "_dom_classes": [],
            "_model_module": "@jupyter-widgets/controls",
            "_model_module_version": "1.5.0",
            "_model_name": "VBoxModel",
            "_view_count": null,
            "_view_module": "@jupyter-widgets/controls",
            "_view_module_version": "1.5.0",
            "_view_name": "VBoxView",
            "box_style": "",
            "children": [
              "IPY_MODEL_39a4a1fcf4054a89973881741273133d",
              "IPY_MODEL_2801f822b06b4321ae7a6ef5136e89d3"
            ],
            "layout": "IPY_MODEL_ca726224782849788730a2f298c40e2a"
          }
        },
        "39a4a1fcf4054a89973881741273133d": {
          "model_module": "@jupyter-widgets/controls",
          "model_name": "LabelModel",
          "model_module_version": "1.5.0",
          "state": {
            "_dom_classes": [],
            "_model_module": "@jupyter-widgets/controls",
            "_model_module_version": "1.5.0",
            "_model_name": "LabelModel",
            "_view_count": null,
            "_view_module": "@jupyter-widgets/controls",
            "_view_module_version": "1.5.0",
            "_view_name": "LabelView",
            "description": "",
            "description_tooltip": null,
            "layout": "IPY_MODEL_4d1742d6c728445a9389c5bc34c55df9",
            "placeholder": "​",
            "style": "IPY_MODEL_47d64fe353064e23806864200d4aeb2f",
            "value": "0.009 MB of 0.009 MB uploaded (0.000 MB deduped)\r"
          }
        },
        "2801f822b06b4321ae7a6ef5136e89d3": {
          "model_module": "@jupyter-widgets/controls",
          "model_name": "FloatProgressModel",
          "model_module_version": "1.5.0",
          "state": {
            "_dom_classes": [],
            "_model_module": "@jupyter-widgets/controls",
            "_model_module_version": "1.5.0",
            "_model_name": "FloatProgressModel",
            "_view_count": null,
            "_view_module": "@jupyter-widgets/controls",
            "_view_module_version": "1.5.0",
            "_view_name": "ProgressView",
            "bar_style": "",
            "description": "",
            "description_tooltip": null,
            "layout": "IPY_MODEL_f9a3597201c741abb95f597a9df08e83",
            "max": 1,
            "min": 0,
            "orientation": "horizontal",
            "style": "IPY_MODEL_a9f7840b4b1a4c56ad1c82b8f3cdd7a3",
            "value": 1
          }
        },
        "ca726224782849788730a2f298c40e2a": {
          "model_module": "@jupyter-widgets/base",
          "model_name": "LayoutModel",
          "model_module_version": "1.2.0",
          "state": {
            "_model_module": "@jupyter-widgets/base",
            "_model_module_version": "1.2.0",
            "_model_name": "LayoutModel",
            "_view_count": null,
            "_view_module": "@jupyter-widgets/base",
            "_view_module_version": "1.2.0",
            "_view_name": "LayoutView",
            "align_content": null,
            "align_items": null,
            "align_self": null,
            "border": null,
            "bottom": null,
            "display": null,
            "flex": null,
            "flex_flow": null,
            "grid_area": null,
            "grid_auto_columns": null,
            "grid_auto_flow": null,
            "grid_auto_rows": null,
            "grid_column": null,
            "grid_gap": null,
            "grid_row": null,
            "grid_template_areas": null,
            "grid_template_columns": null,
            "grid_template_rows": null,
            "height": null,
            "justify_content": null,
            "justify_items": null,
            "left": null,
            "margin": null,
            "max_height": null,
            "max_width": null,
            "min_height": null,
            "min_width": null,
            "object_fit": null,
            "object_position": null,
            "order": null,
            "overflow": null,
            "overflow_x": null,
            "overflow_y": null,
            "padding": null,
            "right": null,
            "top": null,
            "visibility": null,
            "width": null
          }
        },
        "4d1742d6c728445a9389c5bc34c55df9": {
          "model_module": "@jupyter-widgets/base",
          "model_name": "LayoutModel",
          "model_module_version": "1.2.0",
          "state": {
            "_model_module": "@jupyter-widgets/base",
            "_model_module_version": "1.2.0",
            "_model_name": "LayoutModel",
            "_view_count": null,
            "_view_module": "@jupyter-widgets/base",
            "_view_module_version": "1.2.0",
            "_view_name": "LayoutView",
            "align_content": null,
            "align_items": null,
            "align_self": null,
            "border": null,
            "bottom": null,
            "display": null,
            "flex": null,
            "flex_flow": null,
            "grid_area": null,
            "grid_auto_columns": null,
            "grid_auto_flow": null,
            "grid_auto_rows": null,
            "grid_column": null,
            "grid_gap": null,
            "grid_row": null,
            "grid_template_areas": null,
            "grid_template_columns": null,
            "grid_template_rows": null,
            "height": null,
            "justify_content": null,
            "justify_items": null,
            "left": null,
            "margin": null,
            "max_height": null,
            "max_width": null,
            "min_height": null,
            "min_width": null,
            "object_fit": null,
            "object_position": null,
            "order": null,
            "overflow": null,
            "overflow_x": null,
            "overflow_y": null,
            "padding": null,
            "right": null,
            "top": null,
            "visibility": null,
            "width": null
          }
        },
        "47d64fe353064e23806864200d4aeb2f": {
          "model_module": "@jupyter-widgets/controls",
          "model_name": "DescriptionStyleModel",
          "model_module_version": "1.5.0",
          "state": {
            "_model_module": "@jupyter-widgets/controls",
            "_model_module_version": "1.5.0",
            "_model_name": "DescriptionStyleModel",
            "_view_count": null,
            "_view_module": "@jupyter-widgets/base",
            "_view_module_version": "1.2.0",
            "_view_name": "StyleView",
            "description_width": ""
          }
        },
        "f9a3597201c741abb95f597a9df08e83": {
          "model_module": "@jupyter-widgets/base",
          "model_name": "LayoutModel",
          "model_module_version": "1.2.0",
          "state": {
            "_model_module": "@jupyter-widgets/base",
            "_model_module_version": "1.2.0",
            "_model_name": "LayoutModel",
            "_view_count": null,
            "_view_module": "@jupyter-widgets/base",
            "_view_module_version": "1.2.0",
            "_view_name": "LayoutView",
            "align_content": null,
            "align_items": null,
            "align_self": null,
            "border": null,
            "bottom": null,
            "display": null,
            "flex": null,
            "flex_flow": null,
            "grid_area": null,
            "grid_auto_columns": null,
            "grid_auto_flow": null,
            "grid_auto_rows": null,
            "grid_column": null,
            "grid_gap": null,
            "grid_row": null,
            "grid_template_areas": null,
            "grid_template_columns": null,
            "grid_template_rows": null,
            "height": null,
            "justify_content": null,
            "justify_items": null,
            "left": null,
            "margin": null,
            "max_height": null,
            "max_width": null,
            "min_height": null,
            "min_width": null,
            "object_fit": null,
            "object_position": null,
            "order": null,
            "overflow": null,
            "overflow_x": null,
            "overflow_y": null,
            "padding": null,
            "right": null,
            "top": null,
            "visibility": null,
            "width": null
          }
        },
        "a9f7840b4b1a4c56ad1c82b8f3cdd7a3": {
          "model_module": "@jupyter-widgets/controls",
          "model_name": "ProgressStyleModel",
          "model_module_version": "1.5.0",
          "state": {
            "_model_module": "@jupyter-widgets/controls",
            "_model_module_version": "1.5.0",
            "_model_name": "ProgressStyleModel",
            "_view_count": null,
            "_view_module": "@jupyter-widgets/base",
            "_view_module_version": "1.2.0",
            "_view_name": "StyleView",
            "bar_color": null,
            "description_width": ""
          }
        },
        "0621f11098374f39a25fa9c1191256bf": {
          "model_module": "@jupyter-widgets/controls",
          "model_name": "VBoxModel",
          "model_module_version": "1.5.0",
          "state": {
            "_dom_classes": [],
            "_model_module": "@jupyter-widgets/controls",
            "_model_module_version": "1.5.0",
            "_model_name": "VBoxModel",
            "_view_count": null,
            "_view_module": "@jupyter-widgets/controls",
            "_view_module_version": "1.5.0",
            "_view_name": "VBoxView",
            "box_style": "",
            "children": [
              "IPY_MODEL_7fbce6462edf4ad6b707d66743a2b08b",
              "IPY_MODEL_c88c96c0fa064f5db6d1b94766d8f705"
            ],
            "layout": "IPY_MODEL_92c8770d13e54428998d0162fb20ebdc"
          }
        },
        "7fbce6462edf4ad6b707d66743a2b08b": {
          "model_module": "@jupyter-widgets/controls",
          "model_name": "LabelModel",
          "model_module_version": "1.5.0",
          "state": {
            "_dom_classes": [],
            "_model_module": "@jupyter-widgets/controls",
            "_model_module_version": "1.5.0",
            "_model_name": "LabelModel",
            "_view_count": null,
            "_view_module": "@jupyter-widgets/controls",
            "_view_module_version": "1.5.0",
            "_view_name": "LabelView",
            "description": "",
            "description_tooltip": null,
            "layout": "IPY_MODEL_a7199c7970b84212a587900eb6f07840",
            "placeholder": "​",
            "style": "IPY_MODEL_db61f925bb6c4cdaa4cf02cb56130045",
            "value": "0.009 MB of 0.009 MB uploaded (0.000 MB deduped)\r"
          }
        },
        "c88c96c0fa064f5db6d1b94766d8f705": {
          "model_module": "@jupyter-widgets/controls",
          "model_name": "FloatProgressModel",
          "model_module_version": "1.5.0",
          "state": {
            "_dom_classes": [],
            "_model_module": "@jupyter-widgets/controls",
            "_model_module_version": "1.5.0",
            "_model_name": "FloatProgressModel",
            "_view_count": null,
            "_view_module": "@jupyter-widgets/controls",
            "_view_module_version": "1.5.0",
            "_view_name": "ProgressView",
            "bar_style": "",
            "description": "",
            "description_tooltip": null,
            "layout": "IPY_MODEL_5ea1111ba3db4fefb511a7dbed46da31",
            "max": 1,
            "min": 0,
            "orientation": "horizontal",
            "style": "IPY_MODEL_9f353c0fbf8647bc9fdce9c321112042",
            "value": 1
          }
        },
        "92c8770d13e54428998d0162fb20ebdc": {
          "model_module": "@jupyter-widgets/base",
          "model_name": "LayoutModel",
          "model_module_version": "1.2.0",
          "state": {
            "_model_module": "@jupyter-widgets/base",
            "_model_module_version": "1.2.0",
            "_model_name": "LayoutModel",
            "_view_count": null,
            "_view_module": "@jupyter-widgets/base",
            "_view_module_version": "1.2.0",
            "_view_name": "LayoutView",
            "align_content": null,
            "align_items": null,
            "align_self": null,
            "border": null,
            "bottom": null,
            "display": null,
            "flex": null,
            "flex_flow": null,
            "grid_area": null,
            "grid_auto_columns": null,
            "grid_auto_flow": null,
            "grid_auto_rows": null,
            "grid_column": null,
            "grid_gap": null,
            "grid_row": null,
            "grid_template_areas": null,
            "grid_template_columns": null,
            "grid_template_rows": null,
            "height": null,
            "justify_content": null,
            "justify_items": null,
            "left": null,
            "margin": null,
            "max_height": null,
            "max_width": null,
            "min_height": null,
            "min_width": null,
            "object_fit": null,
            "object_position": null,
            "order": null,
            "overflow": null,
            "overflow_x": null,
            "overflow_y": null,
            "padding": null,
            "right": null,
            "top": null,
            "visibility": null,
            "width": null
          }
        },
        "a7199c7970b84212a587900eb6f07840": {
          "model_module": "@jupyter-widgets/base",
          "model_name": "LayoutModel",
          "model_module_version": "1.2.0",
          "state": {
            "_model_module": "@jupyter-widgets/base",
            "_model_module_version": "1.2.0",
            "_model_name": "LayoutModel",
            "_view_count": null,
            "_view_module": "@jupyter-widgets/base",
            "_view_module_version": "1.2.0",
            "_view_name": "LayoutView",
            "align_content": null,
            "align_items": null,
            "align_self": null,
            "border": null,
            "bottom": null,
            "display": null,
            "flex": null,
            "flex_flow": null,
            "grid_area": null,
            "grid_auto_columns": null,
            "grid_auto_flow": null,
            "grid_auto_rows": null,
            "grid_column": null,
            "grid_gap": null,
            "grid_row": null,
            "grid_template_areas": null,
            "grid_template_columns": null,
            "grid_template_rows": null,
            "height": null,
            "justify_content": null,
            "justify_items": null,
            "left": null,
            "margin": null,
            "max_height": null,
            "max_width": null,
            "min_height": null,
            "min_width": null,
            "object_fit": null,
            "object_position": null,
            "order": null,
            "overflow": null,
            "overflow_x": null,
            "overflow_y": null,
            "padding": null,
            "right": null,
            "top": null,
            "visibility": null,
            "width": null
          }
        },
        "db61f925bb6c4cdaa4cf02cb56130045": {
          "model_module": "@jupyter-widgets/controls",
          "model_name": "DescriptionStyleModel",
          "model_module_version": "1.5.0",
          "state": {
            "_model_module": "@jupyter-widgets/controls",
            "_model_module_version": "1.5.0",
            "_model_name": "DescriptionStyleModel",
            "_view_count": null,
            "_view_module": "@jupyter-widgets/base",
            "_view_module_version": "1.2.0",
            "_view_name": "StyleView",
            "description_width": ""
          }
        },
        "5ea1111ba3db4fefb511a7dbed46da31": {
          "model_module": "@jupyter-widgets/base",
          "model_name": "LayoutModel",
          "model_module_version": "1.2.0",
          "state": {
            "_model_module": "@jupyter-widgets/base",
            "_model_module_version": "1.2.0",
            "_model_name": "LayoutModel",
            "_view_count": null,
            "_view_module": "@jupyter-widgets/base",
            "_view_module_version": "1.2.0",
            "_view_name": "LayoutView",
            "align_content": null,
            "align_items": null,
            "align_self": null,
            "border": null,
            "bottom": null,
            "display": null,
            "flex": null,
            "flex_flow": null,
            "grid_area": null,
            "grid_auto_columns": null,
            "grid_auto_flow": null,
            "grid_auto_rows": null,
            "grid_column": null,
            "grid_gap": null,
            "grid_row": null,
            "grid_template_areas": null,
            "grid_template_columns": null,
            "grid_template_rows": null,
            "height": null,
            "justify_content": null,
            "justify_items": null,
            "left": null,
            "margin": null,
            "max_height": null,
            "max_width": null,
            "min_height": null,
            "min_width": null,
            "object_fit": null,
            "object_position": null,
            "order": null,
            "overflow": null,
            "overflow_x": null,
            "overflow_y": null,
            "padding": null,
            "right": null,
            "top": null,
            "visibility": null,
            "width": null
          }
        },
        "9f353c0fbf8647bc9fdce9c321112042": {
          "model_module": "@jupyter-widgets/controls",
          "model_name": "ProgressStyleModel",
          "model_module_version": "1.5.0",
          "state": {
            "_model_module": "@jupyter-widgets/controls",
            "_model_module_version": "1.5.0",
            "_model_name": "ProgressStyleModel",
            "_view_count": null,
            "_view_module": "@jupyter-widgets/base",
            "_view_module_version": "1.2.0",
            "_view_name": "StyleView",
            "bar_color": null,
            "description_width": ""
          }
        },
        "763986036d5c43bbaf6723cb01e28c9d": {
          "model_module": "@jupyter-widgets/controls",
          "model_name": "VBoxModel",
          "model_module_version": "1.5.0",
          "state": {
            "_dom_classes": [],
            "_model_module": "@jupyter-widgets/controls",
            "_model_module_version": "1.5.0",
            "_model_name": "VBoxModel",
            "_view_count": null,
            "_view_module": "@jupyter-widgets/controls",
            "_view_module_version": "1.5.0",
            "_view_name": "VBoxView",
            "box_style": "",
            "children": [
              "IPY_MODEL_766517ff572d445fa7eddfa923397e93",
              "IPY_MODEL_9ba13d002008471690712d63d911dc04"
            ],
            "layout": "IPY_MODEL_6f8a4a9e58aa4718ab66d6f63672d4b0"
          }
        },
        "766517ff572d445fa7eddfa923397e93": {
          "model_module": "@jupyter-widgets/controls",
          "model_name": "LabelModel",
          "model_module_version": "1.5.0",
          "state": {
            "_dom_classes": [],
            "_model_module": "@jupyter-widgets/controls",
            "_model_module_version": "1.5.0",
            "_model_name": "LabelModel",
            "_view_count": null,
            "_view_module": "@jupyter-widgets/controls",
            "_view_module_version": "1.5.0",
            "_view_name": "LabelView",
            "description": "",
            "description_tooltip": null,
            "layout": "IPY_MODEL_c28ceaa8622c47e18d65625536952074",
            "placeholder": "​",
            "style": "IPY_MODEL_dd12250017324294bdcbd406a58e75a3",
            "value": "0.009 MB of 0.009 MB uploaded (0.000 MB deduped)\r"
          }
        },
        "9ba13d002008471690712d63d911dc04": {
          "model_module": "@jupyter-widgets/controls",
          "model_name": "FloatProgressModel",
          "model_module_version": "1.5.0",
          "state": {
            "_dom_classes": [],
            "_model_module": "@jupyter-widgets/controls",
            "_model_module_version": "1.5.0",
            "_model_name": "FloatProgressModel",
            "_view_count": null,
            "_view_module": "@jupyter-widgets/controls",
            "_view_module_version": "1.5.0",
            "_view_name": "ProgressView",
            "bar_style": "",
            "description": "",
            "description_tooltip": null,
            "layout": "IPY_MODEL_162ca749643e43e2b3c45c535f530b04",
            "max": 1,
            "min": 0,
            "orientation": "horizontal",
            "style": "IPY_MODEL_8ae20a5b9fd04d068f9ae21ef0e2b481",
            "value": 1
          }
        },
        "6f8a4a9e58aa4718ab66d6f63672d4b0": {
          "model_module": "@jupyter-widgets/base",
          "model_name": "LayoutModel",
          "model_module_version": "1.2.0",
          "state": {
            "_model_module": "@jupyter-widgets/base",
            "_model_module_version": "1.2.0",
            "_model_name": "LayoutModel",
            "_view_count": null,
            "_view_module": "@jupyter-widgets/base",
            "_view_module_version": "1.2.0",
            "_view_name": "LayoutView",
            "align_content": null,
            "align_items": null,
            "align_self": null,
            "border": null,
            "bottom": null,
            "display": null,
            "flex": null,
            "flex_flow": null,
            "grid_area": null,
            "grid_auto_columns": null,
            "grid_auto_flow": null,
            "grid_auto_rows": null,
            "grid_column": null,
            "grid_gap": null,
            "grid_row": null,
            "grid_template_areas": null,
            "grid_template_columns": null,
            "grid_template_rows": null,
            "height": null,
            "justify_content": null,
            "justify_items": null,
            "left": null,
            "margin": null,
            "max_height": null,
            "max_width": null,
            "min_height": null,
            "min_width": null,
            "object_fit": null,
            "object_position": null,
            "order": null,
            "overflow": null,
            "overflow_x": null,
            "overflow_y": null,
            "padding": null,
            "right": null,
            "top": null,
            "visibility": null,
            "width": null
          }
        },
        "c28ceaa8622c47e18d65625536952074": {
          "model_module": "@jupyter-widgets/base",
          "model_name": "LayoutModel",
          "model_module_version": "1.2.0",
          "state": {
            "_model_module": "@jupyter-widgets/base",
            "_model_module_version": "1.2.0",
            "_model_name": "LayoutModel",
            "_view_count": null,
            "_view_module": "@jupyter-widgets/base",
            "_view_module_version": "1.2.0",
            "_view_name": "LayoutView",
            "align_content": null,
            "align_items": null,
            "align_self": null,
            "border": null,
            "bottom": null,
            "display": null,
            "flex": null,
            "flex_flow": null,
            "grid_area": null,
            "grid_auto_columns": null,
            "grid_auto_flow": null,
            "grid_auto_rows": null,
            "grid_column": null,
            "grid_gap": null,
            "grid_row": null,
            "grid_template_areas": null,
            "grid_template_columns": null,
            "grid_template_rows": null,
            "height": null,
            "justify_content": null,
            "justify_items": null,
            "left": null,
            "margin": null,
            "max_height": null,
            "max_width": null,
            "min_height": null,
            "min_width": null,
            "object_fit": null,
            "object_position": null,
            "order": null,
            "overflow": null,
            "overflow_x": null,
            "overflow_y": null,
            "padding": null,
            "right": null,
            "top": null,
            "visibility": null,
            "width": null
          }
        },
        "dd12250017324294bdcbd406a58e75a3": {
          "model_module": "@jupyter-widgets/controls",
          "model_name": "DescriptionStyleModel",
          "model_module_version": "1.5.0",
          "state": {
            "_model_module": "@jupyter-widgets/controls",
            "_model_module_version": "1.5.0",
            "_model_name": "DescriptionStyleModel",
            "_view_count": null,
            "_view_module": "@jupyter-widgets/base",
            "_view_module_version": "1.2.0",
            "_view_name": "StyleView",
            "description_width": ""
          }
        },
        "162ca749643e43e2b3c45c535f530b04": {
          "model_module": "@jupyter-widgets/base",
          "model_name": "LayoutModel",
          "model_module_version": "1.2.0",
          "state": {
            "_model_module": "@jupyter-widgets/base",
            "_model_module_version": "1.2.0",
            "_model_name": "LayoutModel",
            "_view_count": null,
            "_view_module": "@jupyter-widgets/base",
            "_view_module_version": "1.2.0",
            "_view_name": "LayoutView",
            "align_content": null,
            "align_items": null,
            "align_self": null,
            "border": null,
            "bottom": null,
            "display": null,
            "flex": null,
            "flex_flow": null,
            "grid_area": null,
            "grid_auto_columns": null,
            "grid_auto_flow": null,
            "grid_auto_rows": null,
            "grid_column": null,
            "grid_gap": null,
            "grid_row": null,
            "grid_template_areas": null,
            "grid_template_columns": null,
            "grid_template_rows": null,
            "height": null,
            "justify_content": null,
            "justify_items": null,
            "left": null,
            "margin": null,
            "max_height": null,
            "max_width": null,
            "min_height": null,
            "min_width": null,
            "object_fit": null,
            "object_position": null,
            "order": null,
            "overflow": null,
            "overflow_x": null,
            "overflow_y": null,
            "padding": null,
            "right": null,
            "top": null,
            "visibility": null,
            "width": null
          }
        },
        "8ae20a5b9fd04d068f9ae21ef0e2b481": {
          "model_module": "@jupyter-widgets/controls",
          "model_name": "ProgressStyleModel",
          "model_module_version": "1.5.0",
          "state": {
            "_model_module": "@jupyter-widgets/controls",
            "_model_module_version": "1.5.0",
            "_model_name": "ProgressStyleModel",
            "_view_count": null,
            "_view_module": "@jupyter-widgets/base",
            "_view_module_version": "1.2.0",
            "_view_name": "StyleView",
            "bar_color": null,
            "description_width": ""
          }
        },
        "394512b84e6d464994a93676c82fd2f3": {
          "model_module": "@jupyter-widgets/controls",
          "model_name": "VBoxModel",
          "model_module_version": "1.5.0",
          "state": {
            "_dom_classes": [],
            "_model_module": "@jupyter-widgets/controls",
            "_model_module_version": "1.5.0",
            "_model_name": "VBoxModel",
            "_view_count": null,
            "_view_module": "@jupyter-widgets/controls",
            "_view_module_version": "1.5.0",
            "_view_name": "VBoxView",
            "box_style": "",
            "children": [
              "IPY_MODEL_6f435d5e119e499e9c99f1a4168f119b",
              "IPY_MODEL_25660c03593e4be28b4e77d63a197705"
            ],
            "layout": "IPY_MODEL_05083af379704f9f951100560fcabd39"
          }
        },
        "6f435d5e119e499e9c99f1a4168f119b": {
          "model_module": "@jupyter-widgets/controls",
          "model_name": "LabelModel",
          "model_module_version": "1.5.0",
          "state": {
            "_dom_classes": [],
            "_model_module": "@jupyter-widgets/controls",
            "_model_module_version": "1.5.0",
            "_model_name": "LabelModel",
            "_view_count": null,
            "_view_module": "@jupyter-widgets/controls",
            "_view_module_version": "1.5.0",
            "_view_name": "LabelView",
            "description": "",
            "description_tooltip": null,
            "layout": "IPY_MODEL_28ed8989e3e44f6480c4a5353ac6ba5b",
            "placeholder": "​",
            "style": "IPY_MODEL_8c60dc0d8f154dff9af90a9fc9f6964e",
            "value": "0.009 MB of 0.009 MB uploaded (0.000 MB deduped)\r"
          }
        },
        "25660c03593e4be28b4e77d63a197705": {
          "model_module": "@jupyter-widgets/controls",
          "model_name": "FloatProgressModel",
          "model_module_version": "1.5.0",
          "state": {
            "_dom_classes": [],
            "_model_module": "@jupyter-widgets/controls",
            "_model_module_version": "1.5.0",
            "_model_name": "FloatProgressModel",
            "_view_count": null,
            "_view_module": "@jupyter-widgets/controls",
            "_view_module_version": "1.5.0",
            "_view_name": "ProgressView",
            "bar_style": "",
            "description": "",
            "description_tooltip": null,
            "layout": "IPY_MODEL_fe86296ce20d40d488eb08173923949a",
            "max": 1,
            "min": 0,
            "orientation": "horizontal",
            "style": "IPY_MODEL_285f6adf1f3d4cc3bf7ebd6618777999",
            "value": 1
          }
        },
        "05083af379704f9f951100560fcabd39": {
          "model_module": "@jupyter-widgets/base",
          "model_name": "LayoutModel",
          "model_module_version": "1.2.0",
          "state": {
            "_model_module": "@jupyter-widgets/base",
            "_model_module_version": "1.2.0",
            "_model_name": "LayoutModel",
            "_view_count": null,
            "_view_module": "@jupyter-widgets/base",
            "_view_module_version": "1.2.0",
            "_view_name": "LayoutView",
            "align_content": null,
            "align_items": null,
            "align_self": null,
            "border": null,
            "bottom": null,
            "display": null,
            "flex": null,
            "flex_flow": null,
            "grid_area": null,
            "grid_auto_columns": null,
            "grid_auto_flow": null,
            "grid_auto_rows": null,
            "grid_column": null,
            "grid_gap": null,
            "grid_row": null,
            "grid_template_areas": null,
            "grid_template_columns": null,
            "grid_template_rows": null,
            "height": null,
            "justify_content": null,
            "justify_items": null,
            "left": null,
            "margin": null,
            "max_height": null,
            "max_width": null,
            "min_height": null,
            "min_width": null,
            "object_fit": null,
            "object_position": null,
            "order": null,
            "overflow": null,
            "overflow_x": null,
            "overflow_y": null,
            "padding": null,
            "right": null,
            "top": null,
            "visibility": null,
            "width": null
          }
        },
        "28ed8989e3e44f6480c4a5353ac6ba5b": {
          "model_module": "@jupyter-widgets/base",
          "model_name": "LayoutModel",
          "model_module_version": "1.2.0",
          "state": {
            "_model_module": "@jupyter-widgets/base",
            "_model_module_version": "1.2.0",
            "_model_name": "LayoutModel",
            "_view_count": null,
            "_view_module": "@jupyter-widgets/base",
            "_view_module_version": "1.2.0",
            "_view_name": "LayoutView",
            "align_content": null,
            "align_items": null,
            "align_self": null,
            "border": null,
            "bottom": null,
            "display": null,
            "flex": null,
            "flex_flow": null,
            "grid_area": null,
            "grid_auto_columns": null,
            "grid_auto_flow": null,
            "grid_auto_rows": null,
            "grid_column": null,
            "grid_gap": null,
            "grid_row": null,
            "grid_template_areas": null,
            "grid_template_columns": null,
            "grid_template_rows": null,
            "height": null,
            "justify_content": null,
            "justify_items": null,
            "left": null,
            "margin": null,
            "max_height": null,
            "max_width": null,
            "min_height": null,
            "min_width": null,
            "object_fit": null,
            "object_position": null,
            "order": null,
            "overflow": null,
            "overflow_x": null,
            "overflow_y": null,
            "padding": null,
            "right": null,
            "top": null,
            "visibility": null,
            "width": null
          }
        },
        "8c60dc0d8f154dff9af90a9fc9f6964e": {
          "model_module": "@jupyter-widgets/controls",
          "model_name": "DescriptionStyleModel",
          "model_module_version": "1.5.0",
          "state": {
            "_model_module": "@jupyter-widgets/controls",
            "_model_module_version": "1.5.0",
            "_model_name": "DescriptionStyleModel",
            "_view_count": null,
            "_view_module": "@jupyter-widgets/base",
            "_view_module_version": "1.2.0",
            "_view_name": "StyleView",
            "description_width": ""
          }
        },
        "fe86296ce20d40d488eb08173923949a": {
          "model_module": "@jupyter-widgets/base",
          "model_name": "LayoutModel",
          "model_module_version": "1.2.0",
          "state": {
            "_model_module": "@jupyter-widgets/base",
            "_model_module_version": "1.2.0",
            "_model_name": "LayoutModel",
            "_view_count": null,
            "_view_module": "@jupyter-widgets/base",
            "_view_module_version": "1.2.0",
            "_view_name": "LayoutView",
            "align_content": null,
            "align_items": null,
            "align_self": null,
            "border": null,
            "bottom": null,
            "display": null,
            "flex": null,
            "flex_flow": null,
            "grid_area": null,
            "grid_auto_columns": null,
            "grid_auto_flow": null,
            "grid_auto_rows": null,
            "grid_column": null,
            "grid_gap": null,
            "grid_row": null,
            "grid_template_areas": null,
            "grid_template_columns": null,
            "grid_template_rows": null,
            "height": null,
            "justify_content": null,
            "justify_items": null,
            "left": null,
            "margin": null,
            "max_height": null,
            "max_width": null,
            "min_height": null,
            "min_width": null,
            "object_fit": null,
            "object_position": null,
            "order": null,
            "overflow": null,
            "overflow_x": null,
            "overflow_y": null,
            "padding": null,
            "right": null,
            "top": null,
            "visibility": null,
            "width": null
          }
        },
        "285f6adf1f3d4cc3bf7ebd6618777999": {
          "model_module": "@jupyter-widgets/controls",
          "model_name": "ProgressStyleModel",
          "model_module_version": "1.5.0",
          "state": {
            "_model_module": "@jupyter-widgets/controls",
            "_model_module_version": "1.5.0",
            "_model_name": "ProgressStyleModel",
            "_view_count": null,
            "_view_module": "@jupyter-widgets/base",
            "_view_module_version": "1.2.0",
            "_view_name": "StyleView",
            "bar_color": null,
            "description_width": ""
          }
        },
        "73628cd3783b4bb4929acd5e338c0662": {
          "model_module": "@jupyter-widgets/controls",
          "model_name": "VBoxModel",
          "model_module_version": "1.5.0",
          "state": {
            "_dom_classes": [],
            "_model_module": "@jupyter-widgets/controls",
            "_model_module_version": "1.5.0",
            "_model_name": "VBoxModel",
            "_view_count": null,
            "_view_module": "@jupyter-widgets/controls",
            "_view_module_version": "1.5.0",
            "_view_name": "VBoxView",
            "box_style": "",
            "children": [
              "IPY_MODEL_09b7034f6f0e44df85ade04db82eef2f",
              "IPY_MODEL_6f757a8b07924fee9207f534d6573e32"
            ],
            "layout": "IPY_MODEL_f4e2c80b9f2b49f5a05fcbecac3e7533"
          }
        },
        "09b7034f6f0e44df85ade04db82eef2f": {
          "model_module": "@jupyter-widgets/controls",
          "model_name": "LabelModel",
          "model_module_version": "1.5.0",
          "state": {
            "_dom_classes": [],
            "_model_module": "@jupyter-widgets/controls",
            "_model_module_version": "1.5.0",
            "_model_name": "LabelModel",
            "_view_count": null,
            "_view_module": "@jupyter-widgets/controls",
            "_view_module_version": "1.5.0",
            "_view_name": "LabelView",
            "description": "",
            "description_tooltip": null,
            "layout": "IPY_MODEL_69fe494f048d4f76bfe7f0a7120eff21",
            "placeholder": "​",
            "style": "IPY_MODEL_d9c87339cb5b4dfdba7040428651852b",
            "value": "0.009 MB of 0.009 MB uploaded (0.000 MB deduped)\r"
          }
        },
        "6f757a8b07924fee9207f534d6573e32": {
          "model_module": "@jupyter-widgets/controls",
          "model_name": "FloatProgressModel",
          "model_module_version": "1.5.0",
          "state": {
            "_dom_classes": [],
            "_model_module": "@jupyter-widgets/controls",
            "_model_module_version": "1.5.0",
            "_model_name": "FloatProgressModel",
            "_view_count": null,
            "_view_module": "@jupyter-widgets/controls",
            "_view_module_version": "1.5.0",
            "_view_name": "ProgressView",
            "bar_style": "",
            "description": "",
            "description_tooltip": null,
            "layout": "IPY_MODEL_c2b4e5dad2e14fa19627ee8cff5bb54c",
            "max": 1,
            "min": 0,
            "orientation": "horizontal",
            "style": "IPY_MODEL_d432fc8ab4f141499fadcb71f6ab0d07",
            "value": 1
          }
        },
        "f4e2c80b9f2b49f5a05fcbecac3e7533": {
          "model_module": "@jupyter-widgets/base",
          "model_name": "LayoutModel",
          "model_module_version": "1.2.0",
          "state": {
            "_model_module": "@jupyter-widgets/base",
            "_model_module_version": "1.2.0",
            "_model_name": "LayoutModel",
            "_view_count": null,
            "_view_module": "@jupyter-widgets/base",
            "_view_module_version": "1.2.0",
            "_view_name": "LayoutView",
            "align_content": null,
            "align_items": null,
            "align_self": null,
            "border": null,
            "bottom": null,
            "display": null,
            "flex": null,
            "flex_flow": null,
            "grid_area": null,
            "grid_auto_columns": null,
            "grid_auto_flow": null,
            "grid_auto_rows": null,
            "grid_column": null,
            "grid_gap": null,
            "grid_row": null,
            "grid_template_areas": null,
            "grid_template_columns": null,
            "grid_template_rows": null,
            "height": null,
            "justify_content": null,
            "justify_items": null,
            "left": null,
            "margin": null,
            "max_height": null,
            "max_width": null,
            "min_height": null,
            "min_width": null,
            "object_fit": null,
            "object_position": null,
            "order": null,
            "overflow": null,
            "overflow_x": null,
            "overflow_y": null,
            "padding": null,
            "right": null,
            "top": null,
            "visibility": null,
            "width": null
          }
        },
        "69fe494f048d4f76bfe7f0a7120eff21": {
          "model_module": "@jupyter-widgets/base",
          "model_name": "LayoutModel",
          "model_module_version": "1.2.0",
          "state": {
            "_model_module": "@jupyter-widgets/base",
            "_model_module_version": "1.2.0",
            "_model_name": "LayoutModel",
            "_view_count": null,
            "_view_module": "@jupyter-widgets/base",
            "_view_module_version": "1.2.0",
            "_view_name": "LayoutView",
            "align_content": null,
            "align_items": null,
            "align_self": null,
            "border": null,
            "bottom": null,
            "display": null,
            "flex": null,
            "flex_flow": null,
            "grid_area": null,
            "grid_auto_columns": null,
            "grid_auto_flow": null,
            "grid_auto_rows": null,
            "grid_column": null,
            "grid_gap": null,
            "grid_row": null,
            "grid_template_areas": null,
            "grid_template_columns": null,
            "grid_template_rows": null,
            "height": null,
            "justify_content": null,
            "justify_items": null,
            "left": null,
            "margin": null,
            "max_height": null,
            "max_width": null,
            "min_height": null,
            "min_width": null,
            "object_fit": null,
            "object_position": null,
            "order": null,
            "overflow": null,
            "overflow_x": null,
            "overflow_y": null,
            "padding": null,
            "right": null,
            "top": null,
            "visibility": null,
            "width": null
          }
        },
        "d9c87339cb5b4dfdba7040428651852b": {
          "model_module": "@jupyter-widgets/controls",
          "model_name": "DescriptionStyleModel",
          "model_module_version": "1.5.0",
          "state": {
            "_model_module": "@jupyter-widgets/controls",
            "_model_module_version": "1.5.0",
            "_model_name": "DescriptionStyleModel",
            "_view_count": null,
            "_view_module": "@jupyter-widgets/base",
            "_view_module_version": "1.2.0",
            "_view_name": "StyleView",
            "description_width": ""
          }
        },
        "c2b4e5dad2e14fa19627ee8cff5bb54c": {
          "model_module": "@jupyter-widgets/base",
          "model_name": "LayoutModel",
          "model_module_version": "1.2.0",
          "state": {
            "_model_module": "@jupyter-widgets/base",
            "_model_module_version": "1.2.0",
            "_model_name": "LayoutModel",
            "_view_count": null,
            "_view_module": "@jupyter-widgets/base",
            "_view_module_version": "1.2.0",
            "_view_name": "LayoutView",
            "align_content": null,
            "align_items": null,
            "align_self": null,
            "border": null,
            "bottom": null,
            "display": null,
            "flex": null,
            "flex_flow": null,
            "grid_area": null,
            "grid_auto_columns": null,
            "grid_auto_flow": null,
            "grid_auto_rows": null,
            "grid_column": null,
            "grid_gap": null,
            "grid_row": null,
            "grid_template_areas": null,
            "grid_template_columns": null,
            "grid_template_rows": null,
            "height": null,
            "justify_content": null,
            "justify_items": null,
            "left": null,
            "margin": null,
            "max_height": null,
            "max_width": null,
            "min_height": null,
            "min_width": null,
            "object_fit": null,
            "object_position": null,
            "order": null,
            "overflow": null,
            "overflow_x": null,
            "overflow_y": null,
            "padding": null,
            "right": null,
            "top": null,
            "visibility": null,
            "width": null
          }
        },
        "d432fc8ab4f141499fadcb71f6ab0d07": {
          "model_module": "@jupyter-widgets/controls",
          "model_name": "ProgressStyleModel",
          "model_module_version": "1.5.0",
          "state": {
            "_model_module": "@jupyter-widgets/controls",
            "_model_module_version": "1.5.0",
            "_model_name": "ProgressStyleModel",
            "_view_count": null,
            "_view_module": "@jupyter-widgets/base",
            "_view_module_version": "1.2.0",
            "_view_name": "StyleView",
            "bar_color": null,
            "description_width": ""
          }
        },
        "ed440cc09d4d484ea0057d022b1eb5b8": {
          "model_module": "@jupyter-widgets/controls",
          "model_name": "VBoxModel",
          "model_module_version": "1.5.0",
          "state": {
            "_dom_classes": [],
            "_model_module": "@jupyter-widgets/controls",
            "_model_module_version": "1.5.0",
            "_model_name": "VBoxModel",
            "_view_count": null,
            "_view_module": "@jupyter-widgets/controls",
            "_view_module_version": "1.5.0",
            "_view_name": "VBoxView",
            "box_style": "",
            "children": [
              "IPY_MODEL_420f474d35c84a549de62af2ee9242bb",
              "IPY_MODEL_1915d7bf55b746c4b738ff4da4fbcd5b"
            ],
            "layout": "IPY_MODEL_02bf04cef52549a6a4fe51cad6f40ea8"
          }
        },
        "420f474d35c84a549de62af2ee9242bb": {
          "model_module": "@jupyter-widgets/controls",
          "model_name": "LabelModel",
          "model_module_version": "1.5.0",
          "state": {
            "_dom_classes": [],
            "_model_module": "@jupyter-widgets/controls",
            "_model_module_version": "1.5.0",
            "_model_name": "LabelModel",
            "_view_count": null,
            "_view_module": "@jupyter-widgets/controls",
            "_view_module_version": "1.5.0",
            "_view_name": "LabelView",
            "description": "",
            "description_tooltip": null,
            "layout": "IPY_MODEL_c0db81277c9e48b5bf65beba37413ec0",
            "placeholder": "​",
            "style": "IPY_MODEL_a8b45c20e90c4d96b201978701e138d5",
            "value": "0.009 MB of 0.009 MB uploaded (0.000 MB deduped)\r"
          }
        },
        "1915d7bf55b746c4b738ff4da4fbcd5b": {
          "model_module": "@jupyter-widgets/controls",
          "model_name": "FloatProgressModel",
          "model_module_version": "1.5.0",
          "state": {
            "_dom_classes": [],
            "_model_module": "@jupyter-widgets/controls",
            "_model_module_version": "1.5.0",
            "_model_name": "FloatProgressModel",
            "_view_count": null,
            "_view_module": "@jupyter-widgets/controls",
            "_view_module_version": "1.5.0",
            "_view_name": "ProgressView",
            "bar_style": "",
            "description": "",
            "description_tooltip": null,
            "layout": "IPY_MODEL_656a73958864450da343dcbd016510dc",
            "max": 1,
            "min": 0,
            "orientation": "horizontal",
            "style": "IPY_MODEL_e62334af38344191acd5773ee564ce7b",
            "value": 1
          }
        },
        "02bf04cef52549a6a4fe51cad6f40ea8": {
          "model_module": "@jupyter-widgets/base",
          "model_name": "LayoutModel",
          "model_module_version": "1.2.0",
          "state": {
            "_model_module": "@jupyter-widgets/base",
            "_model_module_version": "1.2.0",
            "_model_name": "LayoutModel",
            "_view_count": null,
            "_view_module": "@jupyter-widgets/base",
            "_view_module_version": "1.2.0",
            "_view_name": "LayoutView",
            "align_content": null,
            "align_items": null,
            "align_self": null,
            "border": null,
            "bottom": null,
            "display": null,
            "flex": null,
            "flex_flow": null,
            "grid_area": null,
            "grid_auto_columns": null,
            "grid_auto_flow": null,
            "grid_auto_rows": null,
            "grid_column": null,
            "grid_gap": null,
            "grid_row": null,
            "grid_template_areas": null,
            "grid_template_columns": null,
            "grid_template_rows": null,
            "height": null,
            "justify_content": null,
            "justify_items": null,
            "left": null,
            "margin": null,
            "max_height": null,
            "max_width": null,
            "min_height": null,
            "min_width": null,
            "object_fit": null,
            "object_position": null,
            "order": null,
            "overflow": null,
            "overflow_x": null,
            "overflow_y": null,
            "padding": null,
            "right": null,
            "top": null,
            "visibility": null,
            "width": null
          }
        },
        "c0db81277c9e48b5bf65beba37413ec0": {
          "model_module": "@jupyter-widgets/base",
          "model_name": "LayoutModel",
          "model_module_version": "1.2.0",
          "state": {
            "_model_module": "@jupyter-widgets/base",
            "_model_module_version": "1.2.0",
            "_model_name": "LayoutModel",
            "_view_count": null,
            "_view_module": "@jupyter-widgets/base",
            "_view_module_version": "1.2.0",
            "_view_name": "LayoutView",
            "align_content": null,
            "align_items": null,
            "align_self": null,
            "border": null,
            "bottom": null,
            "display": null,
            "flex": null,
            "flex_flow": null,
            "grid_area": null,
            "grid_auto_columns": null,
            "grid_auto_flow": null,
            "grid_auto_rows": null,
            "grid_column": null,
            "grid_gap": null,
            "grid_row": null,
            "grid_template_areas": null,
            "grid_template_columns": null,
            "grid_template_rows": null,
            "height": null,
            "justify_content": null,
            "justify_items": null,
            "left": null,
            "margin": null,
            "max_height": null,
            "max_width": null,
            "min_height": null,
            "min_width": null,
            "object_fit": null,
            "object_position": null,
            "order": null,
            "overflow": null,
            "overflow_x": null,
            "overflow_y": null,
            "padding": null,
            "right": null,
            "top": null,
            "visibility": null,
            "width": null
          }
        },
        "a8b45c20e90c4d96b201978701e138d5": {
          "model_module": "@jupyter-widgets/controls",
          "model_name": "DescriptionStyleModel",
          "model_module_version": "1.5.0",
          "state": {
            "_model_module": "@jupyter-widgets/controls",
            "_model_module_version": "1.5.0",
            "_model_name": "DescriptionStyleModel",
            "_view_count": null,
            "_view_module": "@jupyter-widgets/base",
            "_view_module_version": "1.2.0",
            "_view_name": "StyleView",
            "description_width": ""
          }
        },
        "656a73958864450da343dcbd016510dc": {
          "model_module": "@jupyter-widgets/base",
          "model_name": "LayoutModel",
          "model_module_version": "1.2.0",
          "state": {
            "_model_module": "@jupyter-widgets/base",
            "_model_module_version": "1.2.0",
            "_model_name": "LayoutModel",
            "_view_count": null,
            "_view_module": "@jupyter-widgets/base",
            "_view_module_version": "1.2.0",
            "_view_name": "LayoutView",
            "align_content": null,
            "align_items": null,
            "align_self": null,
            "border": null,
            "bottom": null,
            "display": null,
            "flex": null,
            "flex_flow": null,
            "grid_area": null,
            "grid_auto_columns": null,
            "grid_auto_flow": null,
            "grid_auto_rows": null,
            "grid_column": null,
            "grid_gap": null,
            "grid_row": null,
            "grid_template_areas": null,
            "grid_template_columns": null,
            "grid_template_rows": null,
            "height": null,
            "justify_content": null,
            "justify_items": null,
            "left": null,
            "margin": null,
            "max_height": null,
            "max_width": null,
            "min_height": null,
            "min_width": null,
            "object_fit": null,
            "object_position": null,
            "order": null,
            "overflow": null,
            "overflow_x": null,
            "overflow_y": null,
            "padding": null,
            "right": null,
            "top": null,
            "visibility": null,
            "width": null
          }
        },
        "e62334af38344191acd5773ee564ce7b": {
          "model_module": "@jupyter-widgets/controls",
          "model_name": "ProgressStyleModel",
          "model_module_version": "1.5.0",
          "state": {
            "_model_module": "@jupyter-widgets/controls",
            "_model_module_version": "1.5.0",
            "_model_name": "ProgressStyleModel",
            "_view_count": null,
            "_view_module": "@jupyter-widgets/base",
            "_view_module_version": "1.2.0",
            "_view_name": "StyleView",
            "bar_color": null,
            "description_width": ""
          }
        },
        "70229ff920ae47bf9d9a31ceb0fc490e": {
          "model_module": "@jupyter-widgets/controls",
          "model_name": "VBoxModel",
          "model_module_version": "1.5.0",
          "state": {
            "_dom_classes": [],
            "_model_module": "@jupyter-widgets/controls",
            "_model_module_version": "1.5.0",
            "_model_name": "VBoxModel",
            "_view_count": null,
            "_view_module": "@jupyter-widgets/controls",
            "_view_module_version": "1.5.0",
            "_view_name": "VBoxView",
            "box_style": "",
            "children": [
              "IPY_MODEL_19ebf0c875b9413295b0510b224d522c",
              "IPY_MODEL_95fa6294be7e45ec975a175956a3f18c"
            ],
            "layout": "IPY_MODEL_7975cd23fca34953b2bf47bc3d15334a"
          }
        },
        "19ebf0c875b9413295b0510b224d522c": {
          "model_module": "@jupyter-widgets/controls",
          "model_name": "LabelModel",
          "model_module_version": "1.5.0",
          "state": {
            "_dom_classes": [],
            "_model_module": "@jupyter-widgets/controls",
            "_model_module_version": "1.5.0",
            "_model_name": "LabelModel",
            "_view_count": null,
            "_view_module": "@jupyter-widgets/controls",
            "_view_module_version": "1.5.0",
            "_view_name": "LabelView",
            "description": "",
            "description_tooltip": null,
            "layout": "IPY_MODEL_e16395b1dfd94c6ab235548c16867f92",
            "placeholder": "​",
            "style": "IPY_MODEL_4f4bcfea1fc14697b92113a5a286a5cf",
            "value": "0.009 MB of 0.009 MB uploaded (0.000 MB deduped)\r"
          }
        },
        "95fa6294be7e45ec975a175956a3f18c": {
          "model_module": "@jupyter-widgets/controls",
          "model_name": "FloatProgressModel",
          "model_module_version": "1.5.0",
          "state": {
            "_dom_classes": [],
            "_model_module": "@jupyter-widgets/controls",
            "_model_module_version": "1.5.0",
            "_model_name": "FloatProgressModel",
            "_view_count": null,
            "_view_module": "@jupyter-widgets/controls",
            "_view_module_version": "1.5.0",
            "_view_name": "ProgressView",
            "bar_style": "",
            "description": "",
            "description_tooltip": null,
            "layout": "IPY_MODEL_8761dd9fc45546c29c4b836708e4ec8e",
            "max": 1,
            "min": 0,
            "orientation": "horizontal",
            "style": "IPY_MODEL_3b019b74ef8141af827156ff9c2e720a",
            "value": 1
          }
        },
        "7975cd23fca34953b2bf47bc3d15334a": {
          "model_module": "@jupyter-widgets/base",
          "model_name": "LayoutModel",
          "model_module_version": "1.2.0",
          "state": {
            "_model_module": "@jupyter-widgets/base",
            "_model_module_version": "1.2.0",
            "_model_name": "LayoutModel",
            "_view_count": null,
            "_view_module": "@jupyter-widgets/base",
            "_view_module_version": "1.2.0",
            "_view_name": "LayoutView",
            "align_content": null,
            "align_items": null,
            "align_self": null,
            "border": null,
            "bottom": null,
            "display": null,
            "flex": null,
            "flex_flow": null,
            "grid_area": null,
            "grid_auto_columns": null,
            "grid_auto_flow": null,
            "grid_auto_rows": null,
            "grid_column": null,
            "grid_gap": null,
            "grid_row": null,
            "grid_template_areas": null,
            "grid_template_columns": null,
            "grid_template_rows": null,
            "height": null,
            "justify_content": null,
            "justify_items": null,
            "left": null,
            "margin": null,
            "max_height": null,
            "max_width": null,
            "min_height": null,
            "min_width": null,
            "object_fit": null,
            "object_position": null,
            "order": null,
            "overflow": null,
            "overflow_x": null,
            "overflow_y": null,
            "padding": null,
            "right": null,
            "top": null,
            "visibility": null,
            "width": null
          }
        },
        "e16395b1dfd94c6ab235548c16867f92": {
          "model_module": "@jupyter-widgets/base",
          "model_name": "LayoutModel",
          "model_module_version": "1.2.0",
          "state": {
            "_model_module": "@jupyter-widgets/base",
            "_model_module_version": "1.2.0",
            "_model_name": "LayoutModel",
            "_view_count": null,
            "_view_module": "@jupyter-widgets/base",
            "_view_module_version": "1.2.0",
            "_view_name": "LayoutView",
            "align_content": null,
            "align_items": null,
            "align_self": null,
            "border": null,
            "bottom": null,
            "display": null,
            "flex": null,
            "flex_flow": null,
            "grid_area": null,
            "grid_auto_columns": null,
            "grid_auto_flow": null,
            "grid_auto_rows": null,
            "grid_column": null,
            "grid_gap": null,
            "grid_row": null,
            "grid_template_areas": null,
            "grid_template_columns": null,
            "grid_template_rows": null,
            "height": null,
            "justify_content": null,
            "justify_items": null,
            "left": null,
            "margin": null,
            "max_height": null,
            "max_width": null,
            "min_height": null,
            "min_width": null,
            "object_fit": null,
            "object_position": null,
            "order": null,
            "overflow": null,
            "overflow_x": null,
            "overflow_y": null,
            "padding": null,
            "right": null,
            "top": null,
            "visibility": null,
            "width": null
          }
        },
        "4f4bcfea1fc14697b92113a5a286a5cf": {
          "model_module": "@jupyter-widgets/controls",
          "model_name": "DescriptionStyleModel",
          "model_module_version": "1.5.0",
          "state": {
            "_model_module": "@jupyter-widgets/controls",
            "_model_module_version": "1.5.0",
            "_model_name": "DescriptionStyleModel",
            "_view_count": null,
            "_view_module": "@jupyter-widgets/base",
            "_view_module_version": "1.2.0",
            "_view_name": "StyleView",
            "description_width": ""
          }
        },
        "8761dd9fc45546c29c4b836708e4ec8e": {
          "model_module": "@jupyter-widgets/base",
          "model_name": "LayoutModel",
          "model_module_version": "1.2.0",
          "state": {
            "_model_module": "@jupyter-widgets/base",
            "_model_module_version": "1.2.0",
            "_model_name": "LayoutModel",
            "_view_count": null,
            "_view_module": "@jupyter-widgets/base",
            "_view_module_version": "1.2.0",
            "_view_name": "LayoutView",
            "align_content": null,
            "align_items": null,
            "align_self": null,
            "border": null,
            "bottom": null,
            "display": null,
            "flex": null,
            "flex_flow": null,
            "grid_area": null,
            "grid_auto_columns": null,
            "grid_auto_flow": null,
            "grid_auto_rows": null,
            "grid_column": null,
            "grid_gap": null,
            "grid_row": null,
            "grid_template_areas": null,
            "grid_template_columns": null,
            "grid_template_rows": null,
            "height": null,
            "justify_content": null,
            "justify_items": null,
            "left": null,
            "margin": null,
            "max_height": null,
            "max_width": null,
            "min_height": null,
            "min_width": null,
            "object_fit": null,
            "object_position": null,
            "order": null,
            "overflow": null,
            "overflow_x": null,
            "overflow_y": null,
            "padding": null,
            "right": null,
            "top": null,
            "visibility": null,
            "width": null
          }
        },
        "3b019b74ef8141af827156ff9c2e720a": {
          "model_module": "@jupyter-widgets/controls",
          "model_name": "ProgressStyleModel",
          "model_module_version": "1.5.0",
          "state": {
            "_model_module": "@jupyter-widgets/controls",
            "_model_module_version": "1.5.0",
            "_model_name": "ProgressStyleModel",
            "_view_count": null,
            "_view_module": "@jupyter-widgets/base",
            "_view_module_version": "1.2.0",
            "_view_name": "StyleView",
            "bar_color": null,
            "description_width": ""
          }
        },
        "427dff9df1d0424295b3f486ea167c41": {
          "model_module": "@jupyter-widgets/controls",
          "model_name": "VBoxModel",
          "model_module_version": "1.5.0",
          "state": {
            "_dom_classes": [],
            "_model_module": "@jupyter-widgets/controls",
            "_model_module_version": "1.5.0",
            "_model_name": "VBoxModel",
            "_view_count": null,
            "_view_module": "@jupyter-widgets/controls",
            "_view_module_version": "1.5.0",
            "_view_name": "VBoxView",
            "box_style": "",
            "children": [
              "IPY_MODEL_d89056c15da84ddaa4b039cbe4462272",
              "IPY_MODEL_9802c06a65cd42a1b795db46311ecacb"
            ],
            "layout": "IPY_MODEL_603dd4675b8946028a4555f9fb783c8d"
          }
        },
        "d89056c15da84ddaa4b039cbe4462272": {
          "model_module": "@jupyter-widgets/controls",
          "model_name": "LabelModel",
          "model_module_version": "1.5.0",
          "state": {
            "_dom_classes": [],
            "_model_module": "@jupyter-widgets/controls",
            "_model_module_version": "1.5.0",
            "_model_name": "LabelModel",
            "_view_count": null,
            "_view_module": "@jupyter-widgets/controls",
            "_view_module_version": "1.5.0",
            "_view_name": "LabelView",
            "description": "",
            "description_tooltip": null,
            "layout": "IPY_MODEL_f3c70b51d1194b4fb947779bb386bebe",
            "placeholder": "​",
            "style": "IPY_MODEL_d468f8b67b9d4fc9af387974d9021410",
            "value": "0.009 MB of 0.009 MB uploaded (0.000 MB deduped)\r"
          }
        },
        "9802c06a65cd42a1b795db46311ecacb": {
          "model_module": "@jupyter-widgets/controls",
          "model_name": "FloatProgressModel",
          "model_module_version": "1.5.0",
          "state": {
            "_dom_classes": [],
            "_model_module": "@jupyter-widgets/controls",
            "_model_module_version": "1.5.0",
            "_model_name": "FloatProgressModel",
            "_view_count": null,
            "_view_module": "@jupyter-widgets/controls",
            "_view_module_version": "1.5.0",
            "_view_name": "ProgressView",
            "bar_style": "",
            "description": "",
            "description_tooltip": null,
            "layout": "IPY_MODEL_408eb2b7e1394a23a51625ebdb928080",
            "max": 1,
            "min": 0,
            "orientation": "horizontal",
            "style": "IPY_MODEL_e0ebf09649a44e6c9776e84dc050c4db",
            "value": 1
          }
        },
        "603dd4675b8946028a4555f9fb783c8d": {
          "model_module": "@jupyter-widgets/base",
          "model_name": "LayoutModel",
          "model_module_version": "1.2.0",
          "state": {
            "_model_module": "@jupyter-widgets/base",
            "_model_module_version": "1.2.0",
            "_model_name": "LayoutModel",
            "_view_count": null,
            "_view_module": "@jupyter-widgets/base",
            "_view_module_version": "1.2.0",
            "_view_name": "LayoutView",
            "align_content": null,
            "align_items": null,
            "align_self": null,
            "border": null,
            "bottom": null,
            "display": null,
            "flex": null,
            "flex_flow": null,
            "grid_area": null,
            "grid_auto_columns": null,
            "grid_auto_flow": null,
            "grid_auto_rows": null,
            "grid_column": null,
            "grid_gap": null,
            "grid_row": null,
            "grid_template_areas": null,
            "grid_template_columns": null,
            "grid_template_rows": null,
            "height": null,
            "justify_content": null,
            "justify_items": null,
            "left": null,
            "margin": null,
            "max_height": null,
            "max_width": null,
            "min_height": null,
            "min_width": null,
            "object_fit": null,
            "object_position": null,
            "order": null,
            "overflow": null,
            "overflow_x": null,
            "overflow_y": null,
            "padding": null,
            "right": null,
            "top": null,
            "visibility": null,
            "width": null
          }
        },
        "f3c70b51d1194b4fb947779bb386bebe": {
          "model_module": "@jupyter-widgets/base",
          "model_name": "LayoutModel",
          "model_module_version": "1.2.0",
          "state": {
            "_model_module": "@jupyter-widgets/base",
            "_model_module_version": "1.2.0",
            "_model_name": "LayoutModel",
            "_view_count": null,
            "_view_module": "@jupyter-widgets/base",
            "_view_module_version": "1.2.0",
            "_view_name": "LayoutView",
            "align_content": null,
            "align_items": null,
            "align_self": null,
            "border": null,
            "bottom": null,
            "display": null,
            "flex": null,
            "flex_flow": null,
            "grid_area": null,
            "grid_auto_columns": null,
            "grid_auto_flow": null,
            "grid_auto_rows": null,
            "grid_column": null,
            "grid_gap": null,
            "grid_row": null,
            "grid_template_areas": null,
            "grid_template_columns": null,
            "grid_template_rows": null,
            "height": null,
            "justify_content": null,
            "justify_items": null,
            "left": null,
            "margin": null,
            "max_height": null,
            "max_width": null,
            "min_height": null,
            "min_width": null,
            "object_fit": null,
            "object_position": null,
            "order": null,
            "overflow": null,
            "overflow_x": null,
            "overflow_y": null,
            "padding": null,
            "right": null,
            "top": null,
            "visibility": null,
            "width": null
          }
        },
        "d468f8b67b9d4fc9af387974d9021410": {
          "model_module": "@jupyter-widgets/controls",
          "model_name": "DescriptionStyleModel",
          "model_module_version": "1.5.0",
          "state": {
            "_model_module": "@jupyter-widgets/controls",
            "_model_module_version": "1.5.0",
            "_model_name": "DescriptionStyleModel",
            "_view_count": null,
            "_view_module": "@jupyter-widgets/base",
            "_view_module_version": "1.2.0",
            "_view_name": "StyleView",
            "description_width": ""
          }
        },
        "408eb2b7e1394a23a51625ebdb928080": {
          "model_module": "@jupyter-widgets/base",
          "model_name": "LayoutModel",
          "model_module_version": "1.2.0",
          "state": {
            "_model_module": "@jupyter-widgets/base",
            "_model_module_version": "1.2.0",
            "_model_name": "LayoutModel",
            "_view_count": null,
            "_view_module": "@jupyter-widgets/base",
            "_view_module_version": "1.2.0",
            "_view_name": "LayoutView",
            "align_content": null,
            "align_items": null,
            "align_self": null,
            "border": null,
            "bottom": null,
            "display": null,
            "flex": null,
            "flex_flow": null,
            "grid_area": null,
            "grid_auto_columns": null,
            "grid_auto_flow": null,
            "grid_auto_rows": null,
            "grid_column": null,
            "grid_gap": null,
            "grid_row": null,
            "grid_template_areas": null,
            "grid_template_columns": null,
            "grid_template_rows": null,
            "height": null,
            "justify_content": null,
            "justify_items": null,
            "left": null,
            "margin": null,
            "max_height": null,
            "max_width": null,
            "min_height": null,
            "min_width": null,
            "object_fit": null,
            "object_position": null,
            "order": null,
            "overflow": null,
            "overflow_x": null,
            "overflow_y": null,
            "padding": null,
            "right": null,
            "top": null,
            "visibility": null,
            "width": null
          }
        },
        "e0ebf09649a44e6c9776e84dc050c4db": {
          "model_module": "@jupyter-widgets/controls",
          "model_name": "ProgressStyleModel",
          "model_module_version": "1.5.0",
          "state": {
            "_model_module": "@jupyter-widgets/controls",
            "_model_module_version": "1.5.0",
            "_model_name": "ProgressStyleModel",
            "_view_count": null,
            "_view_module": "@jupyter-widgets/base",
            "_view_module_version": "1.2.0",
            "_view_name": "StyleView",
            "bar_color": null,
            "description_width": ""
          }
        },
        "37515ecd2a3a4982abb2a52299d3533a": {
          "model_module": "@jupyter-widgets/controls",
          "model_name": "VBoxModel",
          "model_module_version": "1.5.0",
          "state": {
            "_dom_classes": [],
            "_model_module": "@jupyter-widgets/controls",
            "_model_module_version": "1.5.0",
            "_model_name": "VBoxModel",
            "_view_count": null,
            "_view_module": "@jupyter-widgets/controls",
            "_view_module_version": "1.5.0",
            "_view_name": "VBoxView",
            "box_style": "",
            "children": [
              "IPY_MODEL_65e8bc84a6e648f4a71a4cd72bed87f1",
              "IPY_MODEL_fd249497b5704916bc87b78802120a86"
            ],
            "layout": "IPY_MODEL_4d6c699ad3834cc7b227eec12cdea149"
          }
        },
        "65e8bc84a6e648f4a71a4cd72bed87f1": {
          "model_module": "@jupyter-widgets/controls",
          "model_name": "LabelModel",
          "model_module_version": "1.5.0",
          "state": {
            "_dom_classes": [],
            "_model_module": "@jupyter-widgets/controls",
            "_model_module_version": "1.5.0",
            "_model_name": "LabelModel",
            "_view_count": null,
            "_view_module": "@jupyter-widgets/controls",
            "_view_module_version": "1.5.0",
            "_view_name": "LabelView",
            "description": "",
            "description_tooltip": null,
            "layout": "IPY_MODEL_bdb09a9150074fc4ae6319da970d2f33",
            "placeholder": "​",
            "style": "IPY_MODEL_5b61a09e3f394f2bac4d3a8ef653e272",
            "value": "0.009 MB of 0.009 MB uploaded (0.000 MB deduped)\r"
          }
        },
        "fd249497b5704916bc87b78802120a86": {
          "model_module": "@jupyter-widgets/controls",
          "model_name": "FloatProgressModel",
          "model_module_version": "1.5.0",
          "state": {
            "_dom_classes": [],
            "_model_module": "@jupyter-widgets/controls",
            "_model_module_version": "1.5.0",
            "_model_name": "FloatProgressModel",
            "_view_count": null,
            "_view_module": "@jupyter-widgets/controls",
            "_view_module_version": "1.5.0",
            "_view_name": "ProgressView",
            "bar_style": "",
            "description": "",
            "description_tooltip": null,
            "layout": "IPY_MODEL_10f9d208382c4ea3a768dd41238bcd0d",
            "max": 1,
            "min": 0,
            "orientation": "horizontal",
            "style": "IPY_MODEL_a7e16cbdd5254bb7ac9062dafe7c33db",
            "value": 1
          }
        },
        "4d6c699ad3834cc7b227eec12cdea149": {
          "model_module": "@jupyter-widgets/base",
          "model_name": "LayoutModel",
          "model_module_version": "1.2.0",
          "state": {
            "_model_module": "@jupyter-widgets/base",
            "_model_module_version": "1.2.0",
            "_model_name": "LayoutModel",
            "_view_count": null,
            "_view_module": "@jupyter-widgets/base",
            "_view_module_version": "1.2.0",
            "_view_name": "LayoutView",
            "align_content": null,
            "align_items": null,
            "align_self": null,
            "border": null,
            "bottom": null,
            "display": null,
            "flex": null,
            "flex_flow": null,
            "grid_area": null,
            "grid_auto_columns": null,
            "grid_auto_flow": null,
            "grid_auto_rows": null,
            "grid_column": null,
            "grid_gap": null,
            "grid_row": null,
            "grid_template_areas": null,
            "grid_template_columns": null,
            "grid_template_rows": null,
            "height": null,
            "justify_content": null,
            "justify_items": null,
            "left": null,
            "margin": null,
            "max_height": null,
            "max_width": null,
            "min_height": null,
            "min_width": null,
            "object_fit": null,
            "object_position": null,
            "order": null,
            "overflow": null,
            "overflow_x": null,
            "overflow_y": null,
            "padding": null,
            "right": null,
            "top": null,
            "visibility": null,
            "width": null
          }
        },
        "bdb09a9150074fc4ae6319da970d2f33": {
          "model_module": "@jupyter-widgets/base",
          "model_name": "LayoutModel",
          "model_module_version": "1.2.0",
          "state": {
            "_model_module": "@jupyter-widgets/base",
            "_model_module_version": "1.2.0",
            "_model_name": "LayoutModel",
            "_view_count": null,
            "_view_module": "@jupyter-widgets/base",
            "_view_module_version": "1.2.0",
            "_view_name": "LayoutView",
            "align_content": null,
            "align_items": null,
            "align_self": null,
            "border": null,
            "bottom": null,
            "display": null,
            "flex": null,
            "flex_flow": null,
            "grid_area": null,
            "grid_auto_columns": null,
            "grid_auto_flow": null,
            "grid_auto_rows": null,
            "grid_column": null,
            "grid_gap": null,
            "grid_row": null,
            "grid_template_areas": null,
            "grid_template_columns": null,
            "grid_template_rows": null,
            "height": null,
            "justify_content": null,
            "justify_items": null,
            "left": null,
            "margin": null,
            "max_height": null,
            "max_width": null,
            "min_height": null,
            "min_width": null,
            "object_fit": null,
            "object_position": null,
            "order": null,
            "overflow": null,
            "overflow_x": null,
            "overflow_y": null,
            "padding": null,
            "right": null,
            "top": null,
            "visibility": null,
            "width": null
          }
        },
        "5b61a09e3f394f2bac4d3a8ef653e272": {
          "model_module": "@jupyter-widgets/controls",
          "model_name": "DescriptionStyleModel",
          "model_module_version": "1.5.0",
          "state": {
            "_model_module": "@jupyter-widgets/controls",
            "_model_module_version": "1.5.0",
            "_model_name": "DescriptionStyleModel",
            "_view_count": null,
            "_view_module": "@jupyter-widgets/base",
            "_view_module_version": "1.2.0",
            "_view_name": "StyleView",
            "description_width": ""
          }
        },
        "10f9d208382c4ea3a768dd41238bcd0d": {
          "model_module": "@jupyter-widgets/base",
          "model_name": "LayoutModel",
          "model_module_version": "1.2.0",
          "state": {
            "_model_module": "@jupyter-widgets/base",
            "_model_module_version": "1.2.0",
            "_model_name": "LayoutModel",
            "_view_count": null,
            "_view_module": "@jupyter-widgets/base",
            "_view_module_version": "1.2.0",
            "_view_name": "LayoutView",
            "align_content": null,
            "align_items": null,
            "align_self": null,
            "border": null,
            "bottom": null,
            "display": null,
            "flex": null,
            "flex_flow": null,
            "grid_area": null,
            "grid_auto_columns": null,
            "grid_auto_flow": null,
            "grid_auto_rows": null,
            "grid_column": null,
            "grid_gap": null,
            "grid_row": null,
            "grid_template_areas": null,
            "grid_template_columns": null,
            "grid_template_rows": null,
            "height": null,
            "justify_content": null,
            "justify_items": null,
            "left": null,
            "margin": null,
            "max_height": null,
            "max_width": null,
            "min_height": null,
            "min_width": null,
            "object_fit": null,
            "object_position": null,
            "order": null,
            "overflow": null,
            "overflow_x": null,
            "overflow_y": null,
            "padding": null,
            "right": null,
            "top": null,
            "visibility": null,
            "width": null
          }
        },
        "a7e16cbdd5254bb7ac9062dafe7c33db": {
          "model_module": "@jupyter-widgets/controls",
          "model_name": "ProgressStyleModel",
          "model_module_version": "1.5.0",
          "state": {
            "_model_module": "@jupyter-widgets/controls",
            "_model_module_version": "1.5.0",
            "_model_name": "ProgressStyleModel",
            "_view_count": null,
            "_view_module": "@jupyter-widgets/base",
            "_view_module_version": "1.2.0",
            "_view_name": "StyleView",
            "bar_color": null,
            "description_width": ""
          }
        },
        "5a5ca9eb42bf455c9bd462ddc3cc17cd": {
          "model_module": "@jupyter-widgets/controls",
          "model_name": "VBoxModel",
          "model_module_version": "1.5.0",
          "state": {
            "_dom_classes": [],
            "_model_module": "@jupyter-widgets/controls",
            "_model_module_version": "1.5.0",
            "_model_name": "VBoxModel",
            "_view_count": null,
            "_view_module": "@jupyter-widgets/controls",
            "_view_module_version": "1.5.0",
            "_view_name": "VBoxView",
            "box_style": "",
            "children": [
              "IPY_MODEL_0ee1a9314fc148a7a338112e179449f8",
              "IPY_MODEL_11bb787d7c984025b0a3d994a6aad3fc"
            ],
            "layout": "IPY_MODEL_158dd41fca13498aa1def2aef588c230"
          }
        },
        "0ee1a9314fc148a7a338112e179449f8": {
          "model_module": "@jupyter-widgets/controls",
          "model_name": "LabelModel",
          "model_module_version": "1.5.0",
          "state": {
            "_dom_classes": [],
            "_model_module": "@jupyter-widgets/controls",
            "_model_module_version": "1.5.0",
            "_model_name": "LabelModel",
            "_view_count": null,
            "_view_module": "@jupyter-widgets/controls",
            "_view_module_version": "1.5.0",
            "_view_name": "LabelView",
            "description": "",
            "description_tooltip": null,
            "layout": "IPY_MODEL_a81d74d8a1084a39bdb1ec5a9d497593",
            "placeholder": "​",
            "style": "IPY_MODEL_0b519348f6704da5a12e8f13c705a43a",
            "value": "0.009 MB of 0.009 MB uploaded (0.000 MB deduped)\r"
          }
        },
        "11bb787d7c984025b0a3d994a6aad3fc": {
          "model_module": "@jupyter-widgets/controls",
          "model_name": "FloatProgressModel",
          "model_module_version": "1.5.0",
          "state": {
            "_dom_classes": [],
            "_model_module": "@jupyter-widgets/controls",
            "_model_module_version": "1.5.0",
            "_model_name": "FloatProgressModel",
            "_view_count": null,
            "_view_module": "@jupyter-widgets/controls",
            "_view_module_version": "1.5.0",
            "_view_name": "ProgressView",
            "bar_style": "",
            "description": "",
            "description_tooltip": null,
            "layout": "IPY_MODEL_bbbab185c6c546a0b1933bc24a518df1",
            "max": 1,
            "min": 0,
            "orientation": "horizontal",
            "style": "IPY_MODEL_0d3dc655b3aa40a2b1373bf3bbbbe3ba",
            "value": 1
          }
        },
        "158dd41fca13498aa1def2aef588c230": {
          "model_module": "@jupyter-widgets/base",
          "model_name": "LayoutModel",
          "model_module_version": "1.2.0",
          "state": {
            "_model_module": "@jupyter-widgets/base",
            "_model_module_version": "1.2.0",
            "_model_name": "LayoutModel",
            "_view_count": null,
            "_view_module": "@jupyter-widgets/base",
            "_view_module_version": "1.2.0",
            "_view_name": "LayoutView",
            "align_content": null,
            "align_items": null,
            "align_self": null,
            "border": null,
            "bottom": null,
            "display": null,
            "flex": null,
            "flex_flow": null,
            "grid_area": null,
            "grid_auto_columns": null,
            "grid_auto_flow": null,
            "grid_auto_rows": null,
            "grid_column": null,
            "grid_gap": null,
            "grid_row": null,
            "grid_template_areas": null,
            "grid_template_columns": null,
            "grid_template_rows": null,
            "height": null,
            "justify_content": null,
            "justify_items": null,
            "left": null,
            "margin": null,
            "max_height": null,
            "max_width": null,
            "min_height": null,
            "min_width": null,
            "object_fit": null,
            "object_position": null,
            "order": null,
            "overflow": null,
            "overflow_x": null,
            "overflow_y": null,
            "padding": null,
            "right": null,
            "top": null,
            "visibility": null,
            "width": null
          }
        },
        "a81d74d8a1084a39bdb1ec5a9d497593": {
          "model_module": "@jupyter-widgets/base",
          "model_name": "LayoutModel",
          "model_module_version": "1.2.0",
          "state": {
            "_model_module": "@jupyter-widgets/base",
            "_model_module_version": "1.2.0",
            "_model_name": "LayoutModel",
            "_view_count": null,
            "_view_module": "@jupyter-widgets/base",
            "_view_module_version": "1.2.0",
            "_view_name": "LayoutView",
            "align_content": null,
            "align_items": null,
            "align_self": null,
            "border": null,
            "bottom": null,
            "display": null,
            "flex": null,
            "flex_flow": null,
            "grid_area": null,
            "grid_auto_columns": null,
            "grid_auto_flow": null,
            "grid_auto_rows": null,
            "grid_column": null,
            "grid_gap": null,
            "grid_row": null,
            "grid_template_areas": null,
            "grid_template_columns": null,
            "grid_template_rows": null,
            "height": null,
            "justify_content": null,
            "justify_items": null,
            "left": null,
            "margin": null,
            "max_height": null,
            "max_width": null,
            "min_height": null,
            "min_width": null,
            "object_fit": null,
            "object_position": null,
            "order": null,
            "overflow": null,
            "overflow_x": null,
            "overflow_y": null,
            "padding": null,
            "right": null,
            "top": null,
            "visibility": null,
            "width": null
          }
        },
        "0b519348f6704da5a12e8f13c705a43a": {
          "model_module": "@jupyter-widgets/controls",
          "model_name": "DescriptionStyleModel",
          "model_module_version": "1.5.0",
          "state": {
            "_model_module": "@jupyter-widgets/controls",
            "_model_module_version": "1.5.0",
            "_model_name": "DescriptionStyleModel",
            "_view_count": null,
            "_view_module": "@jupyter-widgets/base",
            "_view_module_version": "1.2.0",
            "_view_name": "StyleView",
            "description_width": ""
          }
        },
        "bbbab185c6c546a0b1933bc24a518df1": {
          "model_module": "@jupyter-widgets/base",
          "model_name": "LayoutModel",
          "model_module_version": "1.2.0",
          "state": {
            "_model_module": "@jupyter-widgets/base",
            "_model_module_version": "1.2.0",
            "_model_name": "LayoutModel",
            "_view_count": null,
            "_view_module": "@jupyter-widgets/base",
            "_view_module_version": "1.2.0",
            "_view_name": "LayoutView",
            "align_content": null,
            "align_items": null,
            "align_self": null,
            "border": null,
            "bottom": null,
            "display": null,
            "flex": null,
            "flex_flow": null,
            "grid_area": null,
            "grid_auto_columns": null,
            "grid_auto_flow": null,
            "grid_auto_rows": null,
            "grid_column": null,
            "grid_gap": null,
            "grid_row": null,
            "grid_template_areas": null,
            "grid_template_columns": null,
            "grid_template_rows": null,
            "height": null,
            "justify_content": null,
            "justify_items": null,
            "left": null,
            "margin": null,
            "max_height": null,
            "max_width": null,
            "min_height": null,
            "min_width": null,
            "object_fit": null,
            "object_position": null,
            "order": null,
            "overflow": null,
            "overflow_x": null,
            "overflow_y": null,
            "padding": null,
            "right": null,
            "top": null,
            "visibility": null,
            "width": null
          }
        },
        "0d3dc655b3aa40a2b1373bf3bbbbe3ba": {
          "model_module": "@jupyter-widgets/controls",
          "model_name": "ProgressStyleModel",
          "model_module_version": "1.5.0",
          "state": {
            "_model_module": "@jupyter-widgets/controls",
            "_model_module_version": "1.5.0",
            "_model_name": "ProgressStyleModel",
            "_view_count": null,
            "_view_module": "@jupyter-widgets/base",
            "_view_module_version": "1.2.0",
            "_view_name": "StyleView",
            "bar_color": null,
            "description_width": ""
          }
        },
        "bfa7ca633628408e86a2982fe7a03b4e": {
          "model_module": "@jupyter-widgets/controls",
          "model_name": "VBoxModel",
          "model_module_version": "1.5.0",
          "state": {
            "_dom_classes": [],
            "_model_module": "@jupyter-widgets/controls",
            "_model_module_version": "1.5.0",
            "_model_name": "VBoxModel",
            "_view_count": null,
            "_view_module": "@jupyter-widgets/controls",
            "_view_module_version": "1.5.0",
            "_view_name": "VBoxView",
            "box_style": "",
            "children": [
              "IPY_MODEL_91b85ed6b9f645b3b2b7afac661aa726",
              "IPY_MODEL_ccb4d50062a94a59ac8cd34d22b62b0d"
            ],
            "layout": "IPY_MODEL_a8e500d63e2f4169a691cf428abccbee"
          }
        },
        "91b85ed6b9f645b3b2b7afac661aa726": {
          "model_module": "@jupyter-widgets/controls",
          "model_name": "LabelModel",
          "model_module_version": "1.5.0",
          "state": {
            "_dom_classes": [],
            "_model_module": "@jupyter-widgets/controls",
            "_model_module_version": "1.5.0",
            "_model_name": "LabelModel",
            "_view_count": null,
            "_view_module": "@jupyter-widgets/controls",
            "_view_module_version": "1.5.0",
            "_view_name": "LabelView",
            "description": "",
            "description_tooltip": null,
            "layout": "IPY_MODEL_a041943730c24470862a35525c60c5d6",
            "placeholder": "​",
            "style": "IPY_MODEL_aff85a6c24ef491badb2e728d7b1d727",
            "value": "0.009 MB of 0.009 MB uploaded (0.000 MB deduped)\r"
          }
        },
        "ccb4d50062a94a59ac8cd34d22b62b0d": {
          "model_module": "@jupyter-widgets/controls",
          "model_name": "FloatProgressModel",
          "model_module_version": "1.5.0",
          "state": {
            "_dom_classes": [],
            "_model_module": "@jupyter-widgets/controls",
            "_model_module_version": "1.5.0",
            "_model_name": "FloatProgressModel",
            "_view_count": null,
            "_view_module": "@jupyter-widgets/controls",
            "_view_module_version": "1.5.0",
            "_view_name": "ProgressView",
            "bar_style": "",
            "description": "",
            "description_tooltip": null,
            "layout": "IPY_MODEL_d1bf477fb4d24a3aa33ec981df3a044f",
            "max": 1,
            "min": 0,
            "orientation": "horizontal",
            "style": "IPY_MODEL_1abd7929e0c9427d9478be2671392891",
            "value": 1
          }
        },
        "a8e500d63e2f4169a691cf428abccbee": {
          "model_module": "@jupyter-widgets/base",
          "model_name": "LayoutModel",
          "model_module_version": "1.2.0",
          "state": {
            "_model_module": "@jupyter-widgets/base",
            "_model_module_version": "1.2.0",
            "_model_name": "LayoutModel",
            "_view_count": null,
            "_view_module": "@jupyter-widgets/base",
            "_view_module_version": "1.2.0",
            "_view_name": "LayoutView",
            "align_content": null,
            "align_items": null,
            "align_self": null,
            "border": null,
            "bottom": null,
            "display": null,
            "flex": null,
            "flex_flow": null,
            "grid_area": null,
            "grid_auto_columns": null,
            "grid_auto_flow": null,
            "grid_auto_rows": null,
            "grid_column": null,
            "grid_gap": null,
            "grid_row": null,
            "grid_template_areas": null,
            "grid_template_columns": null,
            "grid_template_rows": null,
            "height": null,
            "justify_content": null,
            "justify_items": null,
            "left": null,
            "margin": null,
            "max_height": null,
            "max_width": null,
            "min_height": null,
            "min_width": null,
            "object_fit": null,
            "object_position": null,
            "order": null,
            "overflow": null,
            "overflow_x": null,
            "overflow_y": null,
            "padding": null,
            "right": null,
            "top": null,
            "visibility": null,
            "width": null
          }
        },
        "a041943730c24470862a35525c60c5d6": {
          "model_module": "@jupyter-widgets/base",
          "model_name": "LayoutModel",
          "model_module_version": "1.2.0",
          "state": {
            "_model_module": "@jupyter-widgets/base",
            "_model_module_version": "1.2.0",
            "_model_name": "LayoutModel",
            "_view_count": null,
            "_view_module": "@jupyter-widgets/base",
            "_view_module_version": "1.2.0",
            "_view_name": "LayoutView",
            "align_content": null,
            "align_items": null,
            "align_self": null,
            "border": null,
            "bottom": null,
            "display": null,
            "flex": null,
            "flex_flow": null,
            "grid_area": null,
            "grid_auto_columns": null,
            "grid_auto_flow": null,
            "grid_auto_rows": null,
            "grid_column": null,
            "grid_gap": null,
            "grid_row": null,
            "grid_template_areas": null,
            "grid_template_columns": null,
            "grid_template_rows": null,
            "height": null,
            "justify_content": null,
            "justify_items": null,
            "left": null,
            "margin": null,
            "max_height": null,
            "max_width": null,
            "min_height": null,
            "min_width": null,
            "object_fit": null,
            "object_position": null,
            "order": null,
            "overflow": null,
            "overflow_x": null,
            "overflow_y": null,
            "padding": null,
            "right": null,
            "top": null,
            "visibility": null,
            "width": null
          }
        },
        "aff85a6c24ef491badb2e728d7b1d727": {
          "model_module": "@jupyter-widgets/controls",
          "model_name": "DescriptionStyleModel",
          "model_module_version": "1.5.0",
          "state": {
            "_model_module": "@jupyter-widgets/controls",
            "_model_module_version": "1.5.0",
            "_model_name": "DescriptionStyleModel",
            "_view_count": null,
            "_view_module": "@jupyter-widgets/base",
            "_view_module_version": "1.2.0",
            "_view_name": "StyleView",
            "description_width": ""
          }
        },
        "d1bf477fb4d24a3aa33ec981df3a044f": {
          "model_module": "@jupyter-widgets/base",
          "model_name": "LayoutModel",
          "model_module_version": "1.2.0",
          "state": {
            "_model_module": "@jupyter-widgets/base",
            "_model_module_version": "1.2.0",
            "_model_name": "LayoutModel",
            "_view_count": null,
            "_view_module": "@jupyter-widgets/base",
            "_view_module_version": "1.2.0",
            "_view_name": "LayoutView",
            "align_content": null,
            "align_items": null,
            "align_self": null,
            "border": null,
            "bottom": null,
            "display": null,
            "flex": null,
            "flex_flow": null,
            "grid_area": null,
            "grid_auto_columns": null,
            "grid_auto_flow": null,
            "grid_auto_rows": null,
            "grid_column": null,
            "grid_gap": null,
            "grid_row": null,
            "grid_template_areas": null,
            "grid_template_columns": null,
            "grid_template_rows": null,
            "height": null,
            "justify_content": null,
            "justify_items": null,
            "left": null,
            "margin": null,
            "max_height": null,
            "max_width": null,
            "min_height": null,
            "min_width": null,
            "object_fit": null,
            "object_position": null,
            "order": null,
            "overflow": null,
            "overflow_x": null,
            "overflow_y": null,
            "padding": null,
            "right": null,
            "top": null,
            "visibility": null,
            "width": null
          }
        },
        "1abd7929e0c9427d9478be2671392891": {
          "model_module": "@jupyter-widgets/controls",
          "model_name": "ProgressStyleModel",
          "model_module_version": "1.5.0",
          "state": {
            "_model_module": "@jupyter-widgets/controls",
            "_model_module_version": "1.5.0",
            "_model_name": "ProgressStyleModel",
            "_view_count": null,
            "_view_module": "@jupyter-widgets/base",
            "_view_module_version": "1.2.0",
            "_view_name": "StyleView",
            "bar_color": null,
            "description_width": ""
          }
        },
        "1a69acb82272485887433163771cac48": {
          "model_module": "@jupyter-widgets/controls",
          "model_name": "VBoxModel",
          "model_module_version": "1.5.0",
          "state": {
            "_dom_classes": [],
            "_model_module": "@jupyter-widgets/controls",
            "_model_module_version": "1.5.0",
            "_model_name": "VBoxModel",
            "_view_count": null,
            "_view_module": "@jupyter-widgets/controls",
            "_view_module_version": "1.5.0",
            "_view_name": "VBoxView",
            "box_style": "",
            "children": [
              "IPY_MODEL_1feb7e142eea4e45a6002567d9952cc6",
              "IPY_MODEL_cd0866c5bfc14abfa1a3a6d7e15461c8"
            ],
            "layout": "IPY_MODEL_185f6d2e190948db9e6bb9ffa3d56c06"
          }
        },
        "1feb7e142eea4e45a6002567d9952cc6": {
          "model_module": "@jupyter-widgets/controls",
          "model_name": "LabelModel",
          "model_module_version": "1.5.0",
          "state": {
            "_dom_classes": [],
            "_model_module": "@jupyter-widgets/controls",
            "_model_module_version": "1.5.0",
            "_model_name": "LabelModel",
            "_view_count": null,
            "_view_module": "@jupyter-widgets/controls",
            "_view_module_version": "1.5.0",
            "_view_name": "LabelView",
            "description": "",
            "description_tooltip": null,
            "layout": "IPY_MODEL_96d84b4a340e4022925cb0a0909c4acf",
            "placeholder": "​",
            "style": "IPY_MODEL_5906a91fa3ba40418bfddbb48c507754",
            "value": "0.009 MB of 0.009 MB uploaded (0.000 MB deduped)\r"
          }
        },
        "cd0866c5bfc14abfa1a3a6d7e15461c8": {
          "model_module": "@jupyter-widgets/controls",
          "model_name": "FloatProgressModel",
          "model_module_version": "1.5.0",
          "state": {
            "_dom_classes": [],
            "_model_module": "@jupyter-widgets/controls",
            "_model_module_version": "1.5.0",
            "_model_name": "FloatProgressModel",
            "_view_count": null,
            "_view_module": "@jupyter-widgets/controls",
            "_view_module_version": "1.5.0",
            "_view_name": "ProgressView",
            "bar_style": "",
            "description": "",
            "description_tooltip": null,
            "layout": "IPY_MODEL_19f3e1ee8e6142dbbc5402bfc37bea62",
            "max": 1,
            "min": 0,
            "orientation": "horizontal",
            "style": "IPY_MODEL_80778c2689634dfea4270b7bac9c5ce1",
            "value": 1
          }
        },
        "185f6d2e190948db9e6bb9ffa3d56c06": {
          "model_module": "@jupyter-widgets/base",
          "model_name": "LayoutModel",
          "model_module_version": "1.2.0",
          "state": {
            "_model_module": "@jupyter-widgets/base",
            "_model_module_version": "1.2.0",
            "_model_name": "LayoutModel",
            "_view_count": null,
            "_view_module": "@jupyter-widgets/base",
            "_view_module_version": "1.2.0",
            "_view_name": "LayoutView",
            "align_content": null,
            "align_items": null,
            "align_self": null,
            "border": null,
            "bottom": null,
            "display": null,
            "flex": null,
            "flex_flow": null,
            "grid_area": null,
            "grid_auto_columns": null,
            "grid_auto_flow": null,
            "grid_auto_rows": null,
            "grid_column": null,
            "grid_gap": null,
            "grid_row": null,
            "grid_template_areas": null,
            "grid_template_columns": null,
            "grid_template_rows": null,
            "height": null,
            "justify_content": null,
            "justify_items": null,
            "left": null,
            "margin": null,
            "max_height": null,
            "max_width": null,
            "min_height": null,
            "min_width": null,
            "object_fit": null,
            "object_position": null,
            "order": null,
            "overflow": null,
            "overflow_x": null,
            "overflow_y": null,
            "padding": null,
            "right": null,
            "top": null,
            "visibility": null,
            "width": null
          }
        },
        "96d84b4a340e4022925cb0a0909c4acf": {
          "model_module": "@jupyter-widgets/base",
          "model_name": "LayoutModel",
          "model_module_version": "1.2.0",
          "state": {
            "_model_module": "@jupyter-widgets/base",
            "_model_module_version": "1.2.0",
            "_model_name": "LayoutModel",
            "_view_count": null,
            "_view_module": "@jupyter-widgets/base",
            "_view_module_version": "1.2.0",
            "_view_name": "LayoutView",
            "align_content": null,
            "align_items": null,
            "align_self": null,
            "border": null,
            "bottom": null,
            "display": null,
            "flex": null,
            "flex_flow": null,
            "grid_area": null,
            "grid_auto_columns": null,
            "grid_auto_flow": null,
            "grid_auto_rows": null,
            "grid_column": null,
            "grid_gap": null,
            "grid_row": null,
            "grid_template_areas": null,
            "grid_template_columns": null,
            "grid_template_rows": null,
            "height": null,
            "justify_content": null,
            "justify_items": null,
            "left": null,
            "margin": null,
            "max_height": null,
            "max_width": null,
            "min_height": null,
            "min_width": null,
            "object_fit": null,
            "object_position": null,
            "order": null,
            "overflow": null,
            "overflow_x": null,
            "overflow_y": null,
            "padding": null,
            "right": null,
            "top": null,
            "visibility": null,
            "width": null
          }
        },
        "5906a91fa3ba40418bfddbb48c507754": {
          "model_module": "@jupyter-widgets/controls",
          "model_name": "DescriptionStyleModel",
          "model_module_version": "1.5.0",
          "state": {
            "_model_module": "@jupyter-widgets/controls",
            "_model_module_version": "1.5.0",
            "_model_name": "DescriptionStyleModel",
            "_view_count": null,
            "_view_module": "@jupyter-widgets/base",
            "_view_module_version": "1.2.0",
            "_view_name": "StyleView",
            "description_width": ""
          }
        },
        "19f3e1ee8e6142dbbc5402bfc37bea62": {
          "model_module": "@jupyter-widgets/base",
          "model_name": "LayoutModel",
          "model_module_version": "1.2.0",
          "state": {
            "_model_module": "@jupyter-widgets/base",
            "_model_module_version": "1.2.0",
            "_model_name": "LayoutModel",
            "_view_count": null,
            "_view_module": "@jupyter-widgets/base",
            "_view_module_version": "1.2.0",
            "_view_name": "LayoutView",
            "align_content": null,
            "align_items": null,
            "align_self": null,
            "border": null,
            "bottom": null,
            "display": null,
            "flex": null,
            "flex_flow": null,
            "grid_area": null,
            "grid_auto_columns": null,
            "grid_auto_flow": null,
            "grid_auto_rows": null,
            "grid_column": null,
            "grid_gap": null,
            "grid_row": null,
            "grid_template_areas": null,
            "grid_template_columns": null,
            "grid_template_rows": null,
            "height": null,
            "justify_content": null,
            "justify_items": null,
            "left": null,
            "margin": null,
            "max_height": null,
            "max_width": null,
            "min_height": null,
            "min_width": null,
            "object_fit": null,
            "object_position": null,
            "order": null,
            "overflow": null,
            "overflow_x": null,
            "overflow_y": null,
            "padding": null,
            "right": null,
            "top": null,
            "visibility": null,
            "width": null
          }
        },
        "80778c2689634dfea4270b7bac9c5ce1": {
          "model_module": "@jupyter-widgets/controls",
          "model_name": "ProgressStyleModel",
          "model_module_version": "1.5.0",
          "state": {
            "_model_module": "@jupyter-widgets/controls",
            "_model_module_version": "1.5.0",
            "_model_name": "ProgressStyleModel",
            "_view_count": null,
            "_view_module": "@jupyter-widgets/base",
            "_view_module_version": "1.2.0",
            "_view_name": "StyleView",
            "bar_color": null,
            "description_width": ""
          }
        },
        "29a43aecac4e4e4780fdee66c7828617": {
          "model_module": "@jupyter-widgets/controls",
          "model_name": "VBoxModel",
          "model_module_version": "1.5.0",
          "state": {
            "_dom_classes": [],
            "_model_module": "@jupyter-widgets/controls",
            "_model_module_version": "1.5.0",
            "_model_name": "VBoxModel",
            "_view_count": null,
            "_view_module": "@jupyter-widgets/controls",
            "_view_module_version": "1.5.0",
            "_view_name": "VBoxView",
            "box_style": "",
            "children": [
              "IPY_MODEL_3ace230e02704187aeee23a15283135b",
              "IPY_MODEL_607a4227aa9848b2913495525a5d8c7d"
            ],
            "layout": "IPY_MODEL_5a4fae88f87949c8b8266c7bb4b5289c"
          }
        },
        "3ace230e02704187aeee23a15283135b": {
          "model_module": "@jupyter-widgets/controls",
          "model_name": "LabelModel",
          "model_module_version": "1.5.0",
          "state": {
            "_dom_classes": [],
            "_model_module": "@jupyter-widgets/controls",
            "_model_module_version": "1.5.0",
            "_model_name": "LabelModel",
            "_view_count": null,
            "_view_module": "@jupyter-widgets/controls",
            "_view_module_version": "1.5.0",
            "_view_name": "LabelView",
            "description": "",
            "description_tooltip": null,
            "layout": "IPY_MODEL_e900e19db01e48ceaf1b9ce867b1fe15",
            "placeholder": "​",
            "style": "IPY_MODEL_f98b2ba8ae3c46f6817ce5b25f464f99",
            "value": "0.009 MB of 0.009 MB uploaded (0.000 MB deduped)\r"
          }
        },
        "607a4227aa9848b2913495525a5d8c7d": {
          "model_module": "@jupyter-widgets/controls",
          "model_name": "FloatProgressModel",
          "model_module_version": "1.5.0",
          "state": {
            "_dom_classes": [],
            "_model_module": "@jupyter-widgets/controls",
            "_model_module_version": "1.5.0",
            "_model_name": "FloatProgressModel",
            "_view_count": null,
            "_view_module": "@jupyter-widgets/controls",
            "_view_module_version": "1.5.0",
            "_view_name": "ProgressView",
            "bar_style": "",
            "description": "",
            "description_tooltip": null,
            "layout": "IPY_MODEL_b196c98287f9485fa2315981744c0a82",
            "max": 1,
            "min": 0,
            "orientation": "horizontal",
            "style": "IPY_MODEL_9361fbd219874e22893e4c28b8ca56e3",
            "value": 1
          }
        },
        "5a4fae88f87949c8b8266c7bb4b5289c": {
          "model_module": "@jupyter-widgets/base",
          "model_name": "LayoutModel",
          "model_module_version": "1.2.0",
          "state": {
            "_model_module": "@jupyter-widgets/base",
            "_model_module_version": "1.2.0",
            "_model_name": "LayoutModel",
            "_view_count": null,
            "_view_module": "@jupyter-widgets/base",
            "_view_module_version": "1.2.0",
            "_view_name": "LayoutView",
            "align_content": null,
            "align_items": null,
            "align_self": null,
            "border": null,
            "bottom": null,
            "display": null,
            "flex": null,
            "flex_flow": null,
            "grid_area": null,
            "grid_auto_columns": null,
            "grid_auto_flow": null,
            "grid_auto_rows": null,
            "grid_column": null,
            "grid_gap": null,
            "grid_row": null,
            "grid_template_areas": null,
            "grid_template_columns": null,
            "grid_template_rows": null,
            "height": null,
            "justify_content": null,
            "justify_items": null,
            "left": null,
            "margin": null,
            "max_height": null,
            "max_width": null,
            "min_height": null,
            "min_width": null,
            "object_fit": null,
            "object_position": null,
            "order": null,
            "overflow": null,
            "overflow_x": null,
            "overflow_y": null,
            "padding": null,
            "right": null,
            "top": null,
            "visibility": null,
            "width": null
          }
        },
        "e900e19db01e48ceaf1b9ce867b1fe15": {
          "model_module": "@jupyter-widgets/base",
          "model_name": "LayoutModel",
          "model_module_version": "1.2.0",
          "state": {
            "_model_module": "@jupyter-widgets/base",
            "_model_module_version": "1.2.0",
            "_model_name": "LayoutModel",
            "_view_count": null,
            "_view_module": "@jupyter-widgets/base",
            "_view_module_version": "1.2.0",
            "_view_name": "LayoutView",
            "align_content": null,
            "align_items": null,
            "align_self": null,
            "border": null,
            "bottom": null,
            "display": null,
            "flex": null,
            "flex_flow": null,
            "grid_area": null,
            "grid_auto_columns": null,
            "grid_auto_flow": null,
            "grid_auto_rows": null,
            "grid_column": null,
            "grid_gap": null,
            "grid_row": null,
            "grid_template_areas": null,
            "grid_template_columns": null,
            "grid_template_rows": null,
            "height": null,
            "justify_content": null,
            "justify_items": null,
            "left": null,
            "margin": null,
            "max_height": null,
            "max_width": null,
            "min_height": null,
            "min_width": null,
            "object_fit": null,
            "object_position": null,
            "order": null,
            "overflow": null,
            "overflow_x": null,
            "overflow_y": null,
            "padding": null,
            "right": null,
            "top": null,
            "visibility": null,
            "width": null
          }
        },
        "f98b2ba8ae3c46f6817ce5b25f464f99": {
          "model_module": "@jupyter-widgets/controls",
          "model_name": "DescriptionStyleModel",
          "model_module_version": "1.5.0",
          "state": {
            "_model_module": "@jupyter-widgets/controls",
            "_model_module_version": "1.5.0",
            "_model_name": "DescriptionStyleModel",
            "_view_count": null,
            "_view_module": "@jupyter-widgets/base",
            "_view_module_version": "1.2.0",
            "_view_name": "StyleView",
            "description_width": ""
          }
        },
        "b196c98287f9485fa2315981744c0a82": {
          "model_module": "@jupyter-widgets/base",
          "model_name": "LayoutModel",
          "model_module_version": "1.2.0",
          "state": {
            "_model_module": "@jupyter-widgets/base",
            "_model_module_version": "1.2.0",
            "_model_name": "LayoutModel",
            "_view_count": null,
            "_view_module": "@jupyter-widgets/base",
            "_view_module_version": "1.2.0",
            "_view_name": "LayoutView",
            "align_content": null,
            "align_items": null,
            "align_self": null,
            "border": null,
            "bottom": null,
            "display": null,
            "flex": null,
            "flex_flow": null,
            "grid_area": null,
            "grid_auto_columns": null,
            "grid_auto_flow": null,
            "grid_auto_rows": null,
            "grid_column": null,
            "grid_gap": null,
            "grid_row": null,
            "grid_template_areas": null,
            "grid_template_columns": null,
            "grid_template_rows": null,
            "height": null,
            "justify_content": null,
            "justify_items": null,
            "left": null,
            "margin": null,
            "max_height": null,
            "max_width": null,
            "min_height": null,
            "min_width": null,
            "object_fit": null,
            "object_position": null,
            "order": null,
            "overflow": null,
            "overflow_x": null,
            "overflow_y": null,
            "padding": null,
            "right": null,
            "top": null,
            "visibility": null,
            "width": null
          }
        },
        "9361fbd219874e22893e4c28b8ca56e3": {
          "model_module": "@jupyter-widgets/controls",
          "model_name": "ProgressStyleModel",
          "model_module_version": "1.5.0",
          "state": {
            "_model_module": "@jupyter-widgets/controls",
            "_model_module_version": "1.5.0",
            "_model_name": "ProgressStyleModel",
            "_view_count": null,
            "_view_module": "@jupyter-widgets/base",
            "_view_module_version": "1.2.0",
            "_view_name": "StyleView",
            "bar_color": null,
            "description_width": ""
          }
        },
        "f35ec0f795c9470caa0b9ccfc902cced": {
          "model_module": "@jupyter-widgets/controls",
          "model_name": "VBoxModel",
          "model_module_version": "1.5.0",
          "state": {
            "_dom_classes": [],
            "_model_module": "@jupyter-widgets/controls",
            "_model_module_version": "1.5.0",
            "_model_name": "VBoxModel",
            "_view_count": null,
            "_view_module": "@jupyter-widgets/controls",
            "_view_module_version": "1.5.0",
            "_view_name": "VBoxView",
            "box_style": "",
            "children": [
              "IPY_MODEL_e56c56e47c4e46d2bd7b7e896c81e6be",
              "IPY_MODEL_eac6c9766a9040a7a23f84374eb68e9c"
            ],
            "layout": "IPY_MODEL_6a3ab72211324765b90b28522ecaee67"
          }
        },
        "e56c56e47c4e46d2bd7b7e896c81e6be": {
          "model_module": "@jupyter-widgets/controls",
          "model_name": "LabelModel",
          "model_module_version": "1.5.0",
          "state": {
            "_dom_classes": [],
            "_model_module": "@jupyter-widgets/controls",
            "_model_module_version": "1.5.0",
            "_model_name": "LabelModel",
            "_view_count": null,
            "_view_module": "@jupyter-widgets/controls",
            "_view_module_version": "1.5.0",
            "_view_name": "LabelView",
            "description": "",
            "description_tooltip": null,
            "layout": "IPY_MODEL_9fd3a31fd80144599e31da21c67d0b6b",
            "placeholder": "​",
            "style": "IPY_MODEL_19e29df0a3044eb0bb03abf5eb8c909a",
            "value": "0.009 MB of 0.009 MB uploaded (0.000 MB deduped)\r"
          }
        },
        "eac6c9766a9040a7a23f84374eb68e9c": {
          "model_module": "@jupyter-widgets/controls",
          "model_name": "FloatProgressModel",
          "model_module_version": "1.5.0",
          "state": {
            "_dom_classes": [],
            "_model_module": "@jupyter-widgets/controls",
            "_model_module_version": "1.5.0",
            "_model_name": "FloatProgressModel",
            "_view_count": null,
            "_view_module": "@jupyter-widgets/controls",
            "_view_module_version": "1.5.0",
            "_view_name": "ProgressView",
            "bar_style": "",
            "description": "",
            "description_tooltip": null,
            "layout": "IPY_MODEL_cb87f5aeebf84591a49ede9aa3f4bcfd",
            "max": 1,
            "min": 0,
            "orientation": "horizontal",
            "style": "IPY_MODEL_7623b77405074baca3ad18dd83fc584b",
            "value": 1
          }
        },
        "6a3ab72211324765b90b28522ecaee67": {
          "model_module": "@jupyter-widgets/base",
          "model_name": "LayoutModel",
          "model_module_version": "1.2.0",
          "state": {
            "_model_module": "@jupyter-widgets/base",
            "_model_module_version": "1.2.0",
            "_model_name": "LayoutModel",
            "_view_count": null,
            "_view_module": "@jupyter-widgets/base",
            "_view_module_version": "1.2.0",
            "_view_name": "LayoutView",
            "align_content": null,
            "align_items": null,
            "align_self": null,
            "border": null,
            "bottom": null,
            "display": null,
            "flex": null,
            "flex_flow": null,
            "grid_area": null,
            "grid_auto_columns": null,
            "grid_auto_flow": null,
            "grid_auto_rows": null,
            "grid_column": null,
            "grid_gap": null,
            "grid_row": null,
            "grid_template_areas": null,
            "grid_template_columns": null,
            "grid_template_rows": null,
            "height": null,
            "justify_content": null,
            "justify_items": null,
            "left": null,
            "margin": null,
            "max_height": null,
            "max_width": null,
            "min_height": null,
            "min_width": null,
            "object_fit": null,
            "object_position": null,
            "order": null,
            "overflow": null,
            "overflow_x": null,
            "overflow_y": null,
            "padding": null,
            "right": null,
            "top": null,
            "visibility": null,
            "width": null
          }
        },
        "9fd3a31fd80144599e31da21c67d0b6b": {
          "model_module": "@jupyter-widgets/base",
          "model_name": "LayoutModel",
          "model_module_version": "1.2.0",
          "state": {
            "_model_module": "@jupyter-widgets/base",
            "_model_module_version": "1.2.0",
            "_model_name": "LayoutModel",
            "_view_count": null,
            "_view_module": "@jupyter-widgets/base",
            "_view_module_version": "1.2.0",
            "_view_name": "LayoutView",
            "align_content": null,
            "align_items": null,
            "align_self": null,
            "border": null,
            "bottom": null,
            "display": null,
            "flex": null,
            "flex_flow": null,
            "grid_area": null,
            "grid_auto_columns": null,
            "grid_auto_flow": null,
            "grid_auto_rows": null,
            "grid_column": null,
            "grid_gap": null,
            "grid_row": null,
            "grid_template_areas": null,
            "grid_template_columns": null,
            "grid_template_rows": null,
            "height": null,
            "justify_content": null,
            "justify_items": null,
            "left": null,
            "margin": null,
            "max_height": null,
            "max_width": null,
            "min_height": null,
            "min_width": null,
            "object_fit": null,
            "object_position": null,
            "order": null,
            "overflow": null,
            "overflow_x": null,
            "overflow_y": null,
            "padding": null,
            "right": null,
            "top": null,
            "visibility": null,
            "width": null
          }
        },
        "19e29df0a3044eb0bb03abf5eb8c909a": {
          "model_module": "@jupyter-widgets/controls",
          "model_name": "DescriptionStyleModel",
          "model_module_version": "1.5.0",
          "state": {
            "_model_module": "@jupyter-widgets/controls",
            "_model_module_version": "1.5.0",
            "_model_name": "DescriptionStyleModel",
            "_view_count": null,
            "_view_module": "@jupyter-widgets/base",
            "_view_module_version": "1.2.0",
            "_view_name": "StyleView",
            "description_width": ""
          }
        },
        "cb87f5aeebf84591a49ede9aa3f4bcfd": {
          "model_module": "@jupyter-widgets/base",
          "model_name": "LayoutModel",
          "model_module_version": "1.2.0",
          "state": {
            "_model_module": "@jupyter-widgets/base",
            "_model_module_version": "1.2.0",
            "_model_name": "LayoutModel",
            "_view_count": null,
            "_view_module": "@jupyter-widgets/base",
            "_view_module_version": "1.2.0",
            "_view_name": "LayoutView",
            "align_content": null,
            "align_items": null,
            "align_self": null,
            "border": null,
            "bottom": null,
            "display": null,
            "flex": null,
            "flex_flow": null,
            "grid_area": null,
            "grid_auto_columns": null,
            "grid_auto_flow": null,
            "grid_auto_rows": null,
            "grid_column": null,
            "grid_gap": null,
            "grid_row": null,
            "grid_template_areas": null,
            "grid_template_columns": null,
            "grid_template_rows": null,
            "height": null,
            "justify_content": null,
            "justify_items": null,
            "left": null,
            "margin": null,
            "max_height": null,
            "max_width": null,
            "min_height": null,
            "min_width": null,
            "object_fit": null,
            "object_position": null,
            "order": null,
            "overflow": null,
            "overflow_x": null,
            "overflow_y": null,
            "padding": null,
            "right": null,
            "top": null,
            "visibility": null,
            "width": null
          }
        },
        "7623b77405074baca3ad18dd83fc584b": {
          "model_module": "@jupyter-widgets/controls",
          "model_name": "ProgressStyleModel",
          "model_module_version": "1.5.0",
          "state": {
            "_model_module": "@jupyter-widgets/controls",
            "_model_module_version": "1.5.0",
            "_model_name": "ProgressStyleModel",
            "_view_count": null,
            "_view_module": "@jupyter-widgets/base",
            "_view_module_version": "1.2.0",
            "_view_name": "StyleView",
            "bar_color": null,
            "description_width": ""
          }
        },
        "b67309df2df543288492bc85e8d1a4fd": {
          "model_module": "@jupyter-widgets/controls",
          "model_name": "VBoxModel",
          "model_module_version": "1.5.0",
          "state": {
            "_dom_classes": [],
            "_model_module": "@jupyter-widgets/controls",
            "_model_module_version": "1.5.0",
            "_model_name": "VBoxModel",
            "_view_count": null,
            "_view_module": "@jupyter-widgets/controls",
            "_view_module_version": "1.5.0",
            "_view_name": "VBoxView",
            "box_style": "",
            "children": [
              "IPY_MODEL_132725cbf8b942eb8b639f9560d722c5",
              "IPY_MODEL_304afc5271724666a33e255df765f46b"
            ],
            "layout": "IPY_MODEL_fc0ce345c4084d78906f131b262e4061"
          }
        },
        "132725cbf8b942eb8b639f9560d722c5": {
          "model_module": "@jupyter-widgets/controls",
          "model_name": "LabelModel",
          "model_module_version": "1.5.0",
          "state": {
            "_dom_classes": [],
            "_model_module": "@jupyter-widgets/controls",
            "_model_module_version": "1.5.0",
            "_model_name": "LabelModel",
            "_view_count": null,
            "_view_module": "@jupyter-widgets/controls",
            "_view_module_version": "1.5.0",
            "_view_name": "LabelView",
            "description": "",
            "description_tooltip": null,
            "layout": "IPY_MODEL_f584a3e9cd4446418359d94301c93671",
            "placeholder": "​",
            "style": "IPY_MODEL_d433c38cd45e446b89eb1a9d9e917eb0",
            "value": "0.009 MB of 0.009 MB uploaded (0.000 MB deduped)\r"
          }
        },
        "304afc5271724666a33e255df765f46b": {
          "model_module": "@jupyter-widgets/controls",
          "model_name": "FloatProgressModel",
          "model_module_version": "1.5.0",
          "state": {
            "_dom_classes": [],
            "_model_module": "@jupyter-widgets/controls",
            "_model_module_version": "1.5.0",
            "_model_name": "FloatProgressModel",
            "_view_count": null,
            "_view_module": "@jupyter-widgets/controls",
            "_view_module_version": "1.5.0",
            "_view_name": "ProgressView",
            "bar_style": "",
            "description": "",
            "description_tooltip": null,
            "layout": "IPY_MODEL_db0967f6623a464dba77b1b7b4c814e8",
            "max": 1,
            "min": 0,
            "orientation": "horizontal",
            "style": "IPY_MODEL_e155c1ef72fb47bcaf410fecca910677",
            "value": 1
          }
        },
        "fc0ce345c4084d78906f131b262e4061": {
          "model_module": "@jupyter-widgets/base",
          "model_name": "LayoutModel",
          "model_module_version": "1.2.0",
          "state": {
            "_model_module": "@jupyter-widgets/base",
            "_model_module_version": "1.2.0",
            "_model_name": "LayoutModel",
            "_view_count": null,
            "_view_module": "@jupyter-widgets/base",
            "_view_module_version": "1.2.0",
            "_view_name": "LayoutView",
            "align_content": null,
            "align_items": null,
            "align_self": null,
            "border": null,
            "bottom": null,
            "display": null,
            "flex": null,
            "flex_flow": null,
            "grid_area": null,
            "grid_auto_columns": null,
            "grid_auto_flow": null,
            "grid_auto_rows": null,
            "grid_column": null,
            "grid_gap": null,
            "grid_row": null,
            "grid_template_areas": null,
            "grid_template_columns": null,
            "grid_template_rows": null,
            "height": null,
            "justify_content": null,
            "justify_items": null,
            "left": null,
            "margin": null,
            "max_height": null,
            "max_width": null,
            "min_height": null,
            "min_width": null,
            "object_fit": null,
            "object_position": null,
            "order": null,
            "overflow": null,
            "overflow_x": null,
            "overflow_y": null,
            "padding": null,
            "right": null,
            "top": null,
            "visibility": null,
            "width": null
          }
        },
        "f584a3e9cd4446418359d94301c93671": {
          "model_module": "@jupyter-widgets/base",
          "model_name": "LayoutModel",
          "model_module_version": "1.2.0",
          "state": {
            "_model_module": "@jupyter-widgets/base",
            "_model_module_version": "1.2.0",
            "_model_name": "LayoutModel",
            "_view_count": null,
            "_view_module": "@jupyter-widgets/base",
            "_view_module_version": "1.2.0",
            "_view_name": "LayoutView",
            "align_content": null,
            "align_items": null,
            "align_self": null,
            "border": null,
            "bottom": null,
            "display": null,
            "flex": null,
            "flex_flow": null,
            "grid_area": null,
            "grid_auto_columns": null,
            "grid_auto_flow": null,
            "grid_auto_rows": null,
            "grid_column": null,
            "grid_gap": null,
            "grid_row": null,
            "grid_template_areas": null,
            "grid_template_columns": null,
            "grid_template_rows": null,
            "height": null,
            "justify_content": null,
            "justify_items": null,
            "left": null,
            "margin": null,
            "max_height": null,
            "max_width": null,
            "min_height": null,
            "min_width": null,
            "object_fit": null,
            "object_position": null,
            "order": null,
            "overflow": null,
            "overflow_x": null,
            "overflow_y": null,
            "padding": null,
            "right": null,
            "top": null,
            "visibility": null,
            "width": null
          }
        },
        "d433c38cd45e446b89eb1a9d9e917eb0": {
          "model_module": "@jupyter-widgets/controls",
          "model_name": "DescriptionStyleModel",
          "model_module_version": "1.5.0",
          "state": {
            "_model_module": "@jupyter-widgets/controls",
            "_model_module_version": "1.5.0",
            "_model_name": "DescriptionStyleModel",
            "_view_count": null,
            "_view_module": "@jupyter-widgets/base",
            "_view_module_version": "1.2.0",
            "_view_name": "StyleView",
            "description_width": ""
          }
        },
        "db0967f6623a464dba77b1b7b4c814e8": {
          "model_module": "@jupyter-widgets/base",
          "model_name": "LayoutModel",
          "model_module_version": "1.2.0",
          "state": {
            "_model_module": "@jupyter-widgets/base",
            "_model_module_version": "1.2.0",
            "_model_name": "LayoutModel",
            "_view_count": null,
            "_view_module": "@jupyter-widgets/base",
            "_view_module_version": "1.2.0",
            "_view_name": "LayoutView",
            "align_content": null,
            "align_items": null,
            "align_self": null,
            "border": null,
            "bottom": null,
            "display": null,
            "flex": null,
            "flex_flow": null,
            "grid_area": null,
            "grid_auto_columns": null,
            "grid_auto_flow": null,
            "grid_auto_rows": null,
            "grid_column": null,
            "grid_gap": null,
            "grid_row": null,
            "grid_template_areas": null,
            "grid_template_columns": null,
            "grid_template_rows": null,
            "height": null,
            "justify_content": null,
            "justify_items": null,
            "left": null,
            "margin": null,
            "max_height": null,
            "max_width": null,
            "min_height": null,
            "min_width": null,
            "object_fit": null,
            "object_position": null,
            "order": null,
            "overflow": null,
            "overflow_x": null,
            "overflow_y": null,
            "padding": null,
            "right": null,
            "top": null,
            "visibility": null,
            "width": null
          }
        },
        "e155c1ef72fb47bcaf410fecca910677": {
          "model_module": "@jupyter-widgets/controls",
          "model_name": "ProgressStyleModel",
          "model_module_version": "1.5.0",
          "state": {
            "_model_module": "@jupyter-widgets/controls",
            "_model_module_version": "1.5.0",
            "_model_name": "ProgressStyleModel",
            "_view_count": null,
            "_view_module": "@jupyter-widgets/base",
            "_view_module_version": "1.2.0",
            "_view_name": "StyleView",
            "bar_color": null,
            "description_width": ""
          }
        },
        "b2be263961454aa4b1e7a1862465c811": {
          "model_module": "@jupyter-widgets/controls",
          "model_name": "VBoxModel",
          "model_module_version": "1.5.0",
          "state": {
            "_dom_classes": [],
            "_model_module": "@jupyter-widgets/controls",
            "_model_module_version": "1.5.0",
            "_model_name": "VBoxModel",
            "_view_count": null,
            "_view_module": "@jupyter-widgets/controls",
            "_view_module_version": "1.5.0",
            "_view_name": "VBoxView",
            "box_style": "",
            "children": [
              "IPY_MODEL_42fa33ae7ba24a08b8cbb787f0132587",
              "IPY_MODEL_da7517c916dc4c99a005bcdb892dcfd0"
            ],
            "layout": "IPY_MODEL_e97ea468f797495f9b55e9bef46f3b32"
          }
        },
        "42fa33ae7ba24a08b8cbb787f0132587": {
          "model_module": "@jupyter-widgets/controls",
          "model_name": "LabelModel",
          "model_module_version": "1.5.0",
          "state": {
            "_dom_classes": [],
            "_model_module": "@jupyter-widgets/controls",
            "_model_module_version": "1.5.0",
            "_model_name": "LabelModel",
            "_view_count": null,
            "_view_module": "@jupyter-widgets/controls",
            "_view_module_version": "1.5.0",
            "_view_name": "LabelView",
            "description": "",
            "description_tooltip": null,
            "layout": "IPY_MODEL_8d6a4a3967374f8ba0f1a86c8733cae2",
            "placeholder": "​",
            "style": "IPY_MODEL_271ec9000d4a4441a5ece64254a1ad97",
            "value": "0.009 MB of 0.009 MB uploaded (0.000 MB deduped)\r"
          }
        },
        "da7517c916dc4c99a005bcdb892dcfd0": {
          "model_module": "@jupyter-widgets/controls",
          "model_name": "FloatProgressModel",
          "model_module_version": "1.5.0",
          "state": {
            "_dom_classes": [],
            "_model_module": "@jupyter-widgets/controls",
            "_model_module_version": "1.5.0",
            "_model_name": "FloatProgressModel",
            "_view_count": null,
            "_view_module": "@jupyter-widgets/controls",
            "_view_module_version": "1.5.0",
            "_view_name": "ProgressView",
            "bar_style": "",
            "description": "",
            "description_tooltip": null,
            "layout": "IPY_MODEL_609ba05f4d714620bcf82797a1b2716d",
            "max": 1,
            "min": 0,
            "orientation": "horizontal",
            "style": "IPY_MODEL_e0e66fbdeb7f42b3a0ed3f710fe025bc",
            "value": 1
          }
        },
        "e97ea468f797495f9b55e9bef46f3b32": {
          "model_module": "@jupyter-widgets/base",
          "model_name": "LayoutModel",
          "model_module_version": "1.2.0",
          "state": {
            "_model_module": "@jupyter-widgets/base",
            "_model_module_version": "1.2.0",
            "_model_name": "LayoutModel",
            "_view_count": null,
            "_view_module": "@jupyter-widgets/base",
            "_view_module_version": "1.2.0",
            "_view_name": "LayoutView",
            "align_content": null,
            "align_items": null,
            "align_self": null,
            "border": null,
            "bottom": null,
            "display": null,
            "flex": null,
            "flex_flow": null,
            "grid_area": null,
            "grid_auto_columns": null,
            "grid_auto_flow": null,
            "grid_auto_rows": null,
            "grid_column": null,
            "grid_gap": null,
            "grid_row": null,
            "grid_template_areas": null,
            "grid_template_columns": null,
            "grid_template_rows": null,
            "height": null,
            "justify_content": null,
            "justify_items": null,
            "left": null,
            "margin": null,
            "max_height": null,
            "max_width": null,
            "min_height": null,
            "min_width": null,
            "object_fit": null,
            "object_position": null,
            "order": null,
            "overflow": null,
            "overflow_x": null,
            "overflow_y": null,
            "padding": null,
            "right": null,
            "top": null,
            "visibility": null,
            "width": null
          }
        },
        "8d6a4a3967374f8ba0f1a86c8733cae2": {
          "model_module": "@jupyter-widgets/base",
          "model_name": "LayoutModel",
          "model_module_version": "1.2.0",
          "state": {
            "_model_module": "@jupyter-widgets/base",
            "_model_module_version": "1.2.0",
            "_model_name": "LayoutModel",
            "_view_count": null,
            "_view_module": "@jupyter-widgets/base",
            "_view_module_version": "1.2.0",
            "_view_name": "LayoutView",
            "align_content": null,
            "align_items": null,
            "align_self": null,
            "border": null,
            "bottom": null,
            "display": null,
            "flex": null,
            "flex_flow": null,
            "grid_area": null,
            "grid_auto_columns": null,
            "grid_auto_flow": null,
            "grid_auto_rows": null,
            "grid_column": null,
            "grid_gap": null,
            "grid_row": null,
            "grid_template_areas": null,
            "grid_template_columns": null,
            "grid_template_rows": null,
            "height": null,
            "justify_content": null,
            "justify_items": null,
            "left": null,
            "margin": null,
            "max_height": null,
            "max_width": null,
            "min_height": null,
            "min_width": null,
            "object_fit": null,
            "object_position": null,
            "order": null,
            "overflow": null,
            "overflow_x": null,
            "overflow_y": null,
            "padding": null,
            "right": null,
            "top": null,
            "visibility": null,
            "width": null
          }
        },
        "271ec9000d4a4441a5ece64254a1ad97": {
          "model_module": "@jupyter-widgets/controls",
          "model_name": "DescriptionStyleModel",
          "model_module_version": "1.5.0",
          "state": {
            "_model_module": "@jupyter-widgets/controls",
            "_model_module_version": "1.5.0",
            "_model_name": "DescriptionStyleModel",
            "_view_count": null,
            "_view_module": "@jupyter-widgets/base",
            "_view_module_version": "1.2.0",
            "_view_name": "StyleView",
            "description_width": ""
          }
        },
        "609ba05f4d714620bcf82797a1b2716d": {
          "model_module": "@jupyter-widgets/base",
          "model_name": "LayoutModel",
          "model_module_version": "1.2.0",
          "state": {
            "_model_module": "@jupyter-widgets/base",
            "_model_module_version": "1.2.0",
            "_model_name": "LayoutModel",
            "_view_count": null,
            "_view_module": "@jupyter-widgets/base",
            "_view_module_version": "1.2.0",
            "_view_name": "LayoutView",
            "align_content": null,
            "align_items": null,
            "align_self": null,
            "border": null,
            "bottom": null,
            "display": null,
            "flex": null,
            "flex_flow": null,
            "grid_area": null,
            "grid_auto_columns": null,
            "grid_auto_flow": null,
            "grid_auto_rows": null,
            "grid_column": null,
            "grid_gap": null,
            "grid_row": null,
            "grid_template_areas": null,
            "grid_template_columns": null,
            "grid_template_rows": null,
            "height": null,
            "justify_content": null,
            "justify_items": null,
            "left": null,
            "margin": null,
            "max_height": null,
            "max_width": null,
            "min_height": null,
            "min_width": null,
            "object_fit": null,
            "object_position": null,
            "order": null,
            "overflow": null,
            "overflow_x": null,
            "overflow_y": null,
            "padding": null,
            "right": null,
            "top": null,
            "visibility": null,
            "width": null
          }
        },
        "e0e66fbdeb7f42b3a0ed3f710fe025bc": {
          "model_module": "@jupyter-widgets/controls",
          "model_name": "ProgressStyleModel",
          "model_module_version": "1.5.0",
          "state": {
            "_model_module": "@jupyter-widgets/controls",
            "_model_module_version": "1.5.0",
            "_model_name": "ProgressStyleModel",
            "_view_count": null,
            "_view_module": "@jupyter-widgets/base",
            "_view_module_version": "1.2.0",
            "_view_name": "StyleView",
            "bar_color": null,
            "description_width": ""
          }
        },
        "de1849933cfc40d882f254bad7a13fe8": {
          "model_module": "@jupyter-widgets/controls",
          "model_name": "VBoxModel",
          "model_module_version": "1.5.0",
          "state": {
            "_dom_classes": [],
            "_model_module": "@jupyter-widgets/controls",
            "_model_module_version": "1.5.0",
            "_model_name": "VBoxModel",
            "_view_count": null,
            "_view_module": "@jupyter-widgets/controls",
            "_view_module_version": "1.5.0",
            "_view_name": "VBoxView",
            "box_style": "",
            "children": [
              "IPY_MODEL_ec82086d21c14b1b9fabdf73d581e4d5",
              "IPY_MODEL_b3dabcc6a6eb418bada1ea9d1f49cff5"
            ],
            "layout": "IPY_MODEL_265752050f434d6d91288d3ac2a83ad1"
          }
        },
        "ec82086d21c14b1b9fabdf73d581e4d5": {
          "model_module": "@jupyter-widgets/controls",
          "model_name": "LabelModel",
          "model_module_version": "1.5.0",
          "state": {
            "_dom_classes": [],
            "_model_module": "@jupyter-widgets/controls",
            "_model_module_version": "1.5.0",
            "_model_name": "LabelModel",
            "_view_count": null,
            "_view_module": "@jupyter-widgets/controls",
            "_view_module_version": "1.5.0",
            "_view_name": "LabelView",
            "description": "",
            "description_tooltip": null,
            "layout": "IPY_MODEL_35cae7153ebe47f48d94b8c82ba082d8",
            "placeholder": "​",
            "style": "IPY_MODEL_29923a21d856458a87a436003afa4b83",
            "value": "0.009 MB of 0.009 MB uploaded (0.000 MB deduped)\r"
          }
        },
        "b3dabcc6a6eb418bada1ea9d1f49cff5": {
          "model_module": "@jupyter-widgets/controls",
          "model_name": "FloatProgressModel",
          "model_module_version": "1.5.0",
          "state": {
            "_dom_classes": [],
            "_model_module": "@jupyter-widgets/controls",
            "_model_module_version": "1.5.0",
            "_model_name": "FloatProgressModel",
            "_view_count": null,
            "_view_module": "@jupyter-widgets/controls",
            "_view_module_version": "1.5.0",
            "_view_name": "ProgressView",
            "bar_style": "",
            "description": "",
            "description_tooltip": null,
            "layout": "IPY_MODEL_5154be03980f492c885737b43d1f3a91",
            "max": 1,
            "min": 0,
            "orientation": "horizontal",
            "style": "IPY_MODEL_9785604fff3a4e51913f69cc19eaf032",
            "value": 1
          }
        },
        "265752050f434d6d91288d3ac2a83ad1": {
          "model_module": "@jupyter-widgets/base",
          "model_name": "LayoutModel",
          "model_module_version": "1.2.0",
          "state": {
            "_model_module": "@jupyter-widgets/base",
            "_model_module_version": "1.2.0",
            "_model_name": "LayoutModel",
            "_view_count": null,
            "_view_module": "@jupyter-widgets/base",
            "_view_module_version": "1.2.0",
            "_view_name": "LayoutView",
            "align_content": null,
            "align_items": null,
            "align_self": null,
            "border": null,
            "bottom": null,
            "display": null,
            "flex": null,
            "flex_flow": null,
            "grid_area": null,
            "grid_auto_columns": null,
            "grid_auto_flow": null,
            "grid_auto_rows": null,
            "grid_column": null,
            "grid_gap": null,
            "grid_row": null,
            "grid_template_areas": null,
            "grid_template_columns": null,
            "grid_template_rows": null,
            "height": null,
            "justify_content": null,
            "justify_items": null,
            "left": null,
            "margin": null,
            "max_height": null,
            "max_width": null,
            "min_height": null,
            "min_width": null,
            "object_fit": null,
            "object_position": null,
            "order": null,
            "overflow": null,
            "overflow_x": null,
            "overflow_y": null,
            "padding": null,
            "right": null,
            "top": null,
            "visibility": null,
            "width": null
          }
        },
        "35cae7153ebe47f48d94b8c82ba082d8": {
          "model_module": "@jupyter-widgets/base",
          "model_name": "LayoutModel",
          "model_module_version": "1.2.0",
          "state": {
            "_model_module": "@jupyter-widgets/base",
            "_model_module_version": "1.2.0",
            "_model_name": "LayoutModel",
            "_view_count": null,
            "_view_module": "@jupyter-widgets/base",
            "_view_module_version": "1.2.0",
            "_view_name": "LayoutView",
            "align_content": null,
            "align_items": null,
            "align_self": null,
            "border": null,
            "bottom": null,
            "display": null,
            "flex": null,
            "flex_flow": null,
            "grid_area": null,
            "grid_auto_columns": null,
            "grid_auto_flow": null,
            "grid_auto_rows": null,
            "grid_column": null,
            "grid_gap": null,
            "grid_row": null,
            "grid_template_areas": null,
            "grid_template_columns": null,
            "grid_template_rows": null,
            "height": null,
            "justify_content": null,
            "justify_items": null,
            "left": null,
            "margin": null,
            "max_height": null,
            "max_width": null,
            "min_height": null,
            "min_width": null,
            "object_fit": null,
            "object_position": null,
            "order": null,
            "overflow": null,
            "overflow_x": null,
            "overflow_y": null,
            "padding": null,
            "right": null,
            "top": null,
            "visibility": null,
            "width": null
          }
        },
        "29923a21d856458a87a436003afa4b83": {
          "model_module": "@jupyter-widgets/controls",
          "model_name": "DescriptionStyleModel",
          "model_module_version": "1.5.0",
          "state": {
            "_model_module": "@jupyter-widgets/controls",
            "_model_module_version": "1.5.0",
            "_model_name": "DescriptionStyleModel",
            "_view_count": null,
            "_view_module": "@jupyter-widgets/base",
            "_view_module_version": "1.2.0",
            "_view_name": "StyleView",
            "description_width": ""
          }
        },
        "5154be03980f492c885737b43d1f3a91": {
          "model_module": "@jupyter-widgets/base",
          "model_name": "LayoutModel",
          "model_module_version": "1.2.0",
          "state": {
            "_model_module": "@jupyter-widgets/base",
            "_model_module_version": "1.2.0",
            "_model_name": "LayoutModel",
            "_view_count": null,
            "_view_module": "@jupyter-widgets/base",
            "_view_module_version": "1.2.0",
            "_view_name": "LayoutView",
            "align_content": null,
            "align_items": null,
            "align_self": null,
            "border": null,
            "bottom": null,
            "display": null,
            "flex": null,
            "flex_flow": null,
            "grid_area": null,
            "grid_auto_columns": null,
            "grid_auto_flow": null,
            "grid_auto_rows": null,
            "grid_column": null,
            "grid_gap": null,
            "grid_row": null,
            "grid_template_areas": null,
            "grid_template_columns": null,
            "grid_template_rows": null,
            "height": null,
            "justify_content": null,
            "justify_items": null,
            "left": null,
            "margin": null,
            "max_height": null,
            "max_width": null,
            "min_height": null,
            "min_width": null,
            "object_fit": null,
            "object_position": null,
            "order": null,
            "overflow": null,
            "overflow_x": null,
            "overflow_y": null,
            "padding": null,
            "right": null,
            "top": null,
            "visibility": null,
            "width": null
          }
        },
        "9785604fff3a4e51913f69cc19eaf032": {
          "model_module": "@jupyter-widgets/controls",
          "model_name": "ProgressStyleModel",
          "model_module_version": "1.5.0",
          "state": {
            "_model_module": "@jupyter-widgets/controls",
            "_model_module_version": "1.5.0",
            "_model_name": "ProgressStyleModel",
            "_view_count": null,
            "_view_module": "@jupyter-widgets/base",
            "_view_module_version": "1.2.0",
            "_view_name": "StyleView",
            "bar_color": null,
            "description_width": ""
          }
        }
      }
    }
  },
  "nbformat": 4,
  "nbformat_minor": 0
}