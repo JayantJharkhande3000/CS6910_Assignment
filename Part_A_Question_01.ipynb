{
  "nbformat": 4,
  "nbformat_minor": 0,
  "metadata": {
    "colab": {
      "name": "Part_A_Question_01.ipynb",
      "provenance": [],
      "include_colab_link": true
    },
    "kernelspec": {
      "name": "python3",
      "display_name": "Python 3"
    },
    "language_info": {
      "name": "python"
    },
    "accelerator": "GPU"
  },
  "cells": [
    {
      "cell_type": "markdown",
      "metadata": {
        "id": "view-in-github",
        "colab_type": "text"
      },
      "source": [
        "<a href=\"https://colab.research.google.com/github/JayantJharkhande3000/CS6910_Assignment/blob/main/Part_A_Question_01.ipynb\" target=\"_parent\"><img src=\"https://colab.research.google.com/assets/colab-badge.svg\" alt=\"Open In Colab\"/></a>"
      ]
    },
    {
      "cell_type": "markdown",
      "source": [
        "# Question number 01"
      ],
      "metadata": {
        "id": "NzfWP1X5JKoa"
      }
    },
    {
      "cell_type": "markdown",
      "source": [
        "Importing all packages and libraries"
      ],
      "metadata": {
        "id": "nSFlYv0tJP8T"
      }
    },
    {
      "cell_type": "code",
      "execution_count": null,
      "metadata": {
        "id": "gJWn3ZJTHFs2"
      },
      "outputs": [],
      "source": [
        "import pathlib\n",
        "import numpy as np\n",
        "import matplotlib.pyplot as plt\n",
        "import tensorflow as tf\n",
        "from tensorflow.keras.preprocessing import image_dataset_from_directory\n",
        "from tensorflow.keras.preprocessing.image import ImageDataGenerator\n",
        "from tensorflow.keras import layers\n",
        "from tensorflow.keras.layers.experimental.preprocessing import Rescaling\n",
        "from PIL import Image"
      ]
    },
    {
      "cell_type": "markdown",
      "source": [
        "Importing inaturalist_12K data "
      ],
      "metadata": {
        "id": "B7mrAgrmJbrK"
      }
    },
    {
      "cell_type": "code",
      "source": [
        "data_directory = pathlib.Path('/content/drive/MyDrive/DATA/nature_12K/inaturalist_12K')\n",
        "training_data = tf.keras.preprocessing.image_dataset_from_directory(\n",
        "                      directory = \"/content/drive/MyDrive/DATA/nature_12K/inaturalist_12K/train\",\n",
        "                      labels = 'inferred',  \n",
        "                      label_mode = 'categorical',\n",
        "                      color_mode = 'rgb',\n",
        "                      batch_size = 32,\n",
        "                      image_size = (256, 256),\n",
        "                      shuffle = True,\n",
        "                      seed = 17,\n",
        "                      validation_split = 0.2,\n",
        "                      subset = 'training')\n",
        "\n",
        "validation_data = tf.keras.preprocessing.image_dataset_from_directory(\n",
        "                      directory = \"/content/drive/MyDrive/DATA/nature_12K/inaturalist_12K/val\",\n",
        "                      labels = 'inferred',  \n",
        "                      label_mode = 'categorical',\n",
        "                      color_mode = 'rgb',\n",
        "                      batch_size = 32,\n",
        "                      image_size = (256, 256),\n",
        "                      shuffle = True,\n",
        "                      seed = 17,\n",
        "                      validation_split = 0.9,\n",
        "                      subset = 'validation')"
      ],
      "metadata": {
        "colab": {
          "base_uri": "https://localhost:8080/"
        },
        "id": "ydiUCXthHP_T",
        "outputId": "df3d41c9-a5ee-43ee-effb-3737755326ab"
      },
      "execution_count": null,
      "outputs": [
        {
          "output_type": "stream",
          "name": "stdout",
          "text": [
            "Found 9999 files belonging to 10 classes.\n",
            "Using 8000 files for training.\n",
            "Found 2000 files belonging to 10 classes.\n",
            "Using 1800 files for validation.\n"
          ]
        }
      ]
    },
    {
      "cell_type": "markdown",
      "source": [
        "Spliting the data in 90-10 ratio"
      ],
      "metadata": {
        "id": "tvOHQpeaJ2U7"
      }
    },
    {
      "cell_type": "code",
      "source": [
        "length_train, length_val = len(training_data), len(validation_data)\n",
        "training_data = training_data.take(int(0.10*length_train))\n",
        "validation_data = validation_data.take(int(length_val))"
      ],
      "metadata": {
        "id": "LgMMY8BgHjOg"
      },
      "execution_count": null,
      "outputs": []
    },
    {
      "cell_type": "markdown",
      "source": [
        "Model Parameter ############"
      ],
      "metadata": {
        "id": "LDMH9oEKKTBz"
      }
    },
    {
      "cell_type": "code",
      "source": [
        "first_layer_filters = 32\n",
        "filter_org = 1\n",
        "data_aug = False\n",
        "batch_norm = False\n",
        "dropout = 0.2\n",
        "kernel_size = 3\n",
        "dense_size = 32\n",
        "activation = 'relu'\n",
        "num_epochs = 50\n",
        "optimizer = 'adam'\n",
        "conv_layers = 5"
      ],
      "metadata": {
        "id": "pocQVnK3I0Wq"
      },
      "execution_count": null,
      "outputs": []
    },
    {
      "cell_type": "markdown",
      "source": [
        "Model Building"
      ],
      "metadata": {
        "id": "DnfhvrEzKd9O"
      }
    },
    {
      "cell_type": "code",
      "source": [
        "inputs = tf.keras.Input(shape = (256, 256, 3))\n",
        "x = Rescaling(scale = 1.0/255)(inputs)\n",
        "filter_sizes = [int(first_layer_filters*(filter_org**layer_num)) for layer_num in range(conv_layers)]"
      ],
      "metadata": {
        "id": "gnFm1bdeKgrR"
      },
      "execution_count": null,
      "outputs": []
    },
    {
      "cell_type": "markdown",
      "source": [
        "Convolutional layer"
      ],
      "metadata": {
        "id": "mxpq0Kj5Kska"
      }
    },
    {
      "cell_type": "code",
      "source": [
        "for layer_num in range(conv_layers):\n",
        "  x = layers.Conv2D(filters = filter_sizes[layer_num], kernel_size = (kernel_size, kernel_size))(x)\n",
        "  if batch_norm:\n",
        "    x = layers.BatchNormalization(axis = -1)(x)\n",
        "  x = layers.Activation(activation)(x)\n",
        "  x = layers.MaxPooling2D(pool_size = (2, 2))(x)            "
      ],
      "metadata": {
        "id": "K55KSBP_K45b"
      },
      "execution_count": null,
      "outputs": []
    },
    {
      "cell_type": "markdown",
      "source": [
        "Dense layer"
      ],
      "metadata": {
        "id": "hywVT3O5LB1y"
      }
    },
    {
      "cell_type": "code",
      "source": [
        "x = layers.Flatten()(x)\n",
        "x = layers.Dense(dense_size)(x)\n",
        "if batch_norm:\n",
        "    x = layers.BatchNormalization(axis = -1)(x)\n",
        "x = layers.Activation(activation)(x)\n",
        "if dropout > 0:\n",
        "    x = layers.Dropout(rate = dropout)(x) "
      ],
      "metadata": {
        "id": "bBloeV8wK_Ic"
      },
      "execution_count": null,
      "outputs": []
    },
    {
      "cell_type": "markdown",
      "source": [
        "Output layer - activation: softmax function "
      ],
      "metadata": {
        "id": "3WA_wFoXLHgW"
      }
    },
    {
      "cell_type": "code",
      "source": [
        "outputs = layers.Dense(10, activation ='softmax')(x)\n",
        "model = tf.keras.Model(inputs = inputs, outputs = outputs)"
      ],
      "metadata": {
        "id": "D9yGnEF3fwkm"
      },
      "execution_count": null,
      "outputs": []
    },
    {
      "cell_type": "code",
      "source": [
        "model.compile(optimizer= optimizer, loss = tf.keras.losses.CategoricalCrossentropy(name = 'loss'),\n",
        "                      metrics = [tf.keras.metrics.CategoricalAccuracy(name = 'acc')])"
      ],
      "metadata": {
        "id": "J0gc-wa8GopE"
      },
      "execution_count": null,
      "outputs": []
    },
    {
      "cell_type": "markdown",
      "source": [
        "Model summary"
      ],
      "metadata": {
        "id": "GM_73QK4Loai"
      }
    },
    {
      "cell_type": "code",
      "source": [
        "model.summary()"
      ],
      "metadata": {
        "colab": {
          "base_uri": "https://localhost:8080/"
        },
        "id": "Sznj7azXLh5Z",
        "outputId": "befba0b5-a2a6-4569-8727-7d15debba49a"
      },
      "execution_count": null,
      "outputs": [
        {
          "output_type": "stream",
          "name": "stdout",
          "text": [
            "Model: \"model_2\"\n",
            "_________________________________________________________________\n",
            " Layer (type)                Output Shape              Param #   \n",
            "=================================================================\n",
            " input_3 (InputLayer)        [(None, 256, 256, 3)]     0         \n",
            "                                                                 \n",
            " rescaling_2 (Rescaling)     (None, 256, 256, 3)       0         \n",
            "                                                                 \n",
            " conv2d_11 (Conv2D)          (None, 254, 254, 32)      896       \n",
            "                                                                 \n",
            " activation_12 (Activation)  (None, 254, 254, 32)      0         \n",
            "                                                                 \n",
            " max_pooling2d_10 (MaxPoolin  (None, 127, 127, 32)     0         \n",
            " g2D)                                                            \n",
            "                                                                 \n",
            " conv2d_12 (Conv2D)          (None, 125, 125, 32)      9248      \n",
            "                                                                 \n",
            " activation_13 (Activation)  (None, 125, 125, 32)      0         \n",
            "                                                                 \n",
            " max_pooling2d_11 (MaxPoolin  (None, 62, 62, 32)       0         \n",
            " g2D)                                                            \n",
            "                                                                 \n",
            " conv2d_13 (Conv2D)          (None, 60, 60, 32)        9248      \n",
            "                                                                 \n",
            " activation_14 (Activation)  (None, 60, 60, 32)        0         \n",
            "                                                                 \n",
            " max_pooling2d_12 (MaxPoolin  (None, 30, 30, 32)       0         \n",
            " g2D)                                                            \n",
            "                                                                 \n",
            " conv2d_14 (Conv2D)          (None, 28, 28, 32)        9248      \n",
            "                                                                 \n",
            " activation_15 (Activation)  (None, 28, 28, 32)        0         \n",
            "                                                                 \n",
            " max_pooling2d_13 (MaxPoolin  (None, 14, 14, 32)       0         \n",
            " g2D)                                                            \n",
            "                                                                 \n",
            " conv2d_15 (Conv2D)          (None, 12, 12, 32)        9248      \n",
            "                                                                 \n",
            " activation_16 (Activation)  (None, 12, 12, 32)        0         \n",
            "                                                                 \n",
            " max_pooling2d_14 (MaxPoolin  (None, 6, 6, 32)         0         \n",
            " g2D)                                                            \n",
            "                                                                 \n",
            " flatten_2 (Flatten)         (None, 1152)              0         \n",
            "                                                                 \n",
            " dense_4 (Dense)             (None, 32)                36896     \n",
            "                                                                 \n",
            " activation_17 (Activation)  (None, 32)                0         \n",
            "                                                                 \n",
            " dropout_2 (Dropout)         (None, 32)                0         \n",
            "                                                                 \n",
            " dense_5 (Dense)             (None, 10)                330       \n",
            "                                                                 \n",
            "=================================================================\n",
            "Total params: 75,114\n",
            "Trainable params: 75,114\n",
            "Non-trainable params: 0\n",
            "_________________________________________________________________\n"
          ]
        }
      ]
    },
    {
      "cell_type": "code",
      "source": [
        "model_history = model.fit(training_data, epochs = num_epochs, validation_data = validation_data)"
      ],
      "metadata": {
        "colab": {
          "base_uri": "https://localhost:8080/"
        },
        "id": "x4OBsjXbLjY8",
        "outputId": "661d1f01-ab00-4d2e-d532-1c0fe1a7f4b8"
      },
      "execution_count": null,
      "outputs": [
        {
          "output_type": "stream",
          "name": "stdout",
          "text": [
            "Epoch 1/50\n",
            "25/25 [==============================] - 290s 11s/step - loss: 2.3048 - acc: 0.0962 - val_loss: 2.3025 - val_acc: 0.1028\n",
            "Epoch 2/50\n",
            "25/25 [==============================] - 21s 813ms/step - loss: 2.3032 - acc: 0.0988 - val_loss: 2.3013 - val_acc: 0.1039\n",
            "Epoch 3/50\n",
            "25/25 [==============================] - 21s 795ms/step - loss: 2.3027 - acc: 0.1088 - val_loss: 2.3016 - val_acc: 0.1067\n",
            "Epoch 4/50\n",
            "25/25 [==============================] - 21s 785ms/step - loss: 2.2988 - acc: 0.1350 - val_loss: 2.3004 - val_acc: 0.1139\n",
            "Epoch 5/50\n",
            "25/25 [==============================] - 21s 788ms/step - loss: 2.2968 - acc: 0.1462 - val_loss: 2.2933 - val_acc: 0.1056\n",
            "Epoch 6/50\n",
            "25/25 [==============================] - 21s 792ms/step - loss: 2.2854 - acc: 0.1088 - val_loss: 2.2916 - val_acc: 0.1211\n",
            "Epoch 7/50\n",
            "25/25 [==============================] - 21s 795ms/step - loss: 2.2762 - acc: 0.1388 - val_loss: 2.2709 - val_acc: 0.1300\n",
            "Epoch 8/50\n",
            "25/25 [==============================] - 21s 810ms/step - loss: 2.2534 - acc: 0.1525 - val_loss: 2.2592 - val_acc: 0.1572\n",
            "Epoch 9/50\n",
            "25/25 [==============================] - 21s 809ms/step - loss: 2.2348 - acc: 0.1675 - val_loss: 2.2407 - val_acc: 0.1489\n",
            "Epoch 10/50\n",
            "25/25 [==============================] - 21s 791ms/step - loss: 2.1894 - acc: 0.1825 - val_loss: 2.2075 - val_acc: 0.2061\n",
            "Epoch 11/50\n",
            "25/25 [==============================] - 21s 789ms/step - loss: 2.1317 - acc: 0.2188 - val_loss: 2.1825 - val_acc: 0.2072\n",
            "Epoch 12/50\n",
            "25/25 [==============================] - 21s 785ms/step - loss: 2.1062 - acc: 0.2188 - val_loss: 2.2019 - val_acc: 0.1950\n",
            "Epoch 13/50\n",
            "25/25 [==============================] - 21s 793ms/step - loss: 2.0772 - acc: 0.2387 - val_loss: 2.1795 - val_acc: 0.1950\n",
            "Epoch 14/50\n",
            "25/25 [==============================] - 21s 794ms/step - loss: 2.0302 - acc: 0.2562 - val_loss: 2.2062 - val_acc: 0.1989\n",
            "Epoch 15/50\n",
            "25/25 [==============================] - 21s 784ms/step - loss: 1.9799 - acc: 0.2825 - val_loss: 2.1841 - val_acc: 0.2056\n",
            "Epoch 16/50\n",
            "25/25 [==============================] - 21s 789ms/step - loss: 1.9484 - acc: 0.3125 - val_loss: 2.2067 - val_acc: 0.2078\n",
            "Epoch 17/50\n",
            "25/25 [==============================] - 21s 789ms/step - loss: 1.8904 - acc: 0.3187 - val_loss: 2.2585 - val_acc: 0.1917\n",
            "Epoch 18/50\n",
            "25/25 [==============================] - 21s 790ms/step - loss: 1.8971 - acc: 0.3262 - val_loss: 2.2267 - val_acc: 0.1944\n",
            "Epoch 19/50\n",
            "25/25 [==============================] - 21s 789ms/step - loss: 1.8033 - acc: 0.3750 - val_loss: 2.2511 - val_acc: 0.2111\n",
            "Epoch 20/50\n",
            "25/25 [==============================] - 21s 777ms/step - loss: 1.6726 - acc: 0.4200 - val_loss: 2.3317 - val_acc: 0.2167\n",
            "Epoch 21/50\n",
            "25/25 [==============================] - 21s 776ms/step - loss: 1.6652 - acc: 0.4062 - val_loss: 2.2425 - val_acc: 0.2039\n",
            "Epoch 22/50\n",
            "25/25 [==============================] - 20s 770ms/step - loss: 1.6618 - acc: 0.4275 - val_loss: 2.3305 - val_acc: 0.2033\n",
            "Epoch 23/50\n",
            "25/25 [==============================] - 21s 790ms/step - loss: 1.5294 - acc: 0.4787 - val_loss: 2.4177 - val_acc: 0.2056\n",
            "Epoch 24/50\n",
            "25/25 [==============================] - 21s 784ms/step - loss: 1.4418 - acc: 0.5025 - val_loss: 2.5420 - val_acc: 0.1961\n",
            "Epoch 25/50\n",
            "25/25 [==============================] - 21s 779ms/step - loss: 1.4164 - acc: 0.5100 - val_loss: 2.4873 - val_acc: 0.2083\n",
            "Epoch 26/50\n",
            "25/25 [==============================] - 21s 788ms/step - loss: 1.3564 - acc: 0.5050 - val_loss: 2.6514 - val_acc: 0.1989\n",
            "Epoch 27/50\n",
            "25/25 [==============================] - 21s 782ms/step - loss: 1.3010 - acc: 0.5450 - val_loss: 2.7647 - val_acc: 0.2006\n",
            "Epoch 28/50\n",
            "25/25 [==============================] - 21s 787ms/step - loss: 1.2538 - acc: 0.5625 - val_loss: 2.7477 - val_acc: 0.2072\n",
            "Epoch 29/50\n",
            "25/25 [==============================] - 21s 782ms/step - loss: 1.1781 - acc: 0.5925 - val_loss: 2.9676 - val_acc: 0.2044\n",
            "Epoch 30/50\n",
            "25/25 [==============================] - 21s 779ms/step - loss: 1.0352 - acc: 0.6175 - val_loss: 3.1094 - val_acc: 0.2117\n",
            "Epoch 31/50\n",
            "25/25 [==============================] - 21s 791ms/step - loss: 1.0088 - acc: 0.6450 - val_loss: 3.4023 - val_acc: 0.1978\n",
            "Epoch 32/50\n",
            "25/25 [==============================] - 21s 785ms/step - loss: 0.9434 - acc: 0.6612 - val_loss: 3.4927 - val_acc: 0.2122\n",
            "Epoch 33/50\n",
            "25/25 [==============================] - 21s 787ms/step - loss: 0.8507 - acc: 0.6975 - val_loss: 3.6665 - val_acc: 0.1989\n",
            "Epoch 34/50\n",
            "25/25 [==============================] - 21s 800ms/step - loss: 0.8767 - acc: 0.6900 - val_loss: 4.1350 - val_acc: 0.1956\n",
            "Epoch 35/50\n",
            "25/25 [==============================] - 21s 786ms/step - loss: 0.7658 - acc: 0.7400 - val_loss: 4.1837 - val_acc: 0.2006\n",
            "Epoch 36/50\n",
            "25/25 [==============================] - 21s 793ms/step - loss: 0.8393 - acc: 0.7188 - val_loss: 3.7984 - val_acc: 0.2039\n",
            "Epoch 37/50\n",
            "25/25 [==============================] - 21s 782ms/step - loss: 0.7081 - acc: 0.7625 - val_loss: 4.1339 - val_acc: 0.2050\n",
            "Epoch 38/50\n",
            "25/25 [==============================] - 21s 791ms/step - loss: 0.6180 - acc: 0.7837 - val_loss: 4.3794 - val_acc: 0.1956\n",
            "Epoch 39/50\n",
            "25/25 [==============================] - 21s 793ms/step - loss: 0.6099 - acc: 0.7850 - val_loss: 4.4982 - val_acc: 0.2000\n",
            "Epoch 40/50\n",
            "25/25 [==============================] - 21s 787ms/step - loss: 0.5997 - acc: 0.8025 - val_loss: 4.2567 - val_acc: 0.2017\n",
            "Epoch 41/50\n",
            "25/25 [==============================] - 21s 796ms/step - loss: 0.5475 - acc: 0.8100 - val_loss: 5.1868 - val_acc: 0.2028\n",
            "Epoch 42/50\n",
            "25/25 [==============================] - 21s 781ms/step - loss: 0.5435 - acc: 0.8150 - val_loss: 4.4844 - val_acc: 0.2017\n",
            "Epoch 43/50\n",
            "25/25 [==============================] - 21s 788ms/step - loss: 0.5348 - acc: 0.8087 - val_loss: 4.8954 - val_acc: 0.1983\n",
            "Epoch 44/50\n",
            "25/25 [==============================] - 21s 789ms/step - loss: 0.5048 - acc: 0.8288 - val_loss: 5.0325 - val_acc: 0.1983\n",
            "Epoch 45/50\n",
            "25/25 [==============================] - 21s 784ms/step - loss: 0.5432 - acc: 0.7937 - val_loss: 5.0866 - val_acc: 0.1989\n",
            "Epoch 46/50\n",
            "25/25 [==============================] - 21s 794ms/step - loss: 0.5468 - acc: 0.8150 - val_loss: 5.2470 - val_acc: 0.1828\n",
            "Epoch 47/50\n",
            "25/25 [==============================] - 21s 796ms/step - loss: 0.4509 - acc: 0.8550 - val_loss: 5.3422 - val_acc: 0.2017\n",
            "Epoch 48/50\n",
            "25/25 [==============================] - 21s 791ms/step - loss: 0.4369 - acc: 0.8475 - val_loss: 5.4888 - val_acc: 0.1928\n",
            "Epoch 49/50\n",
            "25/25 [==============================] - 21s 797ms/step - loss: 0.4759 - acc: 0.8388 - val_loss: 5.2411 - val_acc: 0.1900\n",
            "Epoch 50/50\n",
            "25/25 [==============================] - 21s 796ms/step - loss: 0.4488 - acc: 0.8462 - val_loss: 5.7223 - val_acc: 0.1894\n"
          ]
        }
      ]
    },
    {
      "cell_type": "code",
      "source": [
        "plt.plot(model_history.history['loss'])\n",
        "plt.plot(model_history.history['acc'])\n",
        "plt.title('Model Loss')\n",
        "plt.ylabel('loss')\n",
        "plt.xlabel('Epochs')\n",
        "plt.legend(['loss', 'Accuracy'])\n",
        "plt.show()"
      ],
      "metadata": {
        "colab": {
          "base_uri": "https://localhost:8080/",
          "height": 295
        },
        "id": "NWbQBItod2hi",
        "outputId": "db6468bc-347b-43e9-ce86-8ff6fb4bc2e5"
      },
      "execution_count": null,
      "outputs": [
        {
          "output_type": "display_data",
          "data": {
            "text/plain": [
              "<Figure size 432x288 with 1 Axes>"
            ],
            "image/png": "[encoded data removed]"
          },
          "metadata": {
            "needs_background": "light"
          }
        }
      ]
    },
    {
      "cell_type": "code",
      "source": [
        ""
      ],
      "metadata": {
        "id": "n4TnoatHeQ7J"
      },
      "execution_count": null,
      "outputs": []
    }
  ]
}